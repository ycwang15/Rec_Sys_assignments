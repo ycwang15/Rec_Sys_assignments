{
 "cells": [
  {
   "cell_type": "code",
   "execution_count": 1,
   "id": "6717bcd9",
   "metadata": {},
   "outputs": [
    {
     "data": {
      "application/javascript": [
       "\n",
       "            setTimeout(function() {\n",
       "                var nbb_cell_id = 1;\n",
       "                var nbb_unformatted_code = \"# import sparse module from SciPy package\\nimport scipy\\nfrom scipy import sparse\\n\\n# import uniform module to create random numbers\\nfrom scipy.stats import uniform\\n\\n# import NumPy\\nimport numpy as np\\nimport pandas as pd\\n\\n\\n%load_ext nb_black\";\n",
       "                var nbb_formatted_code = \"# import sparse module from SciPy package\\nimport scipy\\nfrom scipy import sparse\\n\\n# import uniform module to create random numbers\\nfrom scipy.stats import uniform\\n\\n# import NumPy\\nimport numpy as np\\nimport pandas as pd\\n\\n\\n%load_ext nb_black\";\n",
       "                var nbb_cells = Jupyter.notebook.get_cells();\n",
       "                for (var i = 0; i < nbb_cells.length; ++i) {\n",
       "                    if (nbb_cells[i].input_prompt_number == nbb_cell_id) {\n",
       "                        if (nbb_cells[i].get_text() == nbb_unformatted_code) {\n",
       "                             nbb_cells[i].set_text(nbb_formatted_code);\n",
       "                        }\n",
       "                        break;\n",
       "                    }\n",
       "                }\n",
       "            }, 500);\n",
       "            "
      ],
      "text/plain": [
       "<IPython.core.display.Javascript object>"
      ]
     },
     "metadata": {},
     "output_type": "display_data"
    }
   ],
   "source": [
    "# import sparse module from SciPy package\n",
    "import scipy\n",
    "from scipy import sparse\n",
    "\n",
    "# import uniform module to create random numbers\n",
    "from scipy.stats import uniform\n",
    "\n",
    "# import NumPy\n",
    "import numpy as np\n",
    "import pandas as pd\n",
    "\n",
    "\n",
    "%load_ext nb_black"
   ]
  },
  {
   "cell_type": "markdown",
   "id": "020580b9",
   "metadata": {},
   "source": [
    "#### 1. Jokester's Data\n",
    "##### Anonymous rating data for jokes——jester-data-1.zip "
   ]
  },
  {
   "cell_type": "code",
   "execution_count": 2,
   "id": "ca2ee7b3",
   "metadata": {},
   "outputs": [
    {
     "data": {
      "application/javascript": [
       "\n",
       "            setTimeout(function() {\n",
       "                var nbb_cell_id = 2;\n",
       "                var nbb_unformatted_code = \"## Read the data\\ndf_joke = pd.read_excel(\\n    \\\"/Users/yuchenwang/Desktop/YU/Fall22/Recommender System/Assignments/Assignment 2/jester-data-1.xls\\\"\\n)\";\n",
       "                var nbb_formatted_code = \"## Read the data\\ndf_joke = pd.read_excel(\\n    \\\"/Users/yuchenwang/Desktop/YU/Fall22/Recommender System/Assignments/Assignment 2/jester-data-1.xls\\\"\\n)\";\n",
       "                var nbb_cells = Jupyter.notebook.get_cells();\n",
       "                for (var i = 0; i < nbb_cells.length; ++i) {\n",
       "                    if (nbb_cells[i].input_prompt_number == nbb_cell_id) {\n",
       "                        if (nbb_cells[i].get_text() == nbb_unformatted_code) {\n",
       "                             nbb_cells[i].set_text(nbb_formatted_code);\n",
       "                        }\n",
       "                        break;\n",
       "                    }\n",
       "                }\n",
       "            }, 500);\n",
       "            "
      ],
      "text/plain": [
       "<IPython.core.display.Javascript object>"
      ]
     },
     "metadata": {},
     "output_type": "display_data"
    }
   ],
   "source": [
    "## Read the data\n",
    "df_joke = pd.read_excel(\n",
    "    \"/Users/yuchenwang/Desktop/YU/Fall22/Recommender System/Assignments/Assignment 2/jester-data-1.xls\"\n",
    ")"
   ]
  },
  {
   "cell_type": "code",
   "execution_count": 3,
   "id": "93b84247",
   "metadata": {},
   "outputs": [
    {
     "data": {
      "application/javascript": [
       "\n",
       "            setTimeout(function() {\n",
       "                var nbb_cell_id = 3;\n",
       "                var nbb_unformatted_code = \"df_joke_copy = df_joke.copy()\";\n",
       "                var nbb_formatted_code = \"df_joke_copy = df_joke.copy()\";\n",
       "                var nbb_cells = Jupyter.notebook.get_cells();\n",
       "                for (var i = 0; i < nbb_cells.length; ++i) {\n",
       "                    if (nbb_cells[i].input_prompt_number == nbb_cell_id) {\n",
       "                        if (nbb_cells[i].get_text() == nbb_unformatted_code) {\n",
       "                             nbb_cells[i].set_text(nbb_formatted_code);\n",
       "                        }\n",
       "                        break;\n",
       "                    }\n",
       "                }\n",
       "            }, 500);\n",
       "            "
      ],
      "text/plain": [
       "<IPython.core.display.Javascript object>"
      ]
     },
     "metadata": {},
     "output_type": "display_data"
    }
   ],
   "source": [
    "df_joke_copy = df_joke.copy()"
   ]
  },
  {
   "cell_type": "code",
   "execution_count": 4,
   "id": "a1ff98be",
   "metadata": {},
   "outputs": [
    {
     "data": {
      "text/html": [
       "<div>\n",
       "<style scoped>\n",
       "    .dataframe tbody tr th:only-of-type {\n",
       "        vertical-align: middle;\n",
       "    }\n",
       "\n",
       "    .dataframe tbody tr th {\n",
       "        vertical-align: top;\n",
       "    }\n",
       "\n",
       "    .dataframe thead th {\n",
       "        text-align: right;\n",
       "    }\n",
       "</style>\n",
       "<table border=\"1\" class=\"dataframe\">\n",
       "  <thead>\n",
       "    <tr style=\"text-align: right;\">\n",
       "      <th></th>\n",
       "      <th>74</th>\n",
       "      <th>-7.82</th>\n",
       "      <th>8.79</th>\n",
       "      <th>-9.66</th>\n",
       "      <th>-8.16</th>\n",
       "      <th>-7.52</th>\n",
       "      <th>-8.5</th>\n",
       "      <th>-9.85</th>\n",
       "      <th>4.17</th>\n",
       "      <th>-8.98</th>\n",
       "      <th>...</th>\n",
       "      <th>2.82.2</th>\n",
       "      <th>99.18</th>\n",
       "      <th>99.19</th>\n",
       "      <th>99.20</th>\n",
       "      <th>99.21</th>\n",
       "      <th>99.22</th>\n",
       "      <th>-5.63</th>\n",
       "      <th>99.23</th>\n",
       "      <th>99.24</th>\n",
       "      <th>99.25</th>\n",
       "    </tr>\n",
       "  </thead>\n",
       "  <tbody>\n",
       "    <tr>\n",
       "      <th>0</th>\n",
       "      <td>100</td>\n",
       "      <td>4.08</td>\n",
       "      <td>-0.29</td>\n",
       "      <td>6.36</td>\n",
       "      <td>4.37</td>\n",
       "      <td>-2.38</td>\n",
       "      <td>-9.66</td>\n",
       "      <td>-0.73</td>\n",
       "      <td>-5.34</td>\n",
       "      <td>8.88</td>\n",
       "      <td>...</td>\n",
       "      <td>2.82</td>\n",
       "      <td>-4.95</td>\n",
       "      <td>-0.29</td>\n",
       "      <td>7.86</td>\n",
       "      <td>-0.19</td>\n",
       "      <td>-2.14</td>\n",
       "      <td>3.06</td>\n",
       "      <td>0.34</td>\n",
       "      <td>-4.32</td>\n",
       "      <td>1.07</td>\n",
       "    </tr>\n",
       "    <tr>\n",
       "      <th>1</th>\n",
       "      <td>49</td>\n",
       "      <td>99.00</td>\n",
       "      <td>99.00</td>\n",
       "      <td>99.00</td>\n",
       "      <td>99.00</td>\n",
       "      <td>9.03</td>\n",
       "      <td>9.27</td>\n",
       "      <td>9.03</td>\n",
       "      <td>9.27</td>\n",
       "      <td>99.00</td>\n",
       "      <td>...</td>\n",
       "      <td>99.00</td>\n",
       "      <td>99.00</td>\n",
       "      <td>99.00</td>\n",
       "      <td>9.08</td>\n",
       "      <td>99.00</td>\n",
       "      <td>99.00</td>\n",
       "      <td>99.00</td>\n",
       "      <td>99.00</td>\n",
       "      <td>99.00</td>\n",
       "      <td>99.00</td>\n",
       "    </tr>\n",
       "    <tr>\n",
       "      <th>2</th>\n",
       "      <td>48</td>\n",
       "      <td>99.00</td>\n",
       "      <td>8.35</td>\n",
       "      <td>99.00</td>\n",
       "      <td>99.00</td>\n",
       "      <td>1.80</td>\n",
       "      <td>8.16</td>\n",
       "      <td>-2.82</td>\n",
       "      <td>6.21</td>\n",
       "      <td>99.00</td>\n",
       "      <td>...</td>\n",
       "      <td>99.00</td>\n",
       "      <td>99.00</td>\n",
       "      <td>99.00</td>\n",
       "      <td>0.53</td>\n",
       "      <td>99.00</td>\n",
       "      <td>99.00</td>\n",
       "      <td>99.00</td>\n",
       "      <td>99.00</td>\n",
       "      <td>99.00</td>\n",
       "      <td>99.00</td>\n",
       "    </tr>\n",
       "    <tr>\n",
       "      <th>3</th>\n",
       "      <td>91</td>\n",
       "      <td>8.50</td>\n",
       "      <td>4.61</td>\n",
       "      <td>-4.17</td>\n",
       "      <td>-5.39</td>\n",
       "      <td>1.36</td>\n",
       "      <td>1.60</td>\n",
       "      <td>7.04</td>\n",
       "      <td>4.61</td>\n",
       "      <td>-0.44</td>\n",
       "      <td>...</td>\n",
       "      <td>5.19</td>\n",
       "      <td>5.58</td>\n",
       "      <td>4.27</td>\n",
       "      <td>5.19</td>\n",
       "      <td>5.73</td>\n",
       "      <td>1.55</td>\n",
       "      <td>3.11</td>\n",
       "      <td>6.55</td>\n",
       "      <td>1.80</td>\n",
       "      <td>1.60</td>\n",
       "    </tr>\n",
       "    <tr>\n",
       "      <th>4</th>\n",
       "      <td>100</td>\n",
       "      <td>-6.17</td>\n",
       "      <td>-3.54</td>\n",
       "      <td>0.44</td>\n",
       "      <td>-8.50</td>\n",
       "      <td>-7.09</td>\n",
       "      <td>-4.32</td>\n",
       "      <td>-8.69</td>\n",
       "      <td>-0.87</td>\n",
       "      <td>-6.65</td>\n",
       "      <td>...</td>\n",
       "      <td>-3.54</td>\n",
       "      <td>-6.89</td>\n",
       "      <td>-0.68</td>\n",
       "      <td>-2.96</td>\n",
       "      <td>-2.18</td>\n",
       "      <td>-3.35</td>\n",
       "      <td>0.05</td>\n",
       "      <td>-9.08</td>\n",
       "      <td>-5.05</td>\n",
       "      <td>-3.45</td>\n",
       "    </tr>\n",
       "  </tbody>\n",
       "</table>\n",
       "<p>5 rows × 101 columns</p>\n",
       "</div>"
      ],
      "text/plain": [
       "    74  -7.82   8.79  -9.66  -8.16  -7.52  -8.5  -9.85  4.17  -8.98  ...  \\\n",
       "0  100   4.08  -0.29   6.36   4.37  -2.38 -9.66  -0.73 -5.34   8.88  ...   \n",
       "1   49  99.00  99.00  99.00  99.00   9.03  9.27   9.03  9.27  99.00  ...   \n",
       "2   48  99.00   8.35  99.00  99.00   1.80  8.16  -2.82  6.21  99.00  ...   \n",
       "3   91   8.50   4.61  -4.17  -5.39   1.36  1.60   7.04  4.61  -0.44  ...   \n",
       "4  100  -6.17  -3.54   0.44  -8.50  -7.09 -4.32  -8.69 -0.87  -6.65  ...   \n",
       "\n",
       "   2.82.2  99.18  99.19  99.20  99.21  99.22  -5.63  99.23  99.24  99.25  \n",
       "0    2.82  -4.95  -0.29   7.86  -0.19  -2.14   3.06   0.34  -4.32   1.07  \n",
       "1   99.00  99.00  99.00   9.08  99.00  99.00  99.00  99.00  99.00  99.00  \n",
       "2   99.00  99.00  99.00   0.53  99.00  99.00  99.00  99.00  99.00  99.00  \n",
       "3    5.19   5.58   4.27   5.19   5.73   1.55   3.11   6.55   1.80   1.60  \n",
       "4   -3.54  -6.89  -0.68  -2.96  -2.18  -3.35   0.05  -9.08  -5.05  -3.45  \n",
       "\n",
       "[5 rows x 101 columns]"
      ]
     },
     "execution_count": 4,
     "metadata": {},
     "output_type": "execute_result"
    },
    {
     "data": {
      "application/javascript": [
       "\n",
       "            setTimeout(function() {\n",
       "                var nbb_cell_id = 4;\n",
       "                var nbb_unformatted_code = \"df_joke.head()\\n## We noticed that there's no header of this dataset.\";\n",
       "                var nbb_formatted_code = \"df_joke.head()\\n## We noticed that there's no header of this dataset.\";\n",
       "                var nbb_cells = Jupyter.notebook.get_cells();\n",
       "                for (var i = 0; i < nbb_cells.length; ++i) {\n",
       "                    if (nbb_cells[i].input_prompt_number == nbb_cell_id) {\n",
       "                        if (nbb_cells[i].get_text() == nbb_unformatted_code) {\n",
       "                             nbb_cells[i].set_text(nbb_formatted_code);\n",
       "                        }\n",
       "                        break;\n",
       "                    }\n",
       "                }\n",
       "            }, 500);\n",
       "            "
      ],
      "text/plain": [
       "<IPython.core.display.Javascript object>"
      ]
     },
     "metadata": {},
     "output_type": "display_data"
    }
   ],
   "source": [
    "df_joke.head()\n",
    "## We noticed that there's no header of this dataset."
   ]
  },
  {
   "cell_type": "code",
   "execution_count": 5,
   "id": "962ef925",
   "metadata": {},
   "outputs": [
    {
     "data": {
      "text/plain": [
       "(24982, 101)"
      ]
     },
     "execution_count": 5,
     "metadata": {},
     "output_type": "execute_result"
    },
    {
     "data": {
      "application/javascript": [
       "\n",
       "            setTimeout(function() {\n",
       "                var nbb_cell_id = 5;\n",
       "                var nbb_unformatted_code = \"## Check the shape of this dataset.\\ndf_joke.shape\";\n",
       "                var nbb_formatted_code = \"## Check the shape of this dataset.\\ndf_joke.shape\";\n",
       "                var nbb_cells = Jupyter.notebook.get_cells();\n",
       "                for (var i = 0; i < nbb_cells.length; ++i) {\n",
       "                    if (nbb_cells[i].input_prompt_number == nbb_cell_id) {\n",
       "                        if (nbb_cells[i].get_text() == nbb_unformatted_code) {\n",
       "                             nbb_cells[i].set_text(nbb_formatted_code);\n",
       "                        }\n",
       "                        break;\n",
       "                    }\n",
       "                }\n",
       "            }, 500);\n",
       "            "
      ],
      "text/plain": [
       "<IPython.core.display.Javascript object>"
      ]
     },
     "metadata": {},
     "output_type": "display_data"
    }
   ],
   "source": [
    "## Check the shape of this dataset.\n",
    "df_joke.shape"
   ]
  },
  {
   "cell_type": "code",
   "execution_count": 6,
   "id": "8415c103",
   "metadata": {},
   "outputs": [
    {
     "name": "stdout",
     "output_type": "stream",
     "text": [
      "['Joke0', 'Joke1', 'Joke2', 'Joke3', 'Joke4', 'Joke5', 'Joke6', 'Joke7', 'Joke8', 'Joke9', 'Joke10', 'Joke11', 'Joke12', 'Joke13', 'Joke14', 'Joke15', 'Joke16', 'Joke17', 'Joke18', 'Joke19', 'Joke20', 'Joke21', 'Joke22', 'Joke23', 'Joke24', 'Joke25', 'Joke26', 'Joke27', 'Joke28', 'Joke29', 'Joke30', 'Joke31', 'Joke32', 'Joke33', 'Joke34', 'Joke35', 'Joke36', 'Joke37', 'Joke38', 'Joke39', 'Joke40', 'Joke41', 'Joke42', 'Joke43', 'Joke44', 'Joke45', 'Joke46', 'Joke47', 'Joke48', 'Joke49', 'Joke50', 'Joke51', 'Joke52', 'Joke53', 'Joke54', 'Joke55', 'Joke56', 'Joke57', 'Joke58', 'Joke59', 'Joke60', 'Joke61', 'Joke62', 'Joke63', 'Joke64', 'Joke65', 'Joke66', 'Joke67', 'Joke68', 'Joke69', 'Joke70', 'Joke71', 'Joke72', 'Joke73', 'Joke74', 'Joke75', 'Joke76', 'Joke77', 'Joke78', 'Joke79', 'Joke80', 'Joke81', 'Joke82', 'Joke83', 'Joke84', 'Joke85', 'Joke86', 'Joke87', 'Joke88', 'Joke89', 'Joke90', 'Joke91', 'Joke92', 'Joke93', 'Joke94', 'Joke95', 'Joke96', 'Joke97', 'Joke98', 'Joke99', 'Joke100']\n"
     ]
    },
    {
     "data": {
      "application/javascript": [
       "\n",
       "            setTimeout(function() {\n",
       "                var nbb_cell_id = 6;\n",
       "                var nbb_unformatted_code = \"## Add headers to this dataset\\n## Create the list of column\\ncols = list()\\n\\nfor x in range(len(df_joke.columns)):\\n    cols.append(\\\"Joke{}\\\".format(x))\\nprint(cols)\";\n",
       "                var nbb_formatted_code = \"## Add headers to this dataset\\n## Create the list of column\\ncols = list()\\n\\nfor x in range(len(df_joke.columns)):\\n    cols.append(\\\"Joke{}\\\".format(x))\\nprint(cols)\";\n",
       "                var nbb_cells = Jupyter.notebook.get_cells();\n",
       "                for (var i = 0; i < nbb_cells.length; ++i) {\n",
       "                    if (nbb_cells[i].input_prompt_number == nbb_cell_id) {\n",
       "                        if (nbb_cells[i].get_text() == nbb_unformatted_code) {\n",
       "                             nbb_cells[i].set_text(nbb_formatted_code);\n",
       "                        }\n",
       "                        break;\n",
       "                    }\n",
       "                }\n",
       "            }, 500);\n",
       "            "
      ],
      "text/plain": [
       "<IPython.core.display.Javascript object>"
      ]
     },
     "metadata": {},
     "output_type": "display_data"
    }
   ],
   "source": [
    "## Add headers to this dataset\n",
    "## Create the list of column\n",
    "cols = list()\n",
    "\n",
    "for x in range(len(df_joke.columns)):\n",
    "    cols.append(\"Joke{}\".format(x))\n",
    "print(cols)"
   ]
  },
  {
   "cell_type": "code",
   "execution_count": 7,
   "id": "5dfea710",
   "metadata": {},
   "outputs": [
    {
     "data": {
      "application/javascript": [
       "\n",
       "            setTimeout(function() {\n",
       "                var nbb_cell_id = 7;\n",
       "                var nbb_unformatted_code = \"## Read the data again, and add the headers\\ndf_joke = pd.read_excel(\\n    \\\"/Users/yuchenwang/Desktop/YU/Fall22/Recommender System/Assignments/Assignment 2/jester-data-1.xls\\\",\\n    header=None,\\n)\\ndf_joke.columns = cols\\n## Rename the first column\\ndf_joke.rename(columns={\\\"Joke0\\\": \\\"#_rating\\\"}, inplace=True)\";\n",
       "                var nbb_formatted_code = \"## Read the data again, and add the headers\\ndf_joke = pd.read_excel(\\n    \\\"/Users/yuchenwang/Desktop/YU/Fall22/Recommender System/Assignments/Assignment 2/jester-data-1.xls\\\",\\n    header=None,\\n)\\ndf_joke.columns = cols\\n## Rename the first column\\ndf_joke.rename(columns={\\\"Joke0\\\": \\\"#_rating\\\"}, inplace=True)\";\n",
       "                var nbb_cells = Jupyter.notebook.get_cells();\n",
       "                for (var i = 0; i < nbb_cells.length; ++i) {\n",
       "                    if (nbb_cells[i].input_prompt_number == nbb_cell_id) {\n",
       "                        if (nbb_cells[i].get_text() == nbb_unformatted_code) {\n",
       "                             nbb_cells[i].set_text(nbb_formatted_code);\n",
       "                        }\n",
       "                        break;\n",
       "                    }\n",
       "                }\n",
       "            }, 500);\n",
       "            "
      ],
      "text/plain": [
       "<IPython.core.display.Javascript object>"
      ]
     },
     "metadata": {},
     "output_type": "display_data"
    }
   ],
   "source": [
    "## Read the data again, and add the headers\n",
    "df_joke = pd.read_excel(\n",
    "    \"/Users/yuchenwang/Desktop/YU/Fall22/Recommender System/Assignments/Assignment 2/jester-data-1.xls\",\n",
    "    header=None,\n",
    ")\n",
    "df_joke.columns = cols\n",
    "## Rename the first column\n",
    "df_joke.rename(columns={\"Joke0\": \"#_rating\"}, inplace=True)"
   ]
  },
  {
   "cell_type": "code",
   "execution_count": 8,
   "id": "c8551f88",
   "metadata": {},
   "outputs": [
    {
     "data": {
      "application/javascript": [
       "\n",
       "            setTimeout(function() {\n",
       "                var nbb_cell_id = 8;\n",
       "                var nbb_unformatted_code = \"## Add a new column that can indicate each raters.\\nraters = list()\\nfor x in range(df_joke.shape[0]):\\n    raters.append(\\\"Rater{}_with_rated_\\\".format(x + 1))\\n\\ndf_joke[\\\"Raters\\\"] = raters\";\n",
       "                var nbb_formatted_code = \"## Add a new column that can indicate each raters.\\nraters = list()\\nfor x in range(df_joke.shape[0]):\\n    raters.append(\\\"Rater{}_with_rated_\\\".format(x + 1))\\n\\ndf_joke[\\\"Raters\\\"] = raters\";\n",
       "                var nbb_cells = Jupyter.notebook.get_cells();\n",
       "                for (var i = 0; i < nbb_cells.length; ++i) {\n",
       "                    if (nbb_cells[i].input_prompt_number == nbb_cell_id) {\n",
       "                        if (nbb_cells[i].get_text() == nbb_unformatted_code) {\n",
       "                             nbb_cells[i].set_text(nbb_formatted_code);\n",
       "                        }\n",
       "                        break;\n",
       "                    }\n",
       "                }\n",
       "            }, 500);\n",
       "            "
      ],
      "text/plain": [
       "<IPython.core.display.Javascript object>"
      ]
     },
     "metadata": {},
     "output_type": "display_data"
    }
   ],
   "source": [
    "## Add a new column that can indicate each raters.\n",
    "raters = list()\n",
    "for x in range(df_joke.shape[0]):\n",
    "    raters.append(\"Rater{}_with_rated_\".format(x + 1))\n",
    "\n",
    "df_joke[\"Raters\"] = raters"
   ]
  },
  {
   "cell_type": "code",
   "execution_count": 9,
   "id": "03d259ac",
   "metadata": {},
   "outputs": [
    {
     "data": {
      "text/html": [
       "<div>\n",
       "<style scoped>\n",
       "    .dataframe tbody tr th:only-of-type {\n",
       "        vertical-align: middle;\n",
       "    }\n",
       "\n",
       "    .dataframe tbody tr th {\n",
       "        vertical-align: top;\n",
       "    }\n",
       "\n",
       "    .dataframe thead th {\n",
       "        text-align: right;\n",
       "    }\n",
       "</style>\n",
       "<table border=\"1\" class=\"dataframe\">\n",
       "  <thead>\n",
       "    <tr style=\"text-align: right;\">\n",
       "      <th></th>\n",
       "      <th>#_rating</th>\n",
       "      <th>Joke1</th>\n",
       "      <th>Joke2</th>\n",
       "      <th>Joke3</th>\n",
       "      <th>Joke4</th>\n",
       "      <th>Joke5</th>\n",
       "      <th>Joke6</th>\n",
       "      <th>Joke7</th>\n",
       "      <th>Joke8</th>\n",
       "      <th>Joke9</th>\n",
       "      <th>...</th>\n",
       "      <th>Joke92</th>\n",
       "      <th>Joke93</th>\n",
       "      <th>Joke94</th>\n",
       "      <th>Joke95</th>\n",
       "      <th>Joke96</th>\n",
       "      <th>Joke97</th>\n",
       "      <th>Joke98</th>\n",
       "      <th>Joke99</th>\n",
       "      <th>Joke100</th>\n",
       "      <th>Raters</th>\n",
       "    </tr>\n",
       "  </thead>\n",
       "  <tbody>\n",
       "    <tr>\n",
       "      <th>0</th>\n",
       "      <td>74</td>\n",
       "      <td>-7.82</td>\n",
       "      <td>8.79</td>\n",
       "      <td>-9.66</td>\n",
       "      <td>-8.16</td>\n",
       "      <td>-7.52</td>\n",
       "      <td>-8.50</td>\n",
       "      <td>-9.85</td>\n",
       "      <td>4.17</td>\n",
       "      <td>-8.98</td>\n",
       "      <td>...</td>\n",
       "      <td>99.00</td>\n",
       "      <td>99.00</td>\n",
       "      <td>99.00</td>\n",
       "      <td>99.00</td>\n",
       "      <td>99.00</td>\n",
       "      <td>-5.63</td>\n",
       "      <td>99.00</td>\n",
       "      <td>99.00</td>\n",
       "      <td>99.00</td>\n",
       "      <td>Rater1_with_rated_</td>\n",
       "    </tr>\n",
       "    <tr>\n",
       "      <th>1</th>\n",
       "      <td>100</td>\n",
       "      <td>4.08</td>\n",
       "      <td>-0.29</td>\n",
       "      <td>6.36</td>\n",
       "      <td>4.37</td>\n",
       "      <td>-2.38</td>\n",
       "      <td>-9.66</td>\n",
       "      <td>-0.73</td>\n",
       "      <td>-5.34</td>\n",
       "      <td>8.88</td>\n",
       "      <td>...</td>\n",
       "      <td>-4.95</td>\n",
       "      <td>-0.29</td>\n",
       "      <td>7.86</td>\n",
       "      <td>-0.19</td>\n",
       "      <td>-2.14</td>\n",
       "      <td>3.06</td>\n",
       "      <td>0.34</td>\n",
       "      <td>-4.32</td>\n",
       "      <td>1.07</td>\n",
       "      <td>Rater2_with_rated_</td>\n",
       "    </tr>\n",
       "    <tr>\n",
       "      <th>2</th>\n",
       "      <td>49</td>\n",
       "      <td>99.00</td>\n",
       "      <td>99.00</td>\n",
       "      <td>99.00</td>\n",
       "      <td>99.00</td>\n",
       "      <td>9.03</td>\n",
       "      <td>9.27</td>\n",
       "      <td>9.03</td>\n",
       "      <td>9.27</td>\n",
       "      <td>99.00</td>\n",
       "      <td>...</td>\n",
       "      <td>99.00</td>\n",
       "      <td>99.00</td>\n",
       "      <td>9.08</td>\n",
       "      <td>99.00</td>\n",
       "      <td>99.00</td>\n",
       "      <td>99.00</td>\n",
       "      <td>99.00</td>\n",
       "      <td>99.00</td>\n",
       "      <td>99.00</td>\n",
       "      <td>Rater3_with_rated_</td>\n",
       "    </tr>\n",
       "    <tr>\n",
       "      <th>3</th>\n",
       "      <td>48</td>\n",
       "      <td>99.00</td>\n",
       "      <td>8.35</td>\n",
       "      <td>99.00</td>\n",
       "      <td>99.00</td>\n",
       "      <td>1.80</td>\n",
       "      <td>8.16</td>\n",
       "      <td>-2.82</td>\n",
       "      <td>6.21</td>\n",
       "      <td>99.00</td>\n",
       "      <td>...</td>\n",
       "      <td>99.00</td>\n",
       "      <td>99.00</td>\n",
       "      <td>0.53</td>\n",
       "      <td>99.00</td>\n",
       "      <td>99.00</td>\n",
       "      <td>99.00</td>\n",
       "      <td>99.00</td>\n",
       "      <td>99.00</td>\n",
       "      <td>99.00</td>\n",
       "      <td>Rater4_with_rated_</td>\n",
       "    </tr>\n",
       "    <tr>\n",
       "      <th>4</th>\n",
       "      <td>91</td>\n",
       "      <td>8.50</td>\n",
       "      <td>4.61</td>\n",
       "      <td>-4.17</td>\n",
       "      <td>-5.39</td>\n",
       "      <td>1.36</td>\n",
       "      <td>1.60</td>\n",
       "      <td>7.04</td>\n",
       "      <td>4.61</td>\n",
       "      <td>-0.44</td>\n",
       "      <td>...</td>\n",
       "      <td>5.58</td>\n",
       "      <td>4.27</td>\n",
       "      <td>5.19</td>\n",
       "      <td>5.73</td>\n",
       "      <td>1.55</td>\n",
       "      <td>3.11</td>\n",
       "      <td>6.55</td>\n",
       "      <td>1.80</td>\n",
       "      <td>1.60</td>\n",
       "      <td>Rater5_with_rated_</td>\n",
       "    </tr>\n",
       "  </tbody>\n",
       "</table>\n",
       "<p>5 rows × 102 columns</p>\n",
       "</div>"
      ],
      "text/plain": [
       "   #_rating  Joke1  Joke2  Joke3  Joke4  Joke5  Joke6  Joke7  Joke8  Joke9  \\\n",
       "0        74  -7.82   8.79  -9.66  -8.16  -7.52  -8.50  -9.85   4.17  -8.98   \n",
       "1       100   4.08  -0.29   6.36   4.37  -2.38  -9.66  -0.73  -5.34   8.88   \n",
       "2        49  99.00  99.00  99.00  99.00   9.03   9.27   9.03   9.27  99.00   \n",
       "3        48  99.00   8.35  99.00  99.00   1.80   8.16  -2.82   6.21  99.00   \n",
       "4        91   8.50   4.61  -4.17  -5.39   1.36   1.60   7.04   4.61  -0.44   \n",
       "\n",
       "   ...  Joke92  Joke93  Joke94  Joke95  Joke96  Joke97  Joke98  Joke99  \\\n",
       "0  ...   99.00   99.00   99.00   99.00   99.00   -5.63   99.00   99.00   \n",
       "1  ...   -4.95   -0.29    7.86   -0.19   -2.14    3.06    0.34   -4.32   \n",
       "2  ...   99.00   99.00    9.08   99.00   99.00   99.00   99.00   99.00   \n",
       "3  ...   99.00   99.00    0.53   99.00   99.00   99.00   99.00   99.00   \n",
       "4  ...    5.58    4.27    5.19    5.73    1.55    3.11    6.55    1.80   \n",
       "\n",
       "   Joke100              Raters  \n",
       "0    99.00  Rater1_with_rated_  \n",
       "1     1.07  Rater2_with_rated_  \n",
       "2    99.00  Rater3_with_rated_  \n",
       "3    99.00  Rater4_with_rated_  \n",
       "4     1.60  Rater5_with_rated_  \n",
       "\n",
       "[5 rows x 102 columns]"
      ]
     },
     "execution_count": 9,
     "metadata": {},
     "output_type": "execute_result"
    },
    {
     "data": {
      "application/javascript": [
       "\n",
       "            setTimeout(function() {\n",
       "                var nbb_cell_id = 9;\n",
       "                var nbb_unformatted_code = \"## Check the data\\ndf_joke.head()\";\n",
       "                var nbb_formatted_code = \"## Check the data\\ndf_joke.head()\";\n",
       "                var nbb_cells = Jupyter.notebook.get_cells();\n",
       "                for (var i = 0; i < nbb_cells.length; ++i) {\n",
       "                    if (nbb_cells[i].input_prompt_number == nbb_cell_id) {\n",
       "                        if (nbb_cells[i].get_text() == nbb_unformatted_code) {\n",
       "                             nbb_cells[i].set_text(nbb_formatted_code);\n",
       "                        }\n",
       "                        break;\n",
       "                    }\n",
       "                }\n",
       "            }, 500);\n",
       "            "
      ],
      "text/plain": [
       "<IPython.core.display.Javascript object>"
      ]
     },
     "metadata": {},
     "output_type": "display_data"
    }
   ],
   "source": [
    "## Check the data\n",
    "df_joke.head()"
   ]
  },
  {
   "cell_type": "code",
   "execution_count": 10,
   "id": "dbfce782",
   "metadata": {},
   "outputs": [
    {
     "data": {
      "text/html": [
       "<div>\n",
       "<style scoped>\n",
       "    .dataframe tbody tr th:only-of-type {\n",
       "        vertical-align: middle;\n",
       "    }\n",
       "\n",
       "    .dataframe tbody tr th {\n",
       "        vertical-align: top;\n",
       "    }\n",
       "\n",
       "    .dataframe thead th {\n",
       "        text-align: right;\n",
       "    }\n",
       "</style>\n",
       "<table border=\"1\" class=\"dataframe\">\n",
       "  <thead>\n",
       "    <tr style=\"text-align: right;\">\n",
       "      <th></th>\n",
       "      <th>Joke1</th>\n",
       "      <th>Joke2</th>\n",
       "      <th>Joke3</th>\n",
       "      <th>Joke4</th>\n",
       "      <th>Joke5</th>\n",
       "      <th>Joke6</th>\n",
       "      <th>Joke7</th>\n",
       "      <th>Joke8</th>\n",
       "      <th>Joke9</th>\n",
       "      <th>Joke10</th>\n",
       "      <th>...</th>\n",
       "      <th>Joke92</th>\n",
       "      <th>Joke93</th>\n",
       "      <th>Joke94</th>\n",
       "      <th>Joke95</th>\n",
       "      <th>Joke96</th>\n",
       "      <th>Joke97</th>\n",
       "      <th>Joke98</th>\n",
       "      <th>Joke99</th>\n",
       "      <th>Joke100</th>\n",
       "      <th>Raters_with_rating_number</th>\n",
       "    </tr>\n",
       "  </thead>\n",
       "  <tbody>\n",
       "    <tr>\n",
       "      <th>0</th>\n",
       "      <td>-7.82</td>\n",
       "      <td>8.79</td>\n",
       "      <td>-9.66</td>\n",
       "      <td>-8.16</td>\n",
       "      <td>-7.52</td>\n",
       "      <td>-8.50</td>\n",
       "      <td>-9.85</td>\n",
       "      <td>4.17</td>\n",
       "      <td>-8.98</td>\n",
       "      <td>-4.76</td>\n",
       "      <td>...</td>\n",
       "      <td>99.00</td>\n",
       "      <td>99.00</td>\n",
       "      <td>99.00</td>\n",
       "      <td>99.00</td>\n",
       "      <td>99.00</td>\n",
       "      <td>-5.63</td>\n",
       "      <td>99.00</td>\n",
       "      <td>99.00</td>\n",
       "      <td>99.00</td>\n",
       "      <td>Rater1_with_rated_74</td>\n",
       "    </tr>\n",
       "    <tr>\n",
       "      <th>1</th>\n",
       "      <td>4.08</td>\n",
       "      <td>-0.29</td>\n",
       "      <td>6.36</td>\n",
       "      <td>4.37</td>\n",
       "      <td>-2.38</td>\n",
       "      <td>-9.66</td>\n",
       "      <td>-0.73</td>\n",
       "      <td>-5.34</td>\n",
       "      <td>8.88</td>\n",
       "      <td>9.22</td>\n",
       "      <td>...</td>\n",
       "      <td>-4.95</td>\n",
       "      <td>-0.29</td>\n",
       "      <td>7.86</td>\n",
       "      <td>-0.19</td>\n",
       "      <td>-2.14</td>\n",
       "      <td>3.06</td>\n",
       "      <td>0.34</td>\n",
       "      <td>-4.32</td>\n",
       "      <td>1.07</td>\n",
       "      <td>Rater2_with_rated_100</td>\n",
       "    </tr>\n",
       "    <tr>\n",
       "      <th>2</th>\n",
       "      <td>99.00</td>\n",
       "      <td>99.00</td>\n",
       "      <td>99.00</td>\n",
       "      <td>99.00</td>\n",
       "      <td>9.03</td>\n",
       "      <td>9.27</td>\n",
       "      <td>9.03</td>\n",
       "      <td>9.27</td>\n",
       "      <td>99.00</td>\n",
       "      <td>99.00</td>\n",
       "      <td>...</td>\n",
       "      <td>99.00</td>\n",
       "      <td>99.00</td>\n",
       "      <td>9.08</td>\n",
       "      <td>99.00</td>\n",
       "      <td>99.00</td>\n",
       "      <td>99.00</td>\n",
       "      <td>99.00</td>\n",
       "      <td>99.00</td>\n",
       "      <td>99.00</td>\n",
       "      <td>Rater3_with_rated_49</td>\n",
       "    </tr>\n",
       "    <tr>\n",
       "      <th>3</th>\n",
       "      <td>99.00</td>\n",
       "      <td>8.35</td>\n",
       "      <td>99.00</td>\n",
       "      <td>99.00</td>\n",
       "      <td>1.80</td>\n",
       "      <td>8.16</td>\n",
       "      <td>-2.82</td>\n",
       "      <td>6.21</td>\n",
       "      <td>99.00</td>\n",
       "      <td>1.84</td>\n",
       "      <td>...</td>\n",
       "      <td>99.00</td>\n",
       "      <td>99.00</td>\n",
       "      <td>0.53</td>\n",
       "      <td>99.00</td>\n",
       "      <td>99.00</td>\n",
       "      <td>99.00</td>\n",
       "      <td>99.00</td>\n",
       "      <td>99.00</td>\n",
       "      <td>99.00</td>\n",
       "      <td>Rater4_with_rated_48</td>\n",
       "    </tr>\n",
       "    <tr>\n",
       "      <th>4</th>\n",
       "      <td>8.50</td>\n",
       "      <td>4.61</td>\n",
       "      <td>-4.17</td>\n",
       "      <td>-5.39</td>\n",
       "      <td>1.36</td>\n",
       "      <td>1.60</td>\n",
       "      <td>7.04</td>\n",
       "      <td>4.61</td>\n",
       "      <td>-0.44</td>\n",
       "      <td>5.73</td>\n",
       "      <td>...</td>\n",
       "      <td>5.58</td>\n",
       "      <td>4.27</td>\n",
       "      <td>5.19</td>\n",
       "      <td>5.73</td>\n",
       "      <td>1.55</td>\n",
       "      <td>3.11</td>\n",
       "      <td>6.55</td>\n",
       "      <td>1.80</td>\n",
       "      <td>1.60</td>\n",
       "      <td>Rater5_with_rated_91</td>\n",
       "    </tr>\n",
       "  </tbody>\n",
       "</table>\n",
       "<p>5 rows × 101 columns</p>\n",
       "</div>"
      ],
      "text/plain": [
       "   Joke1  Joke2  Joke3  Joke4  Joke5  Joke6  Joke7  Joke8  Joke9  Joke10  ...  \\\n",
       "0  -7.82   8.79  -9.66  -8.16  -7.52  -8.50  -9.85   4.17  -8.98   -4.76  ...   \n",
       "1   4.08  -0.29   6.36   4.37  -2.38  -9.66  -0.73  -5.34   8.88    9.22  ...   \n",
       "2  99.00  99.00  99.00  99.00   9.03   9.27   9.03   9.27  99.00   99.00  ...   \n",
       "3  99.00   8.35  99.00  99.00   1.80   8.16  -2.82   6.21  99.00    1.84  ...   \n",
       "4   8.50   4.61  -4.17  -5.39   1.36   1.60   7.04   4.61  -0.44    5.73  ...   \n",
       "\n",
       "   Joke92  Joke93  Joke94  Joke95  Joke96  Joke97  Joke98  Joke99  Joke100  \\\n",
       "0   99.00   99.00   99.00   99.00   99.00   -5.63   99.00   99.00    99.00   \n",
       "1   -4.95   -0.29    7.86   -0.19   -2.14    3.06    0.34   -4.32     1.07   \n",
       "2   99.00   99.00    9.08   99.00   99.00   99.00   99.00   99.00    99.00   \n",
       "3   99.00   99.00    0.53   99.00   99.00   99.00   99.00   99.00    99.00   \n",
       "4    5.58    4.27    5.19    5.73    1.55    3.11    6.55    1.80     1.60   \n",
       "\n",
       "   Raters_with_rating_number  \n",
       "0       Rater1_with_rated_74  \n",
       "1      Rater2_with_rated_100  \n",
       "2       Rater3_with_rated_49  \n",
       "3       Rater4_with_rated_48  \n",
       "4       Rater5_with_rated_91  \n",
       "\n",
       "[5 rows x 101 columns]"
      ]
     },
     "execution_count": 10,
     "metadata": {},
     "output_type": "execute_result"
    },
    {
     "data": {
      "application/javascript": [
       "\n",
       "            setTimeout(function() {\n",
       "                var nbb_cell_id = 10;\n",
       "                var nbb_unformatted_code = \"## Combine the column Raters and the column #_rating, and then delete these two columns\\ndf_joke[\\\"Raters_with_rating_number\\\"] = df_joke[\\\"Raters\\\"] + df_joke[\\\"#_rating\\\"].astype(\\n    str\\n)\\ndf_joke.drop([\\\"#_rating\\\", \\\"Raters\\\"], axis=1, inplace=True)\\ndf_joke.head()\";\n",
       "                var nbb_formatted_code = \"## Combine the column Raters and the column #_rating, and then delete these two columns\\ndf_joke[\\\"Raters_with_rating_number\\\"] = df_joke[\\\"Raters\\\"] + df_joke[\\\"#_rating\\\"].astype(\\n    str\\n)\\ndf_joke.drop([\\\"#_rating\\\", \\\"Raters\\\"], axis=1, inplace=True)\\ndf_joke.head()\";\n",
       "                var nbb_cells = Jupyter.notebook.get_cells();\n",
       "                for (var i = 0; i < nbb_cells.length; ++i) {\n",
       "                    if (nbb_cells[i].input_prompt_number == nbb_cell_id) {\n",
       "                        if (nbb_cells[i].get_text() == nbb_unformatted_code) {\n",
       "                             nbb_cells[i].set_text(nbb_formatted_code);\n",
       "                        }\n",
       "                        break;\n",
       "                    }\n",
       "                }\n",
       "            }, 500);\n",
       "            "
      ],
      "text/plain": [
       "<IPython.core.display.Javascript object>"
      ]
     },
     "metadata": {},
     "output_type": "display_data"
    }
   ],
   "source": [
    "## Combine the column Raters and the column #_rating, and then delete these two columns\n",
    "df_joke[\"Raters_with_rating_number\"] = df_joke[\"Raters\"] + df_joke[\"#_rating\"].astype(\n",
    "    str\n",
    ")\n",
    "df_joke.drop([\"#_rating\", \"Raters\"], axis=1, inplace=True)\n",
    "df_joke.head()"
   ]
  },
  {
   "cell_type": "code",
   "execution_count": 11,
   "id": "beebc665",
   "metadata": {},
   "outputs": [
    {
     "data": {
      "text/html": [
       "<div>\n",
       "<style scoped>\n",
       "    .dataframe tbody tr th:only-of-type {\n",
       "        vertical-align: middle;\n",
       "    }\n",
       "\n",
       "    .dataframe tbody tr th {\n",
       "        vertical-align: top;\n",
       "    }\n",
       "\n",
       "    .dataframe thead th {\n",
       "        text-align: right;\n",
       "    }\n",
       "</style>\n",
       "<table border=\"1\" class=\"dataframe\">\n",
       "  <thead>\n",
       "    <tr style=\"text-align: right;\">\n",
       "      <th></th>\n",
       "      <th>Joke1</th>\n",
       "      <th>Joke2</th>\n",
       "      <th>Joke3</th>\n",
       "      <th>Joke4</th>\n",
       "      <th>Joke5</th>\n",
       "      <th>Joke6</th>\n",
       "      <th>Joke7</th>\n",
       "      <th>Joke8</th>\n",
       "      <th>Joke9</th>\n",
       "      <th>Joke10</th>\n",
       "      <th>...</th>\n",
       "      <th>Joke91</th>\n",
       "      <th>Joke92</th>\n",
       "      <th>Joke93</th>\n",
       "      <th>Joke94</th>\n",
       "      <th>Joke95</th>\n",
       "      <th>Joke96</th>\n",
       "      <th>Joke97</th>\n",
       "      <th>Joke98</th>\n",
       "      <th>Joke99</th>\n",
       "      <th>Joke100</th>\n",
       "    </tr>\n",
       "    <tr>\n",
       "      <th>Raters_with_rating_number</th>\n",
       "      <th></th>\n",
       "      <th></th>\n",
       "      <th></th>\n",
       "      <th></th>\n",
       "      <th></th>\n",
       "      <th></th>\n",
       "      <th></th>\n",
       "      <th></th>\n",
       "      <th></th>\n",
       "      <th></th>\n",
       "      <th></th>\n",
       "      <th></th>\n",
       "      <th></th>\n",
       "      <th></th>\n",
       "      <th></th>\n",
       "      <th></th>\n",
       "      <th></th>\n",
       "      <th></th>\n",
       "      <th></th>\n",
       "      <th></th>\n",
       "      <th></th>\n",
       "    </tr>\n",
       "  </thead>\n",
       "  <tbody>\n",
       "    <tr>\n",
       "      <th>Rater1_with_rated_74</th>\n",
       "      <td>-7.82</td>\n",
       "      <td>8.79</td>\n",
       "      <td>-9.66</td>\n",
       "      <td>-8.16</td>\n",
       "      <td>-7.52</td>\n",
       "      <td>-8.50</td>\n",
       "      <td>-9.85</td>\n",
       "      <td>4.17</td>\n",
       "      <td>-8.98</td>\n",
       "      <td>-4.76</td>\n",
       "      <td>...</td>\n",
       "      <td>2.82</td>\n",
       "      <td>99.00</td>\n",
       "      <td>99.00</td>\n",
       "      <td>99.00</td>\n",
       "      <td>99.00</td>\n",
       "      <td>99.00</td>\n",
       "      <td>-5.63</td>\n",
       "      <td>99.00</td>\n",
       "      <td>99.00</td>\n",
       "      <td>99.00</td>\n",
       "    </tr>\n",
       "    <tr>\n",
       "      <th>Rater2_with_rated_100</th>\n",
       "      <td>4.08</td>\n",
       "      <td>-0.29</td>\n",
       "      <td>6.36</td>\n",
       "      <td>4.37</td>\n",
       "      <td>-2.38</td>\n",
       "      <td>-9.66</td>\n",
       "      <td>-0.73</td>\n",
       "      <td>-5.34</td>\n",
       "      <td>8.88</td>\n",
       "      <td>9.22</td>\n",
       "      <td>...</td>\n",
       "      <td>2.82</td>\n",
       "      <td>-4.95</td>\n",
       "      <td>-0.29</td>\n",
       "      <td>7.86</td>\n",
       "      <td>-0.19</td>\n",
       "      <td>-2.14</td>\n",
       "      <td>3.06</td>\n",
       "      <td>0.34</td>\n",
       "      <td>-4.32</td>\n",
       "      <td>1.07</td>\n",
       "    </tr>\n",
       "    <tr>\n",
       "      <th>Rater3_with_rated_49</th>\n",
       "      <td>99.00</td>\n",
       "      <td>99.00</td>\n",
       "      <td>99.00</td>\n",
       "      <td>99.00</td>\n",
       "      <td>9.03</td>\n",
       "      <td>9.27</td>\n",
       "      <td>9.03</td>\n",
       "      <td>9.27</td>\n",
       "      <td>99.00</td>\n",
       "      <td>99.00</td>\n",
       "      <td>...</td>\n",
       "      <td>99.00</td>\n",
       "      <td>99.00</td>\n",
       "      <td>99.00</td>\n",
       "      <td>9.08</td>\n",
       "      <td>99.00</td>\n",
       "      <td>99.00</td>\n",
       "      <td>99.00</td>\n",
       "      <td>99.00</td>\n",
       "      <td>99.00</td>\n",
       "      <td>99.00</td>\n",
       "    </tr>\n",
       "    <tr>\n",
       "      <th>Rater4_with_rated_48</th>\n",
       "      <td>99.00</td>\n",
       "      <td>8.35</td>\n",
       "      <td>99.00</td>\n",
       "      <td>99.00</td>\n",
       "      <td>1.80</td>\n",
       "      <td>8.16</td>\n",
       "      <td>-2.82</td>\n",
       "      <td>6.21</td>\n",
       "      <td>99.00</td>\n",
       "      <td>1.84</td>\n",
       "      <td>...</td>\n",
       "      <td>99.00</td>\n",
       "      <td>99.00</td>\n",
       "      <td>99.00</td>\n",
       "      <td>0.53</td>\n",
       "      <td>99.00</td>\n",
       "      <td>99.00</td>\n",
       "      <td>99.00</td>\n",
       "      <td>99.00</td>\n",
       "      <td>99.00</td>\n",
       "      <td>99.00</td>\n",
       "    </tr>\n",
       "    <tr>\n",
       "      <th>Rater5_with_rated_91</th>\n",
       "      <td>8.50</td>\n",
       "      <td>4.61</td>\n",
       "      <td>-4.17</td>\n",
       "      <td>-5.39</td>\n",
       "      <td>1.36</td>\n",
       "      <td>1.60</td>\n",
       "      <td>7.04</td>\n",
       "      <td>4.61</td>\n",
       "      <td>-0.44</td>\n",
       "      <td>5.73</td>\n",
       "      <td>...</td>\n",
       "      <td>5.19</td>\n",
       "      <td>5.58</td>\n",
       "      <td>4.27</td>\n",
       "      <td>5.19</td>\n",
       "      <td>5.73</td>\n",
       "      <td>1.55</td>\n",
       "      <td>3.11</td>\n",
       "      <td>6.55</td>\n",
       "      <td>1.80</td>\n",
       "      <td>1.60</td>\n",
       "    </tr>\n",
       "  </tbody>\n",
       "</table>\n",
       "<p>5 rows × 100 columns</p>\n",
       "</div>"
      ],
      "text/plain": [
       "                           Joke1  Joke2  Joke3  Joke4  Joke5  Joke6  Joke7  \\\n",
       "Raters_with_rating_number                                                    \n",
       "Rater1_with_rated_74       -7.82   8.79  -9.66  -8.16  -7.52  -8.50  -9.85   \n",
       "Rater2_with_rated_100       4.08  -0.29   6.36   4.37  -2.38  -9.66  -0.73   \n",
       "Rater3_with_rated_49       99.00  99.00  99.00  99.00   9.03   9.27   9.03   \n",
       "Rater4_with_rated_48       99.00   8.35  99.00  99.00   1.80   8.16  -2.82   \n",
       "Rater5_with_rated_91        8.50   4.61  -4.17  -5.39   1.36   1.60   7.04   \n",
       "\n",
       "                           Joke8  Joke9  Joke10  ...  Joke91  Joke92  Joke93  \\\n",
       "Raters_with_rating_number                        ...                           \n",
       "Rater1_with_rated_74        4.17  -8.98   -4.76  ...    2.82   99.00   99.00   \n",
       "Rater2_with_rated_100      -5.34   8.88    9.22  ...    2.82   -4.95   -0.29   \n",
       "Rater3_with_rated_49        9.27  99.00   99.00  ...   99.00   99.00   99.00   \n",
       "Rater4_with_rated_48        6.21  99.00    1.84  ...   99.00   99.00   99.00   \n",
       "Rater5_with_rated_91        4.61  -0.44    5.73  ...    5.19    5.58    4.27   \n",
       "\n",
       "                           Joke94  Joke95  Joke96  Joke97  Joke98  Joke99  \\\n",
       "Raters_with_rating_number                                                   \n",
       "Rater1_with_rated_74        99.00   99.00   99.00   -5.63   99.00   99.00   \n",
       "Rater2_with_rated_100        7.86   -0.19   -2.14    3.06    0.34   -4.32   \n",
       "Rater3_with_rated_49         9.08   99.00   99.00   99.00   99.00   99.00   \n",
       "Rater4_with_rated_48         0.53   99.00   99.00   99.00   99.00   99.00   \n",
       "Rater5_with_rated_91         5.19    5.73    1.55    3.11    6.55    1.80   \n",
       "\n",
       "                           Joke100  \n",
       "Raters_with_rating_number           \n",
       "Rater1_with_rated_74         99.00  \n",
       "Rater2_with_rated_100         1.07  \n",
       "Rater3_with_rated_49         99.00  \n",
       "Rater4_with_rated_48         99.00  \n",
       "Rater5_with_rated_91          1.60  \n",
       "\n",
       "[5 rows x 100 columns]"
      ]
     },
     "execution_count": 11,
     "metadata": {},
     "output_type": "execute_result"
    },
    {
     "data": {
      "application/javascript": [
       "\n",
       "            setTimeout(function() {\n",
       "                var nbb_cell_id = 11;\n",
       "                var nbb_unformatted_code = \"df_joke.set_index([\\\"Raters_with_rating_number\\\"], inplace=True)\\ndf_joke.head()\";\n",
       "                var nbb_formatted_code = \"df_joke.set_index([\\\"Raters_with_rating_number\\\"], inplace=True)\\ndf_joke.head()\";\n",
       "                var nbb_cells = Jupyter.notebook.get_cells();\n",
       "                for (var i = 0; i < nbb_cells.length; ++i) {\n",
       "                    if (nbb_cells[i].input_prompt_number == nbb_cell_id) {\n",
       "                        if (nbb_cells[i].get_text() == nbb_unformatted_code) {\n",
       "                             nbb_cells[i].set_text(nbb_formatted_code);\n",
       "                        }\n",
       "                        break;\n",
       "                    }\n",
       "                }\n",
       "            }, 500);\n",
       "            "
      ],
      "text/plain": [
       "<IPython.core.display.Javascript object>"
      ]
     },
     "metadata": {},
     "output_type": "display_data"
    }
   ],
   "source": [
    "df_joke.set_index([\"Raters_with_rating_number\"], inplace=True)\n",
    "df_joke.head()"
   ]
  },
  {
   "cell_type": "code",
   "execution_count": 12,
   "id": "c9ba60f2",
   "metadata": {},
   "outputs": [
    {
     "data": {
      "application/javascript": [
       "\n",
       "            setTimeout(function() {\n",
       "                var nbb_cell_id = 12;\n",
       "                var nbb_unformatted_code = \"## 99 in dataset means missing value, let's convert them into np.nan\\ndf_joke.replace(99, np.NaN, inplace=True)\";\n",
       "                var nbb_formatted_code = \"## 99 in dataset means missing value, let's convert them into np.nan\\ndf_joke.replace(99, np.NaN, inplace=True)\";\n",
       "                var nbb_cells = Jupyter.notebook.get_cells();\n",
       "                for (var i = 0; i < nbb_cells.length; ++i) {\n",
       "                    if (nbb_cells[i].input_prompt_number == nbb_cell_id) {\n",
       "                        if (nbb_cells[i].get_text() == nbb_unformatted_code) {\n",
       "                             nbb_cells[i].set_text(nbb_formatted_code);\n",
       "                        }\n",
       "                        break;\n",
       "                    }\n",
       "                }\n",
       "            }, 500);\n",
       "            "
      ],
      "text/plain": [
       "<IPython.core.display.Javascript object>"
      ]
     },
     "metadata": {},
     "output_type": "display_data"
    }
   ],
   "source": [
    "## 99 in dataset means missing value, let's convert them into np.nan\n",
    "df_joke.replace(99, np.NaN, inplace=True)"
   ]
  },
  {
   "cell_type": "code",
   "execution_count": 13,
   "id": "37554575",
   "metadata": {},
   "outputs": [
    {
     "name": "stdout",
     "output_type": "stream",
     "text": [
      "  (0, 0)\t-7.82\n",
      "  (1, 0)\t4.08\n",
      "  (2, 0)\tnan\n",
      "  (3, 0)\tnan\n",
      "  (4, 0)\t8.5\n",
      "  (5, 0)\t-6.17\n",
      "  (6, 0)\tnan\n",
      "  (7, 0)\t6.84\n",
      "  (8, 0)\t-3.79\n",
      "  (9, 0)\t3.01\n",
      "  (10, 0)\t-2.91\n",
      "  (11, 0)\t1.31\n",
      "  (12, 0)\tnan\n",
      "  (13, 0)\t9.22\n",
      "  (14, 0)\t8.79\n",
      "  (15, 0)\t-3.5\n",
      "  (16, 0)\tnan\n",
      "  (17, 0)\t3.16\n",
      "  (18, 0)\t4.22\n",
      "  (19, 0)\tnan\n",
      "  (20, 0)\t2.57\n",
      "  (21, 0)\t7.28\n",
      "  (22, 0)\t2.72\n",
      "  (23, 0)\t2.09\n",
      "  (24, 0)\t-3.93\n",
      "  :\t:\n",
      "  (24958, 99)\t-1.8\n",
      "  (24959, 99)\tnan\n",
      "  (24960, 99)\tnan\n",
      "  (24961, 99)\tnan\n",
      "  (24962, 99)\t-6.36\n",
      "  (24963, 99)\tnan\n",
      "  (24964, 99)\tnan\n",
      "  (24965, 99)\tnan\n",
      "  (24966, 99)\t8.5\n",
      "  (24967, 99)\t-0.68\n",
      "  (24968, 99)\tnan\n",
      "  (24969, 99)\tnan\n",
      "  (24970, 99)\tnan\n",
      "  (24971, 99)\t4.37\n",
      "  (24972, 99)\tnan\n",
      "  (24973, 99)\tnan\n",
      "  (24974, 99)\tnan\n",
      "  (24975, 99)\tnan\n",
      "  (24976, 99)\t9.27\n",
      "  (24977, 99)\tnan\n",
      "  (24978, 99)\t7.43\n",
      "  (24979, 99)\t8.45\n",
      "  (24980, 99)\tnan\n",
      "  (24981, 99)\tnan\n",
      "  (24982, 99)\tnan\n"
     ]
    },
    {
     "data": {
      "application/javascript": [
       "\n",
       "            setTimeout(function() {\n",
       "                var nbb_cell_id = 13;\n",
       "                var nbb_unformatted_code = \"## Create a CSC sparse matrix\\ndf_joke_csc = sparse.csc_matrix(df_joke)\\nprint(df_joke_csc)\";\n",
       "                var nbb_formatted_code = \"## Create a CSC sparse matrix\\ndf_joke_csc = sparse.csc_matrix(df_joke)\\nprint(df_joke_csc)\";\n",
       "                var nbb_cells = Jupyter.notebook.get_cells();\n",
       "                for (var i = 0; i < nbb_cells.length; ++i) {\n",
       "                    if (nbb_cells[i].input_prompt_number == nbb_cell_id) {\n",
       "                        if (nbb_cells[i].get_text() == nbb_unformatted_code) {\n",
       "                             nbb_cells[i].set_text(nbb_formatted_code);\n",
       "                        }\n",
       "                        break;\n",
       "                    }\n",
       "                }\n",
       "            }, 500);\n",
       "            "
      ],
      "text/plain": [
       "<IPython.core.display.Javascript object>"
      ]
     },
     "metadata": {},
     "output_type": "display_data"
    }
   ],
   "source": [
    "## Create a CSC sparse matrix\n",
    "df_joke_csc = sparse.csc_matrix(df_joke)\n",
    "print(df_joke_csc)"
   ]
  },
  {
   "cell_type": "code",
   "execution_count": 14,
   "id": "4f09befd",
   "metadata": {},
   "outputs": [
    {
     "name": "stdout",
     "output_type": "stream",
     "text": [
      "<class 'pandas.core.frame.DataFrame'>\n",
      "RangeIndex: 24982 entries, 0 to 24981\n",
      "Columns: 101 entries, 74 to 99.25\n",
      "dtypes: float64(100), int64(1)\n",
      "memory usage: 19.3 MB\n"
     ]
    },
    {
     "data": {
      "application/javascript": [
       "\n",
       "            setTimeout(function() {\n",
       "                var nbb_cell_id = 14;\n",
       "                var nbb_unformatted_code = \"df_joke_copy.info()\";\n",
       "                var nbb_formatted_code = \"df_joke_copy.info()\";\n",
       "                var nbb_cells = Jupyter.notebook.get_cells();\n",
       "                for (var i = 0; i < nbb_cells.length; ++i) {\n",
       "                    if (nbb_cells[i].input_prompt_number == nbb_cell_id) {\n",
       "                        if (nbb_cells[i].get_text() == nbb_unformatted_code) {\n",
       "                             nbb_cells[i].set_text(nbb_formatted_code);\n",
       "                        }\n",
       "                        break;\n",
       "                    }\n",
       "                }\n",
       "            }, 500);\n",
       "            "
      ],
      "text/plain": [
       "<IPython.core.display.Javascript object>"
      ]
     },
     "metadata": {},
     "output_type": "display_data"
    }
   ],
   "source": [
    "df_joke_copy.info()"
   ]
  },
  {
   "cell_type": "code",
   "execution_count": 15,
   "id": "4066c6e0",
   "metadata": {},
   "outputs": [
    {
     "name": "stdout",
     "output_type": "stream",
     "text": [
      "Size of sparse csr_matrix: 2.38 MB\n"
     ]
    },
    {
     "data": {
      "application/javascript": [
       "\n",
       "            setTimeout(function() {\n",
       "                var nbb_cell_id = 15;\n",
       "                var nbb_unformatted_code = \"df_joke_size = df_joke_csc.data.size / (1024 ** 2)\\nprint(\\\"Size of sparse csr_matrix: \\\" + \\\"%3.2f\\\" % df_joke_size + \\\" MB\\\")\";\n",
       "                var nbb_formatted_code = \"df_joke_size = df_joke_csc.data.size / (1024 ** 2)\\nprint(\\\"Size of sparse csr_matrix: \\\" + \\\"%3.2f\\\" % df_joke_size + \\\" MB\\\")\";\n",
       "                var nbb_cells = Jupyter.notebook.get_cells();\n",
       "                for (var i = 0; i < nbb_cells.length; ++i) {\n",
       "                    if (nbb_cells[i].input_prompt_number == nbb_cell_id) {\n",
       "                        if (nbb_cells[i].get_text() == nbb_unformatted_code) {\n",
       "                             nbb_cells[i].set_text(nbb_formatted_code);\n",
       "                        }\n",
       "                        break;\n",
       "                    }\n",
       "                }\n",
       "            }, 500);\n",
       "            "
      ],
      "text/plain": [
       "<IPython.core.display.Javascript object>"
      ]
     },
     "metadata": {},
     "output_type": "display_data"
    }
   ],
   "source": [
    "df_joke_size = df_joke_csc.data.size / (1024 ** 2)\n",
    "print(\"Size of sparse csr_matrix: \" + \"%3.2f\" % df_joke_size + \" MB\")"
   ]
  },
  {
   "cell_type": "markdown",
   "id": "e2614c51",
   "metadata": {},
   "source": [
    "* We can noticed that the store size decrease significantly."
   ]
  },
  {
   "cell_type": "markdown",
   "id": "56683f5c",
   "metadata": {},
   "source": [
    "#### 2. MovieLens"
   ]
  },
  {
   "cell_type": "code",
   "execution_count": 16,
   "id": "f3d04199",
   "metadata": {},
   "outputs": [
    {
     "data": {
      "application/javascript": [
       "\n",
       "            setTimeout(function() {\n",
       "                var nbb_cell_id = 16;\n",
       "                var nbb_unformatted_code = \"## Read the data\\nscores = pd.read_csv(\\\"/Users/yuchenwang/Downloads/ml-latest/genome-scores.csv\\\")\\ng_tags = pd.read_csv(\\\"/Users/yuchenwang/Downloads/ml-latest/genome-tags.csv\\\")\\nlinks = pd.read_csv(\\\"/Users/yuchenwang/Downloads/ml-latest/links.csv\\\")\\nmovies = pd.read_csv(\\\"/Users/yuchenwang/Downloads/ml-latest/movies.csv\\\")\\nratings = pd.read_csv(\\\"/Users/yuchenwang/Downloads/ml-latest/ratings.csv\\\")\\ntags = pd.read_csv(\\\"/Users/yuchenwang/Downloads/ml-latest/tags.csv\\\")\";\n",
       "                var nbb_formatted_code = \"## Read the data\\nscores = pd.read_csv(\\\"/Users/yuchenwang/Downloads/ml-latest/genome-scores.csv\\\")\\ng_tags = pd.read_csv(\\\"/Users/yuchenwang/Downloads/ml-latest/genome-tags.csv\\\")\\nlinks = pd.read_csv(\\\"/Users/yuchenwang/Downloads/ml-latest/links.csv\\\")\\nmovies = pd.read_csv(\\\"/Users/yuchenwang/Downloads/ml-latest/movies.csv\\\")\\nratings = pd.read_csv(\\\"/Users/yuchenwang/Downloads/ml-latest/ratings.csv\\\")\\ntags = pd.read_csv(\\\"/Users/yuchenwang/Downloads/ml-latest/tags.csv\\\")\";\n",
       "                var nbb_cells = Jupyter.notebook.get_cells();\n",
       "                for (var i = 0; i < nbb_cells.length; ++i) {\n",
       "                    if (nbb_cells[i].input_prompt_number == nbb_cell_id) {\n",
       "                        if (nbb_cells[i].get_text() == nbb_unformatted_code) {\n",
       "                             nbb_cells[i].set_text(nbb_formatted_code);\n",
       "                        }\n",
       "                        break;\n",
       "                    }\n",
       "                }\n",
       "            }, 500);\n",
       "            "
      ],
      "text/plain": [
       "<IPython.core.display.Javascript object>"
      ]
     },
     "metadata": {},
     "output_type": "display_data"
    }
   ],
   "source": [
    "## Read the data\n",
    "scores = pd.read_csv(\"/Users/yuchenwang/Downloads/ml-latest/genome-scores.csv\")\n",
    "g_tags = pd.read_csv(\"/Users/yuchenwang/Downloads/ml-latest/genome-tags.csv\")\n",
    "links = pd.read_csv(\"/Users/yuchenwang/Downloads/ml-latest/links.csv\")\n",
    "movies = pd.read_csv(\"/Users/yuchenwang/Downloads/ml-latest/movies.csv\")\n",
    "ratings = pd.read_csv(\"/Users/yuchenwang/Downloads/ml-latest/ratings.csv\")\n",
    "tags = pd.read_csv(\"/Users/yuchenwang/Downloads/ml-latest/tags.csv\")"
   ]
  },
  {
   "cell_type": "code",
   "execution_count": 17,
   "id": "c5467118",
   "metadata": {},
   "outputs": [
    {
     "data": {
      "text/plain": [
       "(58098, 3)"
      ]
     },
     "execution_count": 17,
     "metadata": {},
     "output_type": "execute_result"
    },
    {
     "data": {
      "application/javascript": [
       "\n",
       "            setTimeout(function() {\n",
       "                var nbb_cell_id = 17;\n",
       "                var nbb_unformatted_code = \"## Since the imdb id and tmdb id are the unique number of a movie,\\n## so I think we should start with links table\\n## Check the links table\\nlinks.shape\";\n",
       "                var nbb_formatted_code = \"## Since the imdb id and tmdb id are the unique number of a movie,\\n## so I think we should start with links table\\n## Check the links table\\nlinks.shape\";\n",
       "                var nbb_cells = Jupyter.notebook.get_cells();\n",
       "                for (var i = 0; i < nbb_cells.length; ++i) {\n",
       "                    if (nbb_cells[i].input_prompt_number == nbb_cell_id) {\n",
       "                        if (nbb_cells[i].get_text() == nbb_unformatted_code) {\n",
       "                             nbb_cells[i].set_text(nbb_formatted_code);\n",
       "                        }\n",
       "                        break;\n",
       "                    }\n",
       "                }\n",
       "            }, 500);\n",
       "            "
      ],
      "text/plain": [
       "<IPython.core.display.Javascript object>"
      ]
     },
     "metadata": {},
     "output_type": "display_data"
    }
   ],
   "source": [
    "## Since the imdb id and tmdb id are the unique number of a movie,\n",
    "## so I think we should start with links table\n",
    "## Check the links table\n",
    "links.shape"
   ]
  },
  {
   "cell_type": "code",
   "execution_count": 18,
   "id": "8d9e3436",
   "metadata": {},
   "outputs": [
    {
     "name": "stdout",
     "output_type": "stream",
     "text": [
      "<class 'pandas.core.frame.DataFrame'>\n",
      "RangeIndex: 58098 entries, 0 to 58097\n",
      "Data columns (total 3 columns):\n",
      " #   Column   Non-Null Count  Dtype  \n",
      "---  ------   --------------  -----  \n",
      " 0   movieId  58098 non-null  int64  \n",
      " 1   imdbId   58098 non-null  int64  \n",
      " 2   tmdbId   57917 non-null  float64\n",
      "dtypes: float64(1), int64(2)\n",
      "memory usage: 1.3 MB\n"
     ]
    },
    {
     "data": {
      "application/javascript": [
       "\n",
       "            setTimeout(function() {\n",
       "                var nbb_cell_id = 18;\n",
       "                var nbb_unformatted_code = \"links.info()\";\n",
       "                var nbb_formatted_code = \"links.info()\";\n",
       "                var nbb_cells = Jupyter.notebook.get_cells();\n",
       "                for (var i = 0; i < nbb_cells.length; ++i) {\n",
       "                    if (nbb_cells[i].input_prompt_number == nbb_cell_id) {\n",
       "                        if (nbb_cells[i].get_text() == nbb_unformatted_code) {\n",
       "                             nbb_cells[i].set_text(nbb_formatted_code);\n",
       "                        }\n",
       "                        break;\n",
       "                    }\n",
       "                }\n",
       "            }, 500);\n",
       "            "
      ],
      "text/plain": [
       "<IPython.core.display.Javascript object>"
      ]
     },
     "metadata": {},
     "output_type": "display_data"
    }
   ],
   "source": [
    "links.info()"
   ]
  },
  {
   "cell_type": "code",
   "execution_count": 19,
   "id": "55d02c1a",
   "metadata": {},
   "outputs": [
    {
     "data": {
      "text/plain": [
       "movieId      0\n",
       "imdbId       0\n",
       "tmdbId     181\n",
       "dtype: int64"
      ]
     },
     "execution_count": 19,
     "metadata": {},
     "output_type": "execute_result"
    },
    {
     "data": {
      "application/javascript": [
       "\n",
       "            setTimeout(function() {\n",
       "                var nbb_cell_id = 19;\n",
       "                var nbb_unformatted_code = \"links.isna().sum()\";\n",
       "                var nbb_formatted_code = \"links.isna().sum()\";\n",
       "                var nbb_cells = Jupyter.notebook.get_cells();\n",
       "                for (var i = 0; i < nbb_cells.length; ++i) {\n",
       "                    if (nbb_cells[i].input_prompt_number == nbb_cell_id) {\n",
       "                        if (nbb_cells[i].get_text() == nbb_unformatted_code) {\n",
       "                             nbb_cells[i].set_text(nbb_formatted_code);\n",
       "                        }\n",
       "                        break;\n",
       "                    }\n",
       "                }\n",
       "            }, 500);\n",
       "            "
      ],
      "text/plain": [
       "<IPython.core.display.Javascript object>"
      ]
     },
     "metadata": {},
     "output_type": "display_data"
    }
   ],
   "source": [
    "links.isna().sum()"
   ]
  },
  {
   "cell_type": "code",
   "execution_count": 20,
   "id": "04092e3e",
   "metadata": {},
   "outputs": [
    {
     "data": {
      "text/html": [
       "<div>\n",
       "<style scoped>\n",
       "    .dataframe tbody tr th:only-of-type {\n",
       "        vertical-align: middle;\n",
       "    }\n",
       "\n",
       "    .dataframe tbody tr th {\n",
       "        vertical-align: top;\n",
       "    }\n",
       "\n",
       "    .dataframe thead th {\n",
       "        text-align: right;\n",
       "    }\n",
       "</style>\n",
       "<table border=\"1\" class=\"dataframe\">\n",
       "  <thead>\n",
       "    <tr style=\"text-align: right;\">\n",
       "      <th></th>\n",
       "      <th>movieId</th>\n",
       "      <th>imdbId</th>\n",
       "      <th>tmdbId</th>\n",
       "    </tr>\n",
       "  </thead>\n",
       "  <tbody>\n",
       "    <tr>\n",
       "      <th>709</th>\n",
       "      <td>721</td>\n",
       "      <td>114103</td>\n",
       "      <td>NaN</td>\n",
       "    </tr>\n",
       "    <tr>\n",
       "      <th>718</th>\n",
       "      <td>730</td>\n",
       "      <td>125877</td>\n",
       "      <td>NaN</td>\n",
       "    </tr>\n",
       "    <tr>\n",
       "      <th>756</th>\n",
       "      <td>769</td>\n",
       "      <td>116992</td>\n",
       "      <td>NaN</td>\n",
       "    </tr>\n",
       "    <tr>\n",
       "      <th>757</th>\n",
       "      <td>770</td>\n",
       "      <td>38426</td>\n",
       "      <td>NaN</td>\n",
       "    </tr>\n",
       "    <tr>\n",
       "      <th>778</th>\n",
       "      <td>791</td>\n",
       "      <td>113610</td>\n",
       "      <td>NaN</td>\n",
       "    </tr>\n",
       "    <tr>\n",
       "      <th>...</th>\n",
       "      <td>...</td>\n",
       "      <td>...</td>\n",
       "      <td>...</td>\n",
       "    </tr>\n",
       "    <tr>\n",
       "      <th>24855</th>\n",
       "      <td>114963</td>\n",
       "      <td>322250</td>\n",
       "      <td>NaN</td>\n",
       "    </tr>\n",
       "    <tr>\n",
       "      <th>25029</th>\n",
       "      <td>115715</td>\n",
       "      <td>3670792</td>\n",
       "      <td>NaN</td>\n",
       "    </tr>\n",
       "    <tr>\n",
       "      <th>25057</th>\n",
       "      <td>115821</td>\n",
       "      <td>3900116</td>\n",
       "      <td>NaN</td>\n",
       "    </tr>\n",
       "    <tr>\n",
       "      <th>29740</th>\n",
       "      <td>128734</td>\n",
       "      <td>4438688</td>\n",
       "      <td>NaN</td>\n",
       "    </tr>\n",
       "    <tr>\n",
       "      <th>37905</th>\n",
       "      <td>148093</td>\n",
       "      <td>4006044</td>\n",
       "      <td>NaN</td>\n",
       "    </tr>\n",
       "  </tbody>\n",
       "</table>\n",
       "<p>181 rows × 3 columns</p>\n",
       "</div>"
      ],
      "text/plain": [
       "       movieId   imdbId  tmdbId\n",
       "709        721   114103     NaN\n",
       "718        730   125877     NaN\n",
       "756        769   116992     NaN\n",
       "757        770    38426     NaN\n",
       "778        791   113610     NaN\n",
       "...        ...      ...     ...\n",
       "24855   114963   322250     NaN\n",
       "25029   115715  3670792     NaN\n",
       "25057   115821  3900116     NaN\n",
       "29740   128734  4438688     NaN\n",
       "37905   148093  4006044     NaN\n",
       "\n",
       "[181 rows x 3 columns]"
      ]
     },
     "execution_count": 20,
     "metadata": {},
     "output_type": "execute_result"
    },
    {
     "data": {
      "application/javascript": [
       "\n",
       "            setTimeout(function() {\n",
       "                var nbb_cell_id = 20;\n",
       "                var nbb_unformatted_code = \"## Return the all rows that contain missing values.\\nlinks[links[\\\"tmdbId\\\"].isna()]\";\n",
       "                var nbb_formatted_code = \"## Return the all rows that contain missing values.\\nlinks[links[\\\"tmdbId\\\"].isna()]\";\n",
       "                var nbb_cells = Jupyter.notebook.get_cells();\n",
       "                for (var i = 0; i < nbb_cells.length; ++i) {\n",
       "                    if (nbb_cells[i].input_prompt_number == nbb_cell_id) {\n",
       "                        if (nbb_cells[i].get_text() == nbb_unformatted_code) {\n",
       "                             nbb_cells[i].set_text(nbb_formatted_code);\n",
       "                        }\n",
       "                        break;\n",
       "                    }\n",
       "                }\n",
       "            }, 500);\n",
       "            "
      ],
      "text/plain": [
       "<IPython.core.display.Javascript object>"
      ]
     },
     "metadata": {},
     "output_type": "display_data"
    }
   ],
   "source": [
    "## Return the all rows that contain missing values.\n",
    "links[links[\"tmdbId\"].isna()]"
   ]
  },
  {
   "cell_type": "code",
   "execution_count": 21,
   "id": "e1f4ac3d",
   "metadata": {},
   "outputs": [
    {
     "data": {
      "text/plain": [
       "58098"
      ]
     },
     "execution_count": 21,
     "metadata": {},
     "output_type": "execute_result"
    },
    {
     "data": {
      "application/javascript": [
       "\n",
       "            setTimeout(function() {\n",
       "                var nbb_cell_id = 21;\n",
       "                var nbb_unformatted_code = \"links[\\\"movieId\\\"].nunique()\";\n",
       "                var nbb_formatted_code = \"links[\\\"movieId\\\"].nunique()\";\n",
       "                var nbb_cells = Jupyter.notebook.get_cells();\n",
       "                for (var i = 0; i < nbb_cells.length; ++i) {\n",
       "                    if (nbb_cells[i].input_prompt_number == nbb_cell_id) {\n",
       "                        if (nbb_cells[i].get_text() == nbb_unformatted_code) {\n",
       "                             nbb_cells[i].set_text(nbb_formatted_code);\n",
       "                        }\n",
       "                        break;\n",
       "                    }\n",
       "                }\n",
       "            }, 500);\n",
       "            "
      ],
      "text/plain": [
       "<IPython.core.display.Javascript object>"
      ]
     },
     "metadata": {},
     "output_type": "display_data"
    }
   ],
   "source": [
    "links[\"movieId\"].nunique()"
   ]
  },
  {
   "cell_type": "code",
   "execution_count": 22,
   "id": "233b60b6",
   "metadata": {},
   "outputs": [
    {
     "data": {
      "text/plain": [
       "58098"
      ]
     },
     "execution_count": 22,
     "metadata": {},
     "output_type": "execute_result"
    },
    {
     "data": {
      "application/javascript": [
       "\n",
       "            setTimeout(function() {\n",
       "                var nbb_cell_id = 22;\n",
       "                var nbb_unformatted_code = \"links[\\\"imdbId\\\"].nunique()\";\n",
       "                var nbb_formatted_code = \"links[\\\"imdbId\\\"].nunique()\";\n",
       "                var nbb_cells = Jupyter.notebook.get_cells();\n",
       "                for (var i = 0; i < nbb_cells.length; ++i) {\n",
       "                    if (nbb_cells[i].input_prompt_number == nbb_cell_id) {\n",
       "                        if (nbb_cells[i].get_text() == nbb_unformatted_code) {\n",
       "                             nbb_cells[i].set_text(nbb_formatted_code);\n",
       "                        }\n",
       "                        break;\n",
       "                    }\n",
       "                }\n",
       "            }, 500);\n",
       "            "
      ],
      "text/plain": [
       "<IPython.core.display.Javascript object>"
      ]
     },
     "metadata": {},
     "output_type": "display_data"
    }
   ],
   "source": [
    "links[\"imdbId\"].nunique()"
   ]
  },
  {
   "cell_type": "markdown",
   "id": "076f8248",
   "metadata": {},
   "source": [
    "* Each movie id has a unique corresponding imdbId, even though some movie don't have tmdbId."
   ]
  },
  {
   "cell_type": "code",
   "execution_count": 23,
   "id": "4dd4fa91",
   "metadata": {},
   "outputs": [
    {
     "data": {
      "text/plain": [
       "movieId    0\n",
       "title      0\n",
       "genres     0\n",
       "dtype: int64"
      ]
     },
     "execution_count": 23,
     "metadata": {},
     "output_type": "execute_result"
    },
    {
     "data": {
      "application/javascript": [
       "\n",
       "            setTimeout(function() {\n",
       "                var nbb_cell_id = 23;\n",
       "                var nbb_unformatted_code = \"## Check movies table now\\nmovies.isna().sum()\";\n",
       "                var nbb_formatted_code = \"## Check movies table now\\nmovies.isna().sum()\";\n",
       "                var nbb_cells = Jupyter.notebook.get_cells();\n",
       "                for (var i = 0; i < nbb_cells.length; ++i) {\n",
       "                    if (nbb_cells[i].input_prompt_number == nbb_cell_id) {\n",
       "                        if (nbb_cells[i].get_text() == nbb_unformatted_code) {\n",
       "                             nbb_cells[i].set_text(nbb_formatted_code);\n",
       "                        }\n",
       "                        break;\n",
       "                    }\n",
       "                }\n",
       "            }, 500);\n",
       "            "
      ],
      "text/plain": [
       "<IPython.core.display.Javascript object>"
      ]
     },
     "metadata": {},
     "output_type": "display_data"
    }
   ],
   "source": [
    "## Check movies table now\n",
    "movies.isna().sum()"
   ]
  },
  {
   "cell_type": "markdown",
   "id": "4fb198ae",
   "metadata": {},
   "source": [
    "* No null value, good news."
   ]
  },
  {
   "cell_type": "code",
   "execution_count": 24,
   "id": "7dfcb262",
   "metadata": {},
   "outputs": [
    {
     "data": {
      "text/plain": [
       "58098"
      ]
     },
     "execution_count": 24,
     "metadata": {},
     "output_type": "execute_result"
    },
    {
     "data": {
      "application/javascript": [
       "\n",
       "            setTimeout(function() {\n",
       "                var nbb_cell_id = 24;\n",
       "                var nbb_unformatted_code = \"## Check the unique number of movieId in movies\\nmovies[\\\"movieId\\\"].nunique()\";\n",
       "                var nbb_formatted_code = \"## Check the unique number of movieId in movies\\nmovies[\\\"movieId\\\"].nunique()\";\n",
       "                var nbb_cells = Jupyter.notebook.get_cells();\n",
       "                for (var i = 0; i < nbb_cells.length; ++i) {\n",
       "                    if (nbb_cells[i].input_prompt_number == nbb_cell_id) {\n",
       "                        if (nbb_cells[i].get_text() == nbb_unformatted_code) {\n",
       "                             nbb_cells[i].set_text(nbb_formatted_code);\n",
       "                        }\n",
       "                        break;\n",
       "                    }\n",
       "                }\n",
       "            }, 500);\n",
       "            "
      ],
      "text/plain": [
       "<IPython.core.display.Javascript object>"
      ]
     },
     "metadata": {},
     "output_type": "display_data"
    }
   ],
   "source": [
    "## Check the unique number of movieId in movies\n",
    "movies[\"movieId\"].nunique()"
   ]
  },
  {
   "cell_type": "code",
   "execution_count": 25,
   "id": "b0f245d8",
   "metadata": {},
   "outputs": [
    {
     "data": {
      "text/plain": [
       "(58098, 3)"
      ]
     },
     "execution_count": 25,
     "metadata": {},
     "output_type": "execute_result"
    },
    {
     "data": {
      "application/javascript": [
       "\n",
       "            setTimeout(function() {\n",
       "                var nbb_cell_id = 25;\n",
       "                var nbb_unformatted_code = \"movies.shape\";\n",
       "                var nbb_formatted_code = \"movies.shape\";\n",
       "                var nbb_cells = Jupyter.notebook.get_cells();\n",
       "                for (var i = 0; i < nbb_cells.length; ++i) {\n",
       "                    if (nbb_cells[i].input_prompt_number == nbb_cell_id) {\n",
       "                        if (nbb_cells[i].get_text() == nbb_unformatted_code) {\n",
       "                             nbb_cells[i].set_text(nbb_formatted_code);\n",
       "                        }\n",
       "                        break;\n",
       "                    }\n",
       "                }\n",
       "            }, 500);\n",
       "            "
      ],
      "text/plain": [
       "<IPython.core.display.Javascript object>"
      ]
     },
     "metadata": {},
     "output_type": "display_data"
    }
   ],
   "source": [
    "movies.shape"
   ]
  },
  {
   "cell_type": "code",
   "execution_count": 26,
   "id": "991210e4",
   "metadata": {},
   "outputs": [
    {
     "data": {
      "text/plain": [
       "array([ True])"
      ]
     },
     "execution_count": 26,
     "metadata": {},
     "output_type": "execute_result"
    },
    {
     "data": {
      "application/javascript": [
       "\n",
       "            setTimeout(function() {\n",
       "                var nbb_cell_id = 26;\n",
       "                var nbb_unformatted_code = \"if_include0 = movies[\\\"movieId\\\"].isin(links[\\\"movieId\\\"])\\nif_include0.unique()\";\n",
       "                var nbb_formatted_code = \"if_include0 = movies[\\\"movieId\\\"].isin(links[\\\"movieId\\\"])\\nif_include0.unique()\";\n",
       "                var nbb_cells = Jupyter.notebook.get_cells();\n",
       "                for (var i = 0; i < nbb_cells.length; ++i) {\n",
       "                    if (nbb_cells[i].input_prompt_number == nbb_cell_id) {\n",
       "                        if (nbb_cells[i].get_text() == nbb_unformatted_code) {\n",
       "                             nbb_cells[i].set_text(nbb_formatted_code);\n",
       "                        }\n",
       "                        break;\n",
       "                    }\n",
       "                }\n",
       "            }, 500);\n",
       "            "
      ],
      "text/plain": [
       "<IPython.core.display.Javascript object>"
      ]
     },
     "metadata": {},
     "output_type": "display_data"
    }
   ],
   "source": [
    "if_include0 = movies[\"movieId\"].isin(links[\"movieId\"])\n",
    "if_include0.unique()"
   ]
  },
  {
   "cell_type": "markdown",
   "id": "b763b74b",
   "metadata": {},
   "source": [
    "* Now we can be sure that the movieId in the movies are all included in movieId in the links table."
   ]
  },
  {
   "cell_type": "code",
   "execution_count": 27,
   "id": "a86fbbb1",
   "metadata": {},
   "outputs": [
    {
     "data": {
      "text/html": [
       "<div>\n",
       "<style scoped>\n",
       "    .dataframe tbody tr th:only-of-type {\n",
       "        vertical-align: middle;\n",
       "    }\n",
       "\n",
       "    .dataframe tbody tr th {\n",
       "        vertical-align: top;\n",
       "    }\n",
       "\n",
       "    .dataframe thead th {\n",
       "        text-align: right;\n",
       "    }\n",
       "</style>\n",
       "<table border=\"1\" class=\"dataframe\">\n",
       "  <thead>\n",
       "    <tr style=\"text-align: right;\">\n",
       "      <th></th>\n",
       "      <th>movieId</th>\n",
       "      <th>imdbId</th>\n",
       "      <th>tmdbId</th>\n",
       "      <th>title</th>\n",
       "      <th>genres</th>\n",
       "    </tr>\n",
       "  </thead>\n",
       "  <tbody>\n",
       "    <tr>\n",
       "      <th>0</th>\n",
       "      <td>1</td>\n",
       "      <td>114709</td>\n",
       "      <td>862.0</td>\n",
       "      <td>Toy Story (1995)</td>\n",
       "      <td>Adventure|Animation|Children|Comedy|Fantasy</td>\n",
       "    </tr>\n",
       "    <tr>\n",
       "      <th>1</th>\n",
       "      <td>2</td>\n",
       "      <td>113497</td>\n",
       "      <td>8844.0</td>\n",
       "      <td>Jumanji (1995)</td>\n",
       "      <td>Adventure|Children|Fantasy</td>\n",
       "    </tr>\n",
       "    <tr>\n",
       "      <th>2</th>\n",
       "      <td>3</td>\n",
       "      <td>113228</td>\n",
       "      <td>15602.0</td>\n",
       "      <td>Grumpier Old Men (1995)</td>\n",
       "      <td>Comedy|Romance</td>\n",
       "    </tr>\n",
       "    <tr>\n",
       "      <th>3</th>\n",
       "      <td>4</td>\n",
       "      <td>114885</td>\n",
       "      <td>31357.0</td>\n",
       "      <td>Waiting to Exhale (1995)</td>\n",
       "      <td>Comedy|Drama|Romance</td>\n",
       "    </tr>\n",
       "    <tr>\n",
       "      <th>4</th>\n",
       "      <td>5</td>\n",
       "      <td>113041</td>\n",
       "      <td>11862.0</td>\n",
       "      <td>Father of the Bride Part II (1995)</td>\n",
       "      <td>Comedy</td>\n",
       "    </tr>\n",
       "  </tbody>\n",
       "</table>\n",
       "</div>"
      ],
      "text/plain": [
       "   movieId  imdbId   tmdbId                               title  \\\n",
       "0        1  114709    862.0                    Toy Story (1995)   \n",
       "1        2  113497   8844.0                      Jumanji (1995)   \n",
       "2        3  113228  15602.0             Grumpier Old Men (1995)   \n",
       "3        4  114885  31357.0            Waiting to Exhale (1995)   \n",
       "4        5  113041  11862.0  Father of the Bride Part II (1995)   \n",
       "\n",
       "                                        genres  \n",
       "0  Adventure|Animation|Children|Comedy|Fantasy  \n",
       "1                   Adventure|Children|Fantasy  \n",
       "2                               Comedy|Romance  \n",
       "3                         Comedy|Drama|Romance  \n",
       "4                                       Comedy  "
      ]
     },
     "execution_count": 27,
     "metadata": {},
     "output_type": "execute_result"
    },
    {
     "data": {
      "application/javascript": [
       "\n",
       "            setTimeout(function() {\n",
       "                var nbb_cell_id = 27;\n",
       "                var nbb_unformatted_code = \"## Combine links table and movies table\\nall_movies = pd.merge(links, movies, how=\\\"left\\\", on=[\\\"movieId\\\"])\\nall_movies.head()\";\n",
       "                var nbb_formatted_code = \"## Combine links table and movies table\\nall_movies = pd.merge(links, movies, how=\\\"left\\\", on=[\\\"movieId\\\"])\\nall_movies.head()\";\n",
       "                var nbb_cells = Jupyter.notebook.get_cells();\n",
       "                for (var i = 0; i < nbb_cells.length; ++i) {\n",
       "                    if (nbb_cells[i].input_prompt_number == nbb_cell_id) {\n",
       "                        if (nbb_cells[i].get_text() == nbb_unformatted_code) {\n",
       "                             nbb_cells[i].set_text(nbb_formatted_code);\n",
       "                        }\n",
       "                        break;\n",
       "                    }\n",
       "                }\n",
       "            }, 500);\n",
       "            "
      ],
      "text/plain": [
       "<IPython.core.display.Javascript object>"
      ]
     },
     "metadata": {},
     "output_type": "display_data"
    }
   ],
   "source": [
    "## Combine links table and movies table\n",
    "all_movies = pd.merge(links, movies, how=\"left\", on=[\"movieId\"])\n",
    "all_movies.head()"
   ]
  },
  {
   "cell_type": "code",
   "execution_count": 28,
   "id": "d4cb73d3",
   "metadata": {},
   "outputs": [
    {
     "data": {
      "text/plain": [
       "userId       0\n",
       "movieId      0\n",
       "rating       0\n",
       "timestamp    0\n",
       "dtype: int64"
      ]
     },
     "execution_count": 28,
     "metadata": {},
     "output_type": "execute_result"
    },
    {
     "data": {
      "application/javascript": [
       "\n",
       "            setTimeout(function() {\n",
       "                var nbb_cell_id = 28;\n",
       "                var nbb_unformatted_code = \"## Check ratings and tags table we want to combine these two tables.\\nratings.isna().sum()\";\n",
       "                var nbb_formatted_code = \"## Check ratings and tags table we want to combine these two tables.\\nratings.isna().sum()\";\n",
       "                var nbb_cells = Jupyter.notebook.get_cells();\n",
       "                for (var i = 0; i < nbb_cells.length; ++i) {\n",
       "                    if (nbb_cells[i].input_prompt_number == nbb_cell_id) {\n",
       "                        if (nbb_cells[i].get_text() == nbb_unformatted_code) {\n",
       "                             nbb_cells[i].set_text(nbb_formatted_code);\n",
       "                        }\n",
       "                        break;\n",
       "                    }\n",
       "                }\n",
       "            }, 500);\n",
       "            "
      ],
      "text/plain": [
       "<IPython.core.display.Javascript object>"
      ]
     },
     "metadata": {},
     "output_type": "display_data"
    }
   ],
   "source": [
    "## Check ratings and tags table we want to combine these two tables.\n",
    "ratings.isna().sum()"
   ]
  },
  {
   "cell_type": "code",
   "execution_count": 29,
   "id": "2f294ce8",
   "metadata": {},
   "outputs": [
    {
     "data": {
      "text/plain": [
       "userId        0\n",
       "movieId       0\n",
       "tag          16\n",
       "timestamp     0\n",
       "dtype: int64"
      ]
     },
     "execution_count": 29,
     "metadata": {},
     "output_type": "execute_result"
    },
    {
     "data": {
      "application/javascript": [
       "\n",
       "            setTimeout(function() {\n",
       "                var nbb_cell_id = 29;\n",
       "                var nbb_unformatted_code = \"tags.isna().sum()\";\n",
       "                var nbb_formatted_code = \"tags.isna().sum()\";\n",
       "                var nbb_cells = Jupyter.notebook.get_cells();\n",
       "                for (var i = 0; i < nbb_cells.length; ++i) {\n",
       "                    if (nbb_cells[i].input_prompt_number == nbb_cell_id) {\n",
       "                        if (nbb_cells[i].get_text() == nbb_unformatted_code) {\n",
       "                             nbb_cells[i].set_text(nbb_formatted_code);\n",
       "                        }\n",
       "                        break;\n",
       "                    }\n",
       "                }\n",
       "            }, 500);\n",
       "            "
      ],
      "text/plain": [
       "<IPython.core.display.Javascript object>"
      ]
     },
     "metadata": {},
     "output_type": "display_data"
    }
   ],
   "source": [
    "tags.isna().sum()"
   ]
  },
  {
   "cell_type": "code",
   "execution_count": 30,
   "id": "d044cbb0",
   "metadata": {},
   "outputs": [
    {
     "data": {
      "text/plain": [
       "array([ True])"
      ]
     },
     "execution_count": 30,
     "metadata": {},
     "output_type": "execute_result"
    },
    {
     "data": {
      "application/javascript": [
       "\n",
       "            setTimeout(function() {\n",
       "                var nbb_cell_id = 30;\n",
       "                var nbb_unformatted_code = \"if_include1 = tags[\\\"userId\\\"].isin(ratings[\\\"userId\\\"])\\nif_include1.unique()\";\n",
       "                var nbb_formatted_code = \"if_include1 = tags[\\\"userId\\\"].isin(ratings[\\\"userId\\\"])\\nif_include1.unique()\";\n",
       "                var nbb_cells = Jupyter.notebook.get_cells();\n",
       "                for (var i = 0; i < nbb_cells.length; ++i) {\n",
       "                    if (nbb_cells[i].input_prompt_number == nbb_cell_id) {\n",
       "                        if (nbb_cells[i].get_text() == nbb_unformatted_code) {\n",
       "                             nbb_cells[i].set_text(nbb_formatted_code);\n",
       "                        }\n",
       "                        break;\n",
       "                    }\n",
       "                }\n",
       "            }, 500);\n",
       "            "
      ],
      "text/plain": [
       "<IPython.core.display.Javascript object>"
      ]
     },
     "metadata": {},
     "output_type": "display_data"
    }
   ],
   "source": [
    "if_include1 = tags[\"userId\"].isin(ratings[\"userId\"])\n",
    "if_include1.unique()"
   ]
  },
  {
   "cell_type": "code",
   "execution_count": 31,
   "id": "e5531701",
   "metadata": {},
   "outputs": [
    {
     "data": {
      "text/plain": [
       "array([ True, False])"
      ]
     },
     "execution_count": 31,
     "metadata": {},
     "output_type": "execute_result"
    },
    {
     "data": {
      "application/javascript": [
       "\n",
       "            setTimeout(function() {\n",
       "                var nbb_cell_id = 31;\n",
       "                var nbb_unformatted_code = \"if_include2 = tags[\\\"movieId\\\"].isin(ratings[\\\"movieId\\\"])\\nif_include2.unique()\";\n",
       "                var nbb_formatted_code = \"if_include2 = tags[\\\"movieId\\\"].isin(ratings[\\\"movieId\\\"])\\nif_include2.unique()\";\n",
       "                var nbb_cells = Jupyter.notebook.get_cells();\n",
       "                for (var i = 0; i < nbb_cells.length; ++i) {\n",
       "                    if (nbb_cells[i].input_prompt_number == nbb_cell_id) {\n",
       "                        if (nbb_cells[i].get_text() == nbb_unformatted_code) {\n",
       "                             nbb_cells[i].set_text(nbb_formatted_code);\n",
       "                        }\n",
       "                        break;\n",
       "                    }\n",
       "                }\n",
       "            }, 500);\n",
       "            "
      ],
      "text/plain": [
       "<IPython.core.display.Javascript object>"
      ]
     },
     "metadata": {},
     "output_type": "display_data"
    }
   ],
   "source": [
    "if_include2 = tags[\"movieId\"].isin(ratings[\"movieId\"])\n",
    "if_include2.unique()"
   ]
  },
  {
   "cell_type": "markdown",
   "id": "bf25d407",
   "metadata": {},
   "source": [
    "* We can notice that all tags users are included in ratings' user, but not every tags ' movie are included in ratings' movie\n",
    "* So we need to use outer join these two tables."
   ]
  },
  {
   "cell_type": "code",
   "execution_count": 32,
   "id": "b273822a",
   "metadata": {},
   "outputs": [
    {
     "data": {
      "text/html": [
       "<div>\n",
       "<style scoped>\n",
       "    .dataframe tbody tr th:only-of-type {\n",
       "        vertical-align: middle;\n",
       "    }\n",
       "\n",
       "    .dataframe tbody tr th {\n",
       "        vertical-align: top;\n",
       "    }\n",
       "\n",
       "    .dataframe thead th {\n",
       "        text-align: right;\n",
       "    }\n",
       "</style>\n",
       "<table border=\"1\" class=\"dataframe\">\n",
       "  <thead>\n",
       "    <tr style=\"text-align: right;\">\n",
       "      <th></th>\n",
       "      <th>userId</th>\n",
       "      <th>movieId</th>\n",
       "      <th>rating</th>\n",
       "      <th>timestamp_x</th>\n",
       "      <th>tag</th>\n",
       "      <th>timestamp_y</th>\n",
       "    </tr>\n",
       "  </thead>\n",
       "  <tbody>\n",
       "    <tr>\n",
       "      <th>0</th>\n",
       "      <td>1</td>\n",
       "      <td>307</td>\n",
       "      <td>3.5</td>\n",
       "      <td>1.256677e+09</td>\n",
       "      <td>NaN</td>\n",
       "      <td>NaN</td>\n",
       "    </tr>\n",
       "    <tr>\n",
       "      <th>1</th>\n",
       "      <td>1</td>\n",
       "      <td>481</td>\n",
       "      <td>3.5</td>\n",
       "      <td>1.256677e+09</td>\n",
       "      <td>NaN</td>\n",
       "      <td>NaN</td>\n",
       "    </tr>\n",
       "    <tr>\n",
       "      <th>2</th>\n",
       "      <td>1</td>\n",
       "      <td>1091</td>\n",
       "      <td>1.5</td>\n",
       "      <td>1.256677e+09</td>\n",
       "      <td>NaN</td>\n",
       "      <td>NaN</td>\n",
       "    </tr>\n",
       "    <tr>\n",
       "      <th>3</th>\n",
       "      <td>1</td>\n",
       "      <td>1257</td>\n",
       "      <td>4.5</td>\n",
       "      <td>1.256677e+09</td>\n",
       "      <td>NaN</td>\n",
       "      <td>NaN</td>\n",
       "    </tr>\n",
       "    <tr>\n",
       "      <th>4</th>\n",
       "      <td>1</td>\n",
       "      <td>1449</td>\n",
       "      <td>4.5</td>\n",
       "      <td>1.256677e+09</td>\n",
       "      <td>NaN</td>\n",
       "      <td>NaN</td>\n",
       "    </tr>\n",
       "  </tbody>\n",
       "</table>\n",
       "</div>"
      ],
      "text/plain": [
       "   userId  movieId  rating   timestamp_x  tag  timestamp_y\n",
       "0       1      307     3.5  1.256677e+09  NaN          NaN\n",
       "1       1      481     3.5  1.256677e+09  NaN          NaN\n",
       "2       1     1091     1.5  1.256677e+09  NaN          NaN\n",
       "3       1     1257     4.5  1.256677e+09  NaN          NaN\n",
       "4       1     1449     4.5  1.256677e+09  NaN          NaN"
      ]
     },
     "execution_count": 32,
     "metadata": {},
     "output_type": "execute_result"
    },
    {
     "data": {
      "application/javascript": [
       "\n",
       "            setTimeout(function() {\n",
       "                var nbb_cell_id = 32;\n",
       "                var nbb_unformatted_code = \"rating_tag = pd.merge(ratings, tags, how=\\\"outer\\\", on=[\\\"userId\\\", \\\"movieId\\\"])\\nrating_tag.head()\";\n",
       "                var nbb_formatted_code = \"rating_tag = pd.merge(ratings, tags, how=\\\"outer\\\", on=[\\\"userId\\\", \\\"movieId\\\"])\\nrating_tag.head()\";\n",
       "                var nbb_cells = Jupyter.notebook.get_cells();\n",
       "                for (var i = 0; i < nbb_cells.length; ++i) {\n",
       "                    if (nbb_cells[i].input_prompt_number == nbb_cell_id) {\n",
       "                        if (nbb_cells[i].get_text() == nbb_unformatted_code) {\n",
       "                             nbb_cells[i].set_text(nbb_formatted_code);\n",
       "                        }\n",
       "                        break;\n",
       "                    }\n",
       "                }\n",
       "            }, 500);\n",
       "            "
      ],
      "text/plain": [
       "<IPython.core.display.Javascript object>"
      ]
     },
     "metadata": {},
     "output_type": "display_data"
    }
   ],
   "source": [
    "rating_tag = pd.merge(ratings, tags, how=\"outer\", on=[\"userId\", \"movieId\"])\n",
    "rating_tag.head()"
   ]
  },
  {
   "cell_type": "code",
   "execution_count": 33,
   "id": "dde7fd2a",
   "metadata": {},
   "outputs": [
    {
     "data": {
      "text/plain": [
       "(28642001, 6)"
      ]
     },
     "execution_count": 33,
     "metadata": {},
     "output_type": "execute_result"
    },
    {
     "data": {
      "application/javascript": [
       "\n",
       "            setTimeout(function() {\n",
       "                var nbb_cell_id = 33;\n",
       "                var nbb_unformatted_code = \"rating_tag.shape\";\n",
       "                var nbb_formatted_code = \"rating_tag.shape\";\n",
       "                var nbb_cells = Jupyter.notebook.get_cells();\n",
       "                for (var i = 0; i < nbb_cells.length; ++i) {\n",
       "                    if (nbb_cells[i].input_prompt_number == nbb_cell_id) {\n",
       "                        if (nbb_cells[i].get_text() == nbb_unformatted_code) {\n",
       "                             nbb_cells[i].set_text(nbb_formatted_code);\n",
       "                        }\n",
       "                        break;\n",
       "                    }\n",
       "                }\n",
       "            }, 500);\n",
       "            "
      ],
      "text/plain": [
       "<IPython.core.display.Javascript object>"
      ]
     },
     "metadata": {},
     "output_type": "display_data"
    }
   ],
   "source": [
    "rating_tag.shape"
   ]
  },
  {
   "cell_type": "code",
   "execution_count": 34,
   "id": "005772b1",
   "metadata": {},
   "outputs": [
    {
     "data": {
      "text/plain": [
       "userId                0\n",
       "movieId               0\n",
       "rating           278505\n",
       "timestamp_x      278505\n",
       "tag            27533020\n",
       "timestamp_y    27533004\n",
       "dtype: int64"
      ]
     },
     "execution_count": 34,
     "metadata": {},
     "output_type": "execute_result"
    },
    {
     "data": {
      "application/javascript": [
       "\n",
       "            setTimeout(function() {\n",
       "                var nbb_cell_id = 34;\n",
       "                var nbb_unformatted_code = \"rating_tag.isna().sum()\";\n",
       "                var nbb_formatted_code = \"rating_tag.isna().sum()\";\n",
       "                var nbb_cells = Jupyter.notebook.get_cells();\n",
       "                for (var i = 0; i < nbb_cells.length; ++i) {\n",
       "                    if (nbb_cells[i].input_prompt_number == nbb_cell_id) {\n",
       "                        if (nbb_cells[i].get_text() == nbb_unformatted_code) {\n",
       "                             nbb_cells[i].set_text(nbb_formatted_code);\n",
       "                        }\n",
       "                        break;\n",
       "                    }\n",
       "                }\n",
       "            }, 500);\n",
       "            "
      ],
      "text/plain": [
       "<IPython.core.display.Javascript object>"
      ]
     },
     "metadata": {},
     "output_type": "display_data"
    }
   ],
   "source": [
    "rating_tag.isna().sum()"
   ]
  },
  {
   "cell_type": "markdown",
   "id": "01c1d505",
   "metadata": {},
   "source": [
    "* Fill out the value from timestamp_y to timestamp_x column.\n",
    "* Because there is no null value in timestamp column in both original tables (ratings and tags), So we can replace all the null values in the timestamp_x column with the value in the timestamp_y column. "
   ]
  },
  {
   "cell_type": "code",
   "execution_count": 35,
   "id": "6fff852f",
   "metadata": {},
   "outputs": [
    {
     "data": {
      "text/html": [
       "<div>\n",
       "<style scoped>\n",
       "    .dataframe tbody tr th:only-of-type {\n",
       "        vertical-align: middle;\n",
       "    }\n",
       "\n",
       "    .dataframe tbody tr th {\n",
       "        vertical-align: top;\n",
       "    }\n",
       "\n",
       "    .dataframe thead th {\n",
       "        text-align: right;\n",
       "    }\n",
       "</style>\n",
       "<table border=\"1\" class=\"dataframe\">\n",
       "  <thead>\n",
       "    <tr style=\"text-align: right;\">\n",
       "      <th></th>\n",
       "      <th>userId</th>\n",
       "      <th>movieId</th>\n",
       "      <th>rating</th>\n",
       "      <th>timestamp</th>\n",
       "      <th>tag</th>\n",
       "    </tr>\n",
       "  </thead>\n",
       "  <tbody>\n",
       "    <tr>\n",
       "      <th>0</th>\n",
       "      <td>1</td>\n",
       "      <td>307</td>\n",
       "      <td>3.5</td>\n",
       "      <td>1.256677e+09</td>\n",
       "      <td>NaN</td>\n",
       "    </tr>\n",
       "    <tr>\n",
       "      <th>1</th>\n",
       "      <td>1</td>\n",
       "      <td>481</td>\n",
       "      <td>3.5</td>\n",
       "      <td>1.256677e+09</td>\n",
       "      <td>NaN</td>\n",
       "    </tr>\n",
       "    <tr>\n",
       "      <th>2</th>\n",
       "      <td>1</td>\n",
       "      <td>1091</td>\n",
       "      <td>1.5</td>\n",
       "      <td>1.256677e+09</td>\n",
       "      <td>NaN</td>\n",
       "    </tr>\n",
       "    <tr>\n",
       "      <th>3</th>\n",
       "      <td>1</td>\n",
       "      <td>1257</td>\n",
       "      <td>4.5</td>\n",
       "      <td>1.256677e+09</td>\n",
       "      <td>NaN</td>\n",
       "    </tr>\n",
       "    <tr>\n",
       "      <th>4</th>\n",
       "      <td>1</td>\n",
       "      <td>1449</td>\n",
       "      <td>4.5</td>\n",
       "      <td>1.256677e+09</td>\n",
       "      <td>NaN</td>\n",
       "    </tr>\n",
       "  </tbody>\n",
       "</table>\n",
       "</div>"
      ],
      "text/plain": [
       "   userId  movieId  rating     timestamp  tag\n",
       "0       1      307     3.5  1.256677e+09  NaN\n",
       "1       1      481     3.5  1.256677e+09  NaN\n",
       "2       1     1091     1.5  1.256677e+09  NaN\n",
       "3       1     1257     4.5  1.256677e+09  NaN\n",
       "4       1     1449     4.5  1.256677e+09  NaN"
      ]
     },
     "execution_count": 35,
     "metadata": {},
     "output_type": "execute_result"
    },
    {
     "data": {
      "application/javascript": [
       "\n",
       "            setTimeout(function() {\n",
       "                var nbb_cell_id = 35;\n",
       "                var nbb_unformatted_code = \"rating_tag.loc[rating_tag[\\\"timestamp_x\\\"].isnull(), \\\"timestamp_x\\\"] = rating_tag.loc[\\n    rating_tag[\\\"timestamp_x\\\"].isnull(), \\\"timestamp_y\\\"\\n]\\nrating_tag.drop([\\\"timestamp_y\\\"], axis=1, inplace=True)\\nrating_tag.rename(columns={\\\"timestamp_x\\\": \\\"timestamp\\\"}, inplace=True)\\nrating_tag.head()\";\n",
       "                var nbb_formatted_code = \"rating_tag.loc[rating_tag[\\\"timestamp_x\\\"].isnull(), \\\"timestamp_x\\\"] = rating_tag.loc[\\n    rating_tag[\\\"timestamp_x\\\"].isnull(), \\\"timestamp_y\\\"\\n]\\nrating_tag.drop([\\\"timestamp_y\\\"], axis=1, inplace=True)\\nrating_tag.rename(columns={\\\"timestamp_x\\\": \\\"timestamp\\\"}, inplace=True)\\nrating_tag.head()\";\n",
       "                var nbb_cells = Jupyter.notebook.get_cells();\n",
       "                for (var i = 0; i < nbb_cells.length; ++i) {\n",
       "                    if (nbb_cells[i].input_prompt_number == nbb_cell_id) {\n",
       "                        if (nbb_cells[i].get_text() == nbb_unformatted_code) {\n",
       "                             nbb_cells[i].set_text(nbb_formatted_code);\n",
       "                        }\n",
       "                        break;\n",
       "                    }\n",
       "                }\n",
       "            }, 500);\n",
       "            "
      ],
      "text/plain": [
       "<IPython.core.display.Javascript object>"
      ]
     },
     "metadata": {},
     "output_type": "display_data"
    }
   ],
   "source": [
    "rating_tag.loc[rating_tag[\"timestamp_x\"].isnull(), \"timestamp_x\"] = rating_tag.loc[\n",
    "    rating_tag[\"timestamp_x\"].isnull(), \"timestamp_y\"\n",
    "]\n",
    "rating_tag.drop([\"timestamp_y\"], axis=1, inplace=True)\n",
    "rating_tag.rename(columns={\"timestamp_x\": \"timestamp\"}, inplace=True)\n",
    "rating_tag.head()"
   ]
  },
  {
   "cell_type": "code",
   "execution_count": 36,
   "id": "5fc91fa5",
   "metadata": {},
   "outputs": [
    {
     "data": {
      "text/plain": [
       "userId              0\n",
       "movieId             0\n",
       "rating         278505\n",
       "timestamp           0\n",
       "tag          27533020\n",
       "dtype: int64"
      ]
     },
     "execution_count": 36,
     "metadata": {},
     "output_type": "execute_result"
    },
    {
     "data": {
      "application/javascript": [
       "\n",
       "            setTimeout(function() {\n",
       "                var nbb_cell_id = 36;\n",
       "                var nbb_unformatted_code = \"rating_tag.isna().sum()\";\n",
       "                var nbb_formatted_code = \"rating_tag.isna().sum()\";\n",
       "                var nbb_cells = Jupyter.notebook.get_cells();\n",
       "                for (var i = 0; i < nbb_cells.length; ++i) {\n",
       "                    if (nbb_cells[i].input_prompt_number == nbb_cell_id) {\n",
       "                        if (nbb_cells[i].get_text() == nbb_unformatted_code) {\n",
       "                             nbb_cells[i].set_text(nbb_formatted_code);\n",
       "                        }\n",
       "                        break;\n",
       "                    }\n",
       "                }\n",
       "            }, 500);\n",
       "            "
      ],
      "text/plain": [
       "<IPython.core.display.Javascript object>"
      ]
     },
     "metadata": {},
     "output_type": "display_data"
    }
   ],
   "source": [
    "rating_tag.isna().sum()"
   ]
  },
  {
   "cell_type": "markdown",
   "id": "efd5101d",
   "metadata": {},
   "source": [
    "* No null value in the column timestamp now."
   ]
  },
  {
   "cell_type": "code",
   "execution_count": 37,
   "id": "54af7d64",
   "metadata": {},
   "outputs": [
    {
     "data": {
      "text/plain": [
       "movieId      0\n",
       "tagId        0\n",
       "relevance    0\n",
       "dtype: int64"
      ]
     },
     "execution_count": 37,
     "metadata": {},
     "output_type": "execute_result"
    },
    {
     "data": {
      "application/javascript": [
       "\n",
       "            setTimeout(function() {\n",
       "                var nbb_cell_id = 37;\n",
       "                var nbb_unformatted_code = \"## Check scores and g_tags tables, combine them.\\nscores.isna().sum()\";\n",
       "                var nbb_formatted_code = \"## Check scores and g_tags tables, combine them.\\nscores.isna().sum()\";\n",
       "                var nbb_cells = Jupyter.notebook.get_cells();\n",
       "                for (var i = 0; i < nbb_cells.length; ++i) {\n",
       "                    if (nbb_cells[i].input_prompt_number == nbb_cell_id) {\n",
       "                        if (nbb_cells[i].get_text() == nbb_unformatted_code) {\n",
       "                             nbb_cells[i].set_text(nbb_formatted_code);\n",
       "                        }\n",
       "                        break;\n",
       "                    }\n",
       "                }\n",
       "            }, 500);\n",
       "            "
      ],
      "text/plain": [
       "<IPython.core.display.Javascript object>"
      ]
     },
     "metadata": {},
     "output_type": "display_data"
    }
   ],
   "source": [
    "## Check scores and g_tags tables, combine them.\n",
    "scores.isna().sum()"
   ]
  },
  {
   "cell_type": "code",
   "execution_count": 38,
   "id": "a7a21de7",
   "metadata": {},
   "outputs": [
    {
     "data": {
      "text/plain": [
       "tagId    0\n",
       "tag      0\n",
       "dtype: int64"
      ]
     },
     "execution_count": 38,
     "metadata": {},
     "output_type": "execute_result"
    },
    {
     "data": {
      "application/javascript": [
       "\n",
       "            setTimeout(function() {\n",
       "                var nbb_cell_id = 38;\n",
       "                var nbb_unformatted_code = \"g_tags.isna().sum()\";\n",
       "                var nbb_formatted_code = \"g_tags.isna().sum()\";\n",
       "                var nbb_cells = Jupyter.notebook.get_cells();\n",
       "                for (var i = 0; i < nbb_cells.length; ++i) {\n",
       "                    if (nbb_cells[i].input_prompt_number == nbb_cell_id) {\n",
       "                        if (nbb_cells[i].get_text() == nbb_unformatted_code) {\n",
       "                             nbb_cells[i].set_text(nbb_formatted_code);\n",
       "                        }\n",
       "                        break;\n",
       "                    }\n",
       "                }\n",
       "            }, 500);\n",
       "            "
      ],
      "text/plain": [
       "<IPython.core.display.Javascript object>"
      ]
     },
     "metadata": {},
     "output_type": "display_data"
    }
   ],
   "source": [
    "g_tags.isna().sum()"
   ]
  },
  {
   "cell_type": "code",
   "execution_count": 39,
   "id": "c8ed4bd9",
   "metadata": {},
   "outputs": [
    {
     "data": {
      "text/plain": [
       "1128"
      ]
     },
     "execution_count": 39,
     "metadata": {},
     "output_type": "execute_result"
    },
    {
     "data": {
      "application/javascript": [
       "\n",
       "            setTimeout(function() {\n",
       "                var nbb_cell_id = 39;\n",
       "                var nbb_unformatted_code = \"scores[\\\"tagId\\\"].nunique()\";\n",
       "                var nbb_formatted_code = \"scores[\\\"tagId\\\"].nunique()\";\n",
       "                var nbb_cells = Jupyter.notebook.get_cells();\n",
       "                for (var i = 0; i < nbb_cells.length; ++i) {\n",
       "                    if (nbb_cells[i].input_prompt_number == nbb_cell_id) {\n",
       "                        if (nbb_cells[i].get_text() == nbb_unformatted_code) {\n",
       "                             nbb_cells[i].set_text(nbb_formatted_code);\n",
       "                        }\n",
       "                        break;\n",
       "                    }\n",
       "                }\n",
       "            }, 500);\n",
       "            "
      ],
      "text/plain": [
       "<IPython.core.display.Javascript object>"
      ]
     },
     "metadata": {},
     "output_type": "display_data"
    }
   ],
   "source": [
    "scores[\"tagId\"].nunique()"
   ]
  },
  {
   "cell_type": "code",
   "execution_count": 40,
   "id": "6940a943",
   "metadata": {},
   "outputs": [
    {
     "data": {
      "text/plain": [
       "1128"
      ]
     },
     "execution_count": 40,
     "metadata": {},
     "output_type": "execute_result"
    },
    {
     "data": {
      "application/javascript": [
       "\n",
       "            setTimeout(function() {\n",
       "                var nbb_cell_id = 40;\n",
       "                var nbb_unformatted_code = \"g_tags[\\\"tagId\\\"].nunique()\";\n",
       "                var nbb_formatted_code = \"g_tags[\\\"tagId\\\"].nunique()\";\n",
       "                var nbb_cells = Jupyter.notebook.get_cells();\n",
       "                for (var i = 0; i < nbb_cells.length; ++i) {\n",
       "                    if (nbb_cells[i].input_prompt_number == nbb_cell_id) {\n",
       "                        if (nbb_cells[i].get_text() == nbb_unformatted_code) {\n",
       "                             nbb_cells[i].set_text(nbb_formatted_code);\n",
       "                        }\n",
       "                        break;\n",
       "                    }\n",
       "                }\n",
       "            }, 500);\n",
       "            "
      ],
      "text/plain": [
       "<IPython.core.display.Javascript object>"
      ]
     },
     "metadata": {},
     "output_type": "display_data"
    }
   ],
   "source": [
    "g_tags[\"tagId\"].nunique()"
   ]
  },
  {
   "cell_type": "code",
   "execution_count": 41,
   "id": "ed781a34",
   "metadata": {},
   "outputs": [
    {
     "data": {
      "text/plain": [
       "array([ True])"
      ]
     },
     "execution_count": 41,
     "metadata": {},
     "output_type": "execute_result"
    },
    {
     "data": {
      "application/javascript": [
       "\n",
       "            setTimeout(function() {\n",
       "                var nbb_cell_id = 41;\n",
       "                var nbb_unformatted_code = \"if_include3 = scores[\\\"tagId\\\"].isin(g_tags[\\\"tagId\\\"])\\nif_include3.unique()\";\n",
       "                var nbb_formatted_code = \"if_include3 = scores[\\\"tagId\\\"].isin(g_tags[\\\"tagId\\\"])\\nif_include3.unique()\";\n",
       "                var nbb_cells = Jupyter.notebook.get_cells();\n",
       "                for (var i = 0; i < nbb_cells.length; ++i) {\n",
       "                    if (nbb_cells[i].input_prompt_number == nbb_cell_id) {\n",
       "                        if (nbb_cells[i].get_text() == nbb_unformatted_code) {\n",
       "                             nbb_cells[i].set_text(nbb_formatted_code);\n",
       "                        }\n",
       "                        break;\n",
       "                    }\n",
       "                }\n",
       "            }, 500);\n",
       "            "
      ],
      "text/plain": [
       "<IPython.core.display.Javascript object>"
      ]
     },
     "metadata": {},
     "output_type": "display_data"
    }
   ],
   "source": [
    "if_include3 = scores[\"tagId\"].isin(g_tags[\"tagId\"])\n",
    "if_include3.unique()"
   ]
  },
  {
   "cell_type": "markdown",
   "id": "3ba6f612",
   "metadata": {},
   "source": [
    "* Good, all tagId in scores are included in g_tags' table."
   ]
  },
  {
   "cell_type": "code",
   "execution_count": 42,
   "id": "dc8a0e0c",
   "metadata": {},
   "outputs": [
    {
     "data": {
      "text/html": [
       "<div>\n",
       "<style scoped>\n",
       "    .dataframe tbody tr th:only-of-type {\n",
       "        vertical-align: middle;\n",
       "    }\n",
       "\n",
       "    .dataframe tbody tr th {\n",
       "        vertical-align: top;\n",
       "    }\n",
       "\n",
       "    .dataframe thead th {\n",
       "        text-align: right;\n",
       "    }\n",
       "</style>\n",
       "<table border=\"1\" class=\"dataframe\">\n",
       "  <thead>\n",
       "    <tr style=\"text-align: right;\">\n",
       "      <th></th>\n",
       "      <th>movieId</th>\n",
       "      <th>tagId</th>\n",
       "      <th>relevance</th>\n",
       "      <th>tag</th>\n",
       "    </tr>\n",
       "  </thead>\n",
       "  <tbody>\n",
       "    <tr>\n",
       "      <th>0</th>\n",
       "      <td>1</td>\n",
       "      <td>1</td>\n",
       "      <td>0.02900</td>\n",
       "      <td>007</td>\n",
       "    </tr>\n",
       "    <tr>\n",
       "      <th>1</th>\n",
       "      <td>2</td>\n",
       "      <td>1</td>\n",
       "      <td>0.03625</td>\n",
       "      <td>007</td>\n",
       "    </tr>\n",
       "    <tr>\n",
       "      <th>2</th>\n",
       "      <td>3</td>\n",
       "      <td>1</td>\n",
       "      <td>0.04150</td>\n",
       "      <td>007</td>\n",
       "    </tr>\n",
       "    <tr>\n",
       "      <th>3</th>\n",
       "      <td>4</td>\n",
       "      <td>1</td>\n",
       "      <td>0.03350</td>\n",
       "      <td>007</td>\n",
       "    </tr>\n",
       "    <tr>\n",
       "      <th>4</th>\n",
       "      <td>5</td>\n",
       "      <td>1</td>\n",
       "      <td>0.04050</td>\n",
       "      <td>007</td>\n",
       "    </tr>\n",
       "  </tbody>\n",
       "</table>\n",
       "</div>"
      ],
      "text/plain": [
       "   movieId  tagId  relevance  tag\n",
       "0        1      1    0.02900  007\n",
       "1        2      1    0.03625  007\n",
       "2        3      1    0.04150  007\n",
       "3        4      1    0.03350  007\n",
       "4        5      1    0.04050  007"
      ]
     },
     "execution_count": 42,
     "metadata": {},
     "output_type": "execute_result"
    },
    {
     "data": {
      "application/javascript": [
       "\n",
       "            setTimeout(function() {\n",
       "                var nbb_cell_id = 42;\n",
       "                var nbb_unformatted_code = \"## Let's combine them.\\ntag_Id_name = pd.merge(scores, g_tags, how=\\\"inner\\\", on=[\\\"tagId\\\"])\\ntag_Id_name.head()\";\n",
       "                var nbb_formatted_code = \"## Let's combine them.\\ntag_Id_name = pd.merge(scores, g_tags, how=\\\"inner\\\", on=[\\\"tagId\\\"])\\ntag_Id_name.head()\";\n",
       "                var nbb_cells = Jupyter.notebook.get_cells();\n",
       "                for (var i = 0; i < nbb_cells.length; ++i) {\n",
       "                    if (nbb_cells[i].input_prompt_number == nbb_cell_id) {\n",
       "                        if (nbb_cells[i].get_text() == nbb_unformatted_code) {\n",
       "                             nbb_cells[i].set_text(nbb_formatted_code);\n",
       "                        }\n",
       "                        break;\n",
       "                    }\n",
       "                }\n",
       "            }, 500);\n",
       "            "
      ],
      "text/plain": [
       "<IPython.core.display.Javascript object>"
      ]
     },
     "metadata": {},
     "output_type": "display_data"
    }
   ],
   "source": [
    "## Let's combine them.\n",
    "tag_Id_name = pd.merge(scores, g_tags, how=\"inner\", on=[\"tagId\"])\n",
    "tag_Id_name.head()"
   ]
  },
  {
   "cell_type": "code",
   "execution_count": 43,
   "id": "095b1a1d",
   "metadata": {},
   "outputs": [
    {
     "data": {
      "text/plain": [
       "movieId      0\n",
       "tagId        0\n",
       "relevance    0\n",
       "tag          0\n",
       "dtype: int64"
      ]
     },
     "execution_count": 43,
     "metadata": {},
     "output_type": "execute_result"
    },
    {
     "data": {
      "application/javascript": [
       "\n",
       "            setTimeout(function() {\n",
       "                var nbb_cell_id = 43;\n",
       "                var nbb_unformatted_code = \"tag_Id_name.isna().sum()\";\n",
       "                var nbb_formatted_code = \"tag_Id_name.isna().sum()\";\n",
       "                var nbb_cells = Jupyter.notebook.get_cells();\n",
       "                for (var i = 0; i < nbb_cells.length; ++i) {\n",
       "                    if (nbb_cells[i].input_prompt_number == nbb_cell_id) {\n",
       "                        if (nbb_cells[i].get_text() == nbb_unformatted_code) {\n",
       "                             nbb_cells[i].set_text(nbb_formatted_code);\n",
       "                        }\n",
       "                        break;\n",
       "                    }\n",
       "                }\n",
       "            }, 500);\n",
       "            "
      ],
      "text/plain": [
       "<IPython.core.display.Javascript object>"
      ]
     },
     "metadata": {},
     "output_type": "display_data"
    }
   ],
   "source": [
    "tag_Id_name.isna().sum()"
   ]
  },
  {
   "cell_type": "markdown",
   "id": "1e36ddbc",
   "metadata": {},
   "source": [
    "#### Now, let's review the three combined tables."
   ]
  },
  {
   "cell_type": "code",
   "execution_count": 44,
   "id": "7a4332eb",
   "metadata": {},
   "outputs": [
    {
     "data": {
      "text/html": [
       "<div>\n",
       "<style scoped>\n",
       "    .dataframe tbody tr th:only-of-type {\n",
       "        vertical-align: middle;\n",
       "    }\n",
       "\n",
       "    .dataframe tbody tr th {\n",
       "        vertical-align: top;\n",
       "    }\n",
       "\n",
       "    .dataframe thead th {\n",
       "        text-align: right;\n",
       "    }\n",
       "</style>\n",
       "<table border=\"1\" class=\"dataframe\">\n",
       "  <thead>\n",
       "    <tr style=\"text-align: right;\">\n",
       "      <th></th>\n",
       "      <th>movieId</th>\n",
       "      <th>imdbId</th>\n",
       "      <th>tmdbId</th>\n",
       "      <th>title</th>\n",
       "      <th>genres</th>\n",
       "    </tr>\n",
       "  </thead>\n",
       "  <tbody>\n",
       "    <tr>\n",
       "      <th>0</th>\n",
       "      <td>1</td>\n",
       "      <td>114709</td>\n",
       "      <td>862.0</td>\n",
       "      <td>Toy Story (1995)</td>\n",
       "      <td>Adventure|Animation|Children|Comedy|Fantasy</td>\n",
       "    </tr>\n",
       "    <tr>\n",
       "      <th>1</th>\n",
       "      <td>2</td>\n",
       "      <td>113497</td>\n",
       "      <td>8844.0</td>\n",
       "      <td>Jumanji (1995)</td>\n",
       "      <td>Adventure|Children|Fantasy</td>\n",
       "    </tr>\n",
       "    <tr>\n",
       "      <th>2</th>\n",
       "      <td>3</td>\n",
       "      <td>113228</td>\n",
       "      <td>15602.0</td>\n",
       "      <td>Grumpier Old Men (1995)</td>\n",
       "      <td>Comedy|Romance</td>\n",
       "    </tr>\n",
       "    <tr>\n",
       "      <th>3</th>\n",
       "      <td>4</td>\n",
       "      <td>114885</td>\n",
       "      <td>31357.0</td>\n",
       "      <td>Waiting to Exhale (1995)</td>\n",
       "      <td>Comedy|Drama|Romance</td>\n",
       "    </tr>\n",
       "    <tr>\n",
       "      <th>4</th>\n",
       "      <td>5</td>\n",
       "      <td>113041</td>\n",
       "      <td>11862.0</td>\n",
       "      <td>Father of the Bride Part II (1995)</td>\n",
       "      <td>Comedy</td>\n",
       "    </tr>\n",
       "  </tbody>\n",
       "</table>\n",
       "</div>"
      ],
      "text/plain": [
       "   movieId  imdbId   tmdbId                               title  \\\n",
       "0        1  114709    862.0                    Toy Story (1995)   \n",
       "1        2  113497   8844.0                      Jumanji (1995)   \n",
       "2        3  113228  15602.0             Grumpier Old Men (1995)   \n",
       "3        4  114885  31357.0            Waiting to Exhale (1995)   \n",
       "4        5  113041  11862.0  Father of the Bride Part II (1995)   \n",
       "\n",
       "                                        genres  \n",
       "0  Adventure|Animation|Children|Comedy|Fantasy  \n",
       "1                   Adventure|Children|Fantasy  \n",
       "2                               Comedy|Romance  \n",
       "3                         Comedy|Drama|Romance  \n",
       "4                                       Comedy  "
      ]
     },
     "execution_count": 44,
     "metadata": {},
     "output_type": "execute_result"
    },
    {
     "data": {
      "application/javascript": [
       "\n",
       "            setTimeout(function() {\n",
       "                var nbb_cell_id = 44;\n",
       "                var nbb_unformatted_code = \"all_movies.head()\";\n",
       "                var nbb_formatted_code = \"all_movies.head()\";\n",
       "                var nbb_cells = Jupyter.notebook.get_cells();\n",
       "                for (var i = 0; i < nbb_cells.length; ++i) {\n",
       "                    if (nbb_cells[i].input_prompt_number == nbb_cell_id) {\n",
       "                        if (nbb_cells[i].get_text() == nbb_unformatted_code) {\n",
       "                             nbb_cells[i].set_text(nbb_formatted_code);\n",
       "                        }\n",
       "                        break;\n",
       "                    }\n",
       "                }\n",
       "            }, 500);\n",
       "            "
      ],
      "text/plain": [
       "<IPython.core.display.Javascript object>"
      ]
     },
     "metadata": {},
     "output_type": "display_data"
    }
   ],
   "source": [
    "all_movies.head()"
   ]
  },
  {
   "cell_type": "code",
   "execution_count": 45,
   "id": "8cd7d797",
   "metadata": {},
   "outputs": [
    {
     "data": {
      "text/plain": [
       "(58098, 5)"
      ]
     },
     "execution_count": 45,
     "metadata": {},
     "output_type": "execute_result"
    },
    {
     "data": {
      "application/javascript": [
       "\n",
       "            setTimeout(function() {\n",
       "                var nbb_cell_id = 45;\n",
       "                var nbb_unformatted_code = \"all_movies.shape\";\n",
       "                var nbb_formatted_code = \"all_movies.shape\";\n",
       "                var nbb_cells = Jupyter.notebook.get_cells();\n",
       "                for (var i = 0; i < nbb_cells.length; ++i) {\n",
       "                    if (nbb_cells[i].input_prompt_number == nbb_cell_id) {\n",
       "                        if (nbb_cells[i].get_text() == nbb_unformatted_code) {\n",
       "                             nbb_cells[i].set_text(nbb_formatted_code);\n",
       "                        }\n",
       "                        break;\n",
       "                    }\n",
       "                }\n",
       "            }, 500);\n",
       "            "
      ],
      "text/plain": [
       "<IPython.core.display.Javascript object>"
      ]
     },
     "metadata": {},
     "output_type": "display_data"
    }
   ],
   "source": [
    "all_movies.shape"
   ]
  },
  {
   "cell_type": "code",
   "execution_count": 46,
   "id": "e749f185",
   "metadata": {},
   "outputs": [
    {
     "data": {
      "text/html": [
       "<div>\n",
       "<style scoped>\n",
       "    .dataframe tbody tr th:only-of-type {\n",
       "        vertical-align: middle;\n",
       "    }\n",
       "\n",
       "    .dataframe tbody tr th {\n",
       "        vertical-align: top;\n",
       "    }\n",
       "\n",
       "    .dataframe thead th {\n",
       "        text-align: right;\n",
       "    }\n",
       "</style>\n",
       "<table border=\"1\" class=\"dataframe\">\n",
       "  <thead>\n",
       "    <tr style=\"text-align: right;\">\n",
       "      <th></th>\n",
       "      <th>userId</th>\n",
       "      <th>movieId</th>\n",
       "      <th>rating</th>\n",
       "      <th>timestamp</th>\n",
       "      <th>tag</th>\n",
       "    </tr>\n",
       "  </thead>\n",
       "  <tbody>\n",
       "    <tr>\n",
       "      <th>0</th>\n",
       "      <td>1</td>\n",
       "      <td>307</td>\n",
       "      <td>3.5</td>\n",
       "      <td>1.256677e+09</td>\n",
       "      <td>NaN</td>\n",
       "    </tr>\n",
       "    <tr>\n",
       "      <th>1</th>\n",
       "      <td>1</td>\n",
       "      <td>481</td>\n",
       "      <td>3.5</td>\n",
       "      <td>1.256677e+09</td>\n",
       "      <td>NaN</td>\n",
       "    </tr>\n",
       "    <tr>\n",
       "      <th>2</th>\n",
       "      <td>1</td>\n",
       "      <td>1091</td>\n",
       "      <td>1.5</td>\n",
       "      <td>1.256677e+09</td>\n",
       "      <td>NaN</td>\n",
       "    </tr>\n",
       "    <tr>\n",
       "      <th>3</th>\n",
       "      <td>1</td>\n",
       "      <td>1257</td>\n",
       "      <td>4.5</td>\n",
       "      <td>1.256677e+09</td>\n",
       "      <td>NaN</td>\n",
       "    </tr>\n",
       "    <tr>\n",
       "      <th>4</th>\n",
       "      <td>1</td>\n",
       "      <td>1449</td>\n",
       "      <td>4.5</td>\n",
       "      <td>1.256677e+09</td>\n",
       "      <td>NaN</td>\n",
       "    </tr>\n",
       "  </tbody>\n",
       "</table>\n",
       "</div>"
      ],
      "text/plain": [
       "   userId  movieId  rating     timestamp  tag\n",
       "0       1      307     3.5  1.256677e+09  NaN\n",
       "1       1      481     3.5  1.256677e+09  NaN\n",
       "2       1     1091     1.5  1.256677e+09  NaN\n",
       "3       1     1257     4.5  1.256677e+09  NaN\n",
       "4       1     1449     4.5  1.256677e+09  NaN"
      ]
     },
     "execution_count": 46,
     "metadata": {},
     "output_type": "execute_result"
    },
    {
     "data": {
      "application/javascript": [
       "\n",
       "            setTimeout(function() {\n",
       "                var nbb_cell_id = 46;\n",
       "                var nbb_unformatted_code = \"rating_tag.head()\";\n",
       "                var nbb_formatted_code = \"rating_tag.head()\";\n",
       "                var nbb_cells = Jupyter.notebook.get_cells();\n",
       "                for (var i = 0; i < nbb_cells.length; ++i) {\n",
       "                    if (nbb_cells[i].input_prompt_number == nbb_cell_id) {\n",
       "                        if (nbb_cells[i].get_text() == nbb_unformatted_code) {\n",
       "                             nbb_cells[i].set_text(nbb_formatted_code);\n",
       "                        }\n",
       "                        break;\n",
       "                    }\n",
       "                }\n",
       "            }, 500);\n",
       "            "
      ],
      "text/plain": [
       "<IPython.core.display.Javascript object>"
      ]
     },
     "metadata": {},
     "output_type": "display_data"
    }
   ],
   "source": [
    "rating_tag.head()"
   ]
  },
  {
   "cell_type": "code",
   "execution_count": 47,
   "id": "f75d9646",
   "metadata": {},
   "outputs": [
    {
     "data": {
      "text/plain": [
       "(28642001, 5)"
      ]
     },
     "execution_count": 47,
     "metadata": {},
     "output_type": "execute_result"
    },
    {
     "data": {
      "application/javascript": [
       "\n",
       "            setTimeout(function() {\n",
       "                var nbb_cell_id = 47;\n",
       "                var nbb_unformatted_code = \"rating_tag.shape\";\n",
       "                var nbb_formatted_code = \"rating_tag.shape\";\n",
       "                var nbb_cells = Jupyter.notebook.get_cells();\n",
       "                for (var i = 0; i < nbb_cells.length; ++i) {\n",
       "                    if (nbb_cells[i].input_prompt_number == nbb_cell_id) {\n",
       "                        if (nbb_cells[i].get_text() == nbb_unformatted_code) {\n",
       "                             nbb_cells[i].set_text(nbb_formatted_code);\n",
       "                        }\n",
       "                        break;\n",
       "                    }\n",
       "                }\n",
       "            }, 500);\n",
       "            "
      ],
      "text/plain": [
       "<IPython.core.display.Javascript object>"
      ]
     },
     "metadata": {},
     "output_type": "display_data"
    }
   ],
   "source": [
    "rating_tag.shape"
   ]
  },
  {
   "cell_type": "code",
   "execution_count": 48,
   "id": "5601ffc5",
   "metadata": {},
   "outputs": [
    {
     "data": {
      "text/html": [
       "<div>\n",
       "<style scoped>\n",
       "    .dataframe tbody tr th:only-of-type {\n",
       "        vertical-align: middle;\n",
       "    }\n",
       "\n",
       "    .dataframe tbody tr th {\n",
       "        vertical-align: top;\n",
       "    }\n",
       "\n",
       "    .dataframe thead th {\n",
       "        text-align: right;\n",
       "    }\n",
       "</style>\n",
       "<table border=\"1\" class=\"dataframe\">\n",
       "  <thead>\n",
       "    <tr style=\"text-align: right;\">\n",
       "      <th></th>\n",
       "      <th>movieId</th>\n",
       "      <th>tagId</th>\n",
       "      <th>relevance</th>\n",
       "      <th>tag</th>\n",
       "    </tr>\n",
       "  </thead>\n",
       "  <tbody>\n",
       "    <tr>\n",
       "      <th>0</th>\n",
       "      <td>1</td>\n",
       "      <td>1</td>\n",
       "      <td>0.02900</td>\n",
       "      <td>007</td>\n",
       "    </tr>\n",
       "    <tr>\n",
       "      <th>1</th>\n",
       "      <td>2</td>\n",
       "      <td>1</td>\n",
       "      <td>0.03625</td>\n",
       "      <td>007</td>\n",
       "    </tr>\n",
       "    <tr>\n",
       "      <th>2</th>\n",
       "      <td>3</td>\n",
       "      <td>1</td>\n",
       "      <td>0.04150</td>\n",
       "      <td>007</td>\n",
       "    </tr>\n",
       "    <tr>\n",
       "      <th>3</th>\n",
       "      <td>4</td>\n",
       "      <td>1</td>\n",
       "      <td>0.03350</td>\n",
       "      <td>007</td>\n",
       "    </tr>\n",
       "    <tr>\n",
       "      <th>4</th>\n",
       "      <td>5</td>\n",
       "      <td>1</td>\n",
       "      <td>0.04050</td>\n",
       "      <td>007</td>\n",
       "    </tr>\n",
       "  </tbody>\n",
       "</table>\n",
       "</div>"
      ],
      "text/plain": [
       "   movieId  tagId  relevance  tag\n",
       "0        1      1    0.02900  007\n",
       "1        2      1    0.03625  007\n",
       "2        3      1    0.04150  007\n",
       "3        4      1    0.03350  007\n",
       "4        5      1    0.04050  007"
      ]
     },
     "execution_count": 48,
     "metadata": {},
     "output_type": "execute_result"
    },
    {
     "data": {
      "application/javascript": [
       "\n",
       "            setTimeout(function() {\n",
       "                var nbb_cell_id = 48;\n",
       "                var nbb_unformatted_code = \"tag_Id_name.head()\";\n",
       "                var nbb_formatted_code = \"tag_Id_name.head()\";\n",
       "                var nbb_cells = Jupyter.notebook.get_cells();\n",
       "                for (var i = 0; i < nbb_cells.length; ++i) {\n",
       "                    if (nbb_cells[i].input_prompt_number == nbb_cell_id) {\n",
       "                        if (nbb_cells[i].get_text() == nbb_unformatted_code) {\n",
       "                             nbb_cells[i].set_text(nbb_formatted_code);\n",
       "                        }\n",
       "                        break;\n",
       "                    }\n",
       "                }\n",
       "            }, 500);\n",
       "            "
      ],
      "text/plain": [
       "<IPython.core.display.Javascript object>"
      ]
     },
     "metadata": {},
     "output_type": "display_data"
    }
   ],
   "source": [
    "tag_Id_name.head()"
   ]
  },
  {
   "cell_type": "code",
   "execution_count": 49,
   "id": "2f4bfcf5",
   "metadata": {},
   "outputs": [
    {
     "data": {
      "text/plain": [
       "(14862528, 4)"
      ]
     },
     "execution_count": 49,
     "metadata": {},
     "output_type": "execute_result"
    },
    {
     "data": {
      "application/javascript": [
       "\n",
       "            setTimeout(function() {\n",
       "                var nbb_cell_id = 49;\n",
       "                var nbb_unformatted_code = \"tag_Id_name.shape\";\n",
       "                var nbb_formatted_code = \"tag_Id_name.shape\";\n",
       "                var nbb_cells = Jupyter.notebook.get_cells();\n",
       "                for (var i = 0; i < nbb_cells.length; ++i) {\n",
       "                    if (nbb_cells[i].input_prompt_number == nbb_cell_id) {\n",
       "                        if (nbb_cells[i].get_text() == nbb_unformatted_code) {\n",
       "                             nbb_cells[i].set_text(nbb_formatted_code);\n",
       "                        }\n",
       "                        break;\n",
       "                    }\n",
       "                }\n",
       "            }, 500);\n",
       "            "
      ],
      "text/plain": [
       "<IPython.core.display.Javascript object>"
      ]
     },
     "metadata": {},
     "output_type": "display_data"
    }
   ],
   "source": [
    "tag_Id_name.shape"
   ]
  },
  {
   "cell_type": "markdown",
   "id": "06f1c71f",
   "metadata": {},
   "source": [
    "* Now we want to combine the above three tables."
   ]
  },
  {
   "cell_type": "code",
   "execution_count": 50,
   "id": "20a29621",
   "metadata": {},
   "outputs": [
    {
     "data": {
      "text/plain": [
       "array([ True, False])"
      ]
     },
     "execution_count": 50,
     "metadata": {},
     "output_type": "execute_result"
    },
    {
     "data": {
      "application/javascript": [
       "\n",
       "            setTimeout(function() {\n",
       "                var nbb_cell_id = 50;\n",
       "                var nbb_unformatted_code = \"if_include4 = rating_tag[\\\"movieId\\\"].isin(tag_Id_name[\\\"movieId\\\"])\\nif_include4.unique()\";\n",
       "                var nbb_formatted_code = \"if_include4 = rating_tag[\\\"movieId\\\"].isin(tag_Id_name[\\\"movieId\\\"])\\nif_include4.unique()\";\n",
       "                var nbb_cells = Jupyter.notebook.get_cells();\n",
       "                for (var i = 0; i < nbb_cells.length; ++i) {\n",
       "                    if (nbb_cells[i].input_prompt_number == nbb_cell_id) {\n",
       "                        if (nbb_cells[i].get_text() == nbb_unformatted_code) {\n",
       "                             nbb_cells[i].set_text(nbb_formatted_code);\n",
       "                        }\n",
       "                        break;\n",
       "                    }\n",
       "                }\n",
       "            }, 500);\n",
       "            "
      ],
      "text/plain": [
       "<IPython.core.display.Javascript object>"
      ]
     },
     "metadata": {},
     "output_type": "display_data"
    }
   ],
   "source": [
    "if_include4 = rating_tag[\"movieId\"].isin(tag_Id_name[\"movieId\"])\n",
    "if_include4.unique()"
   ]
  },
  {
   "cell_type": "markdown",
   "id": "5d840da1",
   "metadata": {},
   "source": [
    "* tag_Id_name's movieId does not completely contain rating_tag's movieId, so use outer to join."
   ]
  },
  {
   "cell_type": "code",
   "execution_count": 51,
   "id": "8230b5f0",
   "metadata": {},
   "outputs": [
    {
     "data": {
      "application/javascript": [
       "\n",
       "            setTimeout(function() {\n",
       "                var nbb_cell_id = 51;\n",
       "                var nbb_unformatted_code = \"# df = pd.merge(tag_Id_name, rating_tag, how=\\\"outer\\\", on=[\\\"movieId\\\"])\\n# df.head()\\n## When I was trying to run this cell, python showed me hung kernel.\\n## So, after that I searched on the webiste, someone suggested to use Pyspark.\";\n",
       "                var nbb_formatted_code = \"# df = pd.merge(tag_Id_name, rating_tag, how=\\\"outer\\\", on=[\\\"movieId\\\"])\\n# df.head()\\n## When I was trying to run this cell, python showed me hung kernel.\\n## So, after that I searched on the webiste, someone suggested to use Pyspark.\";\n",
       "                var nbb_cells = Jupyter.notebook.get_cells();\n",
       "                for (var i = 0; i < nbb_cells.length; ++i) {\n",
       "                    if (nbb_cells[i].input_prompt_number == nbb_cell_id) {\n",
       "                        if (nbb_cells[i].get_text() == nbb_unformatted_code) {\n",
       "                             nbb_cells[i].set_text(nbb_formatted_code);\n",
       "                        }\n",
       "                        break;\n",
       "                    }\n",
       "                }\n",
       "            }, 500);\n",
       "            "
      ],
      "text/plain": [
       "<IPython.core.display.Javascript object>"
      ]
     },
     "metadata": {},
     "output_type": "display_data"
    }
   ],
   "source": [
    "# df = pd.merge(tag_Id_name, rating_tag, how=\"outer\", on=[\"movieId\"])\n",
    "# df.head()\n",
    "## When I was trying to run this cell, python showed me hung kernel.\n",
    "## So, after that I searched on the webiste, someone suggested to use Pyspark."
   ]
  },
  {
   "cell_type": "markdown",
   "id": "7ea9c064",
   "metadata": {},
   "source": [
    "* Spend a long time to figure out how to build environment of pyspark........"
   ]
  },
  {
   "cell_type": "code",
   "execution_count": 52,
   "id": "7fb6b150",
   "metadata": {},
   "outputs": [
    {
     "name": "stdout",
     "output_type": "stream",
     "text": [
      "Requirement already satisfied: pyspark in /Users/yuchenwang/opt/anaconda3/lib/python3.9/site-packages (3.3.0)\r\n",
      "Requirement already satisfied: py4j==0.10.9.5 in /Users/yuchenwang/opt/anaconda3/lib/python3.9/site-packages (from pyspark) (0.10.9.5)\r\n"
     ]
    },
    {
     "data": {
      "application/javascript": [
       "\n",
       "            setTimeout(function() {\n",
       "                var nbb_cell_id = 52;\n",
       "                var nbb_unformatted_code = \"## Install pyspark\\n!pip install pyspark\\nimport pyspark\";\n",
       "                var nbb_formatted_code = \"## Install pyspark\\n!pip install pyspark\\nimport pyspark\";\n",
       "                var nbb_cells = Jupyter.notebook.get_cells();\n",
       "                for (var i = 0; i < nbb_cells.length; ++i) {\n",
       "                    if (nbb_cells[i].input_prompt_number == nbb_cell_id) {\n",
       "                        if (nbb_cells[i].get_text() == nbb_unformatted_code) {\n",
       "                             nbb_cells[i].set_text(nbb_formatted_code);\n",
       "                        }\n",
       "                        break;\n",
       "                    }\n",
       "                }\n",
       "            }, 500);\n",
       "            "
      ],
      "text/plain": [
       "<IPython.core.display.Javascript object>"
      ]
     },
     "metadata": {},
     "output_type": "display_data"
    }
   ],
   "source": [
    "## Install pyspark\n",
    "!pip install pyspark\n",
    "import pyspark"
   ]
  },
  {
   "cell_type": "code",
   "execution_count": 53,
   "id": "5433a4f3",
   "metadata": {},
   "outputs": [
    {
     "name": "stderr",
     "output_type": "stream",
     "text": [
      "Setting default log level to \"WARN\".\n",
      "To adjust logging level use sc.setLogLevel(newLevel). For SparkR, use setLogLevel(newLevel).\n"
     ]
    },
    {
     "name": "stdout",
     "output_type": "stream",
     "text": [
      "22/09/12 16:18:49 WARN NativeCodeLoader: Unable to load native-hadoop library for your platform... using builtin-java classes where applicable\n"
     ]
    },
    {
     "data": {
      "application/javascript": [
       "\n",
       "            setTimeout(function() {\n",
       "                var nbb_cell_id = 53;\n",
       "                var nbb_unformatted_code = \"from pyspark.sql import SparkSession\\n\\nspark = SparkSession.builder.appName(\\\"pandas to spark\\\").getOrCreate()\";\n",
       "                var nbb_formatted_code = \"from pyspark.sql import SparkSession\\n\\nspark = SparkSession.builder.appName(\\\"pandas to spark\\\").getOrCreate()\";\n",
       "                var nbb_cells = Jupyter.notebook.get_cells();\n",
       "                for (var i = 0; i < nbb_cells.length; ++i) {\n",
       "                    if (nbb_cells[i].input_prompt_number == nbb_cell_id) {\n",
       "                        if (nbb_cells[i].get_text() == nbb_unformatted_code) {\n",
       "                             nbb_cells[i].set_text(nbb_formatted_code);\n",
       "                        }\n",
       "                        break;\n",
       "                    }\n",
       "                }\n",
       "            }, 500);\n",
       "            "
      ],
      "text/plain": [
       "<IPython.core.display.Javascript object>"
      ]
     },
     "metadata": {},
     "output_type": "display_data"
    }
   ],
   "source": [
    "from pyspark.sql import SparkSession\n",
    "\n",
    "spark = SparkSession.builder.appName(\"pandas to spark\").getOrCreate()"
   ]
  },
  {
   "cell_type": "markdown",
   "id": "79785700",
   "metadata": {},
   "source": [
    "#### Convert pandas dataframe into spark dataframe"
   ]
  },
  {
   "cell_type": "markdown",
   "id": "9b207d5c",
   "metadata": {},
   "source": [
    "* I can use below function to convert pandas df to pyspark df, but it may kill python (got some warnings from python)"
   ]
  },
  {
   "cell_type": "code",
   "execution_count": 54,
   "id": "a44d395c",
   "metadata": {},
   "outputs": [
    {
     "data": {
      "application/javascript": [
       "\n",
       "            setTimeout(function() {\n",
       "                var nbb_cell_id = 54;\n",
       "                var nbb_unformatted_code = \"## all_movies_spark = spark.createDataFrame(all_movies)\";\n",
       "                var nbb_formatted_code = \"## all_movies_spark = spark.createDataFrame(all_movies)\";\n",
       "                var nbb_cells = Jupyter.notebook.get_cells();\n",
       "                for (var i = 0; i < nbb_cells.length; ++i) {\n",
       "                    if (nbb_cells[i].input_prompt_number == nbb_cell_id) {\n",
       "                        if (nbb_cells[i].get_text() == nbb_unformatted_code) {\n",
       "                             nbb_cells[i].set_text(nbb_formatted_code);\n",
       "                        }\n",
       "                        break;\n",
       "                    }\n",
       "                }\n",
       "            }, 500);\n",
       "            "
      ],
      "text/plain": [
       "<IPython.core.display.Javascript object>"
      ]
     },
     "metadata": {},
     "output_type": "display_data"
    }
   ],
   "source": [
    "## all_movies_spark = spark.createDataFrame(all_movies)"
   ]
  },
  {
   "cell_type": "code",
   "execution_count": 55,
   "id": "921e9565",
   "metadata": {},
   "outputs": [
    {
     "data": {
      "application/javascript": [
       "\n",
       "            setTimeout(function() {\n",
       "                var nbb_cell_id = 55;\n",
       "                var nbb_unformatted_code = \"## all_movies_spark.show()\";\n",
       "                var nbb_formatted_code = \"## all_movies_spark.show()\";\n",
       "                var nbb_cells = Jupyter.notebook.get_cells();\n",
       "                for (var i = 0; i < nbb_cells.length; ++i) {\n",
       "                    if (nbb_cells[i].input_prompt_number == nbb_cell_id) {\n",
       "                        if (nbb_cells[i].get_text() == nbb_unformatted_code) {\n",
       "                             nbb_cells[i].set_text(nbb_formatted_code);\n",
       "                        }\n",
       "                        break;\n",
       "                    }\n",
       "                }\n",
       "            }, 500);\n",
       "            "
      ],
      "text/plain": [
       "<IPython.core.display.Javascript object>"
      ]
     },
     "metadata": {},
     "output_type": "display_data"
    }
   ],
   "source": [
    "## all_movies_spark.show()"
   ]
  },
  {
   "cell_type": "code",
   "execution_count": 56,
   "id": "46dac2c1",
   "metadata": {},
   "outputs": [
    {
     "data": {
      "application/javascript": [
       "\n",
       "            setTimeout(function() {\n",
       "                var nbb_cell_id = 56;\n",
       "                var nbb_unformatted_code = \"## type(all_movies_spark)\";\n",
       "                var nbb_formatted_code = \"## type(all_movies_spark)\";\n",
       "                var nbb_cells = Jupyter.notebook.get_cells();\n",
       "                for (var i = 0; i < nbb_cells.length; ++i) {\n",
       "                    if (nbb_cells[i].input_prompt_number == nbb_cell_id) {\n",
       "                        if (nbb_cells[i].get_text() == nbb_unformatted_code) {\n",
       "                             nbb_cells[i].set_text(nbb_formatted_code);\n",
       "                        }\n",
       "                        break;\n",
       "                    }\n",
       "                }\n",
       "            }, 500);\n",
       "            "
      ],
      "text/plain": [
       "<IPython.core.display.Javascript object>"
      ]
     },
     "metadata": {},
     "output_type": "display_data"
    }
   ],
   "source": [
    "## type(all_movies_spark)"
   ]
  },
  {
   "cell_type": "markdown",
   "id": "17fa0306",
   "metadata": {},
   "source": [
    "* So, I will export the data first, and read them with pyspark directly, it will faster."
   ]
  },
  {
   "cell_type": "code",
   "execution_count": 57,
   "id": "72526884",
   "metadata": {},
   "outputs": [
    {
     "data": {
      "application/javascript": [
       "\n",
       "            setTimeout(function() {\n",
       "                var nbb_cell_id = 57;\n",
       "                var nbb_unformatted_code = \"all_movies.to_csv(\\n    \\\"/Users/yuchenwang/Desktop/YU/Fall22/Recommender System/Assignments/Assignment 2/all_movies.csv\\\",\\n    index=False,\\n)\";\n",
       "                var nbb_formatted_code = \"all_movies.to_csv(\\n    \\\"/Users/yuchenwang/Desktop/YU/Fall22/Recommender System/Assignments/Assignment 2/all_movies.csv\\\",\\n    index=False,\\n)\";\n",
       "                var nbb_cells = Jupyter.notebook.get_cells();\n",
       "                for (var i = 0; i < nbb_cells.length; ++i) {\n",
       "                    if (nbb_cells[i].input_prompt_number == nbb_cell_id) {\n",
       "                        if (nbb_cells[i].get_text() == nbb_unformatted_code) {\n",
       "                             nbb_cells[i].set_text(nbb_formatted_code);\n",
       "                        }\n",
       "                        break;\n",
       "                    }\n",
       "                }\n",
       "            }, 500);\n",
       "            "
      ],
      "text/plain": [
       "<IPython.core.display.Javascript object>"
      ]
     },
     "metadata": {},
     "output_type": "display_data"
    }
   ],
   "source": [
    "all_movies.to_csv(\n",
    "    \"/Users/yuchenwang/Desktop/YU/Fall22/Recommender System/Assignments/Assignment 2/all_movies.csv\",\n",
    "    index=False,\n",
    ")"
   ]
  },
  {
   "cell_type": "code",
   "execution_count": 58,
   "id": "3e93cf2d",
   "metadata": {},
   "outputs": [
    {
     "name": "stderr",
     "output_type": "stream",
     "text": [
      "                                                                                \r"
     ]
    },
    {
     "name": "stdout",
     "output_type": "stream",
     "text": [
      "+-------+------+-------+--------------------+--------------------+\n",
      "|movieId|imdbId| tmdbId|               title|              genres|\n",
      "+-------+------+-------+--------------------+--------------------+\n",
      "|      1|114709|  862.0|    Toy Story (1995)|Adventure|Animati...|\n",
      "|      2|113497| 8844.0|      Jumanji (1995)|Adventure|Childre...|\n",
      "|      3|113228|15602.0|Grumpier Old Men ...|      Comedy|Romance|\n",
      "|      4|114885|31357.0|Waiting to Exhale...|Comedy|Drama|Romance|\n",
      "|      5|113041|11862.0|Father of the Bri...|              Comedy|\n",
      "|      6|113277|  949.0|         Heat (1995)|Action|Crime|Thri...|\n",
      "|      7|114319|11860.0|      Sabrina (1995)|      Comedy|Romance|\n",
      "|      8|112302|45325.0| Tom and Huck (1995)|  Adventure|Children|\n",
      "|      9|114576| 9091.0| Sudden Death (1995)|              Action|\n",
      "|     10|113189|  710.0|    GoldenEye (1995)|Action|Adventure|...|\n",
      "|     11|112346| 9087.0|American Presiden...|Comedy|Drama|Romance|\n",
      "|     12|112896|12110.0|Dracula: Dead and...|       Comedy|Horror|\n",
      "|     13|112453|21032.0|        Balto (1995)|Adventure|Animati...|\n",
      "|     14|113987|10858.0|        Nixon (1995)|               Drama|\n",
      "|     15|112760| 1408.0|Cutthroat Island ...|Action|Adventure|...|\n",
      "|     16|112641|  524.0|       Casino (1995)|         Crime|Drama|\n",
      "|     17|114388| 4584.0|Sense and Sensibi...|       Drama|Romance|\n",
      "|     18|113101|    5.0|   Four Rooms (1995)|              Comedy|\n",
      "|     19|112281| 9273.0|Ace Ventura: When...|              Comedy|\n",
      "|     20|113845|11517.0|  Money Train (1995)|Action|Comedy|Cri...|\n",
      "+-------+------+-------+--------------------+--------------------+\n",
      "only showing top 20 rows\n",
      "\n"
     ]
    },
    {
     "data": {
      "application/javascript": [
       "\n",
       "            setTimeout(function() {\n",
       "                var nbb_cell_id = 58;\n",
       "                var nbb_unformatted_code = \"all_movies_spark = spark.read.option(\\\"header\\\", \\\"true\\\").csv(\\n    \\\"/Users/yuchenwang/Desktop/YU/Fall22/Recommender System/Assignments/Assignment 2/all_movies.csv\\\"\\n)\\nall_movies_spark.show()\";\n",
       "                var nbb_formatted_code = \"all_movies_spark = spark.read.option(\\\"header\\\", \\\"true\\\").csv(\\n    \\\"/Users/yuchenwang/Desktop/YU/Fall22/Recommender System/Assignments/Assignment 2/all_movies.csv\\\"\\n)\\nall_movies_spark.show()\";\n",
       "                var nbb_cells = Jupyter.notebook.get_cells();\n",
       "                for (var i = 0; i < nbb_cells.length; ++i) {\n",
       "                    if (nbb_cells[i].input_prompt_number == nbb_cell_id) {\n",
       "                        if (nbb_cells[i].get_text() == nbb_unformatted_code) {\n",
       "                             nbb_cells[i].set_text(nbb_formatted_code);\n",
       "                        }\n",
       "                        break;\n",
       "                    }\n",
       "                }\n",
       "            }, 500);\n",
       "            "
      ],
      "text/plain": [
       "<IPython.core.display.Javascript object>"
      ]
     },
     "metadata": {},
     "output_type": "display_data"
    }
   ],
   "source": [
    "all_movies_spark = spark.read.option(\"header\", \"true\").csv(\n",
    "    \"/Users/yuchenwang/Desktop/YU/Fall22/Recommender System/Assignments/Assignment 2/all_movies.csv\"\n",
    ")\n",
    "all_movies_spark.show()"
   ]
  },
  {
   "cell_type": "code",
   "execution_count": 59,
   "id": "a60986be",
   "metadata": {},
   "outputs": [
    {
     "data": {
      "text/plain": [
       "pyspark.sql.dataframe.DataFrame"
      ]
     },
     "execution_count": 59,
     "metadata": {},
     "output_type": "execute_result"
    },
    {
     "data": {
      "application/javascript": [
       "\n",
       "            setTimeout(function() {\n",
       "                var nbb_cell_id = 59;\n",
       "                var nbb_unformatted_code = \"type(all_movies_spark)\";\n",
       "                var nbb_formatted_code = \"type(all_movies_spark)\";\n",
       "                var nbb_cells = Jupyter.notebook.get_cells();\n",
       "                for (var i = 0; i < nbb_cells.length; ++i) {\n",
       "                    if (nbb_cells[i].input_prompt_number == nbb_cell_id) {\n",
       "                        if (nbb_cells[i].get_text() == nbb_unformatted_code) {\n",
       "                             nbb_cells[i].set_text(nbb_formatted_code);\n",
       "                        }\n",
       "                        break;\n",
       "                    }\n",
       "                }\n",
       "            }, 500);\n",
       "            "
      ],
      "text/plain": [
       "<IPython.core.display.Javascript object>"
      ]
     },
     "metadata": {},
     "output_type": "display_data"
    }
   ],
   "source": [
    "type(all_movies_spark)"
   ]
  },
  {
   "cell_type": "markdown",
   "id": "a27c514f",
   "metadata": {},
   "source": [
    "* I also tried to convert rating_tag into pyspark df directly, but I failed."
   ]
  },
  {
   "cell_type": "code",
   "execution_count": 60,
   "id": "87f8c0b9",
   "metadata": {},
   "outputs": [
    {
     "data": {
      "application/javascript": [
       "\n",
       "            setTimeout(function() {\n",
       "                var nbb_cell_id = 60;\n",
       "                var nbb_unformatted_code = \"## rating_tag[\\\"timestamp\\\"] = rating_tag[\\\"timestamp\\\"].astype(\\\"int64\\\")\";\n",
       "                var nbb_formatted_code = \"## rating_tag[\\\"timestamp\\\"] = rating_tag[\\\"timestamp\\\"].astype(\\\"int64\\\")\";\n",
       "                var nbb_cells = Jupyter.notebook.get_cells();\n",
       "                for (var i = 0; i < nbb_cells.length; ++i) {\n",
       "                    if (nbb_cells[i].input_prompt_number == nbb_cell_id) {\n",
       "                        if (nbb_cells[i].get_text() == nbb_unformatted_code) {\n",
       "                             nbb_cells[i].set_text(nbb_formatted_code);\n",
       "                        }\n",
       "                        break;\n",
       "                    }\n",
       "                }\n",
       "            }, 500);\n",
       "            "
      ],
      "text/plain": [
       "<IPython.core.display.Javascript object>"
      ]
     },
     "metadata": {},
     "output_type": "display_data"
    }
   ],
   "source": [
    "## rating_tag[\"timestamp\"] = rating_tag[\"timestamp\"].astype(\"int64\")"
   ]
  },
  {
   "cell_type": "code",
   "execution_count": 61,
   "id": "a314d1a6",
   "metadata": {},
   "outputs": [
    {
     "data": {
      "application/javascript": [
       "\n",
       "            setTimeout(function() {\n",
       "                var nbb_cell_id = 61;\n",
       "                var nbb_unformatted_code = \"##from pyspark.sql.types import *\\n\\n##mySchema = StructType(\\n# [\\n# StructField(\\\"userId\\\", IntegerType(), True),\\n# StructField(\\\"movieId\\\", IntegerType(), True),\\n# StructField(\\\"rating\\\", FloatType(), True),\\n# StructField(\\\"timestamp\\\", IntegerType(), True),\\n# StructField(\\\"tag\\\", StringType(), True),\\n# ]\\n# )\";\n",
       "                var nbb_formatted_code = \"##from pyspark.sql.types import *\\n\\n##mySchema = StructType(\\n# [\\n# StructField(\\\"userId\\\", IntegerType(), True),\\n# StructField(\\\"movieId\\\", IntegerType(), True),\\n# StructField(\\\"rating\\\", FloatType(), True),\\n# StructField(\\\"timestamp\\\", IntegerType(), True),\\n# StructField(\\\"tag\\\", StringType(), True),\\n# ]\\n# )\";\n",
       "                var nbb_cells = Jupyter.notebook.get_cells();\n",
       "                for (var i = 0; i < nbb_cells.length; ++i) {\n",
       "                    if (nbb_cells[i].input_prompt_number == nbb_cell_id) {\n",
       "                        if (nbb_cells[i].get_text() == nbb_unformatted_code) {\n",
       "                             nbb_cells[i].set_text(nbb_formatted_code);\n",
       "                        }\n",
       "                        break;\n",
       "                    }\n",
       "                }\n",
       "            }, 500);\n",
       "            "
      ],
      "text/plain": [
       "<IPython.core.display.Javascript object>"
      ]
     },
     "metadata": {},
     "output_type": "display_data"
    }
   ],
   "source": [
    "##from pyspark.sql.types import *\n",
    "\n",
    "##mySchema = StructType(\n",
    "# [\n",
    "# StructField(\"userId\", IntegerType(), True),\n",
    "# StructField(\"movieId\", IntegerType(), True),\n",
    "# StructField(\"rating\", FloatType(), True),\n",
    "# StructField(\"timestamp\", IntegerType(), True),\n",
    "# StructField(\"tag\", StringType(), True),\n",
    "# ]\n",
    "# )"
   ]
  },
  {
   "cell_type": "code",
   "execution_count": 62,
   "id": "b778e153",
   "metadata": {},
   "outputs": [
    {
     "data": {
      "application/javascript": [
       "\n",
       "            setTimeout(function() {\n",
       "                var nbb_cell_id = 62;\n",
       "                var nbb_unformatted_code = \"##rating_tag_spark = spark.createDataFrame(rating_tag, schema=mySchema)\";\n",
       "                var nbb_formatted_code = \"##rating_tag_spark = spark.createDataFrame(rating_tag, schema=mySchema)\";\n",
       "                var nbb_cells = Jupyter.notebook.get_cells();\n",
       "                for (var i = 0; i < nbb_cells.length; ++i) {\n",
       "                    if (nbb_cells[i].input_prompt_number == nbb_cell_id) {\n",
       "                        if (nbb_cells[i].get_text() == nbb_unformatted_code) {\n",
       "                             nbb_cells[i].set_text(nbb_formatted_code);\n",
       "                        }\n",
       "                        break;\n",
       "                    }\n",
       "                }\n",
       "            }, 500);\n",
       "            "
      ],
      "text/plain": [
       "<IPython.core.display.Javascript object>"
      ]
     },
     "metadata": {},
     "output_type": "display_data"
    }
   ],
   "source": [
    "##rating_tag_spark = spark.createDataFrame(rating_tag, schema=mySchema)"
   ]
  },
  {
   "cell_type": "markdown",
   "id": "9ef70b6b",
   "metadata": {},
   "source": [
    "* So, again, export and import.."
   ]
  },
  {
   "cell_type": "code",
   "execution_count": 63,
   "id": "2c170ecb",
   "metadata": {},
   "outputs": [
    {
     "data": {
      "application/javascript": [
       "\n",
       "            setTimeout(function() {\n",
       "                var nbb_cell_id = 63;\n",
       "                var nbb_unformatted_code = \"rating_tag.to_csv(\\n    \\\"/Users/yuchenwang/Desktop/YU/Fall22/Recommender System/Assignments/Assignment 2/rating_tag.csv\\\",\\n    index=False,\\n)\";\n",
       "                var nbb_formatted_code = \"rating_tag.to_csv(\\n    \\\"/Users/yuchenwang/Desktop/YU/Fall22/Recommender System/Assignments/Assignment 2/rating_tag.csv\\\",\\n    index=False,\\n)\";\n",
       "                var nbb_cells = Jupyter.notebook.get_cells();\n",
       "                for (var i = 0; i < nbb_cells.length; ++i) {\n",
       "                    if (nbb_cells[i].input_prompt_number == nbb_cell_id) {\n",
       "                        if (nbb_cells[i].get_text() == nbb_unformatted_code) {\n",
       "                             nbb_cells[i].set_text(nbb_formatted_code);\n",
       "                        }\n",
       "                        break;\n",
       "                    }\n",
       "                }\n",
       "            }, 500);\n",
       "            "
      ],
      "text/plain": [
       "<IPython.core.display.Javascript object>"
      ]
     },
     "metadata": {},
     "output_type": "display_data"
    }
   ],
   "source": [
    "rating_tag.to_csv(\n",
    "    \"/Users/yuchenwang/Desktop/YU/Fall22/Recommender System/Assignments/Assignment 2/rating_tag.csv\",\n",
    "    index=False,\n",
    ")"
   ]
  },
  {
   "cell_type": "code",
   "execution_count": 64,
   "id": "5977a645",
   "metadata": {},
   "outputs": [
    {
     "data": {
      "application/javascript": [
       "\n",
       "            setTimeout(function() {\n",
       "                var nbb_cell_id = 64;\n",
       "                var nbb_unformatted_code = \"rating_tag_spark = spark.read.option(\\\"header\\\", \\\"true\\\").csv(\\n    \\\"/Users/yuchenwang/Desktop/YU/Fall22/Recommender System/Assignments/Assignment 2/rating_tag.csv\\\"\\n)\";\n",
       "                var nbb_formatted_code = \"rating_tag_spark = spark.read.option(\\\"header\\\", \\\"true\\\").csv(\\n    \\\"/Users/yuchenwang/Desktop/YU/Fall22/Recommender System/Assignments/Assignment 2/rating_tag.csv\\\"\\n)\";\n",
       "                var nbb_cells = Jupyter.notebook.get_cells();\n",
       "                for (var i = 0; i < nbb_cells.length; ++i) {\n",
       "                    if (nbb_cells[i].input_prompt_number == nbb_cell_id) {\n",
       "                        if (nbb_cells[i].get_text() == nbb_unformatted_code) {\n",
       "                             nbb_cells[i].set_text(nbb_formatted_code);\n",
       "                        }\n",
       "                        break;\n",
       "                    }\n",
       "                }\n",
       "            }, 500);\n",
       "            "
      ],
      "text/plain": [
       "<IPython.core.display.Javascript object>"
      ]
     },
     "metadata": {},
     "output_type": "display_data"
    }
   ],
   "source": [
    "rating_tag_spark = spark.read.option(\"header\", \"true\").csv(\n",
    "    \"/Users/yuchenwang/Desktop/YU/Fall22/Recommender System/Assignments/Assignment 2/rating_tag.csv\"\n",
    ")"
   ]
  },
  {
   "cell_type": "code",
   "execution_count": 65,
   "id": "1a7175d6",
   "metadata": {},
   "outputs": [
    {
     "name": "stdout",
     "output_type": "stream",
     "text": [
      "+------+-------+------+------------+----+\n",
      "|userId|movieId|rating|   timestamp| tag|\n",
      "+------+-------+------+------------+----+\n",
      "|     1|    307|   3.5|1256677221.0|null|\n",
      "|     1|    481|   3.5|1256677456.0|null|\n",
      "|     1|   1091|   1.5|1256677471.0|null|\n",
      "|     1|   1257|   4.5|1256677460.0|null|\n",
      "|     1|   1449|   4.5|1256677264.0|null|\n",
      "|     1|   1590|   2.5|1256677236.0|null|\n",
      "|     1|   1591|   1.5|1256677475.0|null|\n",
      "|     1|   2134|   4.5|1256677464.0|null|\n",
      "|     1|   2478|   4.0|1256677239.0|null|\n",
      "|     1|   2840|   3.0|1256677500.0|null|\n",
      "|     1|   2986|   2.5|1256677496.0|null|\n",
      "|     1|   3020|   4.0|1256677260.0|null|\n",
      "|     1|   3424|   4.5|1256677444.0|null|\n",
      "|     1|   3698|   3.5|1256677243.0|null|\n",
      "|     1|   3826|   2.0|1256677210.0|null|\n",
      "|     1|   3893|   3.5|1256677486.0|null|\n",
      "|     2|    170|   3.5|1192913581.0|null|\n",
      "|     2|    849|   3.5|1192913537.0|null|\n",
      "|     2|   1186|   3.5|1192913611.0|null|\n",
      "|     2|   1235|   3.0|1192913585.0|null|\n",
      "+------+-------+------+------------+----+\n",
      "only showing top 20 rows\n",
      "\n"
     ]
    },
    {
     "data": {
      "application/javascript": [
       "\n",
       "            setTimeout(function() {\n",
       "                var nbb_cell_id = 65;\n",
       "                var nbb_unformatted_code = \"rating_tag_spark.show()\";\n",
       "                var nbb_formatted_code = \"rating_tag_spark.show()\";\n",
       "                var nbb_cells = Jupyter.notebook.get_cells();\n",
       "                for (var i = 0; i < nbb_cells.length; ++i) {\n",
       "                    if (nbb_cells[i].input_prompt_number == nbb_cell_id) {\n",
       "                        if (nbb_cells[i].get_text() == nbb_unformatted_code) {\n",
       "                             nbb_cells[i].set_text(nbb_formatted_code);\n",
       "                        }\n",
       "                        break;\n",
       "                    }\n",
       "                }\n",
       "            }, 500);\n",
       "            "
      ],
      "text/plain": [
       "<IPython.core.display.Javascript object>"
      ]
     },
     "metadata": {},
     "output_type": "display_data"
    }
   ],
   "source": [
    "rating_tag_spark.show()"
   ]
  },
  {
   "cell_type": "code",
   "execution_count": 66,
   "id": "2f8e9163",
   "metadata": {},
   "outputs": [
    {
     "data": {
      "text/plain": [
       "pyspark.sql.dataframe.DataFrame"
      ]
     },
     "execution_count": 66,
     "metadata": {},
     "output_type": "execute_result"
    },
    {
     "data": {
      "application/javascript": [
       "\n",
       "            setTimeout(function() {\n",
       "                var nbb_cell_id = 66;\n",
       "                var nbb_unformatted_code = \"type(rating_tag_spark)\";\n",
       "                var nbb_formatted_code = \"type(rating_tag_spark)\";\n",
       "                var nbb_cells = Jupyter.notebook.get_cells();\n",
       "                for (var i = 0; i < nbb_cells.length; ++i) {\n",
       "                    if (nbb_cells[i].input_prompt_number == nbb_cell_id) {\n",
       "                        if (nbb_cells[i].get_text() == nbb_unformatted_code) {\n",
       "                             nbb_cells[i].set_text(nbb_formatted_code);\n",
       "                        }\n",
       "                        break;\n",
       "                    }\n",
       "                }\n",
       "            }, 500);\n",
       "            "
      ],
      "text/plain": [
       "<IPython.core.display.Javascript object>"
      ]
     },
     "metadata": {},
     "output_type": "display_data"
    }
   ],
   "source": [
    "type(rating_tag_spark)"
   ]
  },
  {
   "cell_type": "markdown",
   "id": "be66ef5b",
   "metadata": {},
   "source": [
    "* Do the same on tag_Id_name."
   ]
  },
  {
   "cell_type": "code",
   "execution_count": 67,
   "id": "5023cca6",
   "metadata": {},
   "outputs": [
    {
     "data": {
      "application/javascript": [
       "\n",
       "            setTimeout(function() {\n",
       "                var nbb_cell_id = 67;\n",
       "                var nbb_unformatted_code = \"tag_Id_name.to_csv(\\n    \\\"/Users/yuchenwang/Desktop/YU/Fall22/Recommender System/Assignments/Assignment 2/tag_Id_name.csv\\\",\\n    index=False,\\n)\";\n",
       "                var nbb_formatted_code = \"tag_Id_name.to_csv(\\n    \\\"/Users/yuchenwang/Desktop/YU/Fall22/Recommender System/Assignments/Assignment 2/tag_Id_name.csv\\\",\\n    index=False,\\n)\";\n",
       "                var nbb_cells = Jupyter.notebook.get_cells();\n",
       "                for (var i = 0; i < nbb_cells.length; ++i) {\n",
       "                    if (nbb_cells[i].input_prompt_number == nbb_cell_id) {\n",
       "                        if (nbb_cells[i].get_text() == nbb_unformatted_code) {\n",
       "                             nbb_cells[i].set_text(nbb_formatted_code);\n",
       "                        }\n",
       "                        break;\n",
       "                    }\n",
       "                }\n",
       "            }, 500);\n",
       "            "
      ],
      "text/plain": [
       "<IPython.core.display.Javascript object>"
      ]
     },
     "metadata": {},
     "output_type": "display_data"
    }
   ],
   "source": [
    "tag_Id_name.to_csv(\n",
    "    \"/Users/yuchenwang/Desktop/YU/Fall22/Recommender System/Assignments/Assignment 2/tag_Id_name.csv\",\n",
    "    index=False,\n",
    ")"
   ]
  },
  {
   "cell_type": "code",
   "execution_count": 68,
   "id": "02e097b0",
   "metadata": {},
   "outputs": [
    {
     "data": {
      "application/javascript": [
       "\n",
       "            setTimeout(function() {\n",
       "                var nbb_cell_id = 68;\n",
       "                var nbb_unformatted_code = \"tag_Id_name_spark = spark.read.option(\\\"header\\\", \\\"true\\\").csv(\\n    \\\"/Users/yuchenwang/Desktop/YU/Fall22/Recommender System/Assignments/Assignment 2/tag_Id_name.csv\\\"\\n)\";\n",
       "                var nbb_formatted_code = \"tag_Id_name_spark = spark.read.option(\\\"header\\\", \\\"true\\\").csv(\\n    \\\"/Users/yuchenwang/Desktop/YU/Fall22/Recommender System/Assignments/Assignment 2/tag_Id_name.csv\\\"\\n)\";\n",
       "                var nbb_cells = Jupyter.notebook.get_cells();\n",
       "                for (var i = 0; i < nbb_cells.length; ++i) {\n",
       "                    if (nbb_cells[i].input_prompt_number == nbb_cell_id) {\n",
       "                        if (nbb_cells[i].get_text() == nbb_unformatted_code) {\n",
       "                             nbb_cells[i].set_text(nbb_formatted_code);\n",
       "                        }\n",
       "                        break;\n",
       "                    }\n",
       "                }\n",
       "            }, 500);\n",
       "            "
      ],
      "text/plain": [
       "<IPython.core.display.Javascript object>"
      ]
     },
     "metadata": {},
     "output_type": "display_data"
    }
   ],
   "source": [
    "tag_Id_name_spark = spark.read.option(\"header\", \"true\").csv(\n",
    "    \"/Users/yuchenwang/Desktop/YU/Fall22/Recommender System/Assignments/Assignment 2/tag_Id_name.csv\"\n",
    ")"
   ]
  },
  {
   "cell_type": "code",
   "execution_count": 69,
   "id": "88c99327",
   "metadata": {},
   "outputs": [
    {
     "name": "stdout",
     "output_type": "stream",
     "text": [
      "+-------+-----+------------------+---+\n",
      "|movieId|tagId|         relevance|tag|\n",
      "+-------+-----+------------------+---+\n",
      "|      1|    1|             0.029|007|\n",
      "|      2|    1|           0.03625|007|\n",
      "|      3|    1|0.0414999999999999|007|\n",
      "|      4|    1|0.0334999999999999|007|\n",
      "|      5|    1|0.0404999999999999|007|\n",
      "|      6|    1|0.0292499999999999|007|\n",
      "|      7|    1|           0.04775|007|\n",
      "|      8|    1|           0.03125|007|\n",
      "|      9|    1|           0.03225|007|\n",
      "|     10|    1|            0.9995|007|\n",
      "|     11|    1|0.0349999999999999|007|\n",
      "|     12|    1|           0.03575|007|\n",
      "|     13|    1|             0.024|007|\n",
      "|     14|    1|0.0237499999999999|007|\n",
      "|     15|    1|           0.04325|007|\n",
      "|     16|    1|0.0324999999999999|007|\n",
      "|     17|    1|            0.0275|007|\n",
      "|     18|    1|           0.03175|007|\n",
      "|     19|    1|           0.03675|007|\n",
      "|     20|    1|           0.04325|007|\n",
      "+-------+-----+------------------+---+\n",
      "only showing top 20 rows\n",
      "\n"
     ]
    },
    {
     "data": {
      "application/javascript": [
       "\n",
       "            setTimeout(function() {\n",
       "                var nbb_cell_id = 69;\n",
       "                var nbb_unformatted_code = \"tag_Id_name_spark.show()\";\n",
       "                var nbb_formatted_code = \"tag_Id_name_spark.show()\";\n",
       "                var nbb_cells = Jupyter.notebook.get_cells();\n",
       "                for (var i = 0; i < nbb_cells.length; ++i) {\n",
       "                    if (nbb_cells[i].input_prompt_number == nbb_cell_id) {\n",
       "                        if (nbb_cells[i].get_text() == nbb_unformatted_code) {\n",
       "                             nbb_cells[i].set_text(nbb_formatted_code);\n",
       "                        }\n",
       "                        break;\n",
       "                    }\n",
       "                }\n",
       "            }, 500);\n",
       "            "
      ],
      "text/plain": [
       "<IPython.core.display.Javascript object>"
      ]
     },
     "metadata": {},
     "output_type": "display_data"
    }
   ],
   "source": [
    "tag_Id_name_spark.show()"
   ]
  },
  {
   "cell_type": "code",
   "execution_count": 70,
   "id": "b4105732",
   "metadata": {},
   "outputs": [
    {
     "data": {
      "text/plain": [
       "pyspark.sql.dataframe.DataFrame"
      ]
     },
     "execution_count": 70,
     "metadata": {},
     "output_type": "execute_result"
    },
    {
     "data": {
      "application/javascript": [
       "\n",
       "            setTimeout(function() {\n",
       "                var nbb_cell_id = 70;\n",
       "                var nbb_unformatted_code = \"type(tag_Id_name_spark)\";\n",
       "                var nbb_formatted_code = \"type(tag_Id_name_spark)\";\n",
       "                var nbb_cells = Jupyter.notebook.get_cells();\n",
       "                for (var i = 0; i < nbb_cells.length; ++i) {\n",
       "                    if (nbb_cells[i].input_prompt_number == nbb_cell_id) {\n",
       "                        if (nbb_cells[i].get_text() == nbb_unformatted_code) {\n",
       "                             nbb_cells[i].set_text(nbb_formatted_code);\n",
       "                        }\n",
       "                        break;\n",
       "                    }\n",
       "                }\n",
       "            }, 500);\n",
       "            "
      ],
      "text/plain": [
       "<IPython.core.display.Javascript object>"
      ]
     },
     "metadata": {},
     "output_type": "display_data"
    }
   ],
   "source": [
    "type(tag_Id_name_spark)"
   ]
  },
  {
   "cell_type": "markdown",
   "id": "35015a5f",
   "metadata": {},
   "source": [
    "##### Now, combine them.."
   ]
  },
  {
   "cell_type": "code",
   "execution_count": 71,
   "id": "b109292c",
   "metadata": {},
   "outputs": [
    {
     "data": {
      "application/javascript": [
       "\n",
       "            setTimeout(function() {\n",
       "                var nbb_cell_id = 71;\n",
       "                var nbb_unformatted_code = \"df1 = tag_Id_name_spark.join(rating_tag_spark, on=[\\\"movieId\\\", \\\"tag\\\"], how=\\\"outer\\\")\";\n",
       "                var nbb_formatted_code = \"df1 = tag_Id_name_spark.join(rating_tag_spark, on=[\\\"movieId\\\", \\\"tag\\\"], how=\\\"outer\\\")\";\n",
       "                var nbb_cells = Jupyter.notebook.get_cells();\n",
       "                for (var i = 0; i < nbb_cells.length; ++i) {\n",
       "                    if (nbb_cells[i].input_prompt_number == nbb_cell_id) {\n",
       "                        if (nbb_cells[i].get_text() == nbb_unformatted_code) {\n",
       "                             nbb_cells[i].set_text(nbb_formatted_code);\n",
       "                        }\n",
       "                        break;\n",
       "                    }\n",
       "                }\n",
       "            }, 500);\n",
       "            "
      ],
      "text/plain": [
       "<IPython.core.display.Javascript object>"
      ]
     },
     "metadata": {},
     "output_type": "display_data"
    }
   ],
   "source": [
    "df1 = tag_Id_name_spark.join(rating_tag_spark, on=[\"movieId\", \"tag\"], how=\"outer\")"
   ]
  },
  {
   "cell_type": "code",
   "execution_count": 72,
   "id": "ac7e9a8d",
   "metadata": {},
   "outputs": [
    {
     "name": "stderr",
     "output_type": "stream",
     "text": [
      "[Stage 10:>                                                         (0 + 1) / 1]\r"
     ]
    },
    {
     "name": "stdout",
     "output_type": "stream",
     "text": [
      "+-------+--------------------+-----+------------------+------+------+------------+\n",
      "|movieId|                 tag|tagId|         relevance|userId|rating|   timestamp|\n",
      "+-------+--------------------+-----+------------------+------+------+------------+\n",
      "|      1|TÃ©a Leoni does n...| null|              null|152473|   4.0|1038421883.0|\n",
      "|      1|               Woody| null|              null| 43907|   5.0|1042612428.0|\n",
      "|      1|              absurd|   18|           0.09725|  null|  null|        null|\n",
      "|      1|          adaptation|   21|0.3572499999999999|  null|  null|        null|\n",
      "|      1|          alcoholism|   42|0.0394999999999999|  null|  null|        null|\n",
      "|      1|              aliens|   45|0.2254999999999999|  null|  null|        null|\n",
      "|      1|           alter ego|   49|0.3129999999999999|  null|  null|        null|\n",
      "|      1|       anti-semitism|   68|           0.03325|  null|  null|        null|\n",
      "|      1|           australia|   87|           0.03325|  null|  null|        null|\n",
      "|      1|          bad acting|   97|            0.0825|  null|  null|        null|\n",
      "|      1| based on true story|  115|0.2027499999999999|  null|  null|        null|\n",
      "|      1|      best war films|  127|0.0454999999999999|  null|  null|        null|\n",
      "|      1|               books|  154|           0.20375|  null|  null|        null|\n",
      "|      1|                 boy| null|              null| 73406|   4.0|1288129065.0|\n",
      "|      1|    carrie-anne moss|  184|0.0349999999999999|  null|  null|        null|\n",
      "|      1|               china|  205|             0.011|  null|  null|        null|\n",
      "|      1|       coen brothers|  225|0.0077499999999999|  null|  null|        null|\n",
      "|      1|  complex characters|  241|           0.05025|  null|  null|        null|\n",
      "|      1|   corporate america|  257|0.0277499999999999|  null|  null|        null|\n",
      "|      1|           cult film|  276|           0.21925|  null|  null|        null|\n",
      "+-------+--------------------+-----+------------------+------+------+------------+\n",
      "only showing top 20 rows\n",
      "\n"
     ]
    },
    {
     "name": "stderr",
     "output_type": "stream",
     "text": [
      "                                                                                \r"
     ]
    },
    {
     "data": {
      "application/javascript": [
       "\n",
       "            setTimeout(function() {\n",
       "                var nbb_cell_id = 72;\n",
       "                var nbb_unformatted_code = \"df1.show()\";\n",
       "                var nbb_formatted_code = \"df1.show()\";\n",
       "                var nbb_cells = Jupyter.notebook.get_cells();\n",
       "                for (var i = 0; i < nbb_cells.length; ++i) {\n",
       "                    if (nbb_cells[i].input_prompt_number == nbb_cell_id) {\n",
       "                        if (nbb_cells[i].get_text() == nbb_unformatted_code) {\n",
       "                             nbb_cells[i].set_text(nbb_formatted_code);\n",
       "                        }\n",
       "                        break;\n",
       "                    }\n",
       "                }\n",
       "            }, 500);\n",
       "            "
      ],
      "text/plain": [
       "<IPython.core.display.Javascript object>"
      ]
     },
     "metadata": {},
     "output_type": "display_data"
    }
   ],
   "source": [
    "df1.show()"
   ]
  },
  {
   "cell_type": "code",
   "execution_count": 73,
   "id": "a6173537",
   "metadata": {},
   "outputs": [
    {
     "name": "stdout",
     "output_type": "stream",
     "text": [
      "+-------+------+-------+--------------------+--------------------+\n",
      "|movieId|imdbId| tmdbId|               title|              genres|\n",
      "+-------+------+-------+--------------------+--------------------+\n",
      "|      1|114709|  862.0|    Toy Story (1995)|Adventure|Animati...|\n",
      "|      2|113497| 8844.0|      Jumanji (1995)|Adventure|Childre...|\n",
      "|      3|113228|15602.0|Grumpier Old Men ...|      Comedy|Romance|\n",
      "|      4|114885|31357.0|Waiting to Exhale...|Comedy|Drama|Romance|\n",
      "|      5|113041|11862.0|Father of the Bri...|              Comedy|\n",
      "|      6|113277|  949.0|         Heat (1995)|Action|Crime|Thri...|\n",
      "|      7|114319|11860.0|      Sabrina (1995)|      Comedy|Romance|\n",
      "|      8|112302|45325.0| Tom and Huck (1995)|  Adventure|Children|\n",
      "|      9|114576| 9091.0| Sudden Death (1995)|              Action|\n",
      "|     10|113189|  710.0|    GoldenEye (1995)|Action|Adventure|...|\n",
      "|     11|112346| 9087.0|American Presiden...|Comedy|Drama|Romance|\n",
      "|     12|112896|12110.0|Dracula: Dead and...|       Comedy|Horror|\n",
      "|     13|112453|21032.0|        Balto (1995)|Adventure|Animati...|\n",
      "|     14|113987|10858.0|        Nixon (1995)|               Drama|\n",
      "|     15|112760| 1408.0|Cutthroat Island ...|Action|Adventure|...|\n",
      "|     16|112641|  524.0|       Casino (1995)|         Crime|Drama|\n",
      "|     17|114388| 4584.0|Sense and Sensibi...|       Drama|Romance|\n",
      "|     18|113101|    5.0|   Four Rooms (1995)|              Comedy|\n",
      "|     19|112281| 9273.0|Ace Ventura: When...|              Comedy|\n",
      "|     20|113845|11517.0|  Money Train (1995)|Action|Comedy|Cri...|\n",
      "+-------+------+-------+--------------------+--------------------+\n",
      "only showing top 20 rows\n",
      "\n"
     ]
    },
    {
     "data": {
      "application/javascript": [
       "\n",
       "            setTimeout(function() {\n",
       "                var nbb_cell_id = 73;\n",
       "                var nbb_unformatted_code = \"all_movies_spark.show()\";\n",
       "                var nbb_formatted_code = \"all_movies_spark.show()\";\n",
       "                var nbb_cells = Jupyter.notebook.get_cells();\n",
       "                for (var i = 0; i < nbb_cells.length; ++i) {\n",
       "                    if (nbb_cells[i].input_prompt_number == nbb_cell_id) {\n",
       "                        if (nbb_cells[i].get_text() == nbb_unformatted_code) {\n",
       "                             nbb_cells[i].set_text(nbb_formatted_code);\n",
       "                        }\n",
       "                        break;\n",
       "                    }\n",
       "                }\n",
       "            }, 500);\n",
       "            "
      ],
      "text/plain": [
       "<IPython.core.display.Javascript object>"
      ]
     },
     "metadata": {},
     "output_type": "display_data"
    }
   ],
   "source": [
    "all_movies_spark.show()"
   ]
  },
  {
   "cell_type": "code",
   "execution_count": 74,
   "id": "e2538e23",
   "metadata": {},
   "outputs": [
    {
     "data": {
      "application/javascript": [
       "\n",
       "            setTimeout(function() {\n",
       "                var nbb_cell_id = 74;\n",
       "                var nbb_unformatted_code = \"## Final combination\\ndf_final = all_movies_spark.join(df1, on=[\\\"movieId\\\"], how=\\\"inner\\\")\";\n",
       "                var nbb_formatted_code = \"## Final combination\\ndf_final = all_movies_spark.join(df1, on=[\\\"movieId\\\"], how=\\\"inner\\\")\";\n",
       "                var nbb_cells = Jupyter.notebook.get_cells();\n",
       "                for (var i = 0; i < nbb_cells.length; ++i) {\n",
       "                    if (nbb_cells[i].input_prompt_number == nbb_cell_id) {\n",
       "                        if (nbb_cells[i].get_text() == nbb_unformatted_code) {\n",
       "                             nbb_cells[i].set_text(nbb_formatted_code);\n",
       "                        }\n",
       "                        break;\n",
       "                    }\n",
       "                }\n",
       "            }, 500);\n",
       "            "
      ],
      "text/plain": [
       "<IPython.core.display.Javascript object>"
      ]
     },
     "metadata": {},
     "output_type": "display_data"
    }
   ],
   "source": [
    "## Final combination\n",
    "df_final = all_movies_spark.join(df1, on=[\"movieId\"], how=\"inner\")"
   ]
  },
  {
   "cell_type": "code",
   "execution_count": 75,
   "id": "9a7e3f6c",
   "metadata": {},
   "outputs": [
    {
     "name": "stderr",
     "output_type": "stream",
     "text": [
      "[Stage 17:>                                                         (0 + 1) / 1]\r"
     ]
    },
    {
     "name": "stdout",
     "output_type": "stream",
     "text": [
      "+-------+------+------+----------------+--------------------+--------------------+-----+------------------+------+------+------------+\n",
      "|movieId|imdbId|tmdbId|           title|              genres|                 tag|tagId|         relevance|userId|rating|   timestamp|\n",
      "+-------+------+------+----------------+--------------------+--------------------+-----+------------------+------+------+------------+\n",
      "|      1|114709| 862.0|Toy Story (1995)|Adventure|Animati...|TÃ©a Leoni does n...| null|              null|152473|   4.0|1038421883.0|\n",
      "|      1|114709| 862.0|Toy Story (1995)|Adventure|Animati...|               Woody| null|              null| 43907|   5.0|1042612428.0|\n",
      "|      1|114709| 862.0|Toy Story (1995)|Adventure|Animati...|              absurd|   18|           0.09725|  null|  null|        null|\n",
      "|      1|114709| 862.0|Toy Story (1995)|Adventure|Animati...|          adaptation|   21|0.3572499999999999|  null|  null|        null|\n",
      "|      1|114709| 862.0|Toy Story (1995)|Adventure|Animati...|          alcoholism|   42|0.0394999999999999|  null|  null|        null|\n",
      "|      1|114709| 862.0|Toy Story (1995)|Adventure|Animati...|              aliens|   45|0.2254999999999999|  null|  null|        null|\n",
      "|      1|114709| 862.0|Toy Story (1995)|Adventure|Animati...|           alter ego|   49|0.3129999999999999|  null|  null|        null|\n",
      "|      1|114709| 862.0|Toy Story (1995)|Adventure|Animati...|       anti-semitism|   68|           0.03325|  null|  null|        null|\n",
      "|      1|114709| 862.0|Toy Story (1995)|Adventure|Animati...|           australia|   87|           0.03325|  null|  null|        null|\n",
      "|      1|114709| 862.0|Toy Story (1995)|Adventure|Animati...|          bad acting|   97|            0.0825|  null|  null|        null|\n",
      "|      1|114709| 862.0|Toy Story (1995)|Adventure|Animati...| based on true story|  115|0.2027499999999999|  null|  null|        null|\n",
      "|      1|114709| 862.0|Toy Story (1995)|Adventure|Animati...|      best war films|  127|0.0454999999999999|  null|  null|        null|\n",
      "|      1|114709| 862.0|Toy Story (1995)|Adventure|Animati...|               books|  154|           0.20375|  null|  null|        null|\n",
      "|      1|114709| 862.0|Toy Story (1995)|Adventure|Animati...|                 boy| null|              null| 73406|   4.0|1288129065.0|\n",
      "|      1|114709| 862.0|Toy Story (1995)|Adventure|Animati...|    carrie-anne moss|  184|0.0349999999999999|  null|  null|        null|\n",
      "|      1|114709| 862.0|Toy Story (1995)|Adventure|Animati...|               china|  205|             0.011|  null|  null|        null|\n",
      "|      1|114709| 862.0|Toy Story (1995)|Adventure|Animati...|       coen brothers|  225|0.0077499999999999|  null|  null|        null|\n",
      "|      1|114709| 862.0|Toy Story (1995)|Adventure|Animati...|  complex characters|  241|           0.05025|  null|  null|        null|\n",
      "|      1|114709| 862.0|Toy Story (1995)|Adventure|Animati...|   corporate america|  257|0.0277499999999999|  null|  null|        null|\n",
      "|      1|114709| 862.0|Toy Story (1995)|Adventure|Animati...|           cult film|  276|           0.21925|  null|  null|        null|\n",
      "+-------+------+------+----------------+--------------------+--------------------+-----+------------------+------+------+------------+\n",
      "only showing top 20 rows\n",
      "\n"
     ]
    },
    {
     "name": "stderr",
     "output_type": "stream",
     "text": [
      "                                                                                \r"
     ]
    },
    {
     "data": {
      "application/javascript": [
       "\n",
       "            setTimeout(function() {\n",
       "                var nbb_cell_id = 75;\n",
       "                var nbb_unformatted_code = \"df_final.show()\";\n",
       "                var nbb_formatted_code = \"df_final.show()\";\n",
       "                var nbb_cells = Jupyter.notebook.get_cells();\n",
       "                for (var i = 0; i < nbb_cells.length; ++i) {\n",
       "                    if (nbb_cells[i].input_prompt_number == nbb_cell_id) {\n",
       "                        if (nbb_cells[i].get_text() == nbb_unformatted_code) {\n",
       "                             nbb_cells[i].set_text(nbb_formatted_code);\n",
       "                        }\n",
       "                        break;\n",
       "                    }\n",
       "                }\n",
       "            }, 500);\n",
       "            "
      ],
      "text/plain": [
       "<IPython.core.display.Javascript object>"
      ]
     },
     "metadata": {},
     "output_type": "display_data"
    }
   ],
   "source": [
    "df_final.show()"
   ]
  },
  {
   "cell_type": "code",
   "execution_count": 76,
   "id": "a7669560",
   "metadata": {},
   "outputs": [
    {
     "name": "stderr",
     "output_type": "stream",
     "text": [
      "[Stage 23:===================================================>      (8 + 1) / 9]\r"
     ]
    },
    {
     "name": "stdout",
     "output_type": "stream",
     "text": [
      "(43409941, 11)\n"
     ]
    },
    {
     "name": "stderr",
     "output_type": "stream",
     "text": [
      "                                                                                \r"
     ]
    },
    {
     "data": {
      "application/javascript": [
       "\n",
       "            setTimeout(function() {\n",
       "                var nbb_cell_id = 76;\n",
       "                var nbb_unformatted_code = \"print((df_final.count(), len(df_final.columns)))\";\n",
       "                var nbb_formatted_code = \"print((df_final.count(), len(df_final.columns)))\";\n",
       "                var nbb_cells = Jupyter.notebook.get_cells();\n",
       "                for (var i = 0; i < nbb_cells.length; ++i) {\n",
       "                    if (nbb_cells[i].input_prompt_number == nbb_cell_id) {\n",
       "                        if (nbb_cells[i].get_text() == nbb_unformatted_code) {\n",
       "                             nbb_cells[i].set_text(nbb_formatted_code);\n",
       "                        }\n",
       "                        break;\n",
       "                    }\n",
       "                }\n",
       "            }, 500);\n",
       "            "
      ],
      "text/plain": [
       "<IPython.core.display.Javascript object>"
      ]
     },
     "metadata": {},
     "output_type": "display_data"
    }
   ],
   "source": [
    "print((df_final.count(), len(df_final.columns)))"
   ]
  },
  {
   "cell_type": "code",
   "execution_count": 77,
   "id": "7588a885",
   "metadata": {},
   "outputs": [
    {
     "name": "stdout",
     "output_type": "stream",
     "text": [
      "root\n",
      " |-- movieId: string (nullable = true)\n",
      " |-- imdbId: string (nullable = true)\n",
      " |-- tmdbId: string (nullable = true)\n",
      " |-- title: string (nullable = true)\n",
      " |-- genres: string (nullable = true)\n",
      " |-- tag: string (nullable = true)\n",
      " |-- tagId: string (nullable = true)\n",
      " |-- relevance: string (nullable = true)\n",
      " |-- userId: string (nullable = true)\n",
      " |-- rating: string (nullable = true)\n",
      " |-- timestamp: string (nullable = true)\n",
      "\n"
     ]
    },
    {
     "data": {
      "application/javascript": [
       "\n",
       "            setTimeout(function() {\n",
       "                var nbb_cell_id = 77;\n",
       "                var nbb_unformatted_code = \"df_final.printSchema()\";\n",
       "                var nbb_formatted_code = \"df_final.printSchema()\";\n",
       "                var nbb_cells = Jupyter.notebook.get_cells();\n",
       "                for (var i = 0; i < nbb_cells.length; ++i) {\n",
       "                    if (nbb_cells[i].input_prompt_number == nbb_cell_id) {\n",
       "                        if (nbb_cells[i].get_text() == nbb_unformatted_code) {\n",
       "                             nbb_cells[i].set_text(nbb_formatted_code);\n",
       "                        }\n",
       "                        break;\n",
       "                    }\n",
       "                }\n",
       "            }, 500);\n",
       "            "
      ],
      "text/plain": [
       "<IPython.core.display.Javascript object>"
      ]
     },
     "metadata": {},
     "output_type": "display_data"
    }
   ],
   "source": [
    "df_final.printSchema()"
   ]
  },
  {
   "cell_type": "markdown",
   "id": "4ee6add8",
   "metadata": {},
   "source": [
    "* I have no idea why the dtype are all string, but let's convert them into appropriate dtype."
   ]
  },
  {
   "cell_type": "code",
   "execution_count": 78,
   "id": "85324d6c",
   "metadata": {},
   "outputs": [
    {
     "data": {
      "application/javascript": [
       "\n",
       "            setTimeout(function() {\n",
       "                var nbb_cell_id = 78;\n",
       "                var nbb_unformatted_code = \"from pyspark.sql.types import StringType, DateType, FloatType, IntegerType\";\n",
       "                var nbb_formatted_code = \"from pyspark.sql.types import StringType, DateType, FloatType, IntegerType\";\n",
       "                var nbb_cells = Jupyter.notebook.get_cells();\n",
       "                for (var i = 0; i < nbb_cells.length; ++i) {\n",
       "                    if (nbb_cells[i].input_prompt_number == nbb_cell_id) {\n",
       "                        if (nbb_cells[i].get_text() == nbb_unformatted_code) {\n",
       "                             nbb_cells[i].set_text(nbb_formatted_code);\n",
       "                        }\n",
       "                        break;\n",
       "                    }\n",
       "                }\n",
       "            }, 500);\n",
       "            "
      ],
      "text/plain": [
       "<IPython.core.display.Javascript object>"
      ]
     },
     "metadata": {},
     "output_type": "display_data"
    }
   ],
   "source": [
    "from pyspark.sql.types import StringType, DateType, FloatType, IntegerType"
   ]
  },
  {
   "cell_type": "code",
   "execution_count": 79,
   "id": "c5f48920",
   "metadata": {},
   "outputs": [
    {
     "data": {
      "application/javascript": [
       "\n",
       "            setTimeout(function() {\n",
       "                var nbb_cell_id = 79;\n",
       "                var nbb_unformatted_code = \"df_final1 = (\\n    df_final.withColumn(\\\"movieId\\\", df_final[\\\"movieId\\\"].cast(IntegerType()))\\n    .withColumn(\\\"imdbId\\\", df_final[\\\"imdbId\\\"].cast(IntegerType()))\\n    .withColumn(\\\"tmdbId\\\", df_final[\\\"tmdbId\\\"].cast(IntegerType()))\\n    .withColumn(\\\"tagId\\\", df_final[\\\"tagId\\\"].cast(IntegerType()))\\n    .withColumn(\\\"relevance\\\", df_final[\\\"relevance\\\"].cast(FloatType()))\\n    .withColumn(\\\"userId\\\", df_final[\\\"userId\\\"].cast(IntegerType()))\\n    .withColumn(\\\"rating\\\", df_final[\\\"rating\\\"].cast(FloatType()))\\n    .withColumn(\\\"timestamp\\\", df_final[\\\"timestamp\\\"].cast(IntegerType()))\\n)\";\n",
       "                var nbb_formatted_code = \"df_final1 = (\\n    df_final.withColumn(\\\"movieId\\\", df_final[\\\"movieId\\\"].cast(IntegerType()))\\n    .withColumn(\\\"imdbId\\\", df_final[\\\"imdbId\\\"].cast(IntegerType()))\\n    .withColumn(\\\"tmdbId\\\", df_final[\\\"tmdbId\\\"].cast(IntegerType()))\\n    .withColumn(\\\"tagId\\\", df_final[\\\"tagId\\\"].cast(IntegerType()))\\n    .withColumn(\\\"relevance\\\", df_final[\\\"relevance\\\"].cast(FloatType()))\\n    .withColumn(\\\"userId\\\", df_final[\\\"userId\\\"].cast(IntegerType()))\\n    .withColumn(\\\"rating\\\", df_final[\\\"rating\\\"].cast(FloatType()))\\n    .withColumn(\\\"timestamp\\\", df_final[\\\"timestamp\\\"].cast(IntegerType()))\\n)\";\n",
       "                var nbb_cells = Jupyter.notebook.get_cells();\n",
       "                for (var i = 0; i < nbb_cells.length; ++i) {\n",
       "                    if (nbb_cells[i].input_prompt_number == nbb_cell_id) {\n",
       "                        if (nbb_cells[i].get_text() == nbb_unformatted_code) {\n",
       "                             nbb_cells[i].set_text(nbb_formatted_code);\n",
       "                        }\n",
       "                        break;\n",
       "                    }\n",
       "                }\n",
       "            }, 500);\n",
       "            "
      ],
      "text/plain": [
       "<IPython.core.display.Javascript object>"
      ]
     },
     "metadata": {},
     "output_type": "display_data"
    }
   ],
   "source": [
    "df_final1 = (\n",
    "    df_final.withColumn(\"movieId\", df_final[\"movieId\"].cast(IntegerType()))\n",
    "    .withColumn(\"imdbId\", df_final[\"imdbId\"].cast(IntegerType()))\n",
    "    .withColumn(\"tmdbId\", df_final[\"tmdbId\"].cast(IntegerType()))\n",
    "    .withColumn(\"tagId\", df_final[\"tagId\"].cast(IntegerType()))\n",
    "    .withColumn(\"relevance\", df_final[\"relevance\"].cast(FloatType()))\n",
    "    .withColumn(\"userId\", df_final[\"userId\"].cast(IntegerType()))\n",
    "    .withColumn(\"rating\", df_final[\"rating\"].cast(FloatType()))\n",
    "    .withColumn(\"timestamp\", df_final[\"timestamp\"].cast(IntegerType()))\n",
    ")"
   ]
  },
  {
   "cell_type": "code",
   "execution_count": 80,
   "id": "c20be0e7",
   "metadata": {},
   "outputs": [
    {
     "name": "stdout",
     "output_type": "stream",
     "text": [
      "root\n",
      " |-- movieId: integer (nullable = true)\n",
      " |-- imdbId: integer (nullable = true)\n",
      " |-- tmdbId: integer (nullable = true)\n",
      " |-- title: string (nullable = true)\n",
      " |-- genres: string (nullable = true)\n",
      " |-- tag: string (nullable = true)\n",
      " |-- tagId: integer (nullable = true)\n",
      " |-- relevance: float (nullable = true)\n",
      " |-- userId: integer (nullable = true)\n",
      " |-- rating: float (nullable = true)\n",
      " |-- timestamp: integer (nullable = true)\n",
      "\n"
     ]
    },
    {
     "data": {
      "application/javascript": [
       "\n",
       "            setTimeout(function() {\n",
       "                var nbb_cell_id = 80;\n",
       "                var nbb_unformatted_code = \"df_final1.printSchema()\";\n",
       "                var nbb_formatted_code = \"df_final1.printSchema()\";\n",
       "                var nbb_cells = Jupyter.notebook.get_cells();\n",
       "                for (var i = 0; i < nbb_cells.length; ++i) {\n",
       "                    if (nbb_cells[i].input_prompt_number == nbb_cell_id) {\n",
       "                        if (nbb_cells[i].get_text() == nbb_unformatted_code) {\n",
       "                             nbb_cells[i].set_text(nbb_formatted_code);\n",
       "                        }\n",
       "                        break;\n",
       "                    }\n",
       "                }\n",
       "            }, 500);\n",
       "            "
      ],
      "text/plain": [
       "<IPython.core.display.Javascript object>"
      ]
     },
     "metadata": {},
     "output_type": "display_data"
    }
   ],
   "source": [
    "df_final1.printSchema()"
   ]
  },
  {
   "cell_type": "markdown",
   "id": "b3e1c795",
   "metadata": {},
   "source": [
    "* I was going to convert string type to the array via a split function in pyspark and then convert the whole data frame into the sparse matrix but failed."
   ]
  },
  {
   "cell_type": "code",
   "execution_count": 81,
   "id": "f95a1d18",
   "metadata": {},
   "outputs": [
    {
     "data": {
      "application/javascript": [
       "\n",
       "            setTimeout(function() {\n",
       "                var nbb_cell_id = 81;\n",
       "                var nbb_unformatted_code = \"## from pyspark.sql.functions import split, col\";\n",
       "                var nbb_formatted_code = \"## from pyspark.sql.functions import split, col\";\n",
       "                var nbb_cells = Jupyter.notebook.get_cells();\n",
       "                for (var i = 0; i < nbb_cells.length; ++i) {\n",
       "                    if (nbb_cells[i].input_prompt_number == nbb_cell_id) {\n",
       "                        if (nbb_cells[i].get_text() == nbb_unformatted_code) {\n",
       "                             nbb_cells[i].set_text(nbb_formatted_code);\n",
       "                        }\n",
       "                        break;\n",
       "                    }\n",
       "                }\n",
       "            }, 500);\n",
       "            "
      ],
      "text/plain": [
       "<IPython.core.display.Javascript object>"
      ]
     },
     "metadata": {},
     "output_type": "display_data"
    }
   ],
   "source": [
    "## from pyspark.sql.functions import split, col"
   ]
  },
  {
   "cell_type": "code",
   "execution_count": 82,
   "id": "41a0e16e",
   "metadata": {},
   "outputs": [
    {
     "data": {
      "application/javascript": [
       "\n",
       "            setTimeout(function() {\n",
       "                var nbb_cell_id = 82;\n",
       "                var nbb_unformatted_code = \"##df_final_2 = (\\n##  df_final1.select(split(col(\\\"title\\\"), \\\"\\\\s+\\\").alias(\\\"title_array\\\"))\\n##  .drop(\\\"title\\\")\\n##  .select(split(col(\\\"genres\\\"), \\\"\\\\s+\\\").alias(\\\"genres_array\\\"))\\n##  .drop(\\\"genres\\\")\\n##  .select(split(col(\\\"tag\\\"), \\\"\\\\s+\\\").alias(\\\"tag_array\\\"))\\n##  .drop(\\\"tag\\\")\\n##)\";\n",
       "                var nbb_formatted_code = \"##df_final_2 = (\\n##  df_final1.select(split(col(\\\"title\\\"), \\\"\\\\s+\\\").alias(\\\"title_array\\\"))\\n##  .drop(\\\"title\\\")\\n##  .select(split(col(\\\"genres\\\"), \\\"\\\\s+\\\").alias(\\\"genres_array\\\"))\\n##  .drop(\\\"genres\\\")\\n##  .select(split(col(\\\"tag\\\"), \\\"\\\\s+\\\").alias(\\\"tag_array\\\"))\\n##  .drop(\\\"tag\\\")\\n##)\";\n",
       "                var nbb_cells = Jupyter.notebook.get_cells();\n",
       "                for (var i = 0; i < nbb_cells.length; ++i) {\n",
       "                    if (nbb_cells[i].input_prompt_number == nbb_cell_id) {\n",
       "                        if (nbb_cells[i].get_text() == nbb_unformatted_code) {\n",
       "                             nbb_cells[i].set_text(nbb_formatted_code);\n",
       "                        }\n",
       "                        break;\n",
       "                    }\n",
       "                }\n",
       "            }, 500);\n",
       "            "
      ],
      "text/plain": [
       "<IPython.core.display.Javascript object>"
      ]
     },
     "metadata": {},
     "output_type": "display_data"
    }
   ],
   "source": [
    "##df_final_2 = (\n",
    "##  df_final1.select(split(col(\"title\"), \"\\s+\").alias(\"title_array\"))\n",
    "##  .drop(\"title\")\n",
    "##  .select(split(col(\"genres\"), \"\\s+\").alias(\"genres_array\"))\n",
    "##  .drop(\"genres\")\n",
    "##  .select(split(col(\"tag\"), \"\\s+\").alias(\"tag_array\"))\n",
    "##  .drop(\"tag\")\n",
    "##)"
   ]
  },
  {
   "cell_type": "markdown",
   "id": "b20b12d9",
   "metadata": {},
   "source": [
    "* So here, I'm trying to select only numeric columns, and see if I can convert them to a sparse matrix"
   ]
  },
  {
   "cell_type": "code",
   "execution_count": 83,
   "id": "a94ed88b",
   "metadata": {},
   "outputs": [
    {
     "data": {
      "application/javascript": [
       "\n",
       "            setTimeout(function() {\n",
       "                var nbb_cell_id = 83;\n",
       "                var nbb_unformatted_code = \"df_final_numeric = df_final1.select(\\n    \\\"movieId\\\", \\\"imdbId\\\", \\\"tmdbId\\\", \\\"tagId\\\", \\\"relevance\\\", \\\"userId\\\", \\\"rating\\\", \\\"timestamp\\\"\\n)\";\n",
       "                var nbb_formatted_code = \"df_final_numeric = df_final1.select(\\n    \\\"movieId\\\", \\\"imdbId\\\", \\\"tmdbId\\\", \\\"tagId\\\", \\\"relevance\\\", \\\"userId\\\", \\\"rating\\\", \\\"timestamp\\\"\\n)\";\n",
       "                var nbb_cells = Jupyter.notebook.get_cells();\n",
       "                for (var i = 0; i < nbb_cells.length; ++i) {\n",
       "                    if (nbb_cells[i].input_prompt_number == nbb_cell_id) {\n",
       "                        if (nbb_cells[i].get_text() == nbb_unformatted_code) {\n",
       "                             nbb_cells[i].set_text(nbb_formatted_code);\n",
       "                        }\n",
       "                        break;\n",
       "                    }\n",
       "                }\n",
       "            }, 500);\n",
       "            "
      ],
      "text/plain": [
       "<IPython.core.display.Javascript object>"
      ]
     },
     "metadata": {},
     "output_type": "display_data"
    }
   ],
   "source": [
    "df_final_numeric = df_final1.select(\n",
    "    \"movieId\", \"imdbId\", \"tmdbId\", \"tagId\", \"relevance\", \"userId\", \"rating\", \"timestamp\"\n",
    ")"
   ]
  },
  {
   "cell_type": "code",
   "execution_count": 84,
   "id": "15ec05fe",
   "metadata": {},
   "outputs": [
    {
     "name": "stderr",
     "output_type": "stream",
     "text": [
      "[Stage 33:>                                                         (0 + 1) / 1]\r"
     ]
    },
    {
     "name": "stdout",
     "output_type": "stream",
     "text": [
      "+-------+------+------+-----+---------+------+------+----------+\n",
      "|movieId|imdbId|tmdbId|tagId|relevance|userId|rating| timestamp|\n",
      "+-------+------+------+-----+---------+------+------+----------+\n",
      "|      1|114709|   862| null|     null|152473|   4.0|1038421883|\n",
      "|      1|114709|   862| null|     null| 43907|   5.0|1042612428|\n",
      "|      1|114709|   862|   18|  0.09725|  null|  null|      null|\n",
      "|      1|114709|   862|   21|  0.35725|  null|  null|      null|\n",
      "|      1|114709|   862|   42|   0.0395|  null|  null|      null|\n",
      "|      1|114709|   862|   45|   0.2255|  null|  null|      null|\n",
      "|      1|114709|   862|   49|    0.313|  null|  null|      null|\n",
      "|      1|114709|   862|   68|  0.03325|  null|  null|      null|\n",
      "|      1|114709|   862|   87|  0.03325|  null|  null|      null|\n",
      "|      1|114709|   862|   97|   0.0825|  null|  null|      null|\n",
      "|      1|114709|   862|  115|  0.20275|  null|  null|      null|\n",
      "|      1|114709|   862|  127|   0.0455|  null|  null|      null|\n",
      "|      1|114709|   862|  154|  0.20375|  null|  null|      null|\n",
      "|      1|114709|   862| null|     null| 73406|   4.0|1288129065|\n",
      "|      1|114709|   862|  184|    0.035|  null|  null|      null|\n",
      "|      1|114709|   862|  205|    0.011|  null|  null|      null|\n",
      "|      1|114709|   862|  225|  0.00775|  null|  null|      null|\n",
      "|      1|114709|   862|  241|  0.05025|  null|  null|      null|\n",
      "|      1|114709|   862|  257|  0.02775|  null|  null|      null|\n",
      "|      1|114709|   862|  276|  0.21925|  null|  null|      null|\n",
      "+-------+------+------+-----+---------+------+------+----------+\n",
      "only showing top 20 rows\n",
      "\n"
     ]
    },
    {
     "name": "stderr",
     "output_type": "stream",
     "text": [
      "                                                                                \r"
     ]
    },
    {
     "data": {
      "application/javascript": [
       "\n",
       "            setTimeout(function() {\n",
       "                var nbb_cell_id = 84;\n",
       "                var nbb_unformatted_code = \"df_final_numeric.show()\";\n",
       "                var nbb_formatted_code = \"df_final_numeric.show()\";\n",
       "                var nbb_cells = Jupyter.notebook.get_cells();\n",
       "                for (var i = 0; i < nbb_cells.length; ++i) {\n",
       "                    if (nbb_cells[i].input_prompt_number == nbb_cell_id) {\n",
       "                        if (nbb_cells[i].get_text() == nbb_unformatted_code) {\n",
       "                             nbb_cells[i].set_text(nbb_formatted_code);\n",
       "                        }\n",
       "                        break;\n",
       "                    }\n",
       "                }\n",
       "            }, 500);\n",
       "            "
      ],
      "text/plain": [
       "<IPython.core.display.Javascript object>"
      ]
     },
     "metadata": {},
     "output_type": "display_data"
    }
   ],
   "source": [
    "df_final_numeric.show()"
   ]
  },
  {
   "cell_type": "code",
   "execution_count": 85,
   "id": "9e597357",
   "metadata": {},
   "outputs": [
    {
     "data": {
      "text/plain": [
       "pyspark.sql.dataframe.DataFrame"
      ]
     },
     "execution_count": 85,
     "metadata": {},
     "output_type": "execute_result"
    },
    {
     "data": {
      "application/javascript": [
       "\n",
       "            setTimeout(function() {\n",
       "                var nbb_cell_id = 85;\n",
       "                var nbb_unformatted_code = \"type(df_final_numeric)\";\n",
       "                var nbb_formatted_code = \"type(df_final_numeric)\";\n",
       "                var nbb_cells = Jupyter.notebook.get_cells();\n",
       "                for (var i = 0; i < nbb_cells.length; ++i) {\n",
       "                    if (nbb_cells[i].input_prompt_number == nbb_cell_id) {\n",
       "                        if (nbb_cells[i].get_text() == nbb_unformatted_code) {\n",
       "                             nbb_cells[i].set_text(nbb_formatted_code);\n",
       "                        }\n",
       "                        break;\n",
       "                    }\n",
       "                }\n",
       "            }, 500);\n",
       "            "
      ],
      "text/plain": [
       "<IPython.core.display.Javascript object>"
      ]
     },
     "metadata": {},
     "output_type": "display_data"
    }
   ],
   "source": [
    "type(df_final_numeric)"
   ]
  },
  {
   "cell_type": "code",
   "execution_count": 86,
   "id": "fad5647b",
   "metadata": {},
   "outputs": [
    {
     "name": "stdout",
     "output_type": "stream",
     "text": [
      "root\n",
      " |-- movieId: integer (nullable = true)\n",
      " |-- imdbId: integer (nullable = true)\n",
      " |-- tmdbId: integer (nullable = true)\n",
      " |-- tagId: integer (nullable = true)\n",
      " |-- relevance: float (nullable = true)\n",
      " |-- userId: integer (nullable = true)\n",
      " |-- rating: float (nullable = true)\n",
      " |-- timestamp: integer (nullable = true)\n",
      "\n"
     ]
    },
    {
     "data": {
      "application/javascript": [
       "\n",
       "            setTimeout(function() {\n",
       "                var nbb_cell_id = 86;\n",
       "                var nbb_unformatted_code = \"df_final_numeric.printSchema()\";\n",
       "                var nbb_formatted_code = \"df_final_numeric.printSchema()\";\n",
       "                var nbb_cells = Jupyter.notebook.get_cells();\n",
       "                for (var i = 0; i < nbb_cells.length; ++i) {\n",
       "                    if (nbb_cells[i].input_prompt_number == nbb_cell_id) {\n",
       "                        if (nbb_cells[i].get_text() == nbb_unformatted_code) {\n",
       "                             nbb_cells[i].set_text(nbb_formatted_code);\n",
       "                        }\n",
       "                        break;\n",
       "                    }\n",
       "                }\n",
       "            }, 500);\n",
       "            "
      ],
      "text/plain": [
       "<IPython.core.display.Javascript object>"
      ]
     },
     "metadata": {},
     "output_type": "display_data"
    }
   ],
   "source": [
    "df_final_numeric.printSchema()"
   ]
  },
  {
   "cell_type": "markdown",
   "id": "b48b63eb",
   "metadata": {},
   "source": [
    "* So here, I'm trying to select only numeric columns, and see if I can convert them to a sparse matrix\n",
    "-- The answer is no, I can't."
   ]
  },
  {
   "cell_type": "markdown",
   "id": "b87319c6",
   "metadata": {},
   "source": [
    "#### 3. My own dataset."
   ]
  },
  {
   "cell_type": "code",
   "execution_count": 87,
   "id": "b6bd1670",
   "metadata": {},
   "outputs": [
    {
     "data": {
      "text/html": [
       "<div>\n",
       "<style scoped>\n",
       "    .dataframe tbody tr th:only-of-type {\n",
       "        vertical-align: middle;\n",
       "    }\n",
       "\n",
       "    .dataframe tbody tr th {\n",
       "        vertical-align: top;\n",
       "    }\n",
       "\n",
       "    .dataframe thead th {\n",
       "        text-align: right;\n",
       "    }\n",
       "</style>\n",
       "<table border=\"1\" class=\"dataframe\">\n",
       "  <thead>\n",
       "    <tr style=\"text-align: right;\">\n",
       "      <th></th>\n",
       "      <th>Critics</th>\n",
       "      <th>Mac</th>\n",
       "      <th>Estee Lauder</th>\n",
       "      <th>Bobbi brown</th>\n",
       "      <th>SUQQU</th>\n",
       "      <th>YSL</th>\n",
       "      <th>Chanel</th>\n",
       "      <th>Dior</th>\n",
       "      <th>LANCÔME</th>\n",
       "    </tr>\n",
       "  </thead>\n",
       "  <tbody>\n",
       "    <tr>\n",
       "      <th>0</th>\n",
       "      <td>Allen</td>\n",
       "      <td>NaN</td>\n",
       "      <td>3.0</td>\n",
       "      <td>NaN</td>\n",
       "      <td>3.0</td>\n",
       "      <td>4.0</td>\n",
       "      <td>NaN</td>\n",
       "      <td>NaN</td>\n",
       "      <td>4.0</td>\n",
       "    </tr>\n",
       "    <tr>\n",
       "      <th>1</th>\n",
       "      <td>Sohee</td>\n",
       "      <td>3.0</td>\n",
       "      <td>4.0</td>\n",
       "      <td>5.0</td>\n",
       "      <td>5.0</td>\n",
       "      <td>4.0</td>\n",
       "      <td>4.0</td>\n",
       "      <td>4.0</td>\n",
       "      <td>5.0</td>\n",
       "    </tr>\n",
       "    <tr>\n",
       "      <th>2</th>\n",
       "      <td>Didi</td>\n",
       "      <td>4.0</td>\n",
       "      <td>5.0</td>\n",
       "      <td>NaN</td>\n",
       "      <td>NaN</td>\n",
       "      <td>5.0</td>\n",
       "      <td>5.0</td>\n",
       "      <td>NaN</td>\n",
       "      <td>5.0</td>\n",
       "    </tr>\n",
       "    <tr>\n",
       "      <th>3</th>\n",
       "      <td>Shao</td>\n",
       "      <td>3.0</td>\n",
       "      <td>NaN</td>\n",
       "      <td>3.0</td>\n",
       "      <td>NaN</td>\n",
       "      <td>NaN</td>\n",
       "      <td>NaN</td>\n",
       "      <td>5.0</td>\n",
       "      <td>NaN</td>\n",
       "    </tr>\n",
       "    <tr>\n",
       "      <th>4</th>\n",
       "      <td>Gloria</td>\n",
       "      <td>3.0</td>\n",
       "      <td>3.0</td>\n",
       "      <td>4.0</td>\n",
       "      <td>4.0</td>\n",
       "      <td>4.0</td>\n",
       "      <td>5.0</td>\n",
       "      <td>5.0</td>\n",
       "      <td>NaN</td>\n",
       "    </tr>\n",
       "    <tr>\n",
       "      <th>5</th>\n",
       "      <td>Grace</td>\n",
       "      <td>NaN</td>\n",
       "      <td>NaN</td>\n",
       "      <td>NaN</td>\n",
       "      <td>NaN</td>\n",
       "      <td>NaN</td>\n",
       "      <td>NaN</td>\n",
       "      <td>NaN</td>\n",
       "      <td>3.0</td>\n",
       "    </tr>\n",
       "    <tr>\n",
       "      <th>6</th>\n",
       "      <td>Sophie</td>\n",
       "      <td>2.0</td>\n",
       "      <td>4.0</td>\n",
       "      <td>NaN</td>\n",
       "      <td>NaN</td>\n",
       "      <td>5.0</td>\n",
       "      <td>5.0</td>\n",
       "      <td>NaN</td>\n",
       "      <td>NaN</td>\n",
       "    </tr>\n",
       "    <tr>\n",
       "      <th>7</th>\n",
       "      <td>Pan</td>\n",
       "      <td>NaN</td>\n",
       "      <td>3.0</td>\n",
       "      <td>4.0</td>\n",
       "      <td>4.0</td>\n",
       "      <td>NaN</td>\n",
       "      <td>4.0</td>\n",
       "      <td>5.0</td>\n",
       "      <td>5.0</td>\n",
       "    </tr>\n",
       "    <tr>\n",
       "      <th>8</th>\n",
       "      <td>Molly</td>\n",
       "      <td>5.0</td>\n",
       "      <td>4.0</td>\n",
       "      <td>3.0</td>\n",
       "      <td>2.0</td>\n",
       "      <td>NaN</td>\n",
       "      <td>NaN</td>\n",
       "      <td>NaN</td>\n",
       "      <td>2.0</td>\n",
       "    </tr>\n",
       "    <tr>\n",
       "      <th>9</th>\n",
       "      <td>Keer</td>\n",
       "      <td>4.0</td>\n",
       "      <td>3.0</td>\n",
       "      <td>4.0</td>\n",
       "      <td>4.0</td>\n",
       "      <td>5.0</td>\n",
       "      <td>5.0</td>\n",
       "      <td>NaN</td>\n",
       "      <td>NaN</td>\n",
       "    </tr>\n",
       "  </tbody>\n",
       "</table>\n",
       "</div>"
      ],
      "text/plain": [
       "  Critics  Mac  Estee Lauder  Bobbi brown  SUQQU  YSL  Chanel  Dior  LANCÔME\n",
       "0   Allen  NaN           3.0          NaN    3.0  4.0     NaN   NaN      4.0\n",
       "1   Sohee  3.0           4.0          5.0    5.0  4.0     4.0   4.0      5.0\n",
       "2    Didi  4.0           5.0          NaN    NaN  5.0     5.0   NaN      5.0\n",
       "3    Shao  3.0           NaN          3.0    NaN  NaN     NaN   5.0      NaN\n",
       "4  Gloria  3.0           3.0          4.0    4.0  4.0     5.0   5.0      NaN\n",
       "5   Grace  NaN           NaN          NaN    NaN  NaN     NaN   NaN      3.0\n",
       "6  Sophie  2.0           4.0          NaN    NaN  5.0     5.0   NaN      NaN\n",
       "7     Pan  NaN           3.0          4.0    4.0  NaN     4.0   5.0      5.0\n",
       "8   Molly  5.0           4.0          3.0    2.0  NaN     NaN   NaN      2.0\n",
       "9    Keer  4.0           3.0          4.0    4.0  5.0     5.0   NaN      NaN"
      ]
     },
     "execution_count": 87,
     "metadata": {},
     "output_type": "execute_result"
    },
    {
     "data": {
      "application/javascript": [
       "\n",
       "            setTimeout(function() {\n",
       "                var nbb_cell_id = 87;\n",
       "                var nbb_unformatted_code = \"## Read the data\\nMy_df = pd.read_csv(\\n    \\\"/Users/yuchenwang/Desktop/YU/Fall22/Recommender System/Assignments/Assignment 1/Liquid Foundation questionnaire.csv\\\"\\n)\\nMy_df\";\n",
       "                var nbb_formatted_code = \"## Read the data\\nMy_df = pd.read_csv(\\n    \\\"/Users/yuchenwang/Desktop/YU/Fall22/Recommender System/Assignments/Assignment 1/Liquid Foundation questionnaire.csv\\\"\\n)\\nMy_df\";\n",
       "                var nbb_cells = Jupyter.notebook.get_cells();\n",
       "                for (var i = 0; i < nbb_cells.length; ++i) {\n",
       "                    if (nbb_cells[i].input_prompt_number == nbb_cell_id) {\n",
       "                        if (nbb_cells[i].get_text() == nbb_unformatted_code) {\n",
       "                             nbb_cells[i].set_text(nbb_formatted_code);\n",
       "                        }\n",
       "                        break;\n",
       "                    }\n",
       "                }\n",
       "            }, 500);\n",
       "            "
      ],
      "text/plain": [
       "<IPython.core.display.Javascript object>"
      ]
     },
     "metadata": {},
     "output_type": "display_data"
    }
   ],
   "source": [
    "## Read the data\n",
    "My_df = pd.read_csv(\n",
    "    \"/Users/yuchenwang/Desktop/YU/Fall22/Recommender System/Assignments/Assignment 1/Liquid Foundation questionnaire.csv\"\n",
    ")\n",
    "My_df"
   ]
  },
  {
   "cell_type": "code",
   "execution_count": 88,
   "id": "6db42d23",
   "metadata": {},
   "outputs": [
    {
     "data": {
      "text/html": [
       "<div>\n",
       "<style scoped>\n",
       "    .dataframe tbody tr th:only-of-type {\n",
       "        vertical-align: middle;\n",
       "    }\n",
       "\n",
       "    .dataframe tbody tr th {\n",
       "        vertical-align: top;\n",
       "    }\n",
       "\n",
       "    .dataframe thead th {\n",
       "        text-align: right;\n",
       "    }\n",
       "</style>\n",
       "<table border=\"1\" class=\"dataframe\">\n",
       "  <thead>\n",
       "    <tr style=\"text-align: right;\">\n",
       "      <th></th>\n",
       "      <th>Mac</th>\n",
       "      <th>Estee Lauder</th>\n",
       "      <th>Bobbi brown</th>\n",
       "      <th>SUQQU</th>\n",
       "      <th>YSL</th>\n",
       "      <th>Chanel</th>\n",
       "      <th>Dior</th>\n",
       "      <th>LANCÔME</th>\n",
       "    </tr>\n",
       "    <tr>\n",
       "      <th>Critics</th>\n",
       "      <th></th>\n",
       "      <th></th>\n",
       "      <th></th>\n",
       "      <th></th>\n",
       "      <th></th>\n",
       "      <th></th>\n",
       "      <th></th>\n",
       "      <th></th>\n",
       "    </tr>\n",
       "  </thead>\n",
       "  <tbody>\n",
       "    <tr>\n",
       "      <th>Allen</th>\n",
       "      <td>NaN</td>\n",
       "      <td>3.0</td>\n",
       "      <td>NaN</td>\n",
       "      <td>3.0</td>\n",
       "      <td>4.0</td>\n",
       "      <td>NaN</td>\n",
       "      <td>NaN</td>\n",
       "      <td>4.0</td>\n",
       "    </tr>\n",
       "    <tr>\n",
       "      <th>Sohee</th>\n",
       "      <td>3.0</td>\n",
       "      <td>4.0</td>\n",
       "      <td>5.0</td>\n",
       "      <td>5.0</td>\n",
       "      <td>4.0</td>\n",
       "      <td>4.0</td>\n",
       "      <td>4.0</td>\n",
       "      <td>5.0</td>\n",
       "    </tr>\n",
       "    <tr>\n",
       "      <th>Didi</th>\n",
       "      <td>4.0</td>\n",
       "      <td>5.0</td>\n",
       "      <td>NaN</td>\n",
       "      <td>NaN</td>\n",
       "      <td>5.0</td>\n",
       "      <td>5.0</td>\n",
       "      <td>NaN</td>\n",
       "      <td>5.0</td>\n",
       "    </tr>\n",
       "    <tr>\n",
       "      <th>Shao</th>\n",
       "      <td>3.0</td>\n",
       "      <td>NaN</td>\n",
       "      <td>3.0</td>\n",
       "      <td>NaN</td>\n",
       "      <td>NaN</td>\n",
       "      <td>NaN</td>\n",
       "      <td>5.0</td>\n",
       "      <td>NaN</td>\n",
       "    </tr>\n",
       "    <tr>\n",
       "      <th>Gloria</th>\n",
       "      <td>3.0</td>\n",
       "      <td>3.0</td>\n",
       "      <td>4.0</td>\n",
       "      <td>4.0</td>\n",
       "      <td>4.0</td>\n",
       "      <td>5.0</td>\n",
       "      <td>5.0</td>\n",
       "      <td>NaN</td>\n",
       "    </tr>\n",
       "    <tr>\n",
       "      <th>Grace</th>\n",
       "      <td>NaN</td>\n",
       "      <td>NaN</td>\n",
       "      <td>NaN</td>\n",
       "      <td>NaN</td>\n",
       "      <td>NaN</td>\n",
       "      <td>NaN</td>\n",
       "      <td>NaN</td>\n",
       "      <td>3.0</td>\n",
       "    </tr>\n",
       "    <tr>\n",
       "      <th>Sophie</th>\n",
       "      <td>2.0</td>\n",
       "      <td>4.0</td>\n",
       "      <td>NaN</td>\n",
       "      <td>NaN</td>\n",
       "      <td>5.0</td>\n",
       "      <td>5.0</td>\n",
       "      <td>NaN</td>\n",
       "      <td>NaN</td>\n",
       "    </tr>\n",
       "    <tr>\n",
       "      <th>Pan</th>\n",
       "      <td>NaN</td>\n",
       "      <td>3.0</td>\n",
       "      <td>4.0</td>\n",
       "      <td>4.0</td>\n",
       "      <td>NaN</td>\n",
       "      <td>4.0</td>\n",
       "      <td>5.0</td>\n",
       "      <td>5.0</td>\n",
       "    </tr>\n",
       "    <tr>\n",
       "      <th>Molly</th>\n",
       "      <td>5.0</td>\n",
       "      <td>4.0</td>\n",
       "      <td>3.0</td>\n",
       "      <td>2.0</td>\n",
       "      <td>NaN</td>\n",
       "      <td>NaN</td>\n",
       "      <td>NaN</td>\n",
       "      <td>2.0</td>\n",
       "    </tr>\n",
       "    <tr>\n",
       "      <th>Keer</th>\n",
       "      <td>4.0</td>\n",
       "      <td>3.0</td>\n",
       "      <td>4.0</td>\n",
       "      <td>4.0</td>\n",
       "      <td>5.0</td>\n",
       "      <td>5.0</td>\n",
       "      <td>NaN</td>\n",
       "      <td>NaN</td>\n",
       "    </tr>\n",
       "  </tbody>\n",
       "</table>\n",
       "</div>"
      ],
      "text/plain": [
       "         Mac  Estee Lauder  Bobbi brown  SUQQU  YSL  Chanel  Dior  LANCÔME\n",
       "Critics                                                                   \n",
       "Allen    NaN           3.0          NaN    3.0  4.0     NaN   NaN      4.0\n",
       "Sohee    3.0           4.0          5.0    5.0  4.0     4.0   4.0      5.0\n",
       "Didi     4.0           5.0          NaN    NaN  5.0     5.0   NaN      5.0\n",
       "Shao     3.0           NaN          3.0    NaN  NaN     NaN   5.0      NaN\n",
       "Gloria   3.0           3.0          4.0    4.0  4.0     5.0   5.0      NaN\n",
       "Grace    NaN           NaN          NaN    NaN  NaN     NaN   NaN      3.0\n",
       "Sophie   2.0           4.0          NaN    NaN  5.0     5.0   NaN      NaN\n",
       "Pan      NaN           3.0          4.0    4.0  NaN     4.0   5.0      5.0\n",
       "Molly    5.0           4.0          3.0    2.0  NaN     NaN   NaN      2.0\n",
       "Keer     4.0           3.0          4.0    4.0  5.0     5.0   NaN      NaN"
      ]
     },
     "execution_count": 88,
     "metadata": {},
     "output_type": "execute_result"
    },
    {
     "data": {
      "application/javascript": [
       "\n",
       "            setTimeout(function() {\n",
       "                var nbb_cell_id = 88;\n",
       "                var nbb_unformatted_code = \"## Reset the index of this pandas dataframe\\nMy_df.set_index([\\\"Critics\\\"], inplace=True)\\n## Check the data again\\nMy_df\";\n",
       "                var nbb_formatted_code = \"## Reset the index of this pandas dataframe\\nMy_df.set_index([\\\"Critics\\\"], inplace=True)\\n## Check the data again\\nMy_df\";\n",
       "                var nbb_cells = Jupyter.notebook.get_cells();\n",
       "                for (var i = 0; i < nbb_cells.length; ++i) {\n",
       "                    if (nbb_cells[i].input_prompt_number == nbb_cell_id) {\n",
       "                        if (nbb_cells[i].get_text() == nbb_unformatted_code) {\n",
       "                             nbb_cells[i].set_text(nbb_formatted_code);\n",
       "                        }\n",
       "                        break;\n",
       "                    }\n",
       "                }\n",
       "            }, 500);\n",
       "            "
      ],
      "text/plain": [
       "<IPython.core.display.Javascript object>"
      ]
     },
     "metadata": {},
     "output_type": "display_data"
    }
   ],
   "source": [
    "## Reset the index of this pandas dataframe\n",
    "My_df.set_index([\"Critics\"], inplace=True)\n",
    "## Check the data again\n",
    "My_df"
   ]
  },
  {
   "cell_type": "code",
   "execution_count": 89,
   "id": "a7a80fb3",
   "metadata": {},
   "outputs": [
    {
     "name": "stdout",
     "output_type": "stream",
     "text": [
      "  (0, 0)\tnan\n",
      "  (0, 1)\t3.0\n",
      "  (0, 2)\tnan\n",
      "  (0, 3)\t3.0\n",
      "  (0, 4)\t4.0\n",
      "  (0, 5)\tnan\n",
      "  (0, 6)\tnan\n",
      "  (0, 7)\t4.0\n",
      "  (1, 0)\t3.0\n",
      "  (1, 1)\t4.0\n",
      "  (1, 2)\t5.0\n",
      "  (1, 3)\t5.0\n",
      "  (1, 4)\t4.0\n",
      "  (1, 5)\t4.0\n",
      "  (1, 6)\t4.0\n",
      "  (1, 7)\t5.0\n",
      "  (2, 0)\t4.0\n",
      "  (2, 1)\t5.0\n",
      "  (2, 2)\tnan\n",
      "  (2, 3)\tnan\n",
      "  (2, 4)\t5.0\n",
      "  (2, 5)\t5.0\n",
      "  (2, 6)\tnan\n",
      "  (2, 7)\t5.0\n",
      "  (3, 0)\t3.0\n",
      "  :\t:\n",
      "  (6, 7)\tnan\n",
      "  (7, 0)\tnan\n",
      "  (7, 1)\t3.0\n",
      "  (7, 2)\t4.0\n",
      "  (7, 3)\t4.0\n",
      "  (7, 4)\tnan\n",
      "  (7, 5)\t4.0\n",
      "  (7, 6)\t5.0\n",
      "  (7, 7)\t5.0\n",
      "  (8, 0)\t5.0\n",
      "  (8, 1)\t4.0\n",
      "  (8, 2)\t3.0\n",
      "  (8, 3)\t2.0\n",
      "  (8, 4)\tnan\n",
      "  (8, 5)\tnan\n",
      "  (8, 6)\tnan\n",
      "  (8, 7)\t2.0\n",
      "  (9, 0)\t4.0\n",
      "  (9, 1)\t3.0\n",
      "  (9, 2)\t4.0\n",
      "  (9, 3)\t4.0\n",
      "  (9, 4)\t5.0\n",
      "  (9, 5)\t5.0\n",
      "  (9, 6)\tnan\n",
      "  (9, 7)\tnan\n"
     ]
    },
    {
     "data": {
      "application/javascript": [
       "\n",
       "            setTimeout(function() {\n",
       "                var nbb_cell_id = 89;\n",
       "                var nbb_unformatted_code = \"## Create a CSR sparse matrix\\nMy_df_csr = sparse.csr_matrix(My_df)\\nprint(My_df_csr)\";\n",
       "                var nbb_formatted_code = \"## Create a CSR sparse matrix\\nMy_df_csr = sparse.csr_matrix(My_df)\\nprint(My_df_csr)\";\n",
       "                var nbb_cells = Jupyter.notebook.get_cells();\n",
       "                for (var i = 0; i < nbb_cells.length; ++i) {\n",
       "                    if (nbb_cells[i].input_prompt_number == nbb_cell_id) {\n",
       "                        if (nbb_cells[i].get_text() == nbb_unformatted_code) {\n",
       "                             nbb_cells[i].set_text(nbb_formatted_code);\n",
       "                        }\n",
       "                        break;\n",
       "                    }\n",
       "                }\n",
       "            }, 500);\n",
       "            "
      ],
      "text/plain": [
       "<IPython.core.display.Javascript object>"
      ]
     },
     "metadata": {},
     "output_type": "display_data"
    }
   ],
   "source": [
    "## Create a CSR sparse matrix\n",
    "My_df_csr = sparse.csr_matrix(My_df)\n",
    "print(My_df_csr)"
   ]
  },
  {
   "cell_type": "markdown",
   "id": "f5e9038d",
   "metadata": {},
   "source": [
    "#### 4. Another Rec_Sys dataset."
   ]
  },
  {
   "cell_type": "code",
   "execution_count": 90,
   "id": "c85bdcaf",
   "metadata": {},
   "outputs": [
    {
     "data": {
      "application/javascript": [
       "\n",
       "            setTimeout(function() {\n",
       "                var nbb_cell_id = 90;\n",
       "                var nbb_unformatted_code = \"## Not finished\";\n",
       "                var nbb_formatted_code = \"## Not finished\";\n",
       "                var nbb_cells = Jupyter.notebook.get_cells();\n",
       "                for (var i = 0; i < nbb_cells.length; ++i) {\n",
       "                    if (nbb_cells[i].input_prompt_number == nbb_cell_id) {\n",
       "                        if (nbb_cells[i].get_text() == nbb_unformatted_code) {\n",
       "                             nbb_cells[i].set_text(nbb_formatted_code);\n",
       "                        }\n",
       "                        break;\n",
       "                    }\n",
       "                }\n",
       "            }, 500);\n",
       "            "
      ],
      "text/plain": [
       "<IPython.core.display.Javascript object>"
      ]
     },
     "metadata": {},
     "output_type": "display_data"
    }
   ],
   "source": [
    "## Not finished"
   ]
  }
 ],
 "metadata": {
  "kernelspec": {
   "display_name": "Python 3 (ipykernel)",
   "language": "python",
   "name": "python3"
  },
  "language_info": {
   "codemirror_mode": {
    "name": "ipython",
    "version": 3
   },
   "file_extension": ".py",
   "mimetype": "text/x-python",
   "name": "python",
   "nbconvert_exporter": "python",
   "pygments_lexer": "ipython3",
   "version": "3.9.7"
  }
 },
 "nbformat": 4,
 "nbformat_minor": 5
}
