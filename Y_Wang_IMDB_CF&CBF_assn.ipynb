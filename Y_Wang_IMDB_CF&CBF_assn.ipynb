{
 "cells": [
  {
   "cell_type": "markdown",
   "id": "fb1397a2",
   "metadata": {},
   "source": [
    "## Part I: Scrape data from IMDB Top 100 Movies"
   ]
  },
  {
   "cell_type": "markdown",
   "id": "05c714ba",
   "metadata": {},
   "source": [
    "#### Import Libraries"
   ]
  },
  {
   "cell_type": "code",
   "execution_count": 1,
   "id": "9866e5c4",
   "metadata": {},
   "outputs": [
    {
     "data": {
      "application/javascript": [
       "\n",
       "            setTimeout(function() {\n",
       "                var nbb_cell_id = 1;\n",
       "                var nbb_unformatted_code = \"import pandas as pd\\nimport requests\\nfrom bs4 import BeautifulSoup\\nimport numpy as np\\n\\nfrom sklearn.feature_extraction.text import TfidfVectorizer\\nfrom sklearn.metrics.pairwise import linear_kernel\\n\\n%load_ext nb_black\";\n",
       "                var nbb_formatted_code = \"import pandas as pd\\nimport requests\\nfrom bs4 import BeautifulSoup\\nimport numpy as np\\n\\nfrom sklearn.feature_extraction.text import TfidfVectorizer\\nfrom sklearn.metrics.pairwise import linear_kernel\\n\\n%load_ext nb_black\";\n",
       "                var nbb_cells = Jupyter.notebook.get_cells();\n",
       "                for (var i = 0; i < nbb_cells.length; ++i) {\n",
       "                    if (nbb_cells[i].input_prompt_number == nbb_cell_id) {\n",
       "                        if (nbb_cells[i].get_text() == nbb_unformatted_code) {\n",
       "                             nbb_cells[i].set_text(nbb_formatted_code);\n",
       "                        }\n",
       "                        break;\n",
       "                    }\n",
       "                }\n",
       "            }, 500);\n",
       "            "
      ],
      "text/plain": [
       "<IPython.core.display.Javascript object>"
      ]
     },
     "metadata": {},
     "output_type": "display_data"
    }
   ],
   "source": [
    "import pandas as pd\n",
    "import requests\n",
    "from bs4 import BeautifulSoup\n",
    "import numpy as np\n",
    "\n",
    "from sklearn.feature_extraction.text import TfidfVectorizer\n",
    "from sklearn.metrics.pairwise import linear_kernel\n",
    "\n",
    "%load_ext nb_black"
   ]
  },
  {
   "cell_type": "code",
   "execution_count": 2,
   "id": "364387cb",
   "metadata": {},
   "outputs": [
    {
     "data": {
      "application/javascript": [
       "\n",
       "            setTimeout(function() {\n",
       "                var nbb_cell_id = 2;\n",
       "                var nbb_unformatted_code = \"movie_rating = pd.read_csv(\\n    \\\"https://raw.githubusercontent.com/ycwang15/Rec_Sys_assignments/Data/movie_rating.csv\\\"\\n)\";\n",
       "                var nbb_formatted_code = \"movie_rating = pd.read_csv(\\n    \\\"https://raw.githubusercontent.com/ycwang15/Rec_Sys_assignments/Data/movie_rating.csv\\\"\\n)\";\n",
       "                var nbb_cells = Jupyter.notebook.get_cells();\n",
       "                for (var i = 0; i < nbb_cells.length; ++i) {\n",
       "                    if (nbb_cells[i].input_prompt_number == nbb_cell_id) {\n",
       "                        if (nbb_cells[i].get_text() == nbb_unformatted_code) {\n",
       "                             nbb_cells[i].set_text(nbb_formatted_code);\n",
       "                        }\n",
       "                        break;\n",
       "                    }\n",
       "                }\n",
       "            }, 500);\n",
       "            "
      ],
      "text/plain": [
       "<IPython.core.display.Javascript object>"
      ]
     },
     "metadata": {},
     "output_type": "display_data"
    }
   ],
   "source": [
    "movie_rating = pd.read_csv(\n",
    "    \"https://raw.githubusercontent.com/ycwang15/Rec_Sys_assignments/Data/movie_rating.csv\"\n",
    ")"
   ]
  },
  {
   "cell_type": "markdown",
   "id": "166340b4",
   "metadata": {},
   "source": [
    "#### Scrape data from IMDB top1000 greatest movies website"
   ]
  },
  {
   "cell_type": "code",
   "execution_count": 3,
   "id": "ca542d87",
   "metadata": {},
   "outputs": [
    {
     "data": {
      "application/javascript": [
       "\n",
       "            setTimeout(function() {\n",
       "                var nbb_cell_id = 3;\n",
       "                var nbb_unformatted_code = \"url = \\\"https://www.imdb.com/list/ls006266261/\\\"\\nresponse = requests.get(url)\\nsoup = BeautifulSoup(response.content, \\\"html.parser\\\")\";\n",
       "                var nbb_formatted_code = \"url = \\\"https://www.imdb.com/list/ls006266261/\\\"\\nresponse = requests.get(url)\\nsoup = BeautifulSoup(response.content, \\\"html.parser\\\")\";\n",
       "                var nbb_cells = Jupyter.notebook.get_cells();\n",
       "                for (var i = 0; i < nbb_cells.length; ++i) {\n",
       "                    if (nbb_cells[i].input_prompt_number == nbb_cell_id) {\n",
       "                        if (nbb_cells[i].get_text() == nbb_unformatted_code) {\n",
       "                             nbb_cells[i].set_text(nbb_formatted_code);\n",
       "                        }\n",
       "                        break;\n",
       "                    }\n",
       "                }\n",
       "            }, 500);\n",
       "            "
      ],
      "text/plain": [
       "<IPython.core.display.Javascript object>"
      ]
     },
     "metadata": {},
     "output_type": "display_data"
    }
   ],
   "source": [
    "url = \"https://www.imdb.com/list/ls006266261/\"\n",
    "response = requests.get(url)\n",
    "soup = BeautifulSoup(response.content, \"html.parser\")"
   ]
  },
  {
   "cell_type": "markdown",
   "id": "cb601500",
   "metadata": {},
   "source": [
    "#### Create three different lists(name; year and genre)."
   ]
  },
  {
   "cell_type": "code",
   "execution_count": 4,
   "id": "8c0f8c22",
   "metadata": {},
   "outputs": [
    {
     "data": {
      "application/javascript": [
       "\n",
       "            setTimeout(function() {\n",
       "                var nbb_cell_id = 4;\n",
       "                var nbb_unformatted_code = \"movie_name = []\\nyear = []\\nplot = []\";\n",
       "                var nbb_formatted_code = \"movie_name = []\\nyear = []\\nplot = []\";\n",
       "                var nbb_cells = Jupyter.notebook.get_cells();\n",
       "                for (var i = 0; i < nbb_cells.length; ++i) {\n",
       "                    if (nbb_cells[i].input_prompt_number == nbb_cell_id) {\n",
       "                        if (nbb_cells[i].get_text() == nbb_unformatted_code) {\n",
       "                             nbb_cells[i].set_text(nbb_formatted_code);\n",
       "                        }\n",
       "                        break;\n",
       "                    }\n",
       "                }\n",
       "            }, 500);\n",
       "            "
      ],
      "text/plain": [
       "<IPython.core.display.Javascript object>"
      ]
     },
     "metadata": {},
     "output_type": "display_data"
    }
   ],
   "source": [
    "movie_name = []\n",
    "year = []\n",
    "plot = []"
   ]
  },
  {
   "cell_type": "code",
   "execution_count": 5,
   "id": "9dd7ed4a",
   "metadata": {},
   "outputs": [
    {
     "data": {
      "application/javascript": [
       "\n",
       "            setTimeout(function() {\n",
       "                var nbb_cell_id = 5;\n",
       "                var nbb_unformatted_code = \"movie_data = soup.findAll(\\\"div\\\", attrs={\\\"class\\\": \\\"lister-item mode-detail\\\"})\";\n",
       "                var nbb_formatted_code = \"movie_data = soup.findAll(\\\"div\\\", attrs={\\\"class\\\": \\\"lister-item mode-detail\\\"})\";\n",
       "                var nbb_cells = Jupyter.notebook.get_cells();\n",
       "                for (var i = 0; i < nbb_cells.length; ++i) {\n",
       "                    if (nbb_cells[i].input_prompt_number == nbb_cell_id) {\n",
       "                        if (nbb_cells[i].get_text() == nbb_unformatted_code) {\n",
       "                             nbb_cells[i].set_text(nbb_formatted_code);\n",
       "                        }\n",
       "                        break;\n",
       "                    }\n",
       "                }\n",
       "            }, 500);\n",
       "            "
      ],
      "text/plain": [
       "<IPython.core.display.Javascript object>"
      ]
     },
     "metadata": {},
     "output_type": "display_data"
    }
   ],
   "source": [
    "movie_data = soup.findAll(\"div\", attrs={\"class\": \"lister-item mode-detail\"})"
   ]
  },
  {
   "cell_type": "code",
   "execution_count": 6,
   "id": "50e44af6",
   "metadata": {},
   "outputs": [
    {
     "data": {
      "application/javascript": [
       "\n",
       "            setTimeout(function() {\n",
       "                var nbb_cell_id = 6;\n",
       "                var nbb_unformatted_code = \"for i in movie_data:\\n    name = i.h3.a.text\\n    movie_name.append(name)\\n\\n    year_of_release = (\\n        i.h3.find(\\\"span\\\", class_=\\\"lister-item-year text-muted unbold\\\")\\n        .text.replace(\\\"(\\\", \\\"\\\")\\n        .replace(\\\")\\\", \\\"\\\")\\n    )\\n    year.append(year_of_release)\\n\\n    plot_des = i.find(\\\"p\\\", class_=\\\"\\\").text[1:]\\n    plot.append(plot_des)\";\n",
       "                var nbb_formatted_code = \"for i in movie_data:\\n    name = i.h3.a.text\\n    movie_name.append(name)\\n\\n    year_of_release = (\\n        i.h3.find(\\\"span\\\", class_=\\\"lister-item-year text-muted unbold\\\")\\n        .text.replace(\\\"(\\\", \\\"\\\")\\n        .replace(\\\")\\\", \\\"\\\")\\n    )\\n    year.append(year_of_release)\\n\\n    plot_des = i.find(\\\"p\\\", class_=\\\"\\\").text[1:]\\n    plot.append(plot_des)\";\n",
       "                var nbb_cells = Jupyter.notebook.get_cells();\n",
       "                for (var i = 0; i < nbb_cells.length; ++i) {\n",
       "                    if (nbb_cells[i].input_prompt_number == nbb_cell_id) {\n",
       "                        if (nbb_cells[i].get_text() == nbb_unformatted_code) {\n",
       "                             nbb_cells[i].set_text(nbb_formatted_code);\n",
       "                        }\n",
       "                        break;\n",
       "                    }\n",
       "                }\n",
       "            }, 500);\n",
       "            "
      ],
      "text/plain": [
       "<IPython.core.display.Javascript object>"
      ]
     },
     "metadata": {},
     "output_type": "display_data"
    }
   ],
   "source": [
    "for i in movie_data:\n",
    "    name = i.h3.a.text\n",
    "    movie_name.append(name)\n",
    "\n",
    "    year_of_release = (\n",
    "        i.h3.find(\"span\", class_=\"lister-item-year text-muted unbold\")\n",
    "        .text.replace(\"(\", \"\")\n",
    "        .replace(\")\", \"\")\n",
    "    )\n",
    "    year.append(year_of_release)\n",
    "\n",
    "    plot_des = i.find(\"p\", class_=\"\").text[1:]\n",
    "    plot.append(plot_des)"
   ]
  },
  {
   "cell_type": "markdown",
   "id": "77b72492",
   "metadata": {},
   "source": [
    "#### Check first 10 items in the lists"
   ]
  },
  {
   "cell_type": "code",
   "execution_count": 7,
   "id": "8cb9f734",
   "metadata": {},
   "outputs": [
    {
     "name": "stdout",
     "output_type": "stream",
     "text": [
      "['The Godfather', 'Goodfellas', 'Pulp Fiction', 'The Usual Suspects', 'Apocalypse Now', 'Trainspotting', 'Fight Club', \"Schindler's List\", 'Boogie Nights', 'Reservoir Dogs']\n"
     ]
    },
    {
     "data": {
      "application/javascript": [
       "\n",
       "            setTimeout(function() {\n",
       "                var nbb_cell_id = 7;\n",
       "                var nbb_unformatted_code = \"print(movie_name[0:10])\";\n",
       "                var nbb_formatted_code = \"print(movie_name[0:10])\";\n",
       "                var nbb_cells = Jupyter.notebook.get_cells();\n",
       "                for (var i = 0; i < nbb_cells.length; ++i) {\n",
       "                    if (nbb_cells[i].input_prompt_number == nbb_cell_id) {\n",
       "                        if (nbb_cells[i].get_text() == nbb_unformatted_code) {\n",
       "                             nbb_cells[i].set_text(nbb_formatted_code);\n",
       "                        }\n",
       "                        break;\n",
       "                    }\n",
       "                }\n",
       "            }, 500);\n",
       "            "
      ],
      "text/plain": [
       "<IPython.core.display.Javascript object>"
      ]
     },
     "metadata": {},
     "output_type": "display_data"
    }
   ],
   "source": [
    "print(movie_name[0:10])"
   ]
  },
  {
   "cell_type": "code",
   "execution_count": 8,
   "id": "1721ab4c",
   "metadata": {},
   "outputs": [
    {
     "name": "stdout",
     "output_type": "stream",
     "text": [
      "['1972', '1990', '1994', '1995', '1979', '1996', '1999', '1993', '1997', '1992']\n"
     ]
    },
    {
     "data": {
      "application/javascript": [
       "\n",
       "            setTimeout(function() {\n",
       "                var nbb_cell_id = 8;\n",
       "                var nbb_unformatted_code = \"print(year[0:10])\";\n",
       "                var nbb_formatted_code = \"print(year[0:10])\";\n",
       "                var nbb_cells = Jupyter.notebook.get_cells();\n",
       "                for (var i = 0; i < nbb_cells.length; ++i) {\n",
       "                    if (nbb_cells[i].input_prompt_number == nbb_cell_id) {\n",
       "                        if (nbb_cells[i].get_text() == nbb_unformatted_code) {\n",
       "                             nbb_cells[i].set_text(nbb_formatted_code);\n",
       "                        }\n",
       "                        break;\n",
       "                    }\n",
       "                }\n",
       "            }, 500);\n",
       "            "
      ],
      "text/plain": [
       "<IPython.core.display.Javascript object>"
      ]
     },
     "metadata": {},
     "output_type": "display_data"
    }
   ],
   "source": [
    "print(year[0:10])"
   ]
  },
  {
   "cell_type": "code",
   "execution_count": 9,
   "id": "1e6cbcbe",
   "metadata": {},
   "outputs": [
    {
     "name": "stdout",
     "output_type": "stream",
     "text": [
      "['The aging patriarch of an organized crime dynasty in postwar New York City transfers control of his clandestine empire to his reluctant youngest son.', 'The story of Henry Hill and his life in the mob, covering his relationship with his wife Karen Hill and his mob partners Jimmy Conway and Tommy DeVito in the Italian-American crime syndicate.', 'The lives of two mob hitmen, a boxer, a gangster and his wife, and a pair of diner bandits intertwine in four tales of violence and redemption.', 'A sole survivor tells of the twisty events leading up to a horrific gun battle on a boat, which began when five criminals met at a seemingly random police lineup.', 'A U.S. Army officer serving in Vietnam is tasked with assassinating a renegade Special Forces Colonel who sees himself as a god.', 'Renton, deeply immersed in the Edinburgh drug scene, tries to clean up and get out, despite the allure of the drugs and influence of friends.', 'An insomniac office worker and a devil-may-care soap maker form an underground fight club that evolves into much more.', 'In German-occupied Poland during World War II, industrialist Oskar Schindler gradually becomes concerned for his Jewish workforce after witnessing their persecution by the Nazis.', 'Back when sex was safe, pleasure was a business and business was booming, an idealistic porn producer aspires to elevate his craft to an art when he discovers a hot young talent.', 'When a simple jewelry heist goes horribly wrong, the surviving criminals begin to suspect that one of them is a police informant.']\n"
     ]
    },
    {
     "data": {
      "application/javascript": [
       "\n",
       "            setTimeout(function() {\n",
       "                var nbb_cell_id = 9;\n",
       "                var nbb_unformatted_code = \"print(plot[0:10])\";\n",
       "                var nbb_formatted_code = \"print(plot[0:10])\";\n",
       "                var nbb_cells = Jupyter.notebook.get_cells();\n",
       "                for (var i = 0; i < nbb_cells.length; ++i) {\n",
       "                    if (nbb_cells[i].input_prompt_number == nbb_cell_id) {\n",
       "                        if (nbb_cells[i].get_text() == nbb_unformatted_code) {\n",
       "                             nbb_cells[i].set_text(nbb_formatted_code);\n",
       "                        }\n",
       "                        break;\n",
       "                    }\n",
       "                }\n",
       "            }, 500);\n",
       "            "
      ],
      "text/plain": [
       "<IPython.core.display.Javascript object>"
      ]
     },
     "metadata": {},
     "output_type": "display_data"
    }
   ],
   "source": [
    "print(plot[0:10])"
   ]
  },
  {
   "cell_type": "markdown",
   "id": "40abbb5c",
   "metadata": {},
   "source": [
    "#### Store the data into a pandas dataframe"
   ]
  },
  {
   "cell_type": "code",
   "execution_count": 10,
   "id": "f25f94cc",
   "metadata": {},
   "outputs": [
    {
     "data": {
      "application/javascript": [
       "\n",
       "            setTimeout(function() {\n",
       "                var nbb_cell_id = 10;\n",
       "                var nbb_unformatted_code = \"movies_df = pd.DataFrame({\\\"name\\\": movie_name, \\\"year\\\": year, \\\"plot\\\": plot})\";\n",
       "                var nbb_formatted_code = \"movies_df = pd.DataFrame({\\\"name\\\": movie_name, \\\"year\\\": year, \\\"plot\\\": plot})\";\n",
       "                var nbb_cells = Jupyter.notebook.get_cells();\n",
       "                for (var i = 0; i < nbb_cells.length; ++i) {\n",
       "                    if (nbb_cells[i].input_prompt_number == nbb_cell_id) {\n",
       "                        if (nbb_cells[i].get_text() == nbb_unformatted_code) {\n",
       "                             nbb_cells[i].set_text(nbb_formatted_code);\n",
       "                        }\n",
       "                        break;\n",
       "                    }\n",
       "                }\n",
       "            }, 500);\n",
       "            "
      ],
      "text/plain": [
       "<IPython.core.display.Javascript object>"
      ]
     },
     "metadata": {},
     "output_type": "display_data"
    }
   ],
   "source": [
    "movies_df = pd.DataFrame({\"name\": movie_name, \"year\": year, \"plot\": plot})"
   ]
  },
  {
   "cell_type": "code",
   "execution_count": 11,
   "id": "0fa1a2d3",
   "metadata": {},
   "outputs": [
    {
     "data": {
      "text/html": [
       "<div>\n",
       "<style scoped>\n",
       "    .dataframe tbody tr th:only-of-type {\n",
       "        vertical-align: middle;\n",
       "    }\n",
       "\n",
       "    .dataframe tbody tr th {\n",
       "        vertical-align: top;\n",
       "    }\n",
       "\n",
       "    .dataframe thead th {\n",
       "        text-align: right;\n",
       "    }\n",
       "</style>\n",
       "<table border=\"1\" class=\"dataframe\">\n",
       "  <thead>\n",
       "    <tr style=\"text-align: right;\">\n",
       "      <th></th>\n",
       "      <th>name</th>\n",
       "      <th>year</th>\n",
       "      <th>plot</th>\n",
       "    </tr>\n",
       "  </thead>\n",
       "  <tbody>\n",
       "    <tr>\n",
       "      <th>0</th>\n",
       "      <td>The Godfather</td>\n",
       "      <td>1972</td>\n",
       "      <td>The aging patriarch of an organized crime dyna...</td>\n",
       "    </tr>\n",
       "    <tr>\n",
       "      <th>1</th>\n",
       "      <td>Goodfellas</td>\n",
       "      <td>1990</td>\n",
       "      <td>The story of Henry Hill and his life in the mo...</td>\n",
       "    </tr>\n",
       "    <tr>\n",
       "      <th>2</th>\n",
       "      <td>Pulp Fiction</td>\n",
       "      <td>1994</td>\n",
       "      <td>The lives of two mob hitmen, a boxer, a gangst...</td>\n",
       "    </tr>\n",
       "    <tr>\n",
       "      <th>3</th>\n",
       "      <td>The Usual Suspects</td>\n",
       "      <td>1995</td>\n",
       "      <td>A sole survivor tells of the twisty events lea...</td>\n",
       "    </tr>\n",
       "    <tr>\n",
       "      <th>4</th>\n",
       "      <td>Apocalypse Now</td>\n",
       "      <td>1979</td>\n",
       "      <td>A U.S. Army officer serving in Vietnam is task...</td>\n",
       "    </tr>\n",
       "  </tbody>\n",
       "</table>\n",
       "</div>"
      ],
      "text/plain": [
       "                 name  year                                               plot\n",
       "0       The Godfather  1972  The aging patriarch of an organized crime dyna...\n",
       "1          Goodfellas  1990  The story of Henry Hill and his life in the mo...\n",
       "2        Pulp Fiction  1994  The lives of two mob hitmen, a boxer, a gangst...\n",
       "3  The Usual Suspects  1995  A sole survivor tells of the twisty events lea...\n",
       "4      Apocalypse Now  1979  A U.S. Army officer serving in Vietnam is task..."
      ]
     },
     "execution_count": 11,
     "metadata": {},
     "output_type": "execute_result"
    },
    {
     "data": {
      "application/javascript": [
       "\n",
       "            setTimeout(function() {\n",
       "                var nbb_cell_id = 11;\n",
       "                var nbb_unformatted_code = \"movies_df.head()\";\n",
       "                var nbb_formatted_code = \"movies_df.head()\";\n",
       "                var nbb_cells = Jupyter.notebook.get_cells();\n",
       "                for (var i = 0; i < nbb_cells.length; ++i) {\n",
       "                    if (nbb_cells[i].input_prompt_number == nbb_cell_id) {\n",
       "                        if (nbb_cells[i].get_text() == nbb_unformatted_code) {\n",
       "                             nbb_cells[i].set_text(nbb_formatted_code);\n",
       "                        }\n",
       "                        break;\n",
       "                    }\n",
       "                }\n",
       "            }, 500);\n",
       "            "
      ],
      "text/plain": [
       "<IPython.core.display.Javascript object>"
      ]
     },
     "metadata": {},
     "output_type": "display_data"
    }
   ],
   "source": [
    "movies_df.head()"
   ]
  },
  {
   "cell_type": "markdown",
   "id": "650812d5",
   "metadata": {},
   "source": [
    "#### I want to combine the two attributes(year and plot) into one column, making it much easier to analyze."
   ]
  },
  {
   "cell_type": "code",
   "execution_count": 12,
   "id": "cbd5211b",
   "metadata": {},
   "outputs": [
    {
     "data": {
      "application/javascript": [
       "\n",
       "            setTimeout(function() {\n",
       "                var nbb_cell_id = 12;\n",
       "                var nbb_unformatted_code = \"movies_df[\\\"year_plot\\\"] = movies_df[\\\"year\\\"].astype(str) + \\\" \\\" + movies_df[\\\"plot\\\"]\";\n",
       "                var nbb_formatted_code = \"movies_df[\\\"year_plot\\\"] = movies_df[\\\"year\\\"].astype(str) + \\\" \\\" + movies_df[\\\"plot\\\"]\";\n",
       "                var nbb_cells = Jupyter.notebook.get_cells();\n",
       "                for (var i = 0; i < nbb_cells.length; ++i) {\n",
       "                    if (nbb_cells[i].input_prompt_number == nbb_cell_id) {\n",
       "                        if (nbb_cells[i].get_text() == nbb_unformatted_code) {\n",
       "                             nbb_cells[i].set_text(nbb_formatted_code);\n",
       "                        }\n",
       "                        break;\n",
       "                    }\n",
       "                }\n",
       "            }, 500);\n",
       "            "
      ],
      "text/plain": [
       "<IPython.core.display.Javascript object>"
      ]
     },
     "metadata": {},
     "output_type": "display_data"
    }
   ],
   "source": [
    "movies_df[\"year_plot\"] = movies_df[\"year\"].astype(str) + \" \" + movies_df[\"plot\"]"
   ]
  },
  {
   "cell_type": "code",
   "execution_count": 13,
   "id": "f0d57c6c",
   "metadata": {},
   "outputs": [
    {
     "data": {
      "application/javascript": [
       "\n",
       "            setTimeout(function() {\n",
       "                var nbb_cell_id = 13;\n",
       "                var nbb_unformatted_code = \"movies_df = movies_df.drop([\\\"year\\\", \\\"plot\\\"], axis=1)\";\n",
       "                var nbb_formatted_code = \"movies_df = movies_df.drop([\\\"year\\\", \\\"plot\\\"], axis=1)\";\n",
       "                var nbb_cells = Jupyter.notebook.get_cells();\n",
       "                for (var i = 0; i < nbb_cells.length; ++i) {\n",
       "                    if (nbb_cells[i].input_prompt_number == nbb_cell_id) {\n",
       "                        if (nbb_cells[i].get_text() == nbb_unformatted_code) {\n",
       "                             nbb_cells[i].set_text(nbb_formatted_code);\n",
       "                        }\n",
       "                        break;\n",
       "                    }\n",
       "                }\n",
       "            }, 500);\n",
       "            "
      ],
      "text/plain": [
       "<IPython.core.display.Javascript object>"
      ]
     },
     "metadata": {},
     "output_type": "display_data"
    }
   ],
   "source": [
    "movies_df = movies_df.drop([\"year\", \"plot\"], axis=1)"
   ]
  },
  {
   "cell_type": "code",
   "execution_count": 14,
   "id": "b5a324e7",
   "metadata": {},
   "outputs": [
    {
     "data": {
      "application/javascript": [
       "\n",
       "            setTimeout(function() {\n",
       "                var nbb_cell_id = 14;\n",
       "                var nbb_unformatted_code = \"movies_df.rename(columns={\\\"year_plot\\\": \\\"Overview\\\"}, inplace=True)\";\n",
       "                var nbb_formatted_code = \"movies_df.rename(columns={\\\"year_plot\\\": \\\"Overview\\\"}, inplace=True)\";\n",
       "                var nbb_cells = Jupyter.notebook.get_cells();\n",
       "                for (var i = 0; i < nbb_cells.length; ++i) {\n",
       "                    if (nbb_cells[i].input_prompt_number == nbb_cell_id) {\n",
       "                        if (nbb_cells[i].get_text() == nbb_unformatted_code) {\n",
       "                             nbb_cells[i].set_text(nbb_formatted_code);\n",
       "                        }\n",
       "                        break;\n",
       "                    }\n",
       "                }\n",
       "            }, 500);\n",
       "            "
      ],
      "text/plain": [
       "<IPython.core.display.Javascript object>"
      ]
     },
     "metadata": {},
     "output_type": "display_data"
    }
   ],
   "source": [
    "movies_df.rename(columns={\"year_plot\": \"Overview\"}, inplace=True)"
   ]
  },
  {
   "cell_type": "markdown",
   "id": "fd888156",
   "metadata": {},
   "source": [
    "#### Check the dataset again"
   ]
  },
  {
   "cell_type": "code",
   "execution_count": 15,
   "id": "a9086b22",
   "metadata": {},
   "outputs": [
    {
     "data": {
      "text/html": [
       "<div>\n",
       "<style scoped>\n",
       "    .dataframe tbody tr th:only-of-type {\n",
       "        vertical-align: middle;\n",
       "    }\n",
       "\n",
       "    .dataframe tbody tr th {\n",
       "        vertical-align: top;\n",
       "    }\n",
       "\n",
       "    .dataframe thead th {\n",
       "        text-align: right;\n",
       "    }\n",
       "</style>\n",
       "<table border=\"1\" class=\"dataframe\">\n",
       "  <thead>\n",
       "    <tr style=\"text-align: right;\">\n",
       "      <th></th>\n",
       "      <th>name</th>\n",
       "      <th>Overview</th>\n",
       "    </tr>\n",
       "  </thead>\n",
       "  <tbody>\n",
       "    <tr>\n",
       "      <th>0</th>\n",
       "      <td>The Godfather</td>\n",
       "      <td>1972 The aging patriarch of an organized crime...</td>\n",
       "    </tr>\n",
       "    <tr>\n",
       "      <th>1</th>\n",
       "      <td>Goodfellas</td>\n",
       "      <td>1990 The story of Henry Hill and his life in t...</td>\n",
       "    </tr>\n",
       "    <tr>\n",
       "      <th>2</th>\n",
       "      <td>Pulp Fiction</td>\n",
       "      <td>1994 The lives of two mob hitmen, a boxer, a g...</td>\n",
       "    </tr>\n",
       "    <tr>\n",
       "      <th>3</th>\n",
       "      <td>The Usual Suspects</td>\n",
       "      <td>1995 A sole survivor tells of the twisty event...</td>\n",
       "    </tr>\n",
       "    <tr>\n",
       "      <th>4</th>\n",
       "      <td>Apocalypse Now</td>\n",
       "      <td>1979 A U.S. Army officer serving in Vietnam is...</td>\n",
       "    </tr>\n",
       "  </tbody>\n",
       "</table>\n",
       "</div>"
      ],
      "text/plain": [
       "                 name                                           Overview\n",
       "0       The Godfather  1972 The aging patriarch of an organized crime...\n",
       "1          Goodfellas  1990 The story of Henry Hill and his life in t...\n",
       "2        Pulp Fiction  1994 The lives of two mob hitmen, a boxer, a g...\n",
       "3  The Usual Suspects  1995 A sole survivor tells of the twisty event...\n",
       "4      Apocalypse Now  1979 A U.S. Army officer serving in Vietnam is..."
      ]
     },
     "execution_count": 15,
     "metadata": {},
     "output_type": "execute_result"
    },
    {
     "data": {
      "application/javascript": [
       "\n",
       "            setTimeout(function() {\n",
       "                var nbb_cell_id = 15;\n",
       "                var nbb_unformatted_code = \"movies_df.head()\";\n",
       "                var nbb_formatted_code = \"movies_df.head()\";\n",
       "                var nbb_cells = Jupyter.notebook.get_cells();\n",
       "                for (var i = 0; i < nbb_cells.length; ++i) {\n",
       "                    if (nbb_cells[i].input_prompt_number == nbb_cell_id) {\n",
       "                        if (nbb_cells[i].get_text() == nbb_unformatted_code) {\n",
       "                             nbb_cells[i].set_text(nbb_formatted_code);\n",
       "                        }\n",
       "                        break;\n",
       "                    }\n",
       "                }\n",
       "            }, 500);\n",
       "            "
      ],
      "text/plain": [
       "<IPython.core.display.Javascript object>"
      ]
     },
     "metadata": {},
     "output_type": "display_data"
    }
   ],
   "source": [
    "movies_df.head()"
   ]
  },
  {
   "cell_type": "markdown",
   "id": "3cc0c53b",
   "metadata": {},
   "source": [
    "## Part II. Calculate the word's weight of the movies' plot and the cosine similarity of the movies."
   ]
  },
  {
   "cell_type": "markdown",
   "id": "928d4b92",
   "metadata": {},
   "source": [
    "#### Leverage the Tf-Idf to calculate the weight of each word in the plot."
   ]
  },
  {
   "cell_type": "code",
   "execution_count": 16,
   "id": "68a9c4ec",
   "metadata": {},
   "outputs": [
    {
     "data": {
      "application/javascript": [
       "\n",
       "            setTimeout(function() {\n",
       "                var nbb_cell_id = 16;\n",
       "                var nbb_unformatted_code = \"tfidf = TfidfVectorizer(stop_words=\\\"english\\\")\\nmovies_df[\\\"Overview\\\"] = movies_df[\\\"Overview\\\"].fillna(\\\"\\\")\\ntfidf_matrix = tfidf.fit_transform(movies_df[\\\"Overview\\\"])\";\n",
       "                var nbb_formatted_code = \"tfidf = TfidfVectorizer(stop_words=\\\"english\\\")\\nmovies_df[\\\"Overview\\\"] = movies_df[\\\"Overview\\\"].fillna(\\\"\\\")\\ntfidf_matrix = tfidf.fit_transform(movies_df[\\\"Overview\\\"])\";\n",
       "                var nbb_cells = Jupyter.notebook.get_cells();\n",
       "                for (var i = 0; i < nbb_cells.length; ++i) {\n",
       "                    if (nbb_cells[i].input_prompt_number == nbb_cell_id) {\n",
       "                        if (nbb_cells[i].get_text() == nbb_unformatted_code) {\n",
       "                             nbb_cells[i].set_text(nbb_formatted_code);\n",
       "                        }\n",
       "                        break;\n",
       "                    }\n",
       "                }\n",
       "            }, 500);\n",
       "            "
      ],
      "text/plain": [
       "<IPython.core.display.Javascript object>"
      ]
     },
     "metadata": {},
     "output_type": "display_data"
    }
   ],
   "source": [
    "tfidf = TfidfVectorizer(stop_words=\"english\")\n",
    "movies_df[\"Overview\"] = movies_df[\"Overview\"].fillna(\"\")\n",
    "tfidf_matrix = tfidf.fit_transform(movies_df[\"Overview\"])"
   ]
  },
  {
   "cell_type": "markdown",
   "id": "7e544e2b",
   "metadata": {},
   "source": [
    "#### Calculate the cosine similarity"
   ]
  },
  {
   "cell_type": "code",
   "execution_count": 17,
   "id": "dc5b78c8",
   "metadata": {},
   "outputs": [
    {
     "data": {
      "application/javascript": [
       "\n",
       "            setTimeout(function() {\n",
       "                var nbb_cell_id = 17;\n",
       "                var nbb_unformatted_code = \"cosine_sim = linear_kernel(tfidf_matrix, tfidf_matrix)\";\n",
       "                var nbb_formatted_code = \"cosine_sim = linear_kernel(tfidf_matrix, tfidf_matrix)\";\n",
       "                var nbb_cells = Jupyter.notebook.get_cells();\n",
       "                for (var i = 0; i < nbb_cells.length; ++i) {\n",
       "                    if (nbb_cells[i].input_prompt_number == nbb_cell_id) {\n",
       "                        if (nbb_cells[i].get_text() == nbb_unformatted_code) {\n",
       "                             nbb_cells[i].set_text(nbb_formatted_code);\n",
       "                        }\n",
       "                        break;\n",
       "                    }\n",
       "                }\n",
       "            }, 500);\n",
       "            "
      ],
      "text/plain": [
       "<IPython.core.display.Javascript object>"
      ]
     },
     "metadata": {},
     "output_type": "display_data"
    }
   ],
   "source": [
    "cosine_sim = linear_kernel(tfidf_matrix, tfidf_matrix)"
   ]
  },
  {
   "cell_type": "markdown",
   "id": "6a780f12",
   "metadata": {},
   "source": [
    "#### Get the idex of each movie"
   ]
  },
  {
   "cell_type": "code",
   "execution_count": 18,
   "id": "cf93acb5",
   "metadata": {
    "scrolled": false
   },
   "outputs": [
    {
     "data": {
      "text/plain": [
       "name\n",
       "The Godfather              0\n",
       "Goodfellas                 1\n",
       "Pulp Fiction               2\n",
       "The Usual Suspects         3\n",
       "Apocalypse Now             4\n",
       "                          ..\n",
       "Men in Black              95\n",
       "No Country for Old Men    96\n",
       "Airplane!                 97\n",
       "There Will Be Blood       98\n",
       "Inception                 99\n",
       "Length: 100, dtype: int64"
      ]
     },
     "execution_count": 18,
     "metadata": {},
     "output_type": "execute_result"
    },
    {
     "data": {
      "application/javascript": [
       "\n",
       "            setTimeout(function() {\n",
       "                var nbb_cell_id = 18;\n",
       "                var nbb_unformatted_code = \"indices = pd.Series(movies_df.index, index=movies_df[\\\"name\\\"])\\nindices\";\n",
       "                var nbb_formatted_code = \"indices = pd.Series(movies_df.index, index=movies_df[\\\"name\\\"])\\nindices\";\n",
       "                var nbb_cells = Jupyter.notebook.get_cells();\n",
       "                for (var i = 0; i < nbb_cells.length; ++i) {\n",
       "                    if (nbb_cells[i].input_prompt_number == nbb_cell_id) {\n",
       "                        if (nbb_cells[i].get_text() == nbb_unformatted_code) {\n",
       "                             nbb_cells[i].set_text(nbb_formatted_code);\n",
       "                        }\n",
       "                        break;\n",
       "                    }\n",
       "                }\n",
       "            }, 500);\n",
       "            "
      ],
      "text/plain": [
       "<IPython.core.display.Javascript object>"
      ]
     },
     "metadata": {},
     "output_type": "display_data"
    }
   ],
   "source": [
    "indices = pd.Series(movies_df.index, index=movies_df[\"name\"])\n",
    "indices"
   ]
  },
  {
   "cell_type": "markdown",
   "id": "26ccb375",
   "metadata": {},
   "source": [
    "#### Define a function that will allow us to automatically generate movie recommendations"
   ]
  },
  {
   "cell_type": "code",
   "execution_count": 19,
   "id": "6a867108",
   "metadata": {},
   "outputs": [
    {
     "data": {
      "application/javascript": [
       "\n",
       "            setTimeout(function() {\n",
       "                var nbb_cell_id = 19;\n",
       "                var nbb_unformatted_code = \"def get_recommendations(title, cosine_sim=cosine_sim):\\n    idx = indices[title]\\n    sim_scores = enumerate(cosine_sim[idx])\\n    sim_scores = sorted(sim_scores, key=lambda x: x[1], reverse=True)\\n    sim_scores = sim_scores[1:11]\\n\\n    sim_index = [i[0] for i in sim_scores]\\n    print(movies_df[\\\"name\\\"].iloc[sim_index])\";\n",
       "                var nbb_formatted_code = \"def get_recommendations(title, cosine_sim=cosine_sim):\\n    idx = indices[title]\\n    sim_scores = enumerate(cosine_sim[idx])\\n    sim_scores = sorted(sim_scores, key=lambda x: x[1], reverse=True)\\n    sim_scores = sim_scores[1:11]\\n\\n    sim_index = [i[0] for i in sim_scores]\\n    print(movies_df[\\\"name\\\"].iloc[sim_index])\";\n",
       "                var nbb_cells = Jupyter.notebook.get_cells();\n",
       "                for (var i = 0; i < nbb_cells.length; ++i) {\n",
       "                    if (nbb_cells[i].input_prompt_number == nbb_cell_id) {\n",
       "                        if (nbb_cells[i].get_text() == nbb_unformatted_code) {\n",
       "                             nbb_cells[i].set_text(nbb_formatted_code);\n",
       "                        }\n",
       "                        break;\n",
       "                    }\n",
       "                }\n",
       "            }, 500);\n",
       "            "
      ],
      "text/plain": [
       "<IPython.core.display.Javascript object>"
      ]
     },
     "metadata": {},
     "output_type": "display_data"
    }
   ],
   "source": [
    "def get_recommendations(title, cosine_sim=cosine_sim):\n",
    "    idx = indices[title]\n",
    "    sim_scores = enumerate(cosine_sim[idx])\n",
    "    sim_scores = sorted(sim_scores, key=lambda x: x[1], reverse=True)\n",
    "    sim_scores = sim_scores[1:11]\n",
    "\n",
    "    sim_index = [i[0] for i in sim_scores]\n",
    "    print(movies_df[\"name\"].iloc[sim_index])"
   ]
  },
  {
   "cell_type": "markdown",
   "id": "4e9e88cd",
   "metadata": {},
   "source": [
    "---"
   ]
  },
  {
   "cell_type": "markdown",
   "id": "0a87a719",
   "metadata": {},
   "source": [
    "## Part III. Recommend movies to certain audience that based on the data they provided"
   ]
  },
  {
   "cell_type": "markdown",
   "id": "c280e32c",
   "metadata": {},
   "source": [
    "* This method is a content-based recommendation system, so for each audience, I selected the movie they gave the highest rating and recommended the most similar to the movie they rated the highest score before."
   ]
  },
  {
   "cell_type": "markdown",
   "id": "4245a0e4",
   "metadata": {},
   "source": [
    "#### Check the real data that we have"
   ]
  },
  {
   "cell_type": "code",
   "execution_count": 20,
   "id": "d75b9bed",
   "metadata": {},
   "outputs": [
    {
     "data": {
      "text/html": [
       "<div>\n",
       "<style scoped>\n",
       "    .dataframe tbody tr th:only-of-type {\n",
       "        vertical-align: middle;\n",
       "    }\n",
       "\n",
       "    .dataframe tbody tr th {\n",
       "        vertical-align: top;\n",
       "    }\n",
       "\n",
       "    .dataframe thead th {\n",
       "        text-align: right;\n",
       "    }\n",
       "</style>\n",
       "<table border=\"1\" class=\"dataframe\">\n",
       "  <thead>\n",
       "    <tr style=\"text-align: right;\">\n",
       "      <th></th>\n",
       "      <th>Critics</th>\n",
       "      <th>The Godfather</th>\n",
       "      <th>Goodfellas</th>\n",
       "      <th>Pulp Fiction</th>\n",
       "      <th>The Usual Suspects</th>\n",
       "      <th>Apocalypse Now</th>\n",
       "    </tr>\n",
       "  </thead>\n",
       "  <tbody>\n",
       "    <tr>\n",
       "      <th>0</th>\n",
       "      <td>Kyler</td>\n",
       "      <td>5.0</td>\n",
       "      <td>3.0</td>\n",
       "      <td>4.0</td>\n",
       "      <td>NaN</td>\n",
       "      <td>NaN</td>\n",
       "    </tr>\n",
       "    <tr>\n",
       "      <th>1</th>\n",
       "      <td>Kyle</td>\n",
       "      <td>5.0</td>\n",
       "      <td>2.0</td>\n",
       "      <td>2.0</td>\n",
       "      <td>4.0</td>\n",
       "      <td>NaN</td>\n",
       "    </tr>\n",
       "    <tr>\n",
       "      <th>2</th>\n",
       "      <td>Tyler</td>\n",
       "      <td>3.0</td>\n",
       "      <td>4.0</td>\n",
       "      <td>5.0</td>\n",
       "      <td>NaN</td>\n",
       "      <td>2.0</td>\n",
       "    </tr>\n",
       "    <tr>\n",
       "      <th>3</th>\n",
       "      <td>Dustin</td>\n",
       "      <td>1.0</td>\n",
       "      <td>3.0</td>\n",
       "      <td>5.0</td>\n",
       "      <td>4.0</td>\n",
       "      <td>3.0</td>\n",
       "    </tr>\n",
       "    <tr>\n",
       "      <th>4</th>\n",
       "      <td>Alex</td>\n",
       "      <td>3.0</td>\n",
       "      <td>2.0</td>\n",
       "      <td>NaN</td>\n",
       "      <td>NaN</td>\n",
       "      <td>1.0</td>\n",
       "    </tr>\n",
       "    <tr>\n",
       "      <th>5</th>\n",
       "      <td>Roy</td>\n",
       "      <td>5.0</td>\n",
       "      <td>4.0</td>\n",
       "      <td>2.0</td>\n",
       "      <td>NaN</td>\n",
       "      <td>2.0</td>\n",
       "    </tr>\n",
       "    <tr>\n",
       "      <th>6</th>\n",
       "      <td>Yan</td>\n",
       "      <td>NaN</td>\n",
       "      <td>2.0</td>\n",
       "      <td>3.0</td>\n",
       "      <td>5.0</td>\n",
       "      <td>NaN</td>\n",
       "    </tr>\n",
       "    <tr>\n",
       "      <th>7</th>\n",
       "      <td>Yang</td>\n",
       "      <td>5.0</td>\n",
       "      <td>NaN</td>\n",
       "      <td>3.0</td>\n",
       "      <td>3.0</td>\n",
       "      <td>NaN</td>\n",
       "    </tr>\n",
       "    <tr>\n",
       "      <th>8</th>\n",
       "      <td>Jessie</td>\n",
       "      <td>NaN</td>\n",
       "      <td>NaN</td>\n",
       "      <td>4.0</td>\n",
       "      <td>3.0</td>\n",
       "      <td>2.0</td>\n",
       "    </tr>\n",
       "    <tr>\n",
       "      <th>9</th>\n",
       "      <td>Frank</td>\n",
       "      <td>5.0</td>\n",
       "      <td>NaN</td>\n",
       "      <td>4.0</td>\n",
       "      <td>NaN</td>\n",
       "      <td>3.0</td>\n",
       "    </tr>\n",
       "  </tbody>\n",
       "</table>\n",
       "</div>"
      ],
      "text/plain": [
       "  Critics  The Godfather  Goodfellas  Pulp Fiction  The Usual Suspects  \\\n",
       "0   Kyler            5.0         3.0           4.0                 NaN   \n",
       "1    Kyle            5.0         2.0           2.0                 4.0   \n",
       "2   Tyler            3.0         4.0           5.0                 NaN   \n",
       "3  Dustin            1.0         3.0           5.0                 4.0   \n",
       "4    Alex            3.0         2.0           NaN                 NaN   \n",
       "5     Roy            5.0         4.0           2.0                 NaN   \n",
       "6     Yan            NaN         2.0           3.0                 5.0   \n",
       "7    Yang            5.0         NaN           3.0                 3.0   \n",
       "8  Jessie            NaN         NaN           4.0                 3.0   \n",
       "9   Frank            5.0         NaN           4.0                 NaN   \n",
       "\n",
       "   Apocalypse Now  \n",
       "0             NaN  \n",
       "1             NaN  \n",
       "2             2.0  \n",
       "3             3.0  \n",
       "4             1.0  \n",
       "5             2.0  \n",
       "6             NaN  \n",
       "7             NaN  \n",
       "8             2.0  \n",
       "9             3.0  "
      ]
     },
     "execution_count": 20,
     "metadata": {},
     "output_type": "execute_result"
    },
    {
     "data": {
      "application/javascript": [
       "\n",
       "            setTimeout(function() {\n",
       "                var nbb_cell_id = 20;\n",
       "                var nbb_unformatted_code = \"movie_rating\";\n",
       "                var nbb_formatted_code = \"movie_rating\";\n",
       "                var nbb_cells = Jupyter.notebook.get_cells();\n",
       "                for (var i = 0; i < nbb_cells.length; ++i) {\n",
       "                    if (nbb_cells[i].input_prompt_number == nbb_cell_id) {\n",
       "                        if (nbb_cells[i].get_text() == nbb_unformatted_code) {\n",
       "                             nbb_cells[i].set_text(nbb_formatted_code);\n",
       "                        }\n",
       "                        break;\n",
       "                    }\n",
       "                }\n",
       "            }, 500);\n",
       "            "
      ],
      "text/plain": [
       "<IPython.core.display.Javascript object>"
      ]
     },
     "metadata": {},
     "output_type": "display_data"
    }
   ],
   "source": [
    "movie_rating"
   ]
  },
  {
   "cell_type": "markdown",
   "id": "310cc187",
   "metadata": {},
   "source": [
    "#### Tidy the data"
   ]
  },
  {
   "cell_type": "code",
   "execution_count": 21,
   "id": "e6aea535",
   "metadata": {},
   "outputs": [
    {
     "data": {
      "text/html": [
       "<div>\n",
       "<style scoped>\n",
       "    .dataframe tbody tr th:only-of-type {\n",
       "        vertical-align: middle;\n",
       "    }\n",
       "\n",
       "    .dataframe tbody tr th {\n",
       "        vertical-align: top;\n",
       "    }\n",
       "\n",
       "    .dataframe thead th {\n",
       "        text-align: right;\n",
       "    }\n",
       "</style>\n",
       "<table border=\"1\" class=\"dataframe\">\n",
       "  <thead>\n",
       "    <tr style=\"text-align: right;\">\n",
       "      <th></th>\n",
       "      <th>Critics</th>\n",
       "      <th>movie_name</th>\n",
       "      <th>rating</th>\n",
       "    </tr>\n",
       "  </thead>\n",
       "  <tbody>\n",
       "    <tr>\n",
       "      <th>24</th>\n",
       "      <td>Alex</td>\n",
       "      <td>Pulp Fiction</td>\n",
       "      <td>NaN</td>\n",
       "    </tr>\n",
       "    <tr>\n",
       "      <th>44</th>\n",
       "      <td>Alex</td>\n",
       "      <td>Apocalypse Now</td>\n",
       "      <td>1.0</td>\n",
       "    </tr>\n",
       "    <tr>\n",
       "      <th>4</th>\n",
       "      <td>Alex</td>\n",
       "      <td>The Godfather</td>\n",
       "      <td>3.0</td>\n",
       "    </tr>\n",
       "    <tr>\n",
       "      <th>34</th>\n",
       "      <td>Alex</td>\n",
       "      <td>The Usual Suspects</td>\n",
       "      <td>NaN</td>\n",
       "    </tr>\n",
       "    <tr>\n",
       "      <th>14</th>\n",
       "      <td>Alex</td>\n",
       "      <td>Goodfellas</td>\n",
       "      <td>2.0</td>\n",
       "    </tr>\n",
       "  </tbody>\n",
       "</table>\n",
       "</div>"
      ],
      "text/plain": [
       "   Critics          movie_name  rating\n",
       "24    Alex        Pulp Fiction     NaN\n",
       "44    Alex      Apocalypse Now     1.0\n",
       "4     Alex       The Godfather     3.0\n",
       "34    Alex  The Usual Suspects     NaN\n",
       "14    Alex          Goodfellas     2.0"
      ]
     },
     "execution_count": 21,
     "metadata": {},
     "output_type": "execute_result"
    },
    {
     "data": {
      "application/javascript": [
       "\n",
       "            setTimeout(function() {\n",
       "                var nbb_cell_id = 21;\n",
       "                var nbb_unformatted_code = \"formatted_movie_rating = pd.melt(\\n    movie_rating, [\\\"Critics\\\"], var_name=\\\"movie_name\\\", value_name=\\\"rating\\\"\\n)\\nformatted_movie_rating = formatted_movie_rating.sort_values(by=[\\\"Critics\\\"])\\nformatted_movie_rating.head()\";\n",
       "                var nbb_formatted_code = \"formatted_movie_rating = pd.melt(\\n    movie_rating, [\\\"Critics\\\"], var_name=\\\"movie_name\\\", value_name=\\\"rating\\\"\\n)\\nformatted_movie_rating = formatted_movie_rating.sort_values(by=[\\\"Critics\\\"])\\nformatted_movie_rating.head()\";\n",
       "                var nbb_cells = Jupyter.notebook.get_cells();\n",
       "                for (var i = 0; i < nbb_cells.length; ++i) {\n",
       "                    if (nbb_cells[i].input_prompt_number == nbb_cell_id) {\n",
       "                        if (nbb_cells[i].get_text() == nbb_unformatted_code) {\n",
       "                             nbb_cells[i].set_text(nbb_formatted_code);\n",
       "                        }\n",
       "                        break;\n",
       "                    }\n",
       "                }\n",
       "            }, 500);\n",
       "            "
      ],
      "text/plain": [
       "<IPython.core.display.Javascript object>"
      ]
     },
     "metadata": {},
     "output_type": "display_data"
    }
   ],
   "source": [
    "formatted_movie_rating = pd.melt(\n",
    "    movie_rating, [\"Critics\"], var_name=\"movie_name\", value_name=\"rating\"\n",
    ")\n",
    "formatted_movie_rating = formatted_movie_rating.sort_values(by=[\"Critics\"])\n",
    "formatted_movie_rating.head()"
   ]
  },
  {
   "cell_type": "code",
   "execution_count": 22,
   "id": "3c436694",
   "metadata": {},
   "outputs": [
    {
     "data": {
      "text/html": [
       "<div>\n",
       "<style scoped>\n",
       "    .dataframe tbody tr th:only-of-type {\n",
       "        vertical-align: middle;\n",
       "    }\n",
       "\n",
       "    .dataframe tbody tr th {\n",
       "        vertical-align: top;\n",
       "    }\n",
       "\n",
       "    .dataframe thead th {\n",
       "        text-align: right;\n",
       "    }\n",
       "</style>\n",
       "<table border=\"1\" class=\"dataframe\">\n",
       "  <thead>\n",
       "    <tr style=\"text-align: right;\">\n",
       "      <th>movie_name</th>\n",
       "      <th>Apocalypse Now</th>\n",
       "      <th>Goodfellas</th>\n",
       "      <th>Pulp Fiction</th>\n",
       "      <th>The Godfather</th>\n",
       "      <th>The Usual Suspects</th>\n",
       "    </tr>\n",
       "    <tr>\n",
       "      <th>Critics</th>\n",
       "      <th></th>\n",
       "      <th></th>\n",
       "      <th></th>\n",
       "      <th></th>\n",
       "      <th></th>\n",
       "    </tr>\n",
       "  </thead>\n",
       "  <tbody>\n",
       "    <tr>\n",
       "      <th>Alex</th>\n",
       "      <td>1.0</td>\n",
       "      <td>2.0</td>\n",
       "      <td>NaN</td>\n",
       "      <td>3.0</td>\n",
       "      <td>NaN</td>\n",
       "    </tr>\n",
       "    <tr>\n",
       "      <th>Dustin</th>\n",
       "      <td>3.0</td>\n",
       "      <td>3.0</td>\n",
       "      <td>5.0</td>\n",
       "      <td>1.0</td>\n",
       "      <td>4.0</td>\n",
       "    </tr>\n",
       "    <tr>\n",
       "      <th>Frank</th>\n",
       "      <td>3.0</td>\n",
       "      <td>NaN</td>\n",
       "      <td>4.0</td>\n",
       "      <td>5.0</td>\n",
       "      <td>NaN</td>\n",
       "    </tr>\n",
       "    <tr>\n",
       "      <th>Jessie</th>\n",
       "      <td>2.0</td>\n",
       "      <td>NaN</td>\n",
       "      <td>4.0</td>\n",
       "      <td>NaN</td>\n",
       "      <td>3.0</td>\n",
       "    </tr>\n",
       "    <tr>\n",
       "      <th>Kyle</th>\n",
       "      <td>NaN</td>\n",
       "      <td>2.0</td>\n",
       "      <td>2.0</td>\n",
       "      <td>5.0</td>\n",
       "      <td>4.0</td>\n",
       "    </tr>\n",
       "    <tr>\n",
       "      <th>Kyler</th>\n",
       "      <td>NaN</td>\n",
       "      <td>3.0</td>\n",
       "      <td>4.0</td>\n",
       "      <td>5.0</td>\n",
       "      <td>NaN</td>\n",
       "    </tr>\n",
       "    <tr>\n",
       "      <th>Roy</th>\n",
       "      <td>2.0</td>\n",
       "      <td>4.0</td>\n",
       "      <td>2.0</td>\n",
       "      <td>5.0</td>\n",
       "      <td>NaN</td>\n",
       "    </tr>\n",
       "    <tr>\n",
       "      <th>Tyler</th>\n",
       "      <td>2.0</td>\n",
       "      <td>4.0</td>\n",
       "      <td>5.0</td>\n",
       "      <td>3.0</td>\n",
       "      <td>NaN</td>\n",
       "    </tr>\n",
       "    <tr>\n",
       "      <th>Yan</th>\n",
       "      <td>NaN</td>\n",
       "      <td>2.0</td>\n",
       "      <td>3.0</td>\n",
       "      <td>NaN</td>\n",
       "      <td>5.0</td>\n",
       "    </tr>\n",
       "    <tr>\n",
       "      <th>Yang</th>\n",
       "      <td>NaN</td>\n",
       "      <td>NaN</td>\n",
       "      <td>3.0</td>\n",
       "      <td>5.0</td>\n",
       "      <td>3.0</td>\n",
       "    </tr>\n",
       "  </tbody>\n",
       "</table>\n",
       "</div>"
      ],
      "text/plain": [
       "movie_name  Apocalypse Now  Goodfellas  Pulp Fiction  The Godfather  \\\n",
       "Critics                                                               \n",
       "Alex                   1.0         2.0           NaN            3.0   \n",
       "Dustin                 3.0         3.0           5.0            1.0   \n",
       "Frank                  3.0         NaN           4.0            5.0   \n",
       "Jessie                 2.0         NaN           4.0            NaN   \n",
       "Kyle                   NaN         2.0           2.0            5.0   \n",
       "Kyler                  NaN         3.0           4.0            5.0   \n",
       "Roy                    2.0         4.0           2.0            5.0   \n",
       "Tyler                  2.0         4.0           5.0            3.0   \n",
       "Yan                    NaN         2.0           3.0            NaN   \n",
       "Yang                   NaN         NaN           3.0            5.0   \n",
       "\n",
       "movie_name  The Usual Suspects  \n",
       "Critics                         \n",
       "Alex                       NaN  \n",
       "Dustin                     4.0  \n",
       "Frank                      NaN  \n",
       "Jessie                     3.0  \n",
       "Kyle                       4.0  \n",
       "Kyler                      NaN  \n",
       "Roy                        NaN  \n",
       "Tyler                      NaN  \n",
       "Yan                        5.0  \n",
       "Yang                       3.0  "
      ]
     },
     "execution_count": 22,
     "metadata": {},
     "output_type": "execute_result"
    },
    {
     "data": {
      "application/javascript": [
       "\n",
       "            setTimeout(function() {\n",
       "                var nbb_cell_id = 22;\n",
       "                var nbb_unformatted_code = \"movie_rating_final = formatted_movie_rating.pivot_table(\\n    index=\\\"Critics\\\", columns=\\\"movie_name\\\", values=\\\"rating\\\"\\n)\\nmovie_rating_final\";\n",
       "                var nbb_formatted_code = \"movie_rating_final = formatted_movie_rating.pivot_table(\\n    index=\\\"Critics\\\", columns=\\\"movie_name\\\", values=\\\"rating\\\"\\n)\\nmovie_rating_final\";\n",
       "                var nbb_cells = Jupyter.notebook.get_cells();\n",
       "                for (var i = 0; i < nbb_cells.length; ++i) {\n",
       "                    if (nbb_cells[i].input_prompt_number == nbb_cell_id) {\n",
       "                        if (nbb_cells[i].get_text() == nbb_unformatted_code) {\n",
       "                             nbb_cells[i].set_text(nbb_formatted_code);\n",
       "                        }\n",
       "                        break;\n",
       "                    }\n",
       "                }\n",
       "            }, 500);\n",
       "            "
      ],
      "text/plain": [
       "<IPython.core.display.Javascript object>"
      ]
     },
     "metadata": {},
     "output_type": "display_data"
    }
   ],
   "source": [
    "movie_rating_final = formatted_movie_rating.pivot_table(\n",
    "    index=\"Critics\", columns=\"movie_name\", values=\"rating\"\n",
    ")\n",
    "movie_rating_final"
   ]
  },
  {
   "cell_type": "code",
   "execution_count": 23,
   "id": "3cef7c66",
   "metadata": {},
   "outputs": [
    {
     "data": {
      "text/html": [
       "<div>\n",
       "<style scoped>\n",
       "    .dataframe tbody tr th:only-of-type {\n",
       "        vertical-align: middle;\n",
       "    }\n",
       "\n",
       "    .dataframe tbody tr th {\n",
       "        vertical-align: top;\n",
       "    }\n",
       "\n",
       "    .dataframe thead th {\n",
       "        text-align: right;\n",
       "    }\n",
       "</style>\n",
       "<table border=\"1\" class=\"dataframe\">\n",
       "  <thead>\n",
       "    <tr style=\"text-align: right;\">\n",
       "      <th>movie_name</th>\n",
       "      <th>Apocalypse Now</th>\n",
       "      <th>Goodfellas</th>\n",
       "      <th>Pulp Fiction</th>\n",
       "      <th>The Godfather</th>\n",
       "      <th>The Usual Suspects</th>\n",
       "    </tr>\n",
       "    <tr>\n",
       "      <th>Critics</th>\n",
       "      <th></th>\n",
       "      <th></th>\n",
       "      <th></th>\n",
       "      <th></th>\n",
       "      <th></th>\n",
       "    </tr>\n",
       "  </thead>\n",
       "  <tbody>\n",
       "    <tr>\n",
       "      <th>Alex</th>\n",
       "      <td>1.0</td>\n",
       "      <td>2.0</td>\n",
       "      <td>0.0</td>\n",
       "      <td>3.0</td>\n",
       "      <td>0.0</td>\n",
       "    </tr>\n",
       "    <tr>\n",
       "      <th>Dustin</th>\n",
       "      <td>3.0</td>\n",
       "      <td>3.0</td>\n",
       "      <td>5.0</td>\n",
       "      <td>1.0</td>\n",
       "      <td>4.0</td>\n",
       "    </tr>\n",
       "    <tr>\n",
       "      <th>Frank</th>\n",
       "      <td>3.0</td>\n",
       "      <td>0.0</td>\n",
       "      <td>4.0</td>\n",
       "      <td>5.0</td>\n",
       "      <td>0.0</td>\n",
       "    </tr>\n",
       "    <tr>\n",
       "      <th>Jessie</th>\n",
       "      <td>2.0</td>\n",
       "      <td>0.0</td>\n",
       "      <td>4.0</td>\n",
       "      <td>0.0</td>\n",
       "      <td>3.0</td>\n",
       "    </tr>\n",
       "    <tr>\n",
       "      <th>Kyle</th>\n",
       "      <td>0.0</td>\n",
       "      <td>2.0</td>\n",
       "      <td>2.0</td>\n",
       "      <td>5.0</td>\n",
       "      <td>4.0</td>\n",
       "    </tr>\n",
       "    <tr>\n",
       "      <th>Kyler</th>\n",
       "      <td>0.0</td>\n",
       "      <td>3.0</td>\n",
       "      <td>4.0</td>\n",
       "      <td>5.0</td>\n",
       "      <td>0.0</td>\n",
       "    </tr>\n",
       "    <tr>\n",
       "      <th>Roy</th>\n",
       "      <td>2.0</td>\n",
       "      <td>4.0</td>\n",
       "      <td>2.0</td>\n",
       "      <td>5.0</td>\n",
       "      <td>0.0</td>\n",
       "    </tr>\n",
       "    <tr>\n",
       "      <th>Tyler</th>\n",
       "      <td>2.0</td>\n",
       "      <td>4.0</td>\n",
       "      <td>5.0</td>\n",
       "      <td>3.0</td>\n",
       "      <td>0.0</td>\n",
       "    </tr>\n",
       "    <tr>\n",
       "      <th>Yan</th>\n",
       "      <td>0.0</td>\n",
       "      <td>2.0</td>\n",
       "      <td>3.0</td>\n",
       "      <td>0.0</td>\n",
       "      <td>5.0</td>\n",
       "    </tr>\n",
       "    <tr>\n",
       "      <th>Yang</th>\n",
       "      <td>0.0</td>\n",
       "      <td>0.0</td>\n",
       "      <td>3.0</td>\n",
       "      <td>5.0</td>\n",
       "      <td>3.0</td>\n",
       "    </tr>\n",
       "  </tbody>\n",
       "</table>\n",
       "</div>"
      ],
      "text/plain": [
       "movie_name  Apocalypse Now  Goodfellas  Pulp Fiction  The Godfather  \\\n",
       "Critics                                                               \n",
       "Alex                   1.0         2.0           0.0            3.0   \n",
       "Dustin                 3.0         3.0           5.0            1.0   \n",
       "Frank                  3.0         0.0           4.0            5.0   \n",
       "Jessie                 2.0         0.0           4.0            0.0   \n",
       "Kyle                   0.0         2.0           2.0            5.0   \n",
       "Kyler                  0.0         3.0           4.0            5.0   \n",
       "Roy                    2.0         4.0           2.0            5.0   \n",
       "Tyler                  2.0         4.0           5.0            3.0   \n",
       "Yan                    0.0         2.0           3.0            0.0   \n",
       "Yang                   0.0         0.0           3.0            5.0   \n",
       "\n",
       "movie_name  The Usual Suspects  \n",
       "Critics                         \n",
       "Alex                       0.0  \n",
       "Dustin                     4.0  \n",
       "Frank                      0.0  \n",
       "Jessie                     3.0  \n",
       "Kyle                       4.0  \n",
       "Kyler                      0.0  \n",
       "Roy                        0.0  \n",
       "Tyler                      0.0  \n",
       "Yan                        5.0  \n",
       "Yang                       3.0  "
      ]
     },
     "execution_count": 23,
     "metadata": {},
     "output_type": "execute_result"
    },
    {
     "data": {
      "application/javascript": [
       "\n",
       "            setTimeout(function() {\n",
       "                var nbb_cell_id = 23;\n",
       "                var nbb_unformatted_code = \"movie_rating_final = movie_rating_final.fillna(0)\\nmovie_rating_final\";\n",
       "                var nbb_formatted_code = \"movie_rating_final = movie_rating_final.fillna(0)\\nmovie_rating_final\";\n",
       "                var nbb_cells = Jupyter.notebook.get_cells();\n",
       "                for (var i = 0; i < nbb_cells.length; ++i) {\n",
       "                    if (nbb_cells[i].input_prompt_number == nbb_cell_id) {\n",
       "                        if (nbb_cells[i].get_text() == nbb_unformatted_code) {\n",
       "                             nbb_cells[i].set_text(nbb_formatted_code);\n",
       "                        }\n",
       "                        break;\n",
       "                    }\n",
       "                }\n",
       "            }, 500);\n",
       "            "
      ],
      "text/plain": [
       "<IPython.core.display.Javascript object>"
      ]
     },
     "metadata": {},
     "output_type": "display_data"
    }
   ],
   "source": [
    "movie_rating_final = movie_rating_final.fillna(0)\n",
    "movie_rating_final"
   ]
  },
  {
   "cell_type": "markdown",
   "id": "d246c465",
   "metadata": {},
   "source": [
    "#### Let's customize who we want to recommend movies for"
   ]
  },
  {
   "cell_type": "code",
   "execution_count": 24,
   "id": "b52893da",
   "metadata": {},
   "outputs": [
    {
     "name": "stdout",
     "output_type": "stream",
     "text": [
      "We want to recommend the movies to:Alex\n"
     ]
    },
    {
     "data": {
      "application/javascript": [
       "\n",
       "            setTimeout(function() {\n",
       "                var nbb_cell_id = 24;\n",
       "                var nbb_unformatted_code = \"target_viewer = input(\\\"We want to recommend the movies to:\\\")\";\n",
       "                var nbb_formatted_code = \"target_viewer = input(\\\"We want to recommend the movies to:\\\")\";\n",
       "                var nbb_cells = Jupyter.notebook.get_cells();\n",
       "                for (var i = 0; i < nbb_cells.length; ++i) {\n",
       "                    if (nbb_cells[i].input_prompt_number == nbb_cell_id) {\n",
       "                        if (nbb_cells[i].get_text() == nbb_unformatted_code) {\n",
       "                             nbb_cells[i].set_text(nbb_formatted_code);\n",
       "                        }\n",
       "                        break;\n",
       "                    }\n",
       "                }\n",
       "            }, 500);\n",
       "            "
      ],
      "text/plain": [
       "<IPython.core.display.Javascript object>"
      ]
     },
     "metadata": {},
     "output_type": "display_data"
    }
   ],
   "source": [
    "target_viewer = input(\"We want to recommend the movies to:\")"
   ]
  },
  {
   "cell_type": "markdown",
   "id": "662f75ad",
   "metadata": {},
   "source": [
    "#### Select the corresponding data of the user we input before"
   ]
  },
  {
   "cell_type": "code",
   "execution_count": 25,
   "id": "ee6095d0",
   "metadata": {},
   "outputs": [
    {
     "data": {
      "text/html": [
       "<div>\n",
       "<style scoped>\n",
       "    .dataframe tbody tr th:only-of-type {\n",
       "        vertical-align: middle;\n",
       "    }\n",
       "\n",
       "    .dataframe tbody tr th {\n",
       "        vertical-align: top;\n",
       "    }\n",
       "\n",
       "    .dataframe thead th {\n",
       "        text-align: right;\n",
       "    }\n",
       "</style>\n",
       "<table border=\"1\" class=\"dataframe\">\n",
       "  <thead>\n",
       "    <tr style=\"text-align: right;\">\n",
       "      <th></th>\n",
       "      <th>Alex</th>\n",
       "    </tr>\n",
       "    <tr>\n",
       "      <th>movie_name</th>\n",
       "      <th></th>\n",
       "    </tr>\n",
       "  </thead>\n",
       "  <tbody>\n",
       "    <tr>\n",
       "      <th>Apocalypse Now</th>\n",
       "      <td>1.0</td>\n",
       "    </tr>\n",
       "    <tr>\n",
       "      <th>Goodfellas</th>\n",
       "      <td>2.0</td>\n",
       "    </tr>\n",
       "    <tr>\n",
       "      <th>Pulp Fiction</th>\n",
       "      <td>0.0</td>\n",
       "    </tr>\n",
       "    <tr>\n",
       "      <th>The Godfather</th>\n",
       "      <td>3.0</td>\n",
       "    </tr>\n",
       "    <tr>\n",
       "      <th>The Usual Suspects</th>\n",
       "      <td>0.0</td>\n",
       "    </tr>\n",
       "  </tbody>\n",
       "</table>\n",
       "</div>"
      ],
      "text/plain": [
       "                    Alex\n",
       "movie_name              \n",
       "Apocalypse Now       1.0\n",
       "Goodfellas           2.0\n",
       "Pulp Fiction         0.0\n",
       "The Godfather        3.0\n",
       "The Usual Suspects   0.0"
      ]
     },
     "execution_count": 25,
     "metadata": {},
     "output_type": "execute_result"
    },
    {
     "data": {
      "application/javascript": [
       "\n",
       "            setTimeout(function() {\n",
       "                var nbb_cell_id = 25;\n",
       "                var nbb_unformatted_code = \"target_df = movie_rating_final.loc[target_viewer].to_frame()\\ntarget_df\";\n",
       "                var nbb_formatted_code = \"target_df = movie_rating_final.loc[target_viewer].to_frame()\\ntarget_df\";\n",
       "                var nbb_cells = Jupyter.notebook.get_cells();\n",
       "                for (var i = 0; i < nbb_cells.length; ++i) {\n",
       "                    if (nbb_cells[i].input_prompt_number == nbb_cell_id) {\n",
       "                        if (nbb_cells[i].get_text() == nbb_unformatted_code) {\n",
       "                             nbb_cells[i].set_text(nbb_formatted_code);\n",
       "                        }\n",
       "                        break;\n",
       "                    }\n",
       "                }\n",
       "            }, 500);\n",
       "            "
      ],
      "text/plain": [
       "<IPython.core.display.Javascript object>"
      ]
     },
     "metadata": {},
     "output_type": "display_data"
    }
   ],
   "source": [
    "target_df = movie_rating_final.loc[target_viewer].to_frame()\n",
    "target_df"
   ]
  },
  {
   "cell_type": "markdown",
   "id": "f566556e",
   "metadata": {},
   "source": [
    "#### Reset the index of above data frame(it allow me much easier to analyze)"
   ]
  },
  {
   "cell_type": "code",
   "execution_count": 26,
   "id": "0ef6c989",
   "metadata": {},
   "outputs": [
    {
     "data": {
      "text/html": [
       "<div>\n",
       "<style scoped>\n",
       "    .dataframe tbody tr th:only-of-type {\n",
       "        vertical-align: middle;\n",
       "    }\n",
       "\n",
       "    .dataframe tbody tr th {\n",
       "        vertical-align: top;\n",
       "    }\n",
       "\n",
       "    .dataframe thead th {\n",
       "        text-align: right;\n",
       "    }\n",
       "</style>\n",
       "<table border=\"1\" class=\"dataframe\">\n",
       "  <thead>\n",
       "    <tr style=\"text-align: right;\">\n",
       "      <th></th>\n",
       "      <th>movie_name</th>\n",
       "      <th>Alex</th>\n",
       "    </tr>\n",
       "  </thead>\n",
       "  <tbody>\n",
       "    <tr>\n",
       "      <th>0</th>\n",
       "      <td>Apocalypse Now</td>\n",
       "      <td>1.0</td>\n",
       "    </tr>\n",
       "    <tr>\n",
       "      <th>1</th>\n",
       "      <td>Goodfellas</td>\n",
       "      <td>2.0</td>\n",
       "    </tr>\n",
       "    <tr>\n",
       "      <th>2</th>\n",
       "      <td>Pulp Fiction</td>\n",
       "      <td>0.0</td>\n",
       "    </tr>\n",
       "    <tr>\n",
       "      <th>3</th>\n",
       "      <td>The Godfather</td>\n",
       "      <td>3.0</td>\n",
       "    </tr>\n",
       "    <tr>\n",
       "      <th>4</th>\n",
       "      <td>The Usual Suspects</td>\n",
       "      <td>0.0</td>\n",
       "    </tr>\n",
       "  </tbody>\n",
       "</table>\n",
       "</div>"
      ],
      "text/plain": [
       "           movie_name  Alex\n",
       "0      Apocalypse Now   1.0\n",
       "1          Goodfellas   2.0\n",
       "2        Pulp Fiction   0.0\n",
       "3       The Godfather   3.0\n",
       "4  The Usual Suspects   0.0"
      ]
     },
     "execution_count": 26,
     "metadata": {},
     "output_type": "execute_result"
    },
    {
     "data": {
      "application/javascript": [
       "\n",
       "            setTimeout(function() {\n",
       "                var nbb_cell_id = 26;\n",
       "                var nbb_unformatted_code = \"target_df = target_df.reset_index()\\ntarget_df\";\n",
       "                var nbb_formatted_code = \"target_df = target_df.reset_index()\\ntarget_df\";\n",
       "                var nbb_cells = Jupyter.notebook.get_cells();\n",
       "                for (var i = 0; i < nbb_cells.length; ++i) {\n",
       "                    if (nbb_cells[i].input_prompt_number == nbb_cell_id) {\n",
       "                        if (nbb_cells[i].get_text() == nbb_unformatted_code) {\n",
       "                             nbb_cells[i].set_text(nbb_formatted_code);\n",
       "                        }\n",
       "                        break;\n",
       "                    }\n",
       "                }\n",
       "            }, 500);\n",
       "            "
      ],
      "text/plain": [
       "<IPython.core.display.Javascript object>"
      ]
     },
     "metadata": {},
     "output_type": "display_data"
    }
   ],
   "source": [
    "target_df = target_df.reset_index()\n",
    "target_df"
   ]
  },
  {
   "cell_type": "markdown",
   "id": "a9664000",
   "metadata": {},
   "source": [
    "#### Get the movie name that the target viewer gave the highest rating."
   ]
  },
  {
   "cell_type": "code",
   "execution_count": 27,
   "id": "d9e1e671",
   "metadata": {},
   "outputs": [
    {
     "data": {
      "text/plain": [
       "'The Godfather'"
      ]
     },
     "execution_count": 27,
     "metadata": {},
     "output_type": "execute_result"
    },
    {
     "data": {
      "application/javascript": [
       "\n",
       "            setTimeout(function() {\n",
       "                var nbb_cell_id = 27;\n",
       "                var nbb_unformatted_code = \"movie_title = target_df.loc[target_df[target_viewer] == target_df[target_viewer].max()][\\n    \\\"movie_name\\\"\\n].item()\\nmovie_title\";\n",
       "                var nbb_formatted_code = \"movie_title = target_df.loc[target_df[target_viewer] == target_df[target_viewer].max()][\\n    \\\"movie_name\\\"\\n].item()\\nmovie_title\";\n",
       "                var nbb_cells = Jupyter.notebook.get_cells();\n",
       "                for (var i = 0; i < nbb_cells.length; ++i) {\n",
       "                    if (nbb_cells[i].input_prompt_number == nbb_cell_id) {\n",
       "                        if (nbb_cells[i].get_text() == nbb_unformatted_code) {\n",
       "                             nbb_cells[i].set_text(nbb_formatted_code);\n",
       "                        }\n",
       "                        break;\n",
       "                    }\n",
       "                }\n",
       "            }, 500);\n",
       "            "
      ],
      "text/plain": [
       "<IPython.core.display.Javascript object>"
      ]
     },
     "metadata": {},
     "output_type": "display_data"
    }
   ],
   "source": [
    "movie_title = target_df.loc[target_df[target_viewer] == target_df[target_viewer].max()][\n",
    "    \"movie_name\"\n",
    "].item()\n",
    "movie_title"
   ]
  },
  {
   "cell_type": "markdown",
   "id": "a2f42c7d",
   "metadata": {},
   "source": [
    "#### Input the movie name that the target viewer rated the highest rating, and then get the recommendation for this audience."
   ]
  },
  {
   "cell_type": "code",
   "execution_count": 28,
   "id": "854a5a21",
   "metadata": {},
   "outputs": [
    {
     "name": "stdout",
     "output_type": "stream",
     "text": [
      "15         The Godfather Part II\n",
      "12                   Taxi Driver\n",
      "88                  12 Angry Men\n",
      "94               American Psycho\n",
      "58                 Batman Begins\n",
      "45                        Casino\n",
      "63                   The Shining\n",
      "76    Terminator 2: Judgment Day\n",
      "80                      Sin City\n",
      "36                     Toy Story\n",
      "Name: name, dtype: object\n"
     ]
    },
    {
     "data": {
      "application/javascript": [
       "\n",
       "            setTimeout(function() {\n",
       "                var nbb_cell_id = 28;\n",
       "                var nbb_unformatted_code = \"get_recommendations(movie_title)\";\n",
       "                var nbb_formatted_code = \"get_recommendations(movie_title)\";\n",
       "                var nbb_cells = Jupyter.notebook.get_cells();\n",
       "                for (var i = 0; i < nbb_cells.length; ++i) {\n",
       "                    if (nbb_cells[i].input_prompt_number == nbb_cell_id) {\n",
       "                        if (nbb_cells[i].get_text() == nbb_unformatted_code) {\n",
       "                             nbb_cells[i].set_text(nbb_formatted_code);\n",
       "                        }\n",
       "                        break;\n",
       "                    }\n",
       "                }\n",
       "            }, 500);\n",
       "            "
      ],
      "text/plain": [
       "<IPython.core.display.Javascript object>"
      ]
     },
     "metadata": {},
     "output_type": "display_data"
    }
   ],
   "source": [
    "get_recommendations(movie_title)"
   ]
  },
  {
   "cell_type": "code",
   "execution_count": 29,
   "id": "8d57c389",
   "metadata": {},
   "outputs": [
    {
     "name": "stdout",
     "output_type": "stream",
     "text": [
      "The movies that should be recommended to Alex is:\n",
      "15         The Godfather Part II\n",
      "12                   Taxi Driver\n",
      "88                  12 Angry Men\n",
      "94               American Psycho\n",
      "58                 Batman Begins\n",
      "45                        Casino\n",
      "63                   The Shining\n",
      "76    Terminator 2: Judgment Day\n",
      "80                      Sin City\n",
      "36                     Toy Story\n",
      "Name: name, dtype: object\n"
     ]
    },
    {
     "data": {
      "application/javascript": [
       "\n",
       "            setTimeout(function() {\n",
       "                var nbb_cell_id = 29;\n",
       "                var nbb_unformatted_code = \"print(f\\\"The movies that should be recommended to {target_viewer} is:\\\")\\nget_recommendations(movie_title)\";\n",
       "                var nbb_formatted_code = \"print(f\\\"The movies that should be recommended to {target_viewer} is:\\\")\\nget_recommendations(movie_title)\";\n",
       "                var nbb_cells = Jupyter.notebook.get_cells();\n",
       "                for (var i = 0; i < nbb_cells.length; ++i) {\n",
       "                    if (nbb_cells[i].input_prompt_number == nbb_cell_id) {\n",
       "                        if (nbb_cells[i].get_text() == nbb_unformatted_code) {\n",
       "                             nbb_cells[i].set_text(nbb_formatted_code);\n",
       "                        }\n",
       "                        break;\n",
       "                    }\n",
       "                }\n",
       "            }, 500);\n",
       "            "
      ],
      "text/plain": [
       "<IPython.core.display.Javascript object>"
      ]
     },
     "metadata": {},
     "output_type": "display_data"
    }
   ],
   "source": [
    "print(f\"The movies that should be recommended to {target_viewer} is:\")\n",
    "get_recommendations(movie_title)"
   ]
  },
  {
   "cell_type": "markdown",
   "id": "b8073f8f",
   "metadata": {},
   "source": [
    "#### Some places that can improve in the future.\n",
    "**I didn't exclude the movies that the users watched before in the final result, so in the future, it's better to recommend to the audience the movie that is most similar to the film that they gave the highest rating and also that they didn't watch before.**\n",
    "* I believe it is not a difficult task."
   ]
  },
  {
   "cell_type": "markdown",
   "id": "93112b9c",
   "metadata": {},
   "source": [
    "---"
   ]
  },
  {
   "cell_type": "markdown",
   "id": "16e844e6",
   "metadata": {},
   "source": [
    "## Part IV. Item to Item Collaborative Filtering"
   ]
  },
  {
   "cell_type": "markdown",
   "id": "82463234",
   "metadata": {},
   "source": [
    "#### Check the dataset again"
   ]
  },
  {
   "cell_type": "code",
   "execution_count": 30,
   "id": "56d3d816",
   "metadata": {},
   "outputs": [
    {
     "data": {
      "text/html": [
       "<div>\n",
       "<style scoped>\n",
       "    .dataframe tbody tr th:only-of-type {\n",
       "        vertical-align: middle;\n",
       "    }\n",
       "\n",
       "    .dataframe tbody tr th {\n",
       "        vertical-align: top;\n",
       "    }\n",
       "\n",
       "    .dataframe thead th {\n",
       "        text-align: right;\n",
       "    }\n",
       "</style>\n",
       "<table border=\"1\" class=\"dataframe\">\n",
       "  <thead>\n",
       "    <tr style=\"text-align: right;\">\n",
       "      <th></th>\n",
       "      <th>Critics</th>\n",
       "      <th>The Godfather</th>\n",
       "      <th>Goodfellas</th>\n",
       "      <th>Pulp Fiction</th>\n",
       "      <th>The Usual Suspects</th>\n",
       "      <th>Apocalypse Now</th>\n",
       "    </tr>\n",
       "  </thead>\n",
       "  <tbody>\n",
       "    <tr>\n",
       "      <th>0</th>\n",
       "      <td>Kyler</td>\n",
       "      <td>5.0</td>\n",
       "      <td>3.0</td>\n",
       "      <td>4.0</td>\n",
       "      <td>NaN</td>\n",
       "      <td>NaN</td>\n",
       "    </tr>\n",
       "    <tr>\n",
       "      <th>1</th>\n",
       "      <td>Kyle</td>\n",
       "      <td>5.0</td>\n",
       "      <td>2.0</td>\n",
       "      <td>2.0</td>\n",
       "      <td>4.0</td>\n",
       "      <td>NaN</td>\n",
       "    </tr>\n",
       "    <tr>\n",
       "      <th>2</th>\n",
       "      <td>Tyler</td>\n",
       "      <td>3.0</td>\n",
       "      <td>4.0</td>\n",
       "      <td>5.0</td>\n",
       "      <td>NaN</td>\n",
       "      <td>2.0</td>\n",
       "    </tr>\n",
       "    <tr>\n",
       "      <th>3</th>\n",
       "      <td>Dustin</td>\n",
       "      <td>1.0</td>\n",
       "      <td>3.0</td>\n",
       "      <td>5.0</td>\n",
       "      <td>4.0</td>\n",
       "      <td>3.0</td>\n",
       "    </tr>\n",
       "    <tr>\n",
       "      <th>4</th>\n",
       "      <td>Alex</td>\n",
       "      <td>3.0</td>\n",
       "      <td>2.0</td>\n",
       "      <td>NaN</td>\n",
       "      <td>NaN</td>\n",
       "      <td>1.0</td>\n",
       "    </tr>\n",
       "    <tr>\n",
       "      <th>5</th>\n",
       "      <td>Roy</td>\n",
       "      <td>5.0</td>\n",
       "      <td>4.0</td>\n",
       "      <td>2.0</td>\n",
       "      <td>NaN</td>\n",
       "      <td>2.0</td>\n",
       "    </tr>\n",
       "    <tr>\n",
       "      <th>6</th>\n",
       "      <td>Yan</td>\n",
       "      <td>NaN</td>\n",
       "      <td>2.0</td>\n",
       "      <td>3.0</td>\n",
       "      <td>5.0</td>\n",
       "      <td>NaN</td>\n",
       "    </tr>\n",
       "    <tr>\n",
       "      <th>7</th>\n",
       "      <td>Yang</td>\n",
       "      <td>5.0</td>\n",
       "      <td>NaN</td>\n",
       "      <td>3.0</td>\n",
       "      <td>3.0</td>\n",
       "      <td>NaN</td>\n",
       "    </tr>\n",
       "    <tr>\n",
       "      <th>8</th>\n",
       "      <td>Jessie</td>\n",
       "      <td>NaN</td>\n",
       "      <td>NaN</td>\n",
       "      <td>4.0</td>\n",
       "      <td>3.0</td>\n",
       "      <td>2.0</td>\n",
       "    </tr>\n",
       "    <tr>\n",
       "      <th>9</th>\n",
       "      <td>Frank</td>\n",
       "      <td>5.0</td>\n",
       "      <td>NaN</td>\n",
       "      <td>4.0</td>\n",
       "      <td>NaN</td>\n",
       "      <td>3.0</td>\n",
       "    </tr>\n",
       "  </tbody>\n",
       "</table>\n",
       "</div>"
      ],
      "text/plain": [
       "  Critics  The Godfather  Goodfellas  Pulp Fiction  The Usual Suspects  \\\n",
       "0   Kyler            5.0         3.0           4.0                 NaN   \n",
       "1    Kyle            5.0         2.0           2.0                 4.0   \n",
       "2   Tyler            3.0         4.0           5.0                 NaN   \n",
       "3  Dustin            1.0         3.0           5.0                 4.0   \n",
       "4    Alex            3.0         2.0           NaN                 NaN   \n",
       "5     Roy            5.0         4.0           2.0                 NaN   \n",
       "6     Yan            NaN         2.0           3.0                 5.0   \n",
       "7    Yang            5.0         NaN           3.0                 3.0   \n",
       "8  Jessie            NaN         NaN           4.0                 3.0   \n",
       "9   Frank            5.0         NaN           4.0                 NaN   \n",
       "\n",
       "   Apocalypse Now  \n",
       "0             NaN  \n",
       "1             NaN  \n",
       "2             2.0  \n",
       "3             3.0  \n",
       "4             1.0  \n",
       "5             2.0  \n",
       "6             NaN  \n",
       "7             NaN  \n",
       "8             2.0  \n",
       "9             3.0  "
      ]
     },
     "execution_count": 30,
     "metadata": {},
     "output_type": "execute_result"
    },
    {
     "data": {
      "application/javascript": [
       "\n",
       "            setTimeout(function() {\n",
       "                var nbb_cell_id = 30;\n",
       "                var nbb_unformatted_code = \"df = movie_rating\\ndf\";\n",
       "                var nbb_formatted_code = \"df = movie_rating\\ndf\";\n",
       "                var nbb_cells = Jupyter.notebook.get_cells();\n",
       "                for (var i = 0; i < nbb_cells.length; ++i) {\n",
       "                    if (nbb_cells[i].input_prompt_number == nbb_cell_id) {\n",
       "                        if (nbb_cells[i].get_text() == nbb_unformatted_code) {\n",
       "                             nbb_cells[i].set_text(nbb_formatted_code);\n",
       "                        }\n",
       "                        break;\n",
       "                    }\n",
       "                }\n",
       "            }, 500);\n",
       "            "
      ],
      "text/plain": [
       "<IPython.core.display.Javascript object>"
      ]
     },
     "metadata": {},
     "output_type": "display_data"
    }
   ],
   "source": [
    "df = movie_rating\n",
    "df"
   ]
  },
  {
   "cell_type": "markdown",
   "id": "2a99278f",
   "metadata": {},
   "source": [
    "#### Tidy the data"
   ]
  },
  {
   "cell_type": "code",
   "execution_count": 31,
   "id": "0ce68855",
   "metadata": {},
   "outputs": [
    {
     "data": {
      "application/javascript": [
       "\n",
       "            setTimeout(function() {\n",
       "                var nbb_cell_id = 31;\n",
       "                var nbb_unformatted_code = \"formatted_df = pd.melt(df, [\\\"Critics\\\"], var_name=\\\"movie\\\", value_name=\\\"rating\\\")\\nformatted_df = formatted_df.sort_values(by=[\\\"Critics\\\"])\";\n",
       "                var nbb_formatted_code = \"formatted_df = pd.melt(df, [\\\"Critics\\\"], var_name=\\\"movie\\\", value_name=\\\"rating\\\")\\nformatted_df = formatted_df.sort_values(by=[\\\"Critics\\\"])\";\n",
       "                var nbb_cells = Jupyter.notebook.get_cells();\n",
       "                for (var i = 0; i < nbb_cells.length; ++i) {\n",
       "                    if (nbb_cells[i].input_prompt_number == nbb_cell_id) {\n",
       "                        if (nbb_cells[i].get_text() == nbb_unformatted_code) {\n",
       "                             nbb_cells[i].set_text(nbb_formatted_code);\n",
       "                        }\n",
       "                        break;\n",
       "                    }\n",
       "                }\n",
       "            }, 500);\n",
       "            "
      ],
      "text/plain": [
       "<IPython.core.display.Javascript object>"
      ]
     },
     "metadata": {},
     "output_type": "display_data"
    }
   ],
   "source": [
    "formatted_df = pd.melt(df, [\"Critics\"], var_name=\"movie\", value_name=\"rating\")\n",
    "formatted_df = formatted_df.sort_values(by=[\"Critics\"])"
   ]
  },
  {
   "cell_type": "code",
   "execution_count": 32,
   "id": "49b1584b",
   "metadata": {},
   "outputs": [
    {
     "data": {
      "text/html": [
       "<div>\n",
       "<style scoped>\n",
       "    .dataframe tbody tr th:only-of-type {\n",
       "        vertical-align: middle;\n",
       "    }\n",
       "\n",
       "    .dataframe tbody tr th {\n",
       "        vertical-align: top;\n",
       "    }\n",
       "\n",
       "    .dataframe thead th {\n",
       "        text-align: right;\n",
       "    }\n",
       "</style>\n",
       "<table border=\"1\" class=\"dataframe\">\n",
       "  <thead>\n",
       "    <tr style=\"text-align: right;\">\n",
       "      <th></th>\n",
       "      <th>Critics</th>\n",
       "      <th>movie</th>\n",
       "      <th>rating</th>\n",
       "    </tr>\n",
       "  </thead>\n",
       "  <tbody>\n",
       "    <tr>\n",
       "      <th>24</th>\n",
       "      <td>Alex</td>\n",
       "      <td>Pulp Fiction</td>\n",
       "      <td>NaN</td>\n",
       "    </tr>\n",
       "    <tr>\n",
       "      <th>44</th>\n",
       "      <td>Alex</td>\n",
       "      <td>Apocalypse Now</td>\n",
       "      <td>1.0</td>\n",
       "    </tr>\n",
       "    <tr>\n",
       "      <th>4</th>\n",
       "      <td>Alex</td>\n",
       "      <td>The Godfather</td>\n",
       "      <td>3.0</td>\n",
       "    </tr>\n",
       "    <tr>\n",
       "      <th>34</th>\n",
       "      <td>Alex</td>\n",
       "      <td>The Usual Suspects</td>\n",
       "      <td>NaN</td>\n",
       "    </tr>\n",
       "    <tr>\n",
       "      <th>14</th>\n",
       "      <td>Alex</td>\n",
       "      <td>Goodfellas</td>\n",
       "      <td>2.0</td>\n",
       "    </tr>\n",
       "    <tr>\n",
       "      <th>43</th>\n",
       "      <td>Dustin</td>\n",
       "      <td>Apocalypse Now</td>\n",
       "      <td>3.0</td>\n",
       "    </tr>\n",
       "    <tr>\n",
       "      <th>3</th>\n",
       "      <td>Dustin</td>\n",
       "      <td>The Godfather</td>\n",
       "      <td>1.0</td>\n",
       "    </tr>\n",
       "    <tr>\n",
       "      <th>33</th>\n",
       "      <td>Dustin</td>\n",
       "      <td>The Usual Suspects</td>\n",
       "      <td>4.0</td>\n",
       "    </tr>\n",
       "    <tr>\n",
       "      <th>23</th>\n",
       "      <td>Dustin</td>\n",
       "      <td>Pulp Fiction</td>\n",
       "      <td>5.0</td>\n",
       "    </tr>\n",
       "    <tr>\n",
       "      <th>13</th>\n",
       "      <td>Dustin</td>\n",
       "      <td>Goodfellas</td>\n",
       "      <td>3.0</td>\n",
       "    </tr>\n",
       "  </tbody>\n",
       "</table>\n",
       "</div>"
      ],
      "text/plain": [
       "   Critics               movie  rating\n",
       "24    Alex        Pulp Fiction     NaN\n",
       "44    Alex      Apocalypse Now     1.0\n",
       "4     Alex       The Godfather     3.0\n",
       "34    Alex  The Usual Suspects     NaN\n",
       "14    Alex          Goodfellas     2.0\n",
       "43  Dustin      Apocalypse Now     3.0\n",
       "3   Dustin       The Godfather     1.0\n",
       "33  Dustin  The Usual Suspects     4.0\n",
       "23  Dustin        Pulp Fiction     5.0\n",
       "13  Dustin          Goodfellas     3.0"
      ]
     },
     "execution_count": 32,
     "metadata": {},
     "output_type": "execute_result"
    },
    {
     "data": {
      "application/javascript": [
       "\n",
       "            setTimeout(function() {\n",
       "                var nbb_cell_id = 32;\n",
       "                var nbb_unformatted_code = \"formatted_df.head(10)\";\n",
       "                var nbb_formatted_code = \"formatted_df.head(10)\";\n",
       "                var nbb_cells = Jupyter.notebook.get_cells();\n",
       "                for (var i = 0; i < nbb_cells.length; ++i) {\n",
       "                    if (nbb_cells[i].input_prompt_number == nbb_cell_id) {\n",
       "                        if (nbb_cells[i].get_text() == nbb_unformatted_code) {\n",
       "                             nbb_cells[i].set_text(nbb_formatted_code);\n",
       "                        }\n",
       "                        break;\n",
       "                    }\n",
       "                }\n",
       "            }, 500);\n",
       "            "
      ],
      "text/plain": [
       "<IPython.core.display.Javascript object>"
      ]
     },
     "metadata": {},
     "output_type": "display_data"
    }
   ],
   "source": [
    "formatted_df.head(10)"
   ]
  },
  {
   "cell_type": "code",
   "execution_count": 33,
   "id": "cb021140",
   "metadata": {},
   "outputs": [
    {
     "data": {
      "text/html": [
       "<div>\n",
       "<style scoped>\n",
       "    .dataframe tbody tr th:only-of-type {\n",
       "        vertical-align: middle;\n",
       "    }\n",
       "\n",
       "    .dataframe tbody tr th {\n",
       "        vertical-align: top;\n",
       "    }\n",
       "\n",
       "    .dataframe thead th {\n",
       "        text-align: right;\n",
       "    }\n",
       "</style>\n",
       "<table border=\"1\" class=\"dataframe\">\n",
       "  <thead>\n",
       "    <tr style=\"text-align: right;\">\n",
       "      <th>Critics</th>\n",
       "      <th>Alex</th>\n",
       "      <th>Dustin</th>\n",
       "      <th>Frank</th>\n",
       "      <th>Jessie</th>\n",
       "      <th>Kyle</th>\n",
       "      <th>Kyler</th>\n",
       "      <th>Roy</th>\n",
       "      <th>Tyler</th>\n",
       "      <th>Yan</th>\n",
       "      <th>Yang</th>\n",
       "    </tr>\n",
       "    <tr>\n",
       "      <th>movie</th>\n",
       "      <th></th>\n",
       "      <th></th>\n",
       "      <th></th>\n",
       "      <th></th>\n",
       "      <th></th>\n",
       "      <th></th>\n",
       "      <th></th>\n",
       "      <th></th>\n",
       "      <th></th>\n",
       "      <th></th>\n",
       "    </tr>\n",
       "  </thead>\n",
       "  <tbody>\n",
       "    <tr>\n",
       "      <th>Apocalypse Now</th>\n",
       "      <td>1.0</td>\n",
       "      <td>3.0</td>\n",
       "      <td>3.0</td>\n",
       "      <td>2.0</td>\n",
       "      <td>NaN</td>\n",
       "      <td>NaN</td>\n",
       "      <td>2.0</td>\n",
       "      <td>2.0</td>\n",
       "      <td>NaN</td>\n",
       "      <td>NaN</td>\n",
       "    </tr>\n",
       "    <tr>\n",
       "      <th>Goodfellas</th>\n",
       "      <td>2.0</td>\n",
       "      <td>3.0</td>\n",
       "      <td>NaN</td>\n",
       "      <td>NaN</td>\n",
       "      <td>2.0</td>\n",
       "      <td>3.0</td>\n",
       "      <td>4.0</td>\n",
       "      <td>4.0</td>\n",
       "      <td>2.0</td>\n",
       "      <td>NaN</td>\n",
       "    </tr>\n",
       "    <tr>\n",
       "      <th>Pulp Fiction</th>\n",
       "      <td>NaN</td>\n",
       "      <td>5.0</td>\n",
       "      <td>4.0</td>\n",
       "      <td>4.0</td>\n",
       "      <td>2.0</td>\n",
       "      <td>4.0</td>\n",
       "      <td>2.0</td>\n",
       "      <td>5.0</td>\n",
       "      <td>3.0</td>\n",
       "      <td>3.0</td>\n",
       "    </tr>\n",
       "    <tr>\n",
       "      <th>The Godfather</th>\n",
       "      <td>3.0</td>\n",
       "      <td>1.0</td>\n",
       "      <td>5.0</td>\n",
       "      <td>NaN</td>\n",
       "      <td>5.0</td>\n",
       "      <td>5.0</td>\n",
       "      <td>5.0</td>\n",
       "      <td>3.0</td>\n",
       "      <td>NaN</td>\n",
       "      <td>5.0</td>\n",
       "    </tr>\n",
       "    <tr>\n",
       "      <th>The Usual Suspects</th>\n",
       "      <td>NaN</td>\n",
       "      <td>4.0</td>\n",
       "      <td>NaN</td>\n",
       "      <td>3.0</td>\n",
       "      <td>4.0</td>\n",
       "      <td>NaN</td>\n",
       "      <td>NaN</td>\n",
       "      <td>NaN</td>\n",
       "      <td>5.0</td>\n",
       "      <td>3.0</td>\n",
       "    </tr>\n",
       "  </tbody>\n",
       "</table>\n",
       "</div>"
      ],
      "text/plain": [
       "Critics             Alex  Dustin  Frank  Jessie  Kyle  Kyler  Roy  Tyler  Yan  \\\n",
       "movie                                                                           \n",
       "Apocalypse Now       1.0     3.0    3.0     2.0   NaN    NaN  2.0    2.0  NaN   \n",
       "Goodfellas           2.0     3.0    NaN     NaN   2.0    3.0  4.0    4.0  2.0   \n",
       "Pulp Fiction         NaN     5.0    4.0     4.0   2.0    4.0  2.0    5.0  3.0   \n",
       "The Godfather        3.0     1.0    5.0     NaN   5.0    5.0  5.0    3.0  NaN   \n",
       "The Usual Suspects   NaN     4.0    NaN     3.0   4.0    NaN  NaN    NaN  5.0   \n",
       "\n",
       "Critics             Yang  \n",
       "movie                     \n",
       "Apocalypse Now       NaN  \n",
       "Goodfellas           NaN  \n",
       "Pulp Fiction         3.0  \n",
       "The Godfather        5.0  \n",
       "The Usual Suspects   3.0  "
      ]
     },
     "execution_count": 33,
     "metadata": {},
     "output_type": "execute_result"
    },
    {
     "data": {
      "application/javascript": [
       "\n",
       "            setTimeout(function() {\n",
       "                var nbb_cell_id = 33;\n",
       "                var nbb_unformatted_code = \"matrix = formatted_df.pivot_table(index=\\\"movie\\\", columns=\\\"Critics\\\", values=\\\"rating\\\")\\nmatrix\";\n",
       "                var nbb_formatted_code = \"matrix = formatted_df.pivot_table(index=\\\"movie\\\", columns=\\\"Critics\\\", values=\\\"rating\\\")\\nmatrix\";\n",
       "                var nbb_cells = Jupyter.notebook.get_cells();\n",
       "                for (var i = 0; i < nbb_cells.length; ++i) {\n",
       "                    if (nbb_cells[i].input_prompt_number == nbb_cell_id) {\n",
       "                        if (nbb_cells[i].get_text() == nbb_unformatted_code) {\n",
       "                             nbb_cells[i].set_text(nbb_formatted_code);\n",
       "                        }\n",
       "                        break;\n",
       "                    }\n",
       "                }\n",
       "            }, 500);\n",
       "            "
      ],
      "text/plain": [
       "<IPython.core.display.Javascript object>"
      ]
     },
     "metadata": {},
     "output_type": "display_data"
    }
   ],
   "source": [
    "matrix = formatted_df.pivot_table(index=\"movie\", columns=\"Critics\", values=\"rating\")\n",
    "matrix"
   ]
  },
  {
   "cell_type": "markdown",
   "id": "565799e6",
   "metadata": {},
   "source": [
    "#### Get the value (actual - average) for each movie"
   ]
  },
  {
   "cell_type": "code",
   "execution_count": 34,
   "id": "079ba78d",
   "metadata": {},
   "outputs": [
    {
     "data": {
      "text/html": [
       "<div>\n",
       "<style scoped>\n",
       "    .dataframe tbody tr th:only-of-type {\n",
       "        vertical-align: middle;\n",
       "    }\n",
       "\n",
       "    .dataframe tbody tr th {\n",
       "        vertical-align: top;\n",
       "    }\n",
       "\n",
       "    .dataframe thead th {\n",
       "        text-align: right;\n",
       "    }\n",
       "</style>\n",
       "<table border=\"1\" class=\"dataframe\">\n",
       "  <thead>\n",
       "    <tr style=\"text-align: right;\">\n",
       "      <th>Critics</th>\n",
       "      <th>Alex</th>\n",
       "      <th>Dustin</th>\n",
       "      <th>Frank</th>\n",
       "      <th>Jessie</th>\n",
       "      <th>Kyle</th>\n",
       "      <th>Kyler</th>\n",
       "      <th>Roy</th>\n",
       "      <th>Tyler</th>\n",
       "      <th>Yan</th>\n",
       "      <th>Yang</th>\n",
       "    </tr>\n",
       "    <tr>\n",
       "      <th>movie</th>\n",
       "      <th></th>\n",
       "      <th></th>\n",
       "      <th></th>\n",
       "      <th></th>\n",
       "      <th></th>\n",
       "      <th></th>\n",
       "      <th></th>\n",
       "      <th></th>\n",
       "      <th></th>\n",
       "      <th></th>\n",
       "    </tr>\n",
       "  </thead>\n",
       "  <tbody>\n",
       "    <tr>\n",
       "      <th>Apocalypse Now</th>\n",
       "      <td>-1.166667</td>\n",
       "      <td>0.833333</td>\n",
       "      <td>0.833333</td>\n",
       "      <td>-0.166667</td>\n",
       "      <td>NaN</td>\n",
       "      <td>NaN</td>\n",
       "      <td>-0.166667</td>\n",
       "      <td>-0.166667</td>\n",
       "      <td>NaN</td>\n",
       "      <td>NaN</td>\n",
       "    </tr>\n",
       "    <tr>\n",
       "      <th>Goodfellas</th>\n",
       "      <td>-0.857143</td>\n",
       "      <td>0.142857</td>\n",
       "      <td>NaN</td>\n",
       "      <td>NaN</td>\n",
       "      <td>-0.857143</td>\n",
       "      <td>0.142857</td>\n",
       "      <td>1.142857</td>\n",
       "      <td>1.142857</td>\n",
       "      <td>-0.857143</td>\n",
       "      <td>NaN</td>\n",
       "    </tr>\n",
       "    <tr>\n",
       "      <th>Pulp Fiction</th>\n",
       "      <td>NaN</td>\n",
       "      <td>1.444444</td>\n",
       "      <td>0.444444</td>\n",
       "      <td>0.444444</td>\n",
       "      <td>-1.555556</td>\n",
       "      <td>0.444444</td>\n",
       "      <td>-1.555556</td>\n",
       "      <td>1.444444</td>\n",
       "      <td>-0.555556</td>\n",
       "      <td>-0.555556</td>\n",
       "    </tr>\n",
       "    <tr>\n",
       "      <th>The Godfather</th>\n",
       "      <td>-1.000000</td>\n",
       "      <td>-3.000000</td>\n",
       "      <td>1.000000</td>\n",
       "      <td>NaN</td>\n",
       "      <td>1.000000</td>\n",
       "      <td>1.000000</td>\n",
       "      <td>1.000000</td>\n",
       "      <td>-1.000000</td>\n",
       "      <td>NaN</td>\n",
       "      <td>1.000000</td>\n",
       "    </tr>\n",
       "    <tr>\n",
       "      <th>The Usual Suspects</th>\n",
       "      <td>NaN</td>\n",
       "      <td>0.200000</td>\n",
       "      <td>NaN</td>\n",
       "      <td>-0.800000</td>\n",
       "      <td>0.200000</td>\n",
       "      <td>NaN</td>\n",
       "      <td>NaN</td>\n",
       "      <td>NaN</td>\n",
       "      <td>1.200000</td>\n",
       "      <td>-0.800000</td>\n",
       "    </tr>\n",
       "  </tbody>\n",
       "</table>\n",
       "</div>"
      ],
      "text/plain": [
       "Critics                 Alex    Dustin     Frank    Jessie      Kyle  \\\n",
       "movie                                                                  \n",
       "Apocalypse Now     -1.166667  0.833333  0.833333 -0.166667       NaN   \n",
       "Goodfellas         -0.857143  0.142857       NaN       NaN -0.857143   \n",
       "Pulp Fiction             NaN  1.444444  0.444444  0.444444 -1.555556   \n",
       "The Godfather      -1.000000 -3.000000  1.000000       NaN  1.000000   \n",
       "The Usual Suspects       NaN  0.200000       NaN -0.800000  0.200000   \n",
       "\n",
       "Critics                Kyler       Roy     Tyler       Yan      Yang  \n",
       "movie                                                                 \n",
       "Apocalypse Now           NaN -0.166667 -0.166667       NaN       NaN  \n",
       "Goodfellas          0.142857  1.142857  1.142857 -0.857143       NaN  \n",
       "Pulp Fiction        0.444444 -1.555556  1.444444 -0.555556 -0.555556  \n",
       "The Godfather       1.000000  1.000000 -1.000000       NaN  1.000000  \n",
       "The Usual Suspects       NaN       NaN       NaN  1.200000 -0.800000  "
      ]
     },
     "execution_count": 34,
     "metadata": {},
     "output_type": "execute_result"
    },
    {
     "data": {
      "application/javascript": [
       "\n",
       "            setTimeout(function() {\n",
       "                var nbb_cell_id = 34;\n",
       "                var nbb_unformatted_code = \"df_norm = matrix.subtract(matrix.mean(axis=1), axis=0)\\ndf_norm\";\n",
       "                var nbb_formatted_code = \"df_norm = matrix.subtract(matrix.mean(axis=1), axis=0)\\ndf_norm\";\n",
       "                var nbb_cells = Jupyter.notebook.get_cells();\n",
       "                for (var i = 0; i < nbb_cells.length; ++i) {\n",
       "                    if (nbb_cells[i].input_prompt_number == nbb_cell_id) {\n",
       "                        if (nbb_cells[i].get_text() == nbb_unformatted_code) {\n",
       "                             nbb_cells[i].set_text(nbb_formatted_code);\n",
       "                        }\n",
       "                        break;\n",
       "                    }\n",
       "                }\n",
       "            }, 500);\n",
       "            "
      ],
      "text/plain": [
       "<IPython.core.display.Javascript object>"
      ]
     },
     "metadata": {},
     "output_type": "display_data"
    }
   ],
   "source": [
    "df_norm = matrix.subtract(matrix.mean(axis=1), axis=0)\n",
    "df_norm"
   ]
  },
  {
   "cell_type": "markdown",
   "id": "fccc589c",
   "metadata": {},
   "source": [
    "* I calculated cosine similarity before, let's check it again."
   ]
  },
  {
   "cell_type": "code",
   "execution_count": 35,
   "id": "9c012e93",
   "metadata": {},
   "outputs": [
    {
     "data": {
      "text/plain": [
       "array([[1.        , 0.03139379, 0.        , ..., 0.        , 0.        ,\n",
       "        0.        ],\n",
       "       [0.03139379, 1.        , 0.12829673, ..., 0.        , 0.04084095,\n",
       "        0.        ],\n",
       "       [0.        , 0.12829673, 1.        , ..., 0.        , 0.        ,\n",
       "        0.        ],\n",
       "       ...,\n",
       "       [0.        , 0.        , 0.        , ..., 1.        , 0.        ,\n",
       "        0.        ],\n",
       "       [0.        , 0.04084095, 0.        , ..., 0.        , 1.        ,\n",
       "        0.        ],\n",
       "       [0.        , 0.        , 0.        , ..., 0.        , 0.        ,\n",
       "        1.        ]])"
      ]
     },
     "execution_count": 35,
     "metadata": {},
     "output_type": "execute_result"
    },
    {
     "data": {
      "application/javascript": [
       "\n",
       "            setTimeout(function() {\n",
       "                var nbb_cell_id = 35;\n",
       "                var nbb_unformatted_code = \"cosine_sim\";\n",
       "                var nbb_formatted_code = \"cosine_sim\";\n",
       "                var nbb_cells = Jupyter.notebook.get_cells();\n",
       "                for (var i = 0; i < nbb_cells.length; ++i) {\n",
       "                    if (nbb_cells[i].input_prompt_number == nbb_cell_id) {\n",
       "                        if (nbb_cells[i].get_text() == nbb_unformatted_code) {\n",
       "                             nbb_cells[i].set_text(nbb_formatted_code);\n",
       "                        }\n",
       "                        break;\n",
       "                    }\n",
       "                }\n",
       "            }, 500);\n",
       "            "
      ],
      "text/plain": [
       "<IPython.core.display.Javascript object>"
      ]
     },
     "metadata": {},
     "output_type": "display_data"
    }
   ],
   "source": [
    "cosine_sim"
   ]
  },
  {
   "cell_type": "markdown",
   "id": "1f33a8c1",
   "metadata": {},
   "source": [
    "#### Convert array into dataframe, allowing us to look it clearly"
   ]
  },
  {
   "cell_type": "code",
   "execution_count": 36,
   "id": "bece29d5",
   "metadata": {},
   "outputs": [
    {
     "data": {
      "text/html": [
       "<div>\n",
       "<style scoped>\n",
       "    .dataframe tbody tr th:only-of-type {\n",
       "        vertical-align: middle;\n",
       "    }\n",
       "\n",
       "    .dataframe tbody tr th {\n",
       "        vertical-align: top;\n",
       "    }\n",
       "\n",
       "    .dataframe thead th {\n",
       "        text-align: right;\n",
       "    }\n",
       "</style>\n",
       "<table border=\"1\" class=\"dataframe\">\n",
       "  <thead>\n",
       "    <tr style=\"text-align: right;\">\n",
       "      <th></th>\n",
       "      <th>0</th>\n",
       "      <th>1</th>\n",
       "      <th>2</th>\n",
       "      <th>3</th>\n",
       "      <th>4</th>\n",
       "      <th>5</th>\n",
       "      <th>6</th>\n",
       "      <th>7</th>\n",
       "      <th>8</th>\n",
       "      <th>9</th>\n",
       "      <th>...</th>\n",
       "      <th>90</th>\n",
       "      <th>91</th>\n",
       "      <th>92</th>\n",
       "      <th>93</th>\n",
       "      <th>94</th>\n",
       "      <th>95</th>\n",
       "      <th>96</th>\n",
       "      <th>97</th>\n",
       "      <th>98</th>\n",
       "      <th>99</th>\n",
       "    </tr>\n",
       "  </thead>\n",
       "  <tbody>\n",
       "    <tr>\n",
       "      <th>0</th>\n",
       "      <td>1.000000</td>\n",
       "      <td>0.031394</td>\n",
       "      <td>0.000000</td>\n",
       "      <td>0.000000</td>\n",
       "      <td>0.000000</td>\n",
       "      <td>0.000000</td>\n",
       "      <td>0.0</td>\n",
       "      <td>0.0</td>\n",
       "      <td>0.000000</td>\n",
       "      <td>0.000000</td>\n",
       "      <td>...</td>\n",
       "      <td>0.0</td>\n",
       "      <td>0.000000</td>\n",
       "      <td>0.0</td>\n",
       "      <td>0.000000</td>\n",
       "      <td>0.10028</td>\n",
       "      <td>0.000000</td>\n",
       "      <td>0.000000</td>\n",
       "      <td>0.0</td>\n",
       "      <td>0.000000</td>\n",
       "      <td>0.0</td>\n",
       "    </tr>\n",
       "    <tr>\n",
       "      <th>1</th>\n",
       "      <td>0.031394</td>\n",
       "      <td>1.000000</td>\n",
       "      <td>0.128297</td>\n",
       "      <td>0.000000</td>\n",
       "      <td>0.000000</td>\n",
       "      <td>0.000000</td>\n",
       "      <td>0.0</td>\n",
       "      <td>0.0</td>\n",
       "      <td>0.000000</td>\n",
       "      <td>0.000000</td>\n",
       "      <td>...</td>\n",
       "      <td>0.0</td>\n",
       "      <td>0.000000</td>\n",
       "      <td>0.0</td>\n",
       "      <td>0.000000</td>\n",
       "      <td>0.00000</td>\n",
       "      <td>0.000000</td>\n",
       "      <td>0.000000</td>\n",
       "      <td>0.0</td>\n",
       "      <td>0.040841</td>\n",
       "      <td>0.0</td>\n",
       "    </tr>\n",
       "    <tr>\n",
       "      <th>2</th>\n",
       "      <td>0.000000</td>\n",
       "      <td>0.128297</td>\n",
       "      <td>1.000000</td>\n",
       "      <td>0.000000</td>\n",
       "      <td>0.000000</td>\n",
       "      <td>0.000000</td>\n",
       "      <td>0.0</td>\n",
       "      <td>0.0</td>\n",
       "      <td>0.000000</td>\n",
       "      <td>0.000000</td>\n",
       "      <td>...</td>\n",
       "      <td>0.0</td>\n",
       "      <td>0.000000</td>\n",
       "      <td>0.0</td>\n",
       "      <td>0.000000</td>\n",
       "      <td>0.00000</td>\n",
       "      <td>0.000000</td>\n",
       "      <td>0.046228</td>\n",
       "      <td>0.0</td>\n",
       "      <td>0.000000</td>\n",
       "      <td>0.0</td>\n",
       "    </tr>\n",
       "    <tr>\n",
       "      <th>3</th>\n",
       "      <td>0.000000</td>\n",
       "      <td>0.000000</td>\n",
       "      <td>0.000000</td>\n",
       "      <td>1.000000</td>\n",
       "      <td>0.000000</td>\n",
       "      <td>0.000000</td>\n",
       "      <td>0.0</td>\n",
       "      <td>0.0</td>\n",
       "      <td>0.000000</td>\n",
       "      <td>0.093354</td>\n",
       "      <td>...</td>\n",
       "      <td>0.0</td>\n",
       "      <td>0.032510</td>\n",
       "      <td>0.0</td>\n",
       "      <td>0.000000</td>\n",
       "      <td>0.00000</td>\n",
       "      <td>0.041294</td>\n",
       "      <td>0.000000</td>\n",
       "      <td>0.0</td>\n",
       "      <td>0.000000</td>\n",
       "      <td>0.0</td>\n",
       "    </tr>\n",
       "    <tr>\n",
       "      <th>4</th>\n",
       "      <td>0.000000</td>\n",
       "      <td>0.000000</td>\n",
       "      <td>0.000000</td>\n",
       "      <td>0.000000</td>\n",
       "      <td>1.000000</td>\n",
       "      <td>0.000000</td>\n",
       "      <td>0.0</td>\n",
       "      <td>0.0</td>\n",
       "      <td>0.000000</td>\n",
       "      <td>0.000000</td>\n",
       "      <td>...</td>\n",
       "      <td>0.0</td>\n",
       "      <td>0.108547</td>\n",
       "      <td>0.0</td>\n",
       "      <td>0.000000</td>\n",
       "      <td>0.00000</td>\n",
       "      <td>0.057557</td>\n",
       "      <td>0.000000</td>\n",
       "      <td>0.0</td>\n",
       "      <td>0.000000</td>\n",
       "      <td>0.0</td>\n",
       "    </tr>\n",
       "    <tr>\n",
       "      <th>...</th>\n",
       "      <td>...</td>\n",
       "      <td>...</td>\n",
       "      <td>...</td>\n",
       "      <td>...</td>\n",
       "      <td>...</td>\n",
       "      <td>...</td>\n",
       "      <td>...</td>\n",
       "      <td>...</td>\n",
       "      <td>...</td>\n",
       "      <td>...</td>\n",
       "      <td>...</td>\n",
       "      <td>...</td>\n",
       "      <td>...</td>\n",
       "      <td>...</td>\n",
       "      <td>...</td>\n",
       "      <td>...</td>\n",
       "      <td>...</td>\n",
       "      <td>...</td>\n",
       "      <td>...</td>\n",
       "      <td>...</td>\n",
       "      <td>...</td>\n",
       "    </tr>\n",
       "    <tr>\n",
       "      <th>95</th>\n",
       "      <td>0.000000</td>\n",
       "      <td>0.000000</td>\n",
       "      <td>0.000000</td>\n",
       "      <td>0.041294</td>\n",
       "      <td>0.057557</td>\n",
       "      <td>0.000000</td>\n",
       "      <td>0.0</td>\n",
       "      <td>0.0</td>\n",
       "      <td>0.050081</td>\n",
       "      <td>0.049068</td>\n",
       "      <td>...</td>\n",
       "      <td>0.0</td>\n",
       "      <td>0.090097</td>\n",
       "      <td>0.0</td>\n",
       "      <td>0.000000</td>\n",
       "      <td>0.00000</td>\n",
       "      <td>1.000000</td>\n",
       "      <td>0.000000</td>\n",
       "      <td>0.0</td>\n",
       "      <td>0.000000</td>\n",
       "      <td>0.0</td>\n",
       "    </tr>\n",
       "    <tr>\n",
       "      <th>96</th>\n",
       "      <td>0.000000</td>\n",
       "      <td>0.000000</td>\n",
       "      <td>0.046228</td>\n",
       "      <td>0.000000</td>\n",
       "      <td>0.000000</td>\n",
       "      <td>0.049011</td>\n",
       "      <td>0.0</td>\n",
       "      <td>0.0</td>\n",
       "      <td>0.000000</td>\n",
       "      <td>0.065818</td>\n",
       "      <td>...</td>\n",
       "      <td>0.0</td>\n",
       "      <td>0.000000</td>\n",
       "      <td>0.0</td>\n",
       "      <td>0.000000</td>\n",
       "      <td>0.00000</td>\n",
       "      <td>0.000000</td>\n",
       "      <td>1.000000</td>\n",
       "      <td>0.0</td>\n",
       "      <td>0.063004</td>\n",
       "      <td>0.0</td>\n",
       "    </tr>\n",
       "    <tr>\n",
       "      <th>97</th>\n",
       "      <td>0.000000</td>\n",
       "      <td>0.000000</td>\n",
       "      <td>0.000000</td>\n",
       "      <td>0.000000</td>\n",
       "      <td>0.000000</td>\n",
       "      <td>0.000000</td>\n",
       "      <td>0.0</td>\n",
       "      <td>0.0</td>\n",
       "      <td>0.000000</td>\n",
       "      <td>0.000000</td>\n",
       "      <td>...</td>\n",
       "      <td>0.0</td>\n",
       "      <td>0.000000</td>\n",
       "      <td>0.0</td>\n",
       "      <td>0.000000</td>\n",
       "      <td>0.00000</td>\n",
       "      <td>0.000000</td>\n",
       "      <td>0.000000</td>\n",
       "      <td>1.0</td>\n",
       "      <td>0.000000</td>\n",
       "      <td>0.0</td>\n",
       "    </tr>\n",
       "    <tr>\n",
       "      <th>98</th>\n",
       "      <td>0.000000</td>\n",
       "      <td>0.040841</td>\n",
       "      <td>0.000000</td>\n",
       "      <td>0.000000</td>\n",
       "      <td>0.000000</td>\n",
       "      <td>0.000000</td>\n",
       "      <td>0.0</td>\n",
       "      <td>0.0</td>\n",
       "      <td>0.099394</td>\n",
       "      <td>0.000000</td>\n",
       "      <td>...</td>\n",
       "      <td>0.0</td>\n",
       "      <td>0.000000</td>\n",
       "      <td>0.0</td>\n",
       "      <td>0.048815</td>\n",
       "      <td>0.00000</td>\n",
       "      <td>0.000000</td>\n",
       "      <td>0.063004</td>\n",
       "      <td>0.0</td>\n",
       "      <td>1.000000</td>\n",
       "      <td>0.0</td>\n",
       "    </tr>\n",
       "    <tr>\n",
       "      <th>99</th>\n",
       "      <td>0.000000</td>\n",
       "      <td>0.000000</td>\n",
       "      <td>0.000000</td>\n",
       "      <td>0.000000</td>\n",
       "      <td>0.000000</td>\n",
       "      <td>0.000000</td>\n",
       "      <td>0.0</td>\n",
       "      <td>0.0</td>\n",
       "      <td>0.000000</td>\n",
       "      <td>0.000000</td>\n",
       "      <td>...</td>\n",
       "      <td>0.0</td>\n",
       "      <td>0.000000</td>\n",
       "      <td>0.0</td>\n",
       "      <td>0.083743</td>\n",
       "      <td>0.00000</td>\n",
       "      <td>0.000000</td>\n",
       "      <td>0.000000</td>\n",
       "      <td>0.0</td>\n",
       "      <td>0.000000</td>\n",
       "      <td>1.0</td>\n",
       "    </tr>\n",
       "  </tbody>\n",
       "</table>\n",
       "<p>100 rows × 100 columns</p>\n",
       "</div>"
      ],
      "text/plain": [
       "          0         1         2         3         4         5    6    7   \\\n",
       "0   1.000000  0.031394  0.000000  0.000000  0.000000  0.000000  0.0  0.0   \n",
       "1   0.031394  1.000000  0.128297  0.000000  0.000000  0.000000  0.0  0.0   \n",
       "2   0.000000  0.128297  1.000000  0.000000  0.000000  0.000000  0.0  0.0   \n",
       "3   0.000000  0.000000  0.000000  1.000000  0.000000  0.000000  0.0  0.0   \n",
       "4   0.000000  0.000000  0.000000  0.000000  1.000000  0.000000  0.0  0.0   \n",
       "..       ...       ...       ...       ...       ...       ...  ...  ...   \n",
       "95  0.000000  0.000000  0.000000  0.041294  0.057557  0.000000  0.0  0.0   \n",
       "96  0.000000  0.000000  0.046228  0.000000  0.000000  0.049011  0.0  0.0   \n",
       "97  0.000000  0.000000  0.000000  0.000000  0.000000  0.000000  0.0  0.0   \n",
       "98  0.000000  0.040841  0.000000  0.000000  0.000000  0.000000  0.0  0.0   \n",
       "99  0.000000  0.000000  0.000000  0.000000  0.000000  0.000000  0.0  0.0   \n",
       "\n",
       "          8         9   ...   90        91   92        93       94        95  \\\n",
       "0   0.000000  0.000000  ...  0.0  0.000000  0.0  0.000000  0.10028  0.000000   \n",
       "1   0.000000  0.000000  ...  0.0  0.000000  0.0  0.000000  0.00000  0.000000   \n",
       "2   0.000000  0.000000  ...  0.0  0.000000  0.0  0.000000  0.00000  0.000000   \n",
       "3   0.000000  0.093354  ...  0.0  0.032510  0.0  0.000000  0.00000  0.041294   \n",
       "4   0.000000  0.000000  ...  0.0  0.108547  0.0  0.000000  0.00000  0.057557   \n",
       "..       ...       ...  ...  ...       ...  ...       ...      ...       ...   \n",
       "95  0.050081  0.049068  ...  0.0  0.090097  0.0  0.000000  0.00000  1.000000   \n",
       "96  0.000000  0.065818  ...  0.0  0.000000  0.0  0.000000  0.00000  0.000000   \n",
       "97  0.000000  0.000000  ...  0.0  0.000000  0.0  0.000000  0.00000  0.000000   \n",
       "98  0.099394  0.000000  ...  0.0  0.000000  0.0  0.048815  0.00000  0.000000   \n",
       "99  0.000000  0.000000  ...  0.0  0.000000  0.0  0.083743  0.00000  0.000000   \n",
       "\n",
       "          96   97        98   99  \n",
       "0   0.000000  0.0  0.000000  0.0  \n",
       "1   0.000000  0.0  0.040841  0.0  \n",
       "2   0.046228  0.0  0.000000  0.0  \n",
       "3   0.000000  0.0  0.000000  0.0  \n",
       "4   0.000000  0.0  0.000000  0.0  \n",
       "..       ...  ...       ...  ...  \n",
       "95  0.000000  0.0  0.000000  0.0  \n",
       "96  1.000000  0.0  0.063004  0.0  \n",
       "97  0.000000  1.0  0.000000  0.0  \n",
       "98  0.063004  0.0  1.000000  0.0  \n",
       "99  0.000000  0.0  0.000000  1.0  \n",
       "\n",
       "[100 rows x 100 columns]"
      ]
     },
     "execution_count": 36,
     "metadata": {},
     "output_type": "execute_result"
    },
    {
     "data": {
      "application/javascript": [
       "\n",
       "            setTimeout(function() {\n",
       "                var nbb_cell_id = 36;\n",
       "                var nbb_unformatted_code = \"df_array = pd.DataFrame(cosine_sim)\\ndf_array\";\n",
       "                var nbb_formatted_code = \"df_array = pd.DataFrame(cosine_sim)\\ndf_array\";\n",
       "                var nbb_cells = Jupyter.notebook.get_cells();\n",
       "                for (var i = 0; i < nbb_cells.length; ++i) {\n",
       "                    if (nbb_cells[i].input_prompt_number == nbb_cell_id) {\n",
       "                        if (nbb_cells[i].get_text() == nbb_unformatted_code) {\n",
       "                             nbb_cells[i].set_text(nbb_formatted_code);\n",
       "                        }\n",
       "                        break;\n",
       "                    }\n",
       "                }\n",
       "            }, 500);\n",
       "            "
      ],
      "text/plain": [
       "<IPython.core.display.Javascript object>"
      ]
     },
     "metadata": {},
     "output_type": "display_data"
    }
   ],
   "source": [
    "df_array = pd.DataFrame(cosine_sim)\n",
    "df_array"
   ]
  },
  {
   "cell_type": "markdown",
   "id": "d6dbc33d",
   "metadata": {},
   "source": [
    "#### Reset the index and columns name"
   ]
  },
  {
   "cell_type": "code",
   "execution_count": 37,
   "id": "31ac11ef",
   "metadata": {},
   "outputs": [
    {
     "data": {
      "application/javascript": [
       "\n",
       "            setTimeout(function() {\n",
       "                var nbb_cell_id = 37;\n",
       "                var nbb_unformatted_code = \"reset_name = movies_df[\\\"name\\\"].to_list()\";\n",
       "                var nbb_formatted_code = \"reset_name = movies_df[\\\"name\\\"].to_list()\";\n",
       "                var nbb_cells = Jupyter.notebook.get_cells();\n",
       "                for (var i = 0; i < nbb_cells.length; ++i) {\n",
       "                    if (nbb_cells[i].input_prompt_number == nbb_cell_id) {\n",
       "                        if (nbb_cells[i].get_text() == nbb_unformatted_code) {\n",
       "                             nbb_cells[i].set_text(nbb_formatted_code);\n",
       "                        }\n",
       "                        break;\n",
       "                    }\n",
       "                }\n",
       "            }, 500);\n",
       "            "
      ],
      "text/plain": [
       "<IPython.core.display.Javascript object>"
      ]
     },
     "metadata": {},
     "output_type": "display_data"
    }
   ],
   "source": [
    "reset_name = movies_df[\"name\"].to_list()"
   ]
  },
  {
   "cell_type": "code",
   "execution_count": 38,
   "id": "2e091949",
   "metadata": {},
   "outputs": [
    {
     "data": {
      "application/javascript": [
       "\n",
       "            setTimeout(function() {\n",
       "                var nbb_cell_id = 38;\n",
       "                var nbb_unformatted_code = \"df_array.set_axis(reset_name, axis=1, inplace=True)\";\n",
       "                var nbb_formatted_code = \"df_array.set_axis(reset_name, axis=1, inplace=True)\";\n",
       "                var nbb_cells = Jupyter.notebook.get_cells();\n",
       "                for (var i = 0; i < nbb_cells.length; ++i) {\n",
       "                    if (nbb_cells[i].input_prompt_number == nbb_cell_id) {\n",
       "                        if (nbb_cells[i].get_text() == nbb_unformatted_code) {\n",
       "                             nbb_cells[i].set_text(nbb_formatted_code);\n",
       "                        }\n",
       "                        break;\n",
       "                    }\n",
       "                }\n",
       "            }, 500);\n",
       "            "
      ],
      "text/plain": [
       "<IPython.core.display.Javascript object>"
      ]
     },
     "metadata": {},
     "output_type": "display_data"
    }
   ],
   "source": [
    "df_array.set_axis(reset_name, axis=1, inplace=True)"
   ]
  },
  {
   "cell_type": "code",
   "execution_count": 39,
   "id": "fcc66fbb",
   "metadata": {},
   "outputs": [
    {
     "data": {
      "application/javascript": [
       "\n",
       "            setTimeout(function() {\n",
       "                var nbb_cell_id = 39;\n",
       "                var nbb_unformatted_code = \"df_array.index = reset_name\";\n",
       "                var nbb_formatted_code = \"df_array.index = reset_name\";\n",
       "                var nbb_cells = Jupyter.notebook.get_cells();\n",
       "                for (var i = 0; i < nbb_cells.length; ++i) {\n",
       "                    if (nbb_cells[i].input_prompt_number == nbb_cell_id) {\n",
       "                        if (nbb_cells[i].get_text() == nbb_unformatted_code) {\n",
       "                             nbb_cells[i].set_text(nbb_formatted_code);\n",
       "                        }\n",
       "                        break;\n",
       "                    }\n",
       "                }\n",
       "            }, 500);\n",
       "            "
      ],
      "text/plain": [
       "<IPython.core.display.Javascript object>"
      ]
     },
     "metadata": {},
     "output_type": "display_data"
    }
   ],
   "source": [
    "df_array.index = reset_name"
   ]
  },
  {
   "cell_type": "code",
   "execution_count": 40,
   "id": "428ab6a9",
   "metadata": {},
   "outputs": [
    {
     "data": {
      "text/html": [
       "<div>\n",
       "<style scoped>\n",
       "    .dataframe tbody tr th:only-of-type {\n",
       "        vertical-align: middle;\n",
       "    }\n",
       "\n",
       "    .dataframe tbody tr th {\n",
       "        vertical-align: top;\n",
       "    }\n",
       "\n",
       "    .dataframe thead th {\n",
       "        text-align: right;\n",
       "    }\n",
       "</style>\n",
       "<table border=\"1\" class=\"dataframe\">\n",
       "  <thead>\n",
       "    <tr style=\"text-align: right;\">\n",
       "      <th></th>\n",
       "      <th>The Godfather</th>\n",
       "      <th>Goodfellas</th>\n",
       "      <th>Pulp Fiction</th>\n",
       "      <th>The Usual Suspects</th>\n",
       "      <th>Apocalypse Now</th>\n",
       "      <th>Trainspotting</th>\n",
       "      <th>Fight Club</th>\n",
       "      <th>Schindler's List</th>\n",
       "      <th>Boogie Nights</th>\n",
       "      <th>Reservoir Dogs</th>\n",
       "      <th>...</th>\n",
       "      <th>Rain Man</th>\n",
       "      <th>Minority Report</th>\n",
       "      <th>Goldfinger</th>\n",
       "      <th>The Social Network</th>\n",
       "      <th>American Psycho</th>\n",
       "      <th>Men in Black</th>\n",
       "      <th>No Country for Old Men</th>\n",
       "      <th>Airplane!</th>\n",
       "      <th>There Will Be Blood</th>\n",
       "      <th>Inception</th>\n",
       "    </tr>\n",
       "  </thead>\n",
       "  <tbody>\n",
       "    <tr>\n",
       "      <th>The Godfather</th>\n",
       "      <td>1.000000</td>\n",
       "      <td>0.031394</td>\n",
       "      <td>0.000000</td>\n",
       "      <td>0.000000</td>\n",
       "      <td>0.000000</td>\n",
       "      <td>0.000000</td>\n",
       "      <td>0.0</td>\n",
       "      <td>0.0</td>\n",
       "      <td>0.000000</td>\n",
       "      <td>0.000000</td>\n",
       "      <td>...</td>\n",
       "      <td>0.0</td>\n",
       "      <td>0.000000</td>\n",
       "      <td>0.0</td>\n",
       "      <td>0.000000</td>\n",
       "      <td>0.10028</td>\n",
       "      <td>0.000000</td>\n",
       "      <td>0.000000</td>\n",
       "      <td>0.0</td>\n",
       "      <td>0.000000</td>\n",
       "      <td>0.0</td>\n",
       "    </tr>\n",
       "    <tr>\n",
       "      <th>Goodfellas</th>\n",
       "      <td>0.031394</td>\n",
       "      <td>1.000000</td>\n",
       "      <td>0.128297</td>\n",
       "      <td>0.000000</td>\n",
       "      <td>0.000000</td>\n",
       "      <td>0.000000</td>\n",
       "      <td>0.0</td>\n",
       "      <td>0.0</td>\n",
       "      <td>0.000000</td>\n",
       "      <td>0.000000</td>\n",
       "      <td>...</td>\n",
       "      <td>0.0</td>\n",
       "      <td>0.000000</td>\n",
       "      <td>0.0</td>\n",
       "      <td>0.000000</td>\n",
       "      <td>0.00000</td>\n",
       "      <td>0.000000</td>\n",
       "      <td>0.000000</td>\n",
       "      <td>0.0</td>\n",
       "      <td>0.040841</td>\n",
       "      <td>0.0</td>\n",
       "    </tr>\n",
       "    <tr>\n",
       "      <th>Pulp Fiction</th>\n",
       "      <td>0.000000</td>\n",
       "      <td>0.128297</td>\n",
       "      <td>1.000000</td>\n",
       "      <td>0.000000</td>\n",
       "      <td>0.000000</td>\n",
       "      <td>0.000000</td>\n",
       "      <td>0.0</td>\n",
       "      <td>0.0</td>\n",
       "      <td>0.000000</td>\n",
       "      <td>0.000000</td>\n",
       "      <td>...</td>\n",
       "      <td>0.0</td>\n",
       "      <td>0.000000</td>\n",
       "      <td>0.0</td>\n",
       "      <td>0.000000</td>\n",
       "      <td>0.00000</td>\n",
       "      <td>0.000000</td>\n",
       "      <td>0.046228</td>\n",
       "      <td>0.0</td>\n",
       "      <td>0.000000</td>\n",
       "      <td>0.0</td>\n",
       "    </tr>\n",
       "    <tr>\n",
       "      <th>The Usual Suspects</th>\n",
       "      <td>0.000000</td>\n",
       "      <td>0.000000</td>\n",
       "      <td>0.000000</td>\n",
       "      <td>1.000000</td>\n",
       "      <td>0.000000</td>\n",
       "      <td>0.000000</td>\n",
       "      <td>0.0</td>\n",
       "      <td>0.0</td>\n",
       "      <td>0.000000</td>\n",
       "      <td>0.093354</td>\n",
       "      <td>...</td>\n",
       "      <td>0.0</td>\n",
       "      <td>0.032510</td>\n",
       "      <td>0.0</td>\n",
       "      <td>0.000000</td>\n",
       "      <td>0.00000</td>\n",
       "      <td>0.041294</td>\n",
       "      <td>0.000000</td>\n",
       "      <td>0.0</td>\n",
       "      <td>0.000000</td>\n",
       "      <td>0.0</td>\n",
       "    </tr>\n",
       "    <tr>\n",
       "      <th>Apocalypse Now</th>\n",
       "      <td>0.000000</td>\n",
       "      <td>0.000000</td>\n",
       "      <td>0.000000</td>\n",
       "      <td>0.000000</td>\n",
       "      <td>1.000000</td>\n",
       "      <td>0.000000</td>\n",
       "      <td>0.0</td>\n",
       "      <td>0.0</td>\n",
       "      <td>0.000000</td>\n",
       "      <td>0.000000</td>\n",
       "      <td>...</td>\n",
       "      <td>0.0</td>\n",
       "      <td>0.108547</td>\n",
       "      <td>0.0</td>\n",
       "      <td>0.000000</td>\n",
       "      <td>0.00000</td>\n",
       "      <td>0.057557</td>\n",
       "      <td>0.000000</td>\n",
       "      <td>0.0</td>\n",
       "      <td>0.000000</td>\n",
       "      <td>0.0</td>\n",
       "    </tr>\n",
       "    <tr>\n",
       "      <th>...</th>\n",
       "      <td>...</td>\n",
       "      <td>...</td>\n",
       "      <td>...</td>\n",
       "      <td>...</td>\n",
       "      <td>...</td>\n",
       "      <td>...</td>\n",
       "      <td>...</td>\n",
       "      <td>...</td>\n",
       "      <td>...</td>\n",
       "      <td>...</td>\n",
       "      <td>...</td>\n",
       "      <td>...</td>\n",
       "      <td>...</td>\n",
       "      <td>...</td>\n",
       "      <td>...</td>\n",
       "      <td>...</td>\n",
       "      <td>...</td>\n",
       "      <td>...</td>\n",
       "      <td>...</td>\n",
       "      <td>...</td>\n",
       "      <td>...</td>\n",
       "    </tr>\n",
       "    <tr>\n",
       "      <th>Men in Black</th>\n",
       "      <td>0.000000</td>\n",
       "      <td>0.000000</td>\n",
       "      <td>0.000000</td>\n",
       "      <td>0.041294</td>\n",
       "      <td>0.057557</td>\n",
       "      <td>0.000000</td>\n",
       "      <td>0.0</td>\n",
       "      <td>0.0</td>\n",
       "      <td>0.050081</td>\n",
       "      <td>0.049068</td>\n",
       "      <td>...</td>\n",
       "      <td>0.0</td>\n",
       "      <td>0.090097</td>\n",
       "      <td>0.0</td>\n",
       "      <td>0.000000</td>\n",
       "      <td>0.00000</td>\n",
       "      <td>1.000000</td>\n",
       "      <td>0.000000</td>\n",
       "      <td>0.0</td>\n",
       "      <td>0.000000</td>\n",
       "      <td>0.0</td>\n",
       "    </tr>\n",
       "    <tr>\n",
       "      <th>No Country for Old Men</th>\n",
       "      <td>0.000000</td>\n",
       "      <td>0.000000</td>\n",
       "      <td>0.046228</td>\n",
       "      <td>0.000000</td>\n",
       "      <td>0.000000</td>\n",
       "      <td>0.049011</td>\n",
       "      <td>0.0</td>\n",
       "      <td>0.0</td>\n",
       "      <td>0.000000</td>\n",
       "      <td>0.065818</td>\n",
       "      <td>...</td>\n",
       "      <td>0.0</td>\n",
       "      <td>0.000000</td>\n",
       "      <td>0.0</td>\n",
       "      <td>0.000000</td>\n",
       "      <td>0.00000</td>\n",
       "      <td>0.000000</td>\n",
       "      <td>1.000000</td>\n",
       "      <td>0.0</td>\n",
       "      <td>0.063004</td>\n",
       "      <td>0.0</td>\n",
       "    </tr>\n",
       "    <tr>\n",
       "      <th>Airplane!</th>\n",
       "      <td>0.000000</td>\n",
       "      <td>0.000000</td>\n",
       "      <td>0.000000</td>\n",
       "      <td>0.000000</td>\n",
       "      <td>0.000000</td>\n",
       "      <td>0.000000</td>\n",
       "      <td>0.0</td>\n",
       "      <td>0.0</td>\n",
       "      <td>0.000000</td>\n",
       "      <td>0.000000</td>\n",
       "      <td>...</td>\n",
       "      <td>0.0</td>\n",
       "      <td>0.000000</td>\n",
       "      <td>0.0</td>\n",
       "      <td>0.000000</td>\n",
       "      <td>0.00000</td>\n",
       "      <td>0.000000</td>\n",
       "      <td>0.000000</td>\n",
       "      <td>1.0</td>\n",
       "      <td>0.000000</td>\n",
       "      <td>0.0</td>\n",
       "    </tr>\n",
       "    <tr>\n",
       "      <th>There Will Be Blood</th>\n",
       "      <td>0.000000</td>\n",
       "      <td>0.040841</td>\n",
       "      <td>0.000000</td>\n",
       "      <td>0.000000</td>\n",
       "      <td>0.000000</td>\n",
       "      <td>0.000000</td>\n",
       "      <td>0.0</td>\n",
       "      <td>0.0</td>\n",
       "      <td>0.099394</td>\n",
       "      <td>0.000000</td>\n",
       "      <td>...</td>\n",
       "      <td>0.0</td>\n",
       "      <td>0.000000</td>\n",
       "      <td>0.0</td>\n",
       "      <td>0.048815</td>\n",
       "      <td>0.00000</td>\n",
       "      <td>0.000000</td>\n",
       "      <td>0.063004</td>\n",
       "      <td>0.0</td>\n",
       "      <td>1.000000</td>\n",
       "      <td>0.0</td>\n",
       "    </tr>\n",
       "    <tr>\n",
       "      <th>Inception</th>\n",
       "      <td>0.000000</td>\n",
       "      <td>0.000000</td>\n",
       "      <td>0.000000</td>\n",
       "      <td>0.000000</td>\n",
       "      <td>0.000000</td>\n",
       "      <td>0.000000</td>\n",
       "      <td>0.0</td>\n",
       "      <td>0.0</td>\n",
       "      <td>0.000000</td>\n",
       "      <td>0.000000</td>\n",
       "      <td>...</td>\n",
       "      <td>0.0</td>\n",
       "      <td>0.000000</td>\n",
       "      <td>0.0</td>\n",
       "      <td>0.083743</td>\n",
       "      <td>0.00000</td>\n",
       "      <td>0.000000</td>\n",
       "      <td>0.000000</td>\n",
       "      <td>0.0</td>\n",
       "      <td>0.000000</td>\n",
       "      <td>1.0</td>\n",
       "    </tr>\n",
       "  </tbody>\n",
       "</table>\n",
       "<p>100 rows × 100 columns</p>\n",
       "</div>"
      ],
      "text/plain": [
       "                        The Godfather  Goodfellas  Pulp Fiction  \\\n",
       "The Godfather                1.000000    0.031394      0.000000   \n",
       "Goodfellas                   0.031394    1.000000      0.128297   \n",
       "Pulp Fiction                 0.000000    0.128297      1.000000   \n",
       "The Usual Suspects           0.000000    0.000000      0.000000   \n",
       "Apocalypse Now               0.000000    0.000000      0.000000   \n",
       "...                               ...         ...           ...   \n",
       "Men in Black                 0.000000    0.000000      0.000000   \n",
       "No Country for Old Men       0.000000    0.000000      0.046228   \n",
       "Airplane!                    0.000000    0.000000      0.000000   \n",
       "There Will Be Blood          0.000000    0.040841      0.000000   \n",
       "Inception                    0.000000    0.000000      0.000000   \n",
       "\n",
       "                        The Usual Suspects  Apocalypse Now  Trainspotting  \\\n",
       "The Godfather                     0.000000        0.000000       0.000000   \n",
       "Goodfellas                        0.000000        0.000000       0.000000   \n",
       "Pulp Fiction                      0.000000        0.000000       0.000000   \n",
       "The Usual Suspects                1.000000        0.000000       0.000000   \n",
       "Apocalypse Now                    0.000000        1.000000       0.000000   \n",
       "...                                    ...             ...            ...   \n",
       "Men in Black                      0.041294        0.057557       0.000000   \n",
       "No Country for Old Men            0.000000        0.000000       0.049011   \n",
       "Airplane!                         0.000000        0.000000       0.000000   \n",
       "There Will Be Blood               0.000000        0.000000       0.000000   \n",
       "Inception                         0.000000        0.000000       0.000000   \n",
       "\n",
       "                        Fight Club  Schindler's List  Boogie Nights  \\\n",
       "The Godfather                  0.0               0.0       0.000000   \n",
       "Goodfellas                     0.0               0.0       0.000000   \n",
       "Pulp Fiction                   0.0               0.0       0.000000   \n",
       "The Usual Suspects             0.0               0.0       0.000000   \n",
       "Apocalypse Now                 0.0               0.0       0.000000   \n",
       "...                            ...               ...            ...   \n",
       "Men in Black                   0.0               0.0       0.050081   \n",
       "No Country for Old Men         0.0               0.0       0.000000   \n",
       "Airplane!                      0.0               0.0       0.000000   \n",
       "There Will Be Blood            0.0               0.0       0.099394   \n",
       "Inception                      0.0               0.0       0.000000   \n",
       "\n",
       "                        Reservoir Dogs  ...  Rain Man  Minority Report  \\\n",
       "The Godfather                 0.000000  ...       0.0         0.000000   \n",
       "Goodfellas                    0.000000  ...       0.0         0.000000   \n",
       "Pulp Fiction                  0.000000  ...       0.0         0.000000   \n",
       "The Usual Suspects            0.093354  ...       0.0         0.032510   \n",
       "Apocalypse Now                0.000000  ...       0.0         0.108547   \n",
       "...                                ...  ...       ...              ...   \n",
       "Men in Black                  0.049068  ...       0.0         0.090097   \n",
       "No Country for Old Men        0.065818  ...       0.0         0.000000   \n",
       "Airplane!                     0.000000  ...       0.0         0.000000   \n",
       "There Will Be Blood           0.000000  ...       0.0         0.000000   \n",
       "Inception                     0.000000  ...       0.0         0.000000   \n",
       "\n",
       "                        Goldfinger  The Social Network  American Psycho  \\\n",
       "The Godfather                  0.0            0.000000          0.10028   \n",
       "Goodfellas                     0.0            0.000000          0.00000   \n",
       "Pulp Fiction                   0.0            0.000000          0.00000   \n",
       "The Usual Suspects             0.0            0.000000          0.00000   \n",
       "Apocalypse Now                 0.0            0.000000          0.00000   \n",
       "...                            ...                 ...              ...   \n",
       "Men in Black                   0.0            0.000000          0.00000   \n",
       "No Country for Old Men         0.0            0.000000          0.00000   \n",
       "Airplane!                      0.0            0.000000          0.00000   \n",
       "There Will Be Blood            0.0            0.048815          0.00000   \n",
       "Inception                      0.0            0.083743          0.00000   \n",
       "\n",
       "                        Men in Black  No Country for Old Men  Airplane!  \\\n",
       "The Godfather               0.000000                0.000000        0.0   \n",
       "Goodfellas                  0.000000                0.000000        0.0   \n",
       "Pulp Fiction                0.000000                0.046228        0.0   \n",
       "The Usual Suspects          0.041294                0.000000        0.0   \n",
       "Apocalypse Now              0.057557                0.000000        0.0   \n",
       "...                              ...                     ...        ...   \n",
       "Men in Black                1.000000                0.000000        0.0   \n",
       "No Country for Old Men      0.000000                1.000000        0.0   \n",
       "Airplane!                   0.000000                0.000000        1.0   \n",
       "There Will Be Blood         0.000000                0.063004        0.0   \n",
       "Inception                   0.000000                0.000000        0.0   \n",
       "\n",
       "                        There Will Be Blood  Inception  \n",
       "The Godfather                      0.000000        0.0  \n",
       "Goodfellas                         0.040841        0.0  \n",
       "Pulp Fiction                       0.000000        0.0  \n",
       "The Usual Suspects                 0.000000        0.0  \n",
       "Apocalypse Now                     0.000000        0.0  \n",
       "...                                     ...        ...  \n",
       "Men in Black                       0.000000        0.0  \n",
       "No Country for Old Men             0.063004        0.0  \n",
       "Airplane!                          0.000000        0.0  \n",
       "There Will Be Blood                1.000000        0.0  \n",
       "Inception                          0.000000        1.0  \n",
       "\n",
       "[100 rows x 100 columns]"
      ]
     },
     "execution_count": 40,
     "metadata": {},
     "output_type": "execute_result"
    },
    {
     "data": {
      "application/javascript": [
       "\n",
       "            setTimeout(function() {\n",
       "                var nbb_cell_id = 40;\n",
       "                var nbb_unformatted_code = \"df_array\";\n",
       "                var nbb_formatted_code = \"df_array\";\n",
       "                var nbb_cells = Jupyter.notebook.get_cells();\n",
       "                for (var i = 0; i < nbb_cells.length; ++i) {\n",
       "                    if (nbb_cells[i].input_prompt_number == nbb_cell_id) {\n",
       "                        if (nbb_cells[i].get_text() == nbb_unformatted_code) {\n",
       "                             nbb_cells[i].set_text(nbb_formatted_code);\n",
       "                        }\n",
       "                        break;\n",
       "                    }\n",
       "                }\n",
       "            }, 500);\n",
       "            "
      ],
      "text/plain": [
       "<IPython.core.display.Javascript object>"
      ]
     },
     "metadata": {},
     "output_type": "display_data"
    }
   ],
   "source": [
    "df_array"
   ]
  },
  {
   "cell_type": "markdown",
   "id": "4857ca71",
   "metadata": {},
   "source": [
    "#### Find the movies that audiences didn't rating before"
   ]
  },
  {
   "cell_type": "code",
   "execution_count": 41,
   "id": "65f95828",
   "metadata": {},
   "outputs": [
    {
     "data": {
      "text/html": [
       "<div>\n",
       "<style scoped>\n",
       "    .dataframe tbody tr th:only-of-type {\n",
       "        vertical-align: middle;\n",
       "    }\n",
       "\n",
       "    .dataframe tbody tr th {\n",
       "        vertical-align: top;\n",
       "    }\n",
       "\n",
       "    .dataframe thead th {\n",
       "        text-align: right;\n",
       "    }\n",
       "</style>\n",
       "<table border=\"1\" class=\"dataframe\">\n",
       "  <thead>\n",
       "    <tr style=\"text-align: right;\">\n",
       "      <th>Critics</th>\n",
       "      <th>Alex</th>\n",
       "      <th>Dustin</th>\n",
       "      <th>Frank</th>\n",
       "      <th>Jessie</th>\n",
       "      <th>Kyle</th>\n",
       "      <th>Kyler</th>\n",
       "      <th>Roy</th>\n",
       "      <th>Tyler</th>\n",
       "      <th>Yan</th>\n",
       "      <th>Yang</th>\n",
       "    </tr>\n",
       "    <tr>\n",
       "      <th>movie</th>\n",
       "      <th></th>\n",
       "      <th></th>\n",
       "      <th></th>\n",
       "      <th></th>\n",
       "      <th></th>\n",
       "      <th></th>\n",
       "      <th></th>\n",
       "      <th></th>\n",
       "      <th></th>\n",
       "      <th></th>\n",
       "    </tr>\n",
       "  </thead>\n",
       "  <tbody>\n",
       "    <tr>\n",
       "      <th>Apocalypse Now</th>\n",
       "      <td>1.0</td>\n",
       "      <td>3.0</td>\n",
       "      <td>3.0</td>\n",
       "      <td>2.0</td>\n",
       "      <td>NaN</td>\n",
       "      <td>NaN</td>\n",
       "      <td>2.0</td>\n",
       "      <td>2.0</td>\n",
       "      <td>NaN</td>\n",
       "      <td>NaN</td>\n",
       "    </tr>\n",
       "    <tr>\n",
       "      <th>Goodfellas</th>\n",
       "      <td>2.0</td>\n",
       "      <td>3.0</td>\n",
       "      <td>NaN</td>\n",
       "      <td>NaN</td>\n",
       "      <td>2.0</td>\n",
       "      <td>3.0</td>\n",
       "      <td>4.0</td>\n",
       "      <td>4.0</td>\n",
       "      <td>2.0</td>\n",
       "      <td>NaN</td>\n",
       "    </tr>\n",
       "    <tr>\n",
       "      <th>Pulp Fiction</th>\n",
       "      <td>NaN</td>\n",
       "      <td>5.0</td>\n",
       "      <td>4.0</td>\n",
       "      <td>4.0</td>\n",
       "      <td>2.0</td>\n",
       "      <td>4.0</td>\n",
       "      <td>2.0</td>\n",
       "      <td>5.0</td>\n",
       "      <td>3.0</td>\n",
       "      <td>3.0</td>\n",
       "    </tr>\n",
       "    <tr>\n",
       "      <th>The Godfather</th>\n",
       "      <td>3.0</td>\n",
       "      <td>1.0</td>\n",
       "      <td>5.0</td>\n",
       "      <td>NaN</td>\n",
       "      <td>5.0</td>\n",
       "      <td>5.0</td>\n",
       "      <td>5.0</td>\n",
       "      <td>3.0</td>\n",
       "      <td>NaN</td>\n",
       "      <td>5.0</td>\n",
       "    </tr>\n",
       "    <tr>\n",
       "      <th>The Usual Suspects</th>\n",
       "      <td>NaN</td>\n",
       "      <td>4.0</td>\n",
       "      <td>NaN</td>\n",
       "      <td>3.0</td>\n",
       "      <td>4.0</td>\n",
       "      <td>NaN</td>\n",
       "      <td>NaN</td>\n",
       "      <td>NaN</td>\n",
       "      <td>5.0</td>\n",
       "      <td>3.0</td>\n",
       "    </tr>\n",
       "  </tbody>\n",
       "</table>\n",
       "</div>"
      ],
      "text/plain": [
       "Critics             Alex  Dustin  Frank  Jessie  Kyle  Kyler  Roy  Tyler  Yan  \\\n",
       "movie                                                                           \n",
       "Apocalypse Now       1.0     3.0    3.0     2.0   NaN    NaN  2.0    2.0  NaN   \n",
       "Goodfellas           2.0     3.0    NaN     NaN   2.0    3.0  4.0    4.0  2.0   \n",
       "Pulp Fiction         NaN     5.0    4.0     4.0   2.0    4.0  2.0    5.0  3.0   \n",
       "The Godfather        3.0     1.0    5.0     NaN   5.0    5.0  5.0    3.0  NaN   \n",
       "The Usual Suspects   NaN     4.0    NaN     3.0   4.0    NaN  NaN    NaN  5.0   \n",
       "\n",
       "Critics             Yang  \n",
       "movie                     \n",
       "Apocalypse Now       NaN  \n",
       "Goodfellas           NaN  \n",
       "Pulp Fiction         3.0  \n",
       "The Godfather        5.0  \n",
       "The Usual Suspects   3.0  "
      ]
     },
     "execution_count": 41,
     "metadata": {},
     "output_type": "execute_result"
    },
    {
     "data": {
      "application/javascript": [
       "\n",
       "            setTimeout(function() {\n",
       "                var nbb_cell_id = 41;\n",
       "                var nbb_unformatted_code = \"matrix\";\n",
       "                var nbb_formatted_code = \"matrix\";\n",
       "                var nbb_cells = Jupyter.notebook.get_cells();\n",
       "                for (var i = 0; i < nbb_cells.length; ++i) {\n",
       "                    if (nbb_cells[i].input_prompt_number == nbb_cell_id) {\n",
       "                        if (nbb_cells[i].get_text() == nbb_unformatted_code) {\n",
       "                             nbb_cells[i].set_text(nbb_formatted_code);\n",
       "                        }\n",
       "                        break;\n",
       "                    }\n",
       "                }\n",
       "            }, 500);\n",
       "            "
      ],
      "text/plain": [
       "<IPython.core.display.Javascript object>"
      ]
     },
     "metadata": {},
     "output_type": "display_data"
    }
   ],
   "source": [
    "matrix"
   ]
  },
  {
   "cell_type": "code",
   "execution_count": 42,
   "id": "035c50e1",
   "metadata": {},
   "outputs": [
    {
     "data": {
      "application/javascript": [
       "\n",
       "            setTimeout(function() {\n",
       "                var nbb_cell_id = 42;\n",
       "                var nbb_unformatted_code = \"not_rating_all_audiences = []\\nfor audience in matrix.columns:\\n    not_rating_before = matrix[matrix[audience].isnull()].index.to_list()\\n    not_rating_all_audiences.append(not_rating_before)\";\n",
       "                var nbb_formatted_code = \"not_rating_all_audiences = []\\nfor audience in matrix.columns:\\n    not_rating_before = matrix[matrix[audience].isnull()].index.to_list()\\n    not_rating_all_audiences.append(not_rating_before)\";\n",
       "                var nbb_cells = Jupyter.notebook.get_cells();\n",
       "                for (var i = 0; i < nbb_cells.length; ++i) {\n",
       "                    if (nbb_cells[i].input_prompt_number == nbb_cell_id) {\n",
       "                        if (nbb_cells[i].get_text() == nbb_unformatted_code) {\n",
       "                             nbb_cells[i].set_text(nbb_formatted_code);\n",
       "                        }\n",
       "                        break;\n",
       "                    }\n",
       "                }\n",
       "            }, 500);\n",
       "            "
      ],
      "text/plain": [
       "<IPython.core.display.Javascript object>"
      ]
     },
     "metadata": {},
     "output_type": "display_data"
    }
   ],
   "source": [
    "not_rating_all_audiences = []\n",
    "for audience in matrix.columns:\n",
    "    not_rating_before = matrix[matrix[audience].isnull()].index.to_list()\n",
    "    not_rating_all_audiences.append(not_rating_before)"
   ]
  },
  {
   "cell_type": "code",
   "execution_count": 43,
   "id": "726c8c32",
   "metadata": {},
   "outputs": [
    {
     "data": {
      "text/plain": [
       "[['Pulp Fiction', 'The Usual Suspects'],\n",
       " [],\n",
       " ['Goodfellas', 'The Usual Suspects'],\n",
       " ['Goodfellas', 'The Godfather'],\n",
       " ['Apocalypse Now'],\n",
       " ['Apocalypse Now', 'The Usual Suspects'],\n",
       " ['The Usual Suspects'],\n",
       " ['The Usual Suspects'],\n",
       " ['Apocalypse Now', 'The Godfather'],\n",
       " ['Apocalypse Now', 'Goodfellas']]"
      ]
     },
     "execution_count": 43,
     "metadata": {},
     "output_type": "execute_result"
    },
    {
     "data": {
      "application/javascript": [
       "\n",
       "            setTimeout(function() {\n",
       "                var nbb_cell_id = 43;\n",
       "                var nbb_unformatted_code = \"not_rating_all_audiences\";\n",
       "                var nbb_formatted_code = \"not_rating_all_audiences\";\n",
       "                var nbb_cells = Jupyter.notebook.get_cells();\n",
       "                for (var i = 0; i < nbb_cells.length; ++i) {\n",
       "                    if (nbb_cells[i].input_prompt_number == nbb_cell_id) {\n",
       "                        if (nbb_cells[i].get_text() == nbb_unformatted_code) {\n",
       "                             nbb_cells[i].set_text(nbb_formatted_code);\n",
       "                        }\n",
       "                        break;\n",
       "                    }\n",
       "                }\n",
       "            }, 500);\n",
       "            "
      ],
      "text/plain": [
       "<IPython.core.display.Javascript object>"
      ]
     },
     "metadata": {},
     "output_type": "display_data"
    }
   ],
   "source": [
    "not_rating_all_audiences"
   ]
  },
  {
   "cell_type": "markdown",
   "id": "53573a86",
   "metadata": {},
   "source": [
    "#### Who do we want to recommend?"
   ]
  },
  {
   "cell_type": "code",
   "execution_count": 44,
   "id": "5547d8b3",
   "metadata": {},
   "outputs": [
    {
     "name": "stdout",
     "output_type": "stream",
     "text": [
      "Target audience is:Alex\n"
     ]
    },
    {
     "data": {
      "application/javascript": [
       "\n",
       "            setTimeout(function() {\n",
       "                var nbb_cell_id = 44;\n",
       "                var nbb_unformatted_code = \"target_audience = input(\\\"Target audience is:\\\")\";\n",
       "                var nbb_formatted_code = \"target_audience = input(\\\"Target audience is:\\\")\";\n",
       "                var nbb_cells = Jupyter.notebook.get_cells();\n",
       "                for (var i = 0; i < nbb_cells.length; ++i) {\n",
       "                    if (nbb_cells[i].input_prompt_number == nbb_cell_id) {\n",
       "                        if (nbb_cells[i].get_text() == nbb_unformatted_code) {\n",
       "                             nbb_cells[i].set_text(nbb_formatted_code);\n",
       "                        }\n",
       "                        break;\n",
       "                    }\n",
       "                }\n",
       "            }, 500);\n",
       "            "
      ],
      "text/plain": [
       "<IPython.core.display.Javascript object>"
      ]
     },
     "metadata": {},
     "output_type": "display_data"
    }
   ],
   "source": [
    "target_audience = input(\"Target audience is:\")"
   ]
  },
  {
   "cell_type": "markdown",
   "id": "aeaa62cd",
   "metadata": {},
   "source": [
    "#### Which movie he never watched before?"
   ]
  },
  {
   "cell_type": "code",
   "execution_count": 45,
   "id": "e78b4ff1",
   "metadata": {},
   "outputs": [
    {
     "data": {
      "text/plain": [
       "['Pulp Fiction', 'The Usual Suspects']"
      ]
     },
     "execution_count": 45,
     "metadata": {},
     "output_type": "execute_result"
    },
    {
     "data": {
      "application/javascript": [
       "\n",
       "            setTimeout(function() {\n",
       "                var nbb_cell_id = 45;\n",
       "                var nbb_unformatted_code = \"never_watched = not_rating_all_audiences[matrix.columns.get_loc(target_audience)]\\nnever_watched\";\n",
       "                var nbb_formatted_code = \"never_watched = not_rating_all_audiences[matrix.columns.get_loc(target_audience)]\\nnever_watched\";\n",
       "                var nbb_cells = Jupyter.notebook.get_cells();\n",
       "                for (var i = 0; i < nbb_cells.length; ++i) {\n",
       "                    if (nbb_cells[i].input_prompt_number == nbb_cell_id) {\n",
       "                        if (nbb_cells[i].get_text() == nbb_unformatted_code) {\n",
       "                             nbb_cells[i].set_text(nbb_formatted_code);\n",
       "                        }\n",
       "                        break;\n",
       "                    }\n",
       "                }\n",
       "            }, 500);\n",
       "            "
      ],
      "text/plain": [
       "<IPython.core.display.Javascript object>"
      ]
     },
     "metadata": {},
     "output_type": "display_data"
    }
   ],
   "source": [
    "never_watched = not_rating_all_audiences[matrix.columns.get_loc(target_audience)]\n",
    "never_watched"
   ]
  },
  {
   "cell_type": "markdown",
   "id": "0ae6e6ae",
   "metadata": {},
   "source": [
    "#### Get the top10 similarity movies' name and similarity value"
   ]
  },
  {
   "cell_type": "code",
   "execution_count": 46,
   "id": "aa037064",
   "metadata": {},
   "outputs": [
    {
     "data": {
      "application/javascript": [
       "\n",
       "            setTimeout(function() {\n",
       "                var nbb_cell_id = 46;\n",
       "                var nbb_unformatted_code = \"similarity_list = []\\nfor movie in df_array.columns:\\n    sm = df_array[movie].sort_values(ascending=False)[1:].head(10)\\n    similarity_list.append(sm)\";\n",
       "                var nbb_formatted_code = \"similarity_list = []\\nfor movie in df_array.columns:\\n    sm = df_array[movie].sort_values(ascending=False)[1:].head(10)\\n    similarity_list.append(sm)\";\n",
       "                var nbb_cells = Jupyter.notebook.get_cells();\n",
       "                for (var i = 0; i < nbb_cells.length; ++i) {\n",
       "                    if (nbb_cells[i].input_prompt_number == nbb_cell_id) {\n",
       "                        if (nbb_cells[i].get_text() == nbb_unformatted_code) {\n",
       "                             nbb_cells[i].set_text(nbb_formatted_code);\n",
       "                        }\n",
       "                        break;\n",
       "                    }\n",
       "                }\n",
       "            }, 500);\n",
       "            "
      ],
      "text/plain": [
       "<IPython.core.display.Javascript object>"
      ]
     },
     "metadata": {},
     "output_type": "display_data"
    }
   ],
   "source": [
    "similarity_list = []\n",
    "for movie in df_array.columns:\n",
    "    sm = df_array[movie].sort_values(ascending=False)[1:].head(10)\n",
    "    similarity_list.append(sm)"
   ]
  },
  {
   "cell_type": "code",
   "execution_count": 47,
   "id": "3ac306a9",
   "metadata": {},
   "outputs": [
    {
     "data": {
      "application/javascript": [
       "\n",
       "            setTimeout(function() {\n",
       "                var nbb_cell_id = 47;\n",
       "                var nbb_unformatted_code = \"top10_for_never_watched = []\\nfor movie in never_watched:\\n    top10 = similarity_list[df_array.columns.get_loc(movie)]\\n    top10_for_never_watched.append(top10)\";\n",
       "                var nbb_formatted_code = \"top10_for_never_watched = []\\nfor movie in never_watched:\\n    top10 = similarity_list[df_array.columns.get_loc(movie)]\\n    top10_for_never_watched.append(top10)\";\n",
       "                var nbb_cells = Jupyter.notebook.get_cells();\n",
       "                for (var i = 0; i < nbb_cells.length; ++i) {\n",
       "                    if (nbb_cells[i].input_prompt_number == nbb_cell_id) {\n",
       "                        if (nbb_cells[i].get_text() == nbb_unformatted_code) {\n",
       "                             nbb_cells[i].set_text(nbb_formatted_code);\n",
       "                        }\n",
       "                        break;\n",
       "                    }\n",
       "                }\n",
       "            }, 500);\n",
       "            "
      ],
      "text/plain": [
       "<IPython.core.display.Javascript object>"
      ]
     },
     "metadata": {},
     "output_type": "display_data"
    }
   ],
   "source": [
    "top10_for_never_watched = []\n",
    "for movie in never_watched:\n",
    "    top10 = similarity_list[df_array.columns.get_loc(movie)]\n",
    "    top10_for_never_watched.append(top10)"
   ]
  },
  {
   "cell_type": "code",
   "execution_count": 48,
   "id": "ebb5739a",
   "metadata": {},
   "outputs": [
    {
     "data": {
      "text/plain": [
       "[Raging Bull                    0.128354\n",
       " Goodfellas                     0.128297\n",
       " The Shawshank Redemption       0.128235\n",
       " The Green Mile                 0.070035\n",
       " Once Upon a Time in America    0.064009\n",
       " The French Connection          0.059898\n",
       " Bowling for Columbine          0.059064\n",
       " Memento                        0.055797\n",
       " True Romance                   0.048038\n",
       " Django Unchained               0.047284\n",
       " Name: Pulp Fiction, dtype: float64,\n",
       " Reservoir Dogs           0.093354\n",
       " Bowling for Columbine    0.070771\n",
       " Evil Dead II             0.059994\n",
       " The Shining              0.053937\n",
       " The Prestige             0.051033\n",
       " Forrest Gump             0.049732\n",
       " Se7en                    0.047319\n",
       " Blue Velvet              0.044860\n",
       " Platoon                  0.044373\n",
       " Toy Story                0.043016\n",
       " Name: The Usual Suspects, dtype: float64]"
      ]
     },
     "execution_count": 48,
     "metadata": {},
     "output_type": "execute_result"
    },
    {
     "data": {
      "application/javascript": [
       "\n",
       "            setTimeout(function() {\n",
       "                var nbb_cell_id = 48;\n",
       "                var nbb_unformatted_code = \"top10_for_never_watched\";\n",
       "                var nbb_formatted_code = \"top10_for_never_watched\";\n",
       "                var nbb_cells = Jupyter.notebook.get_cells();\n",
       "                for (var i = 0; i < nbb_cells.length; ++i) {\n",
       "                    if (nbb_cells[i].input_prompt_number == nbb_cell_id) {\n",
       "                        if (nbb_cells[i].get_text() == nbb_unformatted_code) {\n",
       "                             nbb_cells[i].set_text(nbb_formatted_code);\n",
       "                        }\n",
       "                        break;\n",
       "                    }\n",
       "                }\n",
       "            }, 500);\n",
       "            "
      ],
      "text/plain": [
       "<IPython.core.display.Javascript object>"
      ]
     },
     "metadata": {},
     "output_type": "display_data"
    }
   ],
   "source": [
    "top10_for_never_watched"
   ]
  },
  {
   "cell_type": "markdown",
   "id": "53e82179",
   "metadata": {},
   "source": [
    "#### Convert above list into dataframe, to make the next step easier "
   ]
  },
  {
   "cell_type": "code",
   "execution_count": 49,
   "id": "7fb3bc07",
   "metadata": {
    "scrolled": false
   },
   "outputs": [
    {
     "data": {
      "text/html": [
       "<div>\n",
       "<style scoped>\n",
       "    .dataframe tbody tr th:only-of-type {\n",
       "        vertical-align: middle;\n",
       "    }\n",
       "\n",
       "    .dataframe tbody tr th {\n",
       "        vertical-align: top;\n",
       "    }\n",
       "\n",
       "    .dataframe thead th {\n",
       "        text-align: right;\n",
       "    }\n",
       "</style>\n",
       "<table border=\"1\" class=\"dataframe\">\n",
       "  <thead>\n",
       "    <tr style=\"text-align: right;\">\n",
       "      <th></th>\n",
       "      <th>Pulp Fiction</th>\n",
       "      <th>The Usual Suspects</th>\n",
       "    </tr>\n",
       "  </thead>\n",
       "  <tbody>\n",
       "    <tr>\n",
       "      <th>Raging Bull</th>\n",
       "      <td>0.128354</td>\n",
       "      <td>NaN</td>\n",
       "    </tr>\n",
       "    <tr>\n",
       "      <th>Goodfellas</th>\n",
       "      <td>0.128297</td>\n",
       "      <td>NaN</td>\n",
       "    </tr>\n",
       "    <tr>\n",
       "      <th>The Shawshank Redemption</th>\n",
       "      <td>0.128235</td>\n",
       "      <td>NaN</td>\n",
       "    </tr>\n",
       "    <tr>\n",
       "      <th>The Green Mile</th>\n",
       "      <td>0.070035</td>\n",
       "      <td>NaN</td>\n",
       "    </tr>\n",
       "    <tr>\n",
       "      <th>Once Upon a Time in America</th>\n",
       "      <td>0.064009</td>\n",
       "      <td>NaN</td>\n",
       "    </tr>\n",
       "    <tr>\n",
       "      <th>The French Connection</th>\n",
       "      <td>0.059898</td>\n",
       "      <td>NaN</td>\n",
       "    </tr>\n",
       "    <tr>\n",
       "      <th>Bowling for Columbine</th>\n",
       "      <td>0.059064</td>\n",
       "      <td>0.070771</td>\n",
       "    </tr>\n",
       "    <tr>\n",
       "      <th>Memento</th>\n",
       "      <td>0.055797</td>\n",
       "      <td>NaN</td>\n",
       "    </tr>\n",
       "    <tr>\n",
       "      <th>True Romance</th>\n",
       "      <td>0.048038</td>\n",
       "      <td>NaN</td>\n",
       "    </tr>\n",
       "    <tr>\n",
       "      <th>Django Unchained</th>\n",
       "      <td>0.047284</td>\n",
       "      <td>NaN</td>\n",
       "    </tr>\n",
       "    <tr>\n",
       "      <th>Reservoir Dogs</th>\n",
       "      <td>NaN</td>\n",
       "      <td>0.093354</td>\n",
       "    </tr>\n",
       "    <tr>\n",
       "      <th>Evil Dead II</th>\n",
       "      <td>NaN</td>\n",
       "      <td>0.059994</td>\n",
       "    </tr>\n",
       "    <tr>\n",
       "      <th>The Shining</th>\n",
       "      <td>NaN</td>\n",
       "      <td>0.053937</td>\n",
       "    </tr>\n",
       "    <tr>\n",
       "      <th>The Prestige</th>\n",
       "      <td>NaN</td>\n",
       "      <td>0.051033</td>\n",
       "    </tr>\n",
       "    <tr>\n",
       "      <th>Forrest Gump</th>\n",
       "      <td>NaN</td>\n",
       "      <td>0.049732</td>\n",
       "    </tr>\n",
       "    <tr>\n",
       "      <th>Se7en</th>\n",
       "      <td>NaN</td>\n",
       "      <td>0.047319</td>\n",
       "    </tr>\n",
       "    <tr>\n",
       "      <th>Blue Velvet</th>\n",
       "      <td>NaN</td>\n",
       "      <td>0.044860</td>\n",
       "    </tr>\n",
       "    <tr>\n",
       "      <th>Platoon</th>\n",
       "      <td>NaN</td>\n",
       "      <td>0.044373</td>\n",
       "    </tr>\n",
       "    <tr>\n",
       "      <th>Toy Story</th>\n",
       "      <td>NaN</td>\n",
       "      <td>0.043016</td>\n",
       "    </tr>\n",
       "  </tbody>\n",
       "</table>\n",
       "</div>"
      ],
      "text/plain": [
       "                             Pulp Fiction  The Usual Suspects\n",
       "Raging Bull                      0.128354                 NaN\n",
       "Goodfellas                       0.128297                 NaN\n",
       "The Shawshank Redemption         0.128235                 NaN\n",
       "The Green Mile                   0.070035                 NaN\n",
       "Once Upon a Time in America      0.064009                 NaN\n",
       "The French Connection            0.059898                 NaN\n",
       "Bowling for Columbine            0.059064            0.070771\n",
       "Memento                          0.055797                 NaN\n",
       "True Romance                     0.048038                 NaN\n",
       "Django Unchained                 0.047284                 NaN\n",
       "Reservoir Dogs                        NaN            0.093354\n",
       "Evil Dead II                          NaN            0.059994\n",
       "The Shining                           NaN            0.053937\n",
       "The Prestige                          NaN            0.051033\n",
       "Forrest Gump                          NaN            0.049732\n",
       "Se7en                                 NaN            0.047319\n",
       "Blue Velvet                           NaN            0.044860\n",
       "Platoon                               NaN            0.044373\n",
       "Toy Story                             NaN            0.043016"
      ]
     },
     "execution_count": 49,
     "metadata": {},
     "output_type": "execute_result"
    },
    {
     "data": {
      "application/javascript": [
       "\n",
       "            setTimeout(function() {\n",
       "                var nbb_cell_id = 49;\n",
       "                var nbb_unformatted_code = \"df_movie_sm = pd.DataFrame(top10_for_never_watched).T\\ndf_movie_sm\";\n",
       "                var nbb_formatted_code = \"df_movie_sm = pd.DataFrame(top10_for_never_watched).T\\ndf_movie_sm\";\n",
       "                var nbb_cells = Jupyter.notebook.get_cells();\n",
       "                for (var i = 0; i < nbb_cells.length; ++i) {\n",
       "                    if (nbb_cells[i].input_prompt_number == nbb_cell_id) {\n",
       "                        if (nbb_cells[i].get_text() == nbb_unformatted_code) {\n",
       "                             nbb_cells[i].set_text(nbb_formatted_code);\n",
       "                        }\n",
       "                        break;\n",
       "                    }\n",
       "                }\n",
       "            }, 500);\n",
       "            "
      ],
      "text/plain": [
       "<IPython.core.display.Javascript object>"
      ]
     },
     "metadata": {},
     "output_type": "display_data"
    }
   ],
   "source": [
    "df_movie_sm = pd.DataFrame(top10_for_never_watched).T\n",
    "df_movie_sm"
   ]
  },
  {
   "cell_type": "markdown",
   "id": "19246580",
   "metadata": {},
   "source": [
    "#### Check the target audience rating history again, and fill out null value as 0, to allow us to calculate in the future."
   ]
  },
  {
   "cell_type": "code",
   "execution_count": 50,
   "id": "c75107ce",
   "metadata": {},
   "outputs": [
    {
     "data": {
      "text/html": [
       "<div>\n",
       "<style scoped>\n",
       "    .dataframe tbody tr th:only-of-type {\n",
       "        vertical-align: middle;\n",
       "    }\n",
       "\n",
       "    .dataframe tbody tr th {\n",
       "        vertical-align: top;\n",
       "    }\n",
       "\n",
       "    .dataframe thead th {\n",
       "        text-align: right;\n",
       "    }\n",
       "</style>\n",
       "<table border=\"1\" class=\"dataframe\">\n",
       "  <thead>\n",
       "    <tr style=\"text-align: right;\">\n",
       "      <th></th>\n",
       "      <th>Alex</th>\n",
       "    </tr>\n",
       "    <tr>\n",
       "      <th>movie</th>\n",
       "      <th></th>\n",
       "    </tr>\n",
       "  </thead>\n",
       "  <tbody>\n",
       "    <tr>\n",
       "      <th>Apocalypse Now</th>\n",
       "      <td>1.0</td>\n",
       "    </tr>\n",
       "    <tr>\n",
       "      <th>Goodfellas</th>\n",
       "      <td>2.0</td>\n",
       "    </tr>\n",
       "    <tr>\n",
       "      <th>Pulp Fiction</th>\n",
       "      <td>0.0</td>\n",
       "    </tr>\n",
       "    <tr>\n",
       "      <th>The Godfather</th>\n",
       "      <td>3.0</td>\n",
       "    </tr>\n",
       "    <tr>\n",
       "      <th>The Usual Suspects</th>\n",
       "      <td>0.0</td>\n",
       "    </tr>\n",
       "  </tbody>\n",
       "</table>\n",
       "</div>"
      ],
      "text/plain": [
       "                    Alex\n",
       "movie                   \n",
       "Apocalypse Now       1.0\n",
       "Goodfellas           2.0\n",
       "Pulp Fiction         0.0\n",
       "The Godfather        3.0\n",
       "The Usual Suspects   0.0"
      ]
     },
     "execution_count": 50,
     "metadata": {},
     "output_type": "execute_result"
    },
    {
     "data": {
      "application/javascript": [
       "\n",
       "            setTimeout(function() {\n",
       "                var nbb_cell_id = 50;\n",
       "                var nbb_unformatted_code = \"df_target_audience = matrix[target_audience].to_frame().fillna(0)\\ndf_target_audience\";\n",
       "                var nbb_formatted_code = \"df_target_audience = matrix[target_audience].to_frame().fillna(0)\\ndf_target_audience\";\n",
       "                var nbb_cells = Jupyter.notebook.get_cells();\n",
       "                for (var i = 0; i < nbb_cells.length; ++i) {\n",
       "                    if (nbb_cells[i].input_prompt_number == nbb_cell_id) {\n",
       "                        if (nbb_cells[i].get_text() == nbb_unformatted_code) {\n",
       "                             nbb_cells[i].set_text(nbb_formatted_code);\n",
       "                        }\n",
       "                        break;\n",
       "                    }\n",
       "                }\n",
       "            }, 500);\n",
       "            "
      ],
      "text/plain": [
       "<IPython.core.display.Javascript object>"
      ]
     },
     "metadata": {},
     "output_type": "display_data"
    }
   ],
   "source": [
    "df_target_audience = matrix[target_audience].to_frame().fillna(0)\n",
    "df_target_audience"
   ]
  },
  {
   "cell_type": "markdown",
   "id": "95f49155",
   "metadata": {},
   "source": [
    "#### Combine the above dataframes, fill null value as 0 to allow us to calculate."
   ]
  },
  {
   "cell_type": "code",
   "execution_count": 51,
   "id": "852e6981",
   "metadata": {},
   "outputs": [
    {
     "data": {
      "text/html": [
       "<div>\n",
       "<style scoped>\n",
       "    .dataframe tbody tr th:only-of-type {\n",
       "        vertical-align: middle;\n",
       "    }\n",
       "\n",
       "    .dataframe tbody tr th {\n",
       "        vertical-align: top;\n",
       "    }\n",
       "\n",
       "    .dataframe thead th {\n",
       "        text-align: right;\n",
       "    }\n",
       "</style>\n",
       "<table border=\"1\" class=\"dataframe\">\n",
       "  <thead>\n",
       "    <tr style=\"text-align: right;\">\n",
       "      <th></th>\n",
       "      <th>Alex</th>\n",
       "      <th>Pulp Fiction</th>\n",
       "      <th>The Usual Suspects</th>\n",
       "    </tr>\n",
       "    <tr>\n",
       "      <th>movie</th>\n",
       "      <th></th>\n",
       "      <th></th>\n",
       "      <th></th>\n",
       "    </tr>\n",
       "  </thead>\n",
       "  <tbody>\n",
       "    <tr>\n",
       "      <th>Apocalypse Now</th>\n",
       "      <td>1.0</td>\n",
       "      <td>0.000000</td>\n",
       "      <td>0.0</td>\n",
       "    </tr>\n",
       "    <tr>\n",
       "      <th>Goodfellas</th>\n",
       "      <td>2.0</td>\n",
       "      <td>0.128297</td>\n",
       "      <td>0.0</td>\n",
       "    </tr>\n",
       "    <tr>\n",
       "      <th>Pulp Fiction</th>\n",
       "      <td>0.0</td>\n",
       "      <td>0.000000</td>\n",
       "      <td>0.0</td>\n",
       "    </tr>\n",
       "    <tr>\n",
       "      <th>The Godfather</th>\n",
       "      <td>3.0</td>\n",
       "      <td>0.000000</td>\n",
       "      <td>0.0</td>\n",
       "    </tr>\n",
       "    <tr>\n",
       "      <th>The Usual Suspects</th>\n",
       "      <td>0.0</td>\n",
       "      <td>0.000000</td>\n",
       "      <td>0.0</td>\n",
       "    </tr>\n",
       "  </tbody>\n",
       "</table>\n",
       "</div>"
      ],
      "text/plain": [
       "                    Alex  Pulp Fiction  The Usual Suspects\n",
       "movie                                                     \n",
       "Apocalypse Now       1.0      0.000000                 0.0\n",
       "Goodfellas           2.0      0.128297                 0.0\n",
       "Pulp Fiction         0.0      0.000000                 0.0\n",
       "The Godfather        3.0      0.000000                 0.0\n",
       "The Usual Suspects   0.0      0.000000                 0.0"
      ]
     },
     "execution_count": 51,
     "metadata": {},
     "output_type": "execute_result"
    },
    {
     "data": {
      "application/javascript": [
       "\n",
       "            setTimeout(function() {\n",
       "                var nbb_cell_id = 51;\n",
       "                var nbb_unformatted_code = \"df_final = df_target_audience.join(df_movie_sm).fillna(0)\\ndf_final\";\n",
       "                var nbb_formatted_code = \"df_final = df_target_audience.join(df_movie_sm).fillna(0)\\ndf_final\";\n",
       "                var nbb_cells = Jupyter.notebook.get_cells();\n",
       "                for (var i = 0; i < nbb_cells.length; ++i) {\n",
       "                    if (nbb_cells[i].input_prompt_number == nbb_cell_id) {\n",
       "                        if (nbb_cells[i].get_text() == nbb_unformatted_code) {\n",
       "                             nbb_cells[i].set_text(nbb_formatted_code);\n",
       "                        }\n",
       "                        break;\n",
       "                    }\n",
       "                }\n",
       "            }, 500);\n",
       "            "
      ],
      "text/plain": [
       "<IPython.core.display.Javascript object>"
      ]
     },
     "metadata": {},
     "output_type": "display_data"
    }
   ],
   "source": [
    "df_final = df_target_audience.join(df_movie_sm).fillna(0)\n",
    "df_final"
   ]
  },
  {
   "cell_type": "markdown",
   "id": "bc255cf7",
   "metadata": {},
   "source": [
    "#### Calculate the rating for each movie that the target audience never used before with loop."
   ]
  },
  {
   "cell_type": "code",
   "execution_count": 52,
   "id": "b68a83c7",
   "metadata": {},
   "outputs": [
    {
     "data": {
      "application/javascript": [
       "\n",
       "            setTimeout(function() {\n",
       "                var nbb_cell_id = 52;\n",
       "                var nbb_unformatted_code = \"final_rating = []\\nfor i in never_watched:\\n    sum_rating = sum(df_final[i] * df_final[target_audience])\\n    final_rating.append(sum_rating)\";\n",
       "                var nbb_formatted_code = \"final_rating = []\\nfor i in never_watched:\\n    sum_rating = sum(df_final[i] * df_final[target_audience])\\n    final_rating.append(sum_rating)\";\n",
       "                var nbb_cells = Jupyter.notebook.get_cells();\n",
       "                for (var i = 0; i < nbb_cells.length; ++i) {\n",
       "                    if (nbb_cells[i].input_prompt_number == nbb_cell_id) {\n",
       "                        if (nbb_cells[i].get_text() == nbb_unformatted_code) {\n",
       "                             nbb_cells[i].set_text(nbb_formatted_code);\n",
       "                        }\n",
       "                        break;\n",
       "                    }\n",
       "                }\n",
       "            }, 500);\n",
       "            "
      ],
      "text/plain": [
       "<IPython.core.display.Javascript object>"
      ]
     },
     "metadata": {},
     "output_type": "display_data"
    }
   ],
   "source": [
    "final_rating = []\n",
    "for i in never_watched:\n",
    "    sum_rating = sum(df_final[i] * df_final[target_audience])\n",
    "    final_rating.append(sum_rating)"
   ]
  },
  {
   "cell_type": "markdown",
   "id": "5fdcb8a3",
   "metadata": {},
   "source": [
    "#### Return the maximum rating and according to the index find the corresponding brand name."
   ]
  },
  {
   "cell_type": "code",
   "execution_count": 53,
   "id": "fd2d66ad",
   "metadata": {},
   "outputs": [
    {
     "data": {
      "application/javascript": [
       "\n",
       "            setTimeout(function() {\n",
       "                var nbb_cell_id = 53;\n",
       "                var nbb_unformatted_code = \"movie_recommend = never_watched[final_rating.index(max(final_rating))]\";\n",
       "                var nbb_formatted_code = \"movie_recommend = never_watched[final_rating.index(max(final_rating))]\";\n",
       "                var nbb_cells = Jupyter.notebook.get_cells();\n",
       "                for (var i = 0; i < nbb_cells.length; ++i) {\n",
       "                    if (nbb_cells[i].input_prompt_number == nbb_cell_id) {\n",
       "                        if (nbb_cells[i].get_text() == nbb_unformatted_code) {\n",
       "                             nbb_cells[i].set_text(nbb_formatted_code);\n",
       "                        }\n",
       "                        break;\n",
       "                    }\n",
       "                }\n",
       "            }, 500);\n",
       "            "
      ],
      "text/plain": [
       "<IPython.core.display.Javascript object>"
      ]
     },
     "metadata": {},
     "output_type": "display_data"
    }
   ],
   "source": [
    "movie_recommend = never_watched[final_rating.index(max(final_rating))]"
   ]
  },
  {
   "cell_type": "markdown",
   "id": "9a9750b9",
   "metadata": {},
   "source": [
    "#### Get the result, return the rating and the movie that we should recommend to the target audience."
   ]
  },
  {
   "cell_type": "code",
   "execution_count": 54,
   "id": "2e66d83d",
   "metadata": {},
   "outputs": [
    {
     "name": "stdout",
     "output_type": "stream",
     "text": [
      "The movie we should recommend to the Alex is Pulp Fiction the rating is 0.256593\n"
     ]
    },
    {
     "data": {
      "application/javascript": [
       "\n",
       "            setTimeout(function() {\n",
       "                var nbb_cell_id = 54;\n",
       "                var nbb_unformatted_code = \"print(\\n    \\\"The movie we should recommend to the\\\",\\n    target_audience,\\n    \\\"is\\\",\\n    movie_recommend,\\n    \\\"the rating is\\\",\\n    round(max(final_rating), 6),\\n)\";\n",
       "                var nbb_formatted_code = \"print(\\n    \\\"The movie we should recommend to the\\\",\\n    target_audience,\\n    \\\"is\\\",\\n    movie_recommend,\\n    \\\"the rating is\\\",\\n    round(max(final_rating), 6),\\n)\";\n",
       "                var nbb_cells = Jupyter.notebook.get_cells();\n",
       "                for (var i = 0; i < nbb_cells.length; ++i) {\n",
       "                    if (nbb_cells[i].input_prompt_number == nbb_cell_id) {\n",
       "                        if (nbb_cells[i].get_text() == nbb_unformatted_code) {\n",
       "                             nbb_cells[i].set_text(nbb_formatted_code);\n",
       "                        }\n",
       "                        break;\n",
       "                    }\n",
       "                }\n",
       "            }, 500);\n",
       "            "
      ],
      "text/plain": [
       "<IPython.core.display.Javascript object>"
      ]
     },
     "metadata": {},
     "output_type": "display_data"
    }
   ],
   "source": [
    "print(\n",
    "    \"The movie we should recommend to the\",\n",
    "    target_audience,\n",
    "    \"is\",\n",
    "    movie_recommend,\n",
    "    \"the rating is\",\n",
    "    round(max(final_rating), 6),\n",
    ")"
   ]
  },
  {
   "cell_type": "markdown",
   "id": "9c18f1dd",
   "metadata": {},
   "source": [
    "---"
   ]
  },
  {
   "cell_type": "markdown",
   "id": "9b9f27e5",
   "metadata": {},
   "source": [
    "## Part V. Comparison"
   ]
  },
  {
   "cell_type": "markdown",
   "id": "a9ee3396",
   "metadata": {},
   "source": [
    "* Based on Content-based rec_sys, we can recommend the movies that similar to the movies that audience liked (based on their rating), so the advantage of this approach is that even if all known viewers have not watched certain movies (ie, did not rate some movies), we can still make recommendations based on similarity of movies which is good at cold-start.But every time a new movie is added, its properties must be defined and marked. The never-ending nature of attribute assignment can make scalability difficult and time-consuming.\n",
    "* In contrast, collaborative filtering does not perform well on cold-start(according to my example showed above, I can't recommend movies that all audiences didn't watch before), but more sophisticated algorithms can help users discover new interests. Compared with CBF, collaborative filtering has the advantage that it can recommend items based on the historical information of each user, regardless of the content attributes of the item itself.\n",
    "* So that's the reason why we need 'hybrid' two methods."
   ]
  },
  {
   "cell_type": "markdown",
   "id": "93e7fc5f",
   "metadata": {},
   "source": [
    "---"
   ]
  }
 ],
 "metadata": {
  "kernelspec": {
   "display_name": "Python 3 (ipykernel)",
   "language": "python",
   "name": "python3"
  },
  "language_info": {
   "codemirror_mode": {
    "name": "ipython",
    "version": 3
   },
   "file_extension": ".py",
   "mimetype": "text/x-python",
   "name": "python",
   "nbconvert_exporter": "python",
   "pygments_lexer": "ipython3",
   "version": "3.9.7"
  }
 },
 "nbformat": 4,
 "nbformat_minor": 5
}
