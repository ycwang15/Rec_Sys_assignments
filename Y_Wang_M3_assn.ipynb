{
 "cells": [
  {
   "cell_type": "markdown",
   "id": "5a6625a7",
   "metadata": {},
   "source": [
    "# Item to item collaborative filtering (Sklearn)\n",
    "### By Lawrence Wang"
   ]
  },
  {
   "cell_type": "markdown",
   "id": "03c82b9f",
   "metadata": {},
   "source": [
    "### Import libraries"
   ]
  },
  {
   "cell_type": "code",
   "execution_count": 390,
   "id": "c7fb9cd2",
   "metadata": {},
   "outputs": [
    {
     "name": "stdout",
     "output_type": "stream",
     "text": [
      "The nb_black extension is already loaded. To reload it, use:\n",
      "  %reload_ext nb_black\n"
     ]
    },
    {
     "data": {
      "application/javascript": [
       "\n",
       "            setTimeout(function() {\n",
       "                var nbb_cell_id = 390;\n",
       "                var nbb_unformatted_code = \"# Data Processing Lib\\nimport numpy as np\\nimport pandas as pd\\nimport scipy.stats\\n\\n# Data Visualization Lib\\nimport matplotlib.pyplot as plt\\nimport seaborn as sns\\n\\n%matplotlib inline\\n\\n# Sklearn\\nfrom sklearn.metrics.pairwise import cosine_similarity\\n\\n# Make our coding aesthetic\\n%load_ext nb_black\";\n",
       "                var nbb_formatted_code = \"# Data Processing Lib\\nimport numpy as np\\nimport pandas as pd\\nimport scipy.stats\\n\\n# Data Visualization Lib\\nimport matplotlib.pyplot as plt\\nimport seaborn as sns\\n\\n%matplotlib inline\\n\\n# Sklearn\\nfrom sklearn.metrics.pairwise import cosine_similarity\\n\\n# Make our coding aesthetic\\n%load_ext nb_black\";\n",
       "                var nbb_cells = Jupyter.notebook.get_cells();\n",
       "                for (var i = 0; i < nbb_cells.length; ++i) {\n",
       "                    if (nbb_cells[i].input_prompt_number == nbb_cell_id) {\n",
       "                        if (nbb_cells[i].get_text() == nbb_unformatted_code) {\n",
       "                             nbb_cells[i].set_text(nbb_formatted_code);\n",
       "                        }\n",
       "                        break;\n",
       "                    }\n",
       "                }\n",
       "            }, 500);\n",
       "            "
      ],
      "text/plain": [
       "<IPython.core.display.Javascript object>"
      ]
     },
     "metadata": {},
     "output_type": "display_data"
    }
   ],
   "source": [
    "# Data Processing Lib\n",
    "import numpy as np\n",
    "import pandas as pd\n",
    "import scipy.stats\n",
    "\n",
    "# Data Visualization Lib\n",
    "import matplotlib.pyplot as plt\n",
    "import seaborn as sns\n",
    "\n",
    "%matplotlib inline\n",
    "\n",
    "# Sklearn\n",
    "from sklearn.metrics.pairwise import cosine_similarity\n",
    "\n",
    "# Make our coding aesthetic\n",
    "%load_ext nb_black"
   ]
  },
  {
   "cell_type": "markdown",
   "id": "6201ed62",
   "metadata": {},
   "source": [
    "### Read the data"
   ]
  },
  {
   "cell_type": "code",
   "execution_count": 391,
   "id": "1bb1afa3",
   "metadata": {},
   "outputs": [
    {
     "data": {
      "application/javascript": [
       "\n",
       "            setTimeout(function() {\n",
       "                var nbb_cell_id = 391;\n",
       "                var nbb_unformatted_code = \"df = pd.read_csv(\\n    \\\"https://raw.githubusercontent.com/ycwang15/Rec_Sys_assignments/Data/Rec_Sys_df.csv\\\"\\n)\";\n",
       "                var nbb_formatted_code = \"df = pd.read_csv(\\n    \\\"https://raw.githubusercontent.com/ycwang15/Rec_Sys_assignments/Data/Rec_Sys_df.csv\\\"\\n)\";\n",
       "                var nbb_cells = Jupyter.notebook.get_cells();\n",
       "                for (var i = 0; i < nbb_cells.length; ++i) {\n",
       "                    if (nbb_cells[i].input_prompt_number == nbb_cell_id) {\n",
       "                        if (nbb_cells[i].get_text() == nbb_unformatted_code) {\n",
       "                             nbb_cells[i].set_text(nbb_formatted_code);\n",
       "                        }\n",
       "                        break;\n",
       "                    }\n",
       "                }\n",
       "            }, 500);\n",
       "            "
      ],
      "text/plain": [
       "<IPython.core.display.Javascript object>"
      ]
     },
     "metadata": {},
     "output_type": "display_data"
    }
   ],
   "source": [
    "df = pd.read_csv(\n",
    "    \"https://raw.githubusercontent.com/ycwang15/Rec_Sys_assignments/Data/Rec_Sys_df.csv\"\n",
    ")"
   ]
  },
  {
   "cell_type": "code",
   "execution_count": 392,
   "id": "17983959",
   "metadata": {},
   "outputs": [
    {
     "data": {
      "text/html": [
       "<div>\n",
       "<style scoped>\n",
       "    .dataframe tbody tr th:only-of-type {\n",
       "        vertical-align: middle;\n",
       "    }\n",
       "\n",
       "    .dataframe tbody tr th {\n",
       "        vertical-align: top;\n",
       "    }\n",
       "\n",
       "    .dataframe thead th {\n",
       "        text-align: right;\n",
       "    }\n",
       "</style>\n",
       "<table border=\"1\" class=\"dataframe\">\n",
       "  <thead>\n",
       "    <tr style=\"text-align: right;\">\n",
       "      <th></th>\n",
       "      <th>Critics</th>\n",
       "      <th>Mac</th>\n",
       "      <th>Estee Lauder</th>\n",
       "      <th>Bobbi brown</th>\n",
       "      <th>SUQQU</th>\n",
       "      <th>YSL</th>\n",
       "      <th>Chanel</th>\n",
       "      <th>Dior</th>\n",
       "      <th>LANC√îME</th>\n",
       "    </tr>\n",
       "  </thead>\n",
       "  <tbody>\n",
       "    <tr>\n",
       "      <th>0</th>\n",
       "      <td>Allen</td>\n",
       "      <td>NaN</td>\n",
       "      <td>3.0</td>\n",
       "      <td>NaN</td>\n",
       "      <td>3.0</td>\n",
       "      <td>4.0</td>\n",
       "      <td>NaN</td>\n",
       "      <td>NaN</td>\n",
       "      <td>4.0</td>\n",
       "    </tr>\n",
       "    <tr>\n",
       "      <th>1</th>\n",
       "      <td>Sohee</td>\n",
       "      <td>3.0</td>\n",
       "      <td>4.0</td>\n",
       "      <td>5.0</td>\n",
       "      <td>5.0</td>\n",
       "      <td>4.0</td>\n",
       "      <td>4.0</td>\n",
       "      <td>2.0</td>\n",
       "      <td>5.0</td>\n",
       "    </tr>\n",
       "    <tr>\n",
       "      <th>2</th>\n",
       "      <td>Didi</td>\n",
       "      <td>1.0</td>\n",
       "      <td>2.0</td>\n",
       "      <td>NaN</td>\n",
       "      <td>NaN</td>\n",
       "      <td>5.0</td>\n",
       "      <td>5.0</td>\n",
       "      <td>NaN</td>\n",
       "      <td>5.0</td>\n",
       "    </tr>\n",
       "    <tr>\n",
       "      <th>3</th>\n",
       "      <td>Shao</td>\n",
       "      <td>3.0</td>\n",
       "      <td>NaN</td>\n",
       "      <td>3.0</td>\n",
       "      <td>NaN</td>\n",
       "      <td>NaN</td>\n",
       "      <td>NaN</td>\n",
       "      <td>5.0</td>\n",
       "      <td>NaN</td>\n",
       "    </tr>\n",
       "    <tr>\n",
       "      <th>4</th>\n",
       "      <td>Gloria</td>\n",
       "      <td>3.0</td>\n",
       "      <td>3.0</td>\n",
       "      <td>4.0</td>\n",
       "      <td>4.0</td>\n",
       "      <td>4.0</td>\n",
       "      <td>5.0</td>\n",
       "      <td>3.0</td>\n",
       "      <td>NaN</td>\n",
       "    </tr>\n",
       "  </tbody>\n",
       "</table>\n",
       "</div>"
      ],
      "text/plain": [
       "  Critics  Mac  Estee Lauder  Bobbi brown  SUQQU  YSL  Chanel  Dior  LANC√îME\n",
       "0   Allen  NaN           3.0          NaN    3.0  4.0     NaN   NaN       4.0\n",
       "1   Sohee  3.0           4.0          5.0    5.0  4.0     4.0   2.0       5.0\n",
       "2    Didi  1.0           2.0          NaN    NaN  5.0     5.0   NaN       5.0\n",
       "3    Shao  3.0           NaN          3.0    NaN  NaN     NaN   5.0       NaN\n",
       "4  Gloria  3.0           3.0          4.0    4.0  4.0     5.0   3.0       NaN"
      ]
     },
     "execution_count": 392,
     "metadata": {},
     "output_type": "execute_result"
    },
    {
     "data": {
      "application/javascript": [
       "\n",
       "            setTimeout(function() {\n",
       "                var nbb_cell_id = 392;\n",
       "                var nbb_unformatted_code = \"df.head()\";\n",
       "                var nbb_formatted_code = \"df.head()\";\n",
       "                var nbb_cells = Jupyter.notebook.get_cells();\n",
       "                for (var i = 0; i < nbb_cells.length; ++i) {\n",
       "                    if (nbb_cells[i].input_prompt_number == nbb_cell_id) {\n",
       "                        if (nbb_cells[i].get_text() == nbb_unformatted_code) {\n",
       "                             nbb_cells[i].set_text(nbb_formatted_code);\n",
       "                        }\n",
       "                        break;\n",
       "                    }\n",
       "                }\n",
       "            }, 500);\n",
       "            "
      ],
      "text/plain": [
       "<IPython.core.display.Javascript object>"
      ]
     },
     "metadata": {},
     "output_type": "display_data"
    }
   ],
   "source": [
    "df.head()"
   ]
  },
  {
   "cell_type": "markdown",
   "id": "f45d90c2",
   "metadata": {},
   "source": [
    "### Tidy the data"
   ]
  },
  {
   "cell_type": "code",
   "execution_count": 393,
   "id": "052e524e",
   "metadata": {},
   "outputs": [
    {
     "data": {
      "application/javascript": [
       "\n",
       "            setTimeout(function() {\n",
       "                var nbb_cell_id = 393;\n",
       "                var nbb_unformatted_code = \"formatted_df = pd.melt(df, [\\\"Critics\\\"], var_name=\\\"brand\\\", value_name=\\\"rating\\\")\\nformatted_df = formatted_df.sort_values(by=[\\\"Critics\\\"])\";\n",
       "                var nbb_formatted_code = \"formatted_df = pd.melt(df, [\\\"Critics\\\"], var_name=\\\"brand\\\", value_name=\\\"rating\\\")\\nformatted_df = formatted_df.sort_values(by=[\\\"Critics\\\"])\";\n",
       "                var nbb_cells = Jupyter.notebook.get_cells();\n",
       "                for (var i = 0; i < nbb_cells.length; ++i) {\n",
       "                    if (nbb_cells[i].input_prompt_number == nbb_cell_id) {\n",
       "                        if (nbb_cells[i].get_text() == nbb_unformatted_code) {\n",
       "                             nbb_cells[i].set_text(nbb_formatted_code);\n",
       "                        }\n",
       "                        break;\n",
       "                    }\n",
       "                }\n",
       "            }, 500);\n",
       "            "
      ],
      "text/plain": [
       "<IPython.core.display.Javascript object>"
      ]
     },
     "metadata": {},
     "output_type": "display_data"
    }
   ],
   "source": [
    "formatted_df = pd.melt(df, [\"Critics\"], var_name=\"brand\", value_name=\"rating\")\n",
    "formatted_df = formatted_df.sort_values(by=[\"Critics\"])"
   ]
  },
  {
   "cell_type": "code",
   "execution_count": 394,
   "id": "191a770a",
   "metadata": {},
   "outputs": [
    {
     "data": {
      "text/html": [
       "<div>\n",
       "<style scoped>\n",
       "    .dataframe tbody tr th:only-of-type {\n",
       "        vertical-align: middle;\n",
       "    }\n",
       "\n",
       "    .dataframe tbody tr th {\n",
       "        vertical-align: top;\n",
       "    }\n",
       "\n",
       "    .dataframe thead th {\n",
       "        text-align: right;\n",
       "    }\n",
       "</style>\n",
       "<table border=\"1\" class=\"dataframe\">\n",
       "  <thead>\n",
       "    <tr style=\"text-align: right;\">\n",
       "      <th></th>\n",
       "      <th>Critics</th>\n",
       "      <th>brand</th>\n",
       "      <th>rating</th>\n",
       "    </tr>\n",
       "  </thead>\n",
       "  <tbody>\n",
       "    <tr>\n",
       "      <th>0</th>\n",
       "      <td>Allen</td>\n",
       "      <td>Mac</td>\n",
       "      <td>NaN</td>\n",
       "    </tr>\n",
       "    <tr>\n",
       "      <th>40</th>\n",
       "      <td>Allen</td>\n",
       "      <td>YSL</td>\n",
       "      <td>4.0</td>\n",
       "    </tr>\n",
       "    <tr>\n",
       "      <th>30</th>\n",
       "      <td>Allen</td>\n",
       "      <td>SUQQU</td>\n",
       "      <td>3.0</td>\n",
       "    </tr>\n",
       "    <tr>\n",
       "      <th>70</th>\n",
       "      <td>Allen</td>\n",
       "      <td>LANC√îME</td>\n",
       "      <td>4.0</td>\n",
       "    </tr>\n",
       "    <tr>\n",
       "      <th>60</th>\n",
       "      <td>Allen</td>\n",
       "      <td>Dior</td>\n",
       "      <td>NaN</td>\n",
       "    </tr>\n",
       "    <tr>\n",
       "      <th>20</th>\n",
       "      <td>Allen</td>\n",
       "      <td>Bobbi brown</td>\n",
       "      <td>NaN</td>\n",
       "    </tr>\n",
       "    <tr>\n",
       "      <th>10</th>\n",
       "      <td>Allen</td>\n",
       "      <td>Estee Lauder</td>\n",
       "      <td>3.0</td>\n",
       "    </tr>\n",
       "    <tr>\n",
       "      <th>50</th>\n",
       "      <td>Allen</td>\n",
       "      <td>Chanel</td>\n",
       "      <td>NaN</td>\n",
       "    </tr>\n",
       "    <tr>\n",
       "      <th>32</th>\n",
       "      <td>Didi</td>\n",
       "      <td>SUQQU</td>\n",
       "      <td>NaN</td>\n",
       "    </tr>\n",
       "    <tr>\n",
       "      <th>2</th>\n",
       "      <td>Didi</td>\n",
       "      <td>Mac</td>\n",
       "      <td>1.0</td>\n",
       "    </tr>\n",
       "    <tr>\n",
       "      <th>42</th>\n",
       "      <td>Didi</td>\n",
       "      <td>YSL</td>\n",
       "      <td>5.0</td>\n",
       "    </tr>\n",
       "    <tr>\n",
       "      <th>72</th>\n",
       "      <td>Didi</td>\n",
       "      <td>LANC√îME</td>\n",
       "      <td>5.0</td>\n",
       "    </tr>\n",
       "    <tr>\n",
       "      <th>12</th>\n",
       "      <td>Didi</td>\n",
       "      <td>Estee Lauder</td>\n",
       "      <td>2.0</td>\n",
       "    </tr>\n",
       "    <tr>\n",
       "      <th>62</th>\n",
       "      <td>Didi</td>\n",
       "      <td>Dior</td>\n",
       "      <td>NaN</td>\n",
       "    </tr>\n",
       "    <tr>\n",
       "      <th>22</th>\n",
       "      <td>Didi</td>\n",
       "      <td>Bobbi brown</td>\n",
       "      <td>NaN</td>\n",
       "    </tr>\n",
       "  </tbody>\n",
       "</table>\n",
       "</div>"
      ],
      "text/plain": [
       "   Critics         brand  rating\n",
       "0    Allen           Mac     NaN\n",
       "40   Allen           YSL     4.0\n",
       "30   Allen         SUQQU     3.0\n",
       "70   Allen      LANC√îME     4.0\n",
       "60   Allen          Dior     NaN\n",
       "20   Allen   Bobbi brown     NaN\n",
       "10   Allen  Estee Lauder     3.0\n",
       "50   Allen        Chanel     NaN\n",
       "32    Didi         SUQQU     NaN\n",
       "2     Didi           Mac     1.0\n",
       "42    Didi           YSL     5.0\n",
       "72    Didi      LANC√îME     5.0\n",
       "12    Didi  Estee Lauder     2.0\n",
       "62    Didi          Dior     NaN\n",
       "22    Didi   Bobbi brown     NaN"
      ]
     },
     "execution_count": 394,
     "metadata": {},
     "output_type": "execute_result"
    },
    {
     "data": {
      "application/javascript": [
       "\n",
       "            setTimeout(function() {\n",
       "                var nbb_cell_id = 394;\n",
       "                var nbb_unformatted_code = \"formatted_df.head(15)\";\n",
       "                var nbb_formatted_code = \"formatted_df.head(15)\";\n",
       "                var nbb_cells = Jupyter.notebook.get_cells();\n",
       "                for (var i = 0; i < nbb_cells.length; ++i) {\n",
       "                    if (nbb_cells[i].input_prompt_number == nbb_cell_id) {\n",
       "                        if (nbb_cells[i].get_text() == nbb_unformatted_code) {\n",
       "                             nbb_cells[i].set_text(nbb_formatted_code);\n",
       "                        }\n",
       "                        break;\n",
       "                    }\n",
       "                }\n",
       "            }, 500);\n",
       "            "
      ],
      "text/plain": [
       "<IPython.core.display.Javascript object>"
      ]
     },
     "metadata": {},
     "output_type": "display_data"
    }
   ],
   "source": [
    "formatted_df.head(15)"
   ]
  },
  {
   "cell_type": "code",
   "execution_count": 395,
   "id": "be840b21",
   "metadata": {},
   "outputs": [
    {
     "data": {
      "text/html": [
       "<div>\n",
       "<style scoped>\n",
       "    .dataframe tbody tr th:only-of-type {\n",
       "        vertical-align: middle;\n",
       "    }\n",
       "\n",
       "    .dataframe tbody tr th {\n",
       "        vertical-align: top;\n",
       "    }\n",
       "\n",
       "    .dataframe thead th {\n",
       "        text-align: right;\n",
       "    }\n",
       "</style>\n",
       "<table border=\"1\" class=\"dataframe\">\n",
       "  <thead>\n",
       "    <tr style=\"text-align: right;\">\n",
       "      <th>Critics</th>\n",
       "      <th>Allen</th>\n",
       "      <th>Didi</th>\n",
       "      <th>Gloria</th>\n",
       "      <th>Grace</th>\n",
       "      <th>Keer</th>\n",
       "      <th>Molly</th>\n",
       "      <th>Pan</th>\n",
       "      <th>Shao</th>\n",
       "      <th>Sohee</th>\n",
       "      <th>Sophie</th>\n",
       "    </tr>\n",
       "    <tr>\n",
       "      <th>brand</th>\n",
       "      <th></th>\n",
       "      <th></th>\n",
       "      <th></th>\n",
       "      <th></th>\n",
       "      <th></th>\n",
       "      <th></th>\n",
       "      <th></th>\n",
       "      <th></th>\n",
       "      <th></th>\n",
       "      <th></th>\n",
       "    </tr>\n",
       "  </thead>\n",
       "  <tbody>\n",
       "    <tr>\n",
       "      <th>Bobbi brown</th>\n",
       "      <td>NaN</td>\n",
       "      <td>NaN</td>\n",
       "      <td>4.0</td>\n",
       "      <td>NaN</td>\n",
       "      <td>4.0</td>\n",
       "      <td>3.0</td>\n",
       "      <td>4.0</td>\n",
       "      <td>3.0</td>\n",
       "      <td>5.0</td>\n",
       "      <td>NaN</td>\n",
       "    </tr>\n",
       "    <tr>\n",
       "      <th>Chanel</th>\n",
       "      <td>NaN</td>\n",
       "      <td>5.0</td>\n",
       "      <td>5.0</td>\n",
       "      <td>NaN</td>\n",
       "      <td>5.0</td>\n",
       "      <td>NaN</td>\n",
       "      <td>4.0</td>\n",
       "      <td>NaN</td>\n",
       "      <td>4.0</td>\n",
       "      <td>5.0</td>\n",
       "    </tr>\n",
       "    <tr>\n",
       "      <th>Dior</th>\n",
       "      <td>NaN</td>\n",
       "      <td>NaN</td>\n",
       "      <td>3.0</td>\n",
       "      <td>NaN</td>\n",
       "      <td>NaN</td>\n",
       "      <td>NaN</td>\n",
       "      <td>2.0</td>\n",
       "      <td>5.0</td>\n",
       "      <td>2.0</td>\n",
       "      <td>NaN</td>\n",
       "    </tr>\n",
       "    <tr>\n",
       "      <th>Estee Lauder</th>\n",
       "      <td>3.0</td>\n",
       "      <td>2.0</td>\n",
       "      <td>3.0</td>\n",
       "      <td>NaN</td>\n",
       "      <td>3.0</td>\n",
       "      <td>4.0</td>\n",
       "      <td>3.0</td>\n",
       "      <td>NaN</td>\n",
       "      <td>4.0</td>\n",
       "      <td>1.0</td>\n",
       "    </tr>\n",
       "    <tr>\n",
       "      <th>LANC√îME</th>\n",
       "      <td>4.0</td>\n",
       "      <td>5.0</td>\n",
       "      <td>NaN</td>\n",
       "      <td>3.0</td>\n",
       "      <td>NaN</td>\n",
       "      <td>2.0</td>\n",
       "      <td>5.0</td>\n",
       "      <td>NaN</td>\n",
       "      <td>5.0</td>\n",
       "      <td>NaN</td>\n",
       "    </tr>\n",
       "    <tr>\n",
       "      <th>Mac</th>\n",
       "      <td>NaN</td>\n",
       "      <td>1.0</td>\n",
       "      <td>3.0</td>\n",
       "      <td>NaN</td>\n",
       "      <td>1.0</td>\n",
       "      <td>5.0</td>\n",
       "      <td>NaN</td>\n",
       "      <td>3.0</td>\n",
       "      <td>3.0</td>\n",
       "      <td>2.0</td>\n",
       "    </tr>\n",
       "    <tr>\n",
       "      <th>SUQQU</th>\n",
       "      <td>3.0</td>\n",
       "      <td>NaN</td>\n",
       "      <td>4.0</td>\n",
       "      <td>NaN</td>\n",
       "      <td>2.0</td>\n",
       "      <td>2.0</td>\n",
       "      <td>4.0</td>\n",
       "      <td>NaN</td>\n",
       "      <td>5.0</td>\n",
       "      <td>NaN</td>\n",
       "    </tr>\n",
       "    <tr>\n",
       "      <th>YSL</th>\n",
       "      <td>4.0</td>\n",
       "      <td>5.0</td>\n",
       "      <td>4.0</td>\n",
       "      <td>NaN</td>\n",
       "      <td>5.0</td>\n",
       "      <td>NaN</td>\n",
       "      <td>NaN</td>\n",
       "      <td>NaN</td>\n",
       "      <td>4.0</td>\n",
       "      <td>5.0</td>\n",
       "    </tr>\n",
       "  </tbody>\n",
       "</table>\n",
       "</div>"
      ],
      "text/plain": [
       "Critics       Allen  Didi  Gloria  Grace  Keer  Molly  Pan  Shao  Sohee  \\\n",
       "brand                                                                     \n",
       "Bobbi brown     NaN   NaN     4.0    NaN   4.0    3.0  4.0   3.0    5.0   \n",
       "Chanel          NaN   5.0     5.0    NaN   5.0    NaN  4.0   NaN    4.0   \n",
       "Dior            NaN   NaN     3.0    NaN   NaN    NaN  2.0   5.0    2.0   \n",
       "Estee Lauder    3.0   2.0     3.0    NaN   3.0    4.0  3.0   NaN    4.0   \n",
       "LANC√îME        4.0   5.0     NaN    3.0   NaN    2.0  5.0   NaN    5.0   \n",
       "Mac             NaN   1.0     3.0    NaN   1.0    5.0  NaN   3.0    3.0   \n",
       "SUQQU           3.0   NaN     4.0    NaN   2.0    2.0  4.0   NaN    5.0   \n",
       "YSL             4.0   5.0     4.0    NaN   5.0    NaN  NaN   NaN    4.0   \n",
       "\n",
       "Critics       Sophie  \n",
       "brand                 \n",
       "Bobbi brown      NaN  \n",
       "Chanel           5.0  \n",
       "Dior             NaN  \n",
       "Estee Lauder     1.0  \n",
       "LANC√îME         NaN  \n",
       "Mac              2.0  \n",
       "SUQQU            NaN  \n",
       "YSL              5.0  "
      ]
     },
     "execution_count": 395,
     "metadata": {},
     "output_type": "execute_result"
    },
    {
     "data": {
      "application/javascript": [
       "\n",
       "            setTimeout(function() {\n",
       "                var nbb_cell_id = 395;\n",
       "                var nbb_unformatted_code = \"matrix = formatted_df.pivot_table(index=\\\"brand\\\", columns=\\\"Critics\\\", values=\\\"rating\\\")\\nmatrix\";\n",
       "                var nbb_formatted_code = \"matrix = formatted_df.pivot_table(index=\\\"brand\\\", columns=\\\"Critics\\\", values=\\\"rating\\\")\\nmatrix\";\n",
       "                var nbb_cells = Jupyter.notebook.get_cells();\n",
       "                for (var i = 0; i < nbb_cells.length; ++i) {\n",
       "                    if (nbb_cells[i].input_prompt_number == nbb_cell_id) {\n",
       "                        if (nbb_cells[i].get_text() == nbb_unformatted_code) {\n",
       "                             nbb_cells[i].set_text(nbb_formatted_code);\n",
       "                        }\n",
       "                        break;\n",
       "                    }\n",
       "                }\n",
       "            }, 500);\n",
       "            "
      ],
      "text/plain": [
       "<IPython.core.display.Javascript object>"
      ]
     },
     "metadata": {},
     "output_type": "display_data"
    }
   ],
   "source": [
    "matrix = formatted_df.pivot_table(index=\"brand\", columns=\"Critics\", values=\"rating\")\n",
    "matrix"
   ]
  },
  {
   "cell_type": "markdown",
   "id": "82f41569",
   "metadata": {},
   "source": [
    "### Get the value (actual - average) for each brand"
   ]
  },
  {
   "cell_type": "code",
   "execution_count": 396,
   "id": "950fbd6c",
   "metadata": {},
   "outputs": [
    {
     "data": {
      "text/html": [
       "<div>\n",
       "<style scoped>\n",
       "    .dataframe tbody tr th:only-of-type {\n",
       "        vertical-align: middle;\n",
       "    }\n",
       "\n",
       "    .dataframe tbody tr th {\n",
       "        vertical-align: top;\n",
       "    }\n",
       "\n",
       "    .dataframe thead th {\n",
       "        text-align: right;\n",
       "    }\n",
       "</style>\n",
       "<table border=\"1\" class=\"dataframe\">\n",
       "  <thead>\n",
       "    <tr style=\"text-align: right;\">\n",
       "      <th>Critics</th>\n",
       "      <th>Allen</th>\n",
       "      <th>Didi</th>\n",
       "      <th>Gloria</th>\n",
       "      <th>Grace</th>\n",
       "      <th>Keer</th>\n",
       "      <th>Molly</th>\n",
       "      <th>Pan</th>\n",
       "      <th>Shao</th>\n",
       "      <th>Sohee</th>\n",
       "      <th>Sophie</th>\n",
       "    </tr>\n",
       "    <tr>\n",
       "      <th>brand</th>\n",
       "      <th></th>\n",
       "      <th></th>\n",
       "      <th></th>\n",
       "      <th></th>\n",
       "      <th></th>\n",
       "      <th></th>\n",
       "      <th></th>\n",
       "      <th></th>\n",
       "      <th></th>\n",
       "      <th></th>\n",
       "    </tr>\n",
       "  </thead>\n",
       "  <tbody>\n",
       "    <tr>\n",
       "      <th>Bobbi brown</th>\n",
       "      <td>NaN</td>\n",
       "      <td>NaN</td>\n",
       "      <td>0.166667</td>\n",
       "      <td>NaN</td>\n",
       "      <td>0.166667</td>\n",
       "      <td>-0.833333</td>\n",
       "      <td>0.166667</td>\n",
       "      <td>-0.833333</td>\n",
       "      <td>1.166667</td>\n",
       "      <td>NaN</td>\n",
       "    </tr>\n",
       "    <tr>\n",
       "      <th>Chanel</th>\n",
       "      <td>NaN</td>\n",
       "      <td>0.333333</td>\n",
       "      <td>0.333333</td>\n",
       "      <td>NaN</td>\n",
       "      <td>0.333333</td>\n",
       "      <td>NaN</td>\n",
       "      <td>-0.666667</td>\n",
       "      <td>NaN</td>\n",
       "      <td>-0.666667</td>\n",
       "      <td>0.333333</td>\n",
       "    </tr>\n",
       "    <tr>\n",
       "      <th>Dior</th>\n",
       "      <td>NaN</td>\n",
       "      <td>NaN</td>\n",
       "      <td>0.000000</td>\n",
       "      <td>NaN</td>\n",
       "      <td>NaN</td>\n",
       "      <td>NaN</td>\n",
       "      <td>-1.000000</td>\n",
       "      <td>2.000000</td>\n",
       "      <td>-1.000000</td>\n",
       "      <td>NaN</td>\n",
       "    </tr>\n",
       "    <tr>\n",
       "      <th>Estee Lauder</th>\n",
       "      <td>0.125000</td>\n",
       "      <td>-0.875000</td>\n",
       "      <td>0.125000</td>\n",
       "      <td>NaN</td>\n",
       "      <td>0.125000</td>\n",
       "      <td>1.125000</td>\n",
       "      <td>0.125000</td>\n",
       "      <td>NaN</td>\n",
       "      <td>1.125000</td>\n",
       "      <td>-1.875000</td>\n",
       "    </tr>\n",
       "    <tr>\n",
       "      <th>LANC√îME</th>\n",
       "      <td>0.000000</td>\n",
       "      <td>1.000000</td>\n",
       "      <td>NaN</td>\n",
       "      <td>-1.0</td>\n",
       "      <td>NaN</td>\n",
       "      <td>-2.000000</td>\n",
       "      <td>1.000000</td>\n",
       "      <td>NaN</td>\n",
       "      <td>1.000000</td>\n",
       "      <td>NaN</td>\n",
       "    </tr>\n",
       "    <tr>\n",
       "      <th>Mac</th>\n",
       "      <td>NaN</td>\n",
       "      <td>-1.571429</td>\n",
       "      <td>0.428571</td>\n",
       "      <td>NaN</td>\n",
       "      <td>-1.571429</td>\n",
       "      <td>2.428571</td>\n",
       "      <td>NaN</td>\n",
       "      <td>0.428571</td>\n",
       "      <td>0.428571</td>\n",
       "      <td>-0.571429</td>\n",
       "    </tr>\n",
       "    <tr>\n",
       "      <th>SUQQU</th>\n",
       "      <td>-0.333333</td>\n",
       "      <td>NaN</td>\n",
       "      <td>0.666667</td>\n",
       "      <td>NaN</td>\n",
       "      <td>-1.333333</td>\n",
       "      <td>-1.333333</td>\n",
       "      <td>0.666667</td>\n",
       "      <td>NaN</td>\n",
       "      <td>1.666667</td>\n",
       "      <td>NaN</td>\n",
       "    </tr>\n",
       "    <tr>\n",
       "      <th>YSL</th>\n",
       "      <td>-0.500000</td>\n",
       "      <td>0.500000</td>\n",
       "      <td>-0.500000</td>\n",
       "      <td>NaN</td>\n",
       "      <td>0.500000</td>\n",
       "      <td>NaN</td>\n",
       "      <td>NaN</td>\n",
       "      <td>NaN</td>\n",
       "      <td>-0.500000</td>\n",
       "      <td>0.500000</td>\n",
       "    </tr>\n",
       "  </tbody>\n",
       "</table>\n",
       "</div>"
      ],
      "text/plain": [
       "Critics          Allen      Didi    Gloria  Grace      Keer     Molly  \\\n",
       "brand                                                                   \n",
       "Bobbi brown        NaN       NaN  0.166667    NaN  0.166667 -0.833333   \n",
       "Chanel             NaN  0.333333  0.333333    NaN  0.333333       NaN   \n",
       "Dior               NaN       NaN  0.000000    NaN       NaN       NaN   \n",
       "Estee Lauder  0.125000 -0.875000  0.125000    NaN  0.125000  1.125000   \n",
       "LANC√îME      0.000000  1.000000       NaN   -1.0       NaN -2.000000   \n",
       "Mac                NaN -1.571429  0.428571    NaN -1.571429  2.428571   \n",
       "SUQQU        -0.333333       NaN  0.666667    NaN -1.333333 -1.333333   \n",
       "YSL          -0.500000  0.500000 -0.500000    NaN  0.500000       NaN   \n",
       "\n",
       "Critics            Pan      Shao     Sohee    Sophie  \n",
       "brand                                                 \n",
       "Bobbi brown   0.166667 -0.833333  1.166667       NaN  \n",
       "Chanel       -0.666667       NaN -0.666667  0.333333  \n",
       "Dior         -1.000000  2.000000 -1.000000       NaN  \n",
       "Estee Lauder  0.125000       NaN  1.125000 -1.875000  \n",
       "LANC√îME      1.000000       NaN  1.000000       NaN  \n",
       "Mac                NaN  0.428571  0.428571 -0.571429  \n",
       "SUQQU         0.666667       NaN  1.666667       NaN  \n",
       "YSL                NaN       NaN -0.500000  0.500000  "
      ]
     },
     "execution_count": 396,
     "metadata": {},
     "output_type": "execute_result"
    },
    {
     "data": {
      "application/javascript": [
       "\n",
       "            setTimeout(function() {\n",
       "                var nbb_cell_id = 396;\n",
       "                var nbb_unformatted_code = \"df_norm = matrix.subtract(matrix.mean(axis=1), axis=0)\\ndf_norm\";\n",
       "                var nbb_formatted_code = \"df_norm = matrix.subtract(matrix.mean(axis=1), axis=0)\\ndf_norm\";\n",
       "                var nbb_cells = Jupyter.notebook.get_cells();\n",
       "                for (var i = 0; i < nbb_cells.length; ++i) {\n",
       "                    if (nbb_cells[i].input_prompt_number == nbb_cell_id) {\n",
       "                        if (nbb_cells[i].get_text() == nbb_unformatted_code) {\n",
       "                             nbb_cells[i].set_text(nbb_formatted_code);\n",
       "                        }\n",
       "                        break;\n",
       "                    }\n",
       "                }\n",
       "            }, 500);\n",
       "            "
      ],
      "text/plain": [
       "<IPython.core.display.Javascript object>"
      ]
     },
     "metadata": {},
     "output_type": "display_data"
    }
   ],
   "source": [
    "df_norm = matrix.subtract(matrix.mean(axis=1), axis=0)\n",
    "df_norm"
   ]
  },
  {
   "cell_type": "markdown",
   "id": "c9ce5861",
   "metadata": {},
   "source": [
    "### Leveraging 𝑆𝑖𝑚𝑖𝑙𝑎𝑟𝑖𝑡𝑦(𝐴,𝐵)=cos(𝜃)=𝐴⋅𝐵 / ||𝐴||×||𝐵|| to calculate the similarity for each brand."
   ]
  },
  {
   "cell_type": "code",
   "execution_count": 397,
   "id": "293b6793",
   "metadata": {},
   "outputs": [
    {
     "data": {
      "text/plain": [
       "array([[ 1.        , -0.40016337, -0.72760688,  0.09912721,  0.63012604,\n",
       "        -0.35955325,  0.67033306, -0.28295823],\n",
       "       [-0.40016337,  1.        ,  0.47140452, -0.55048188, -0.30618622,\n",
       "        -0.34942295, -0.56853524,  0.47140452],\n",
       "       [-0.72760688,  0.47140452,  1.        , -0.19462474, -0.28867513,\n",
       "         0.05111986, -0.35176324,  0.16666667],\n",
       "       [ 0.09912721, -0.55048188, -0.19462474,  1.        , -0.25282495,\n",
       "         0.61485994,  0.04694525, -0.62279916],\n",
       "       [ 0.63012604, -0.30618622, -0.28867513, -0.25282495,  1.        ,\n",
       "        -0.6197954 ,  0.65279121,  0.        ],\n",
       "       [-0.35955325, -0.34942295,  0.05111986,  0.61485994, -0.6197954 ,\n",
       "         1.        , -0.01541322, -0.54527854],\n",
       "       [ 0.67033306, -0.56853524, -0.35176324,  0.04694525,  0.65279121,\n",
       "        -0.01541322,  1.        , -0.50251891],\n",
       "       [-0.28295823,  0.47140452,  0.16666667, -0.62279916,  0.        ,\n",
       "        -0.54527854, -0.50251891,  1.        ]])"
      ]
     },
     "execution_count": 397,
     "metadata": {},
     "output_type": "execute_result"
    },
    {
     "data": {
      "application/javascript": [
       "\n",
       "            setTimeout(function() {\n",
       "                var nbb_cell_id = 397;\n",
       "                var nbb_unformatted_code = \"cosine_similarity_df = cosine_similarity(df_norm.fillna(0))\\ncosine_similarity_df\";\n",
       "                var nbb_formatted_code = \"cosine_similarity_df = cosine_similarity(df_norm.fillna(0))\\ncosine_similarity_df\";\n",
       "                var nbb_cells = Jupyter.notebook.get_cells();\n",
       "                for (var i = 0; i < nbb_cells.length; ++i) {\n",
       "                    if (nbb_cells[i].input_prompt_number == nbb_cell_id) {\n",
       "                        if (nbb_cells[i].get_text() == nbb_unformatted_code) {\n",
       "                             nbb_cells[i].set_text(nbb_formatted_code);\n",
       "                        }\n",
       "                        break;\n",
       "                    }\n",
       "                }\n",
       "            }, 500);\n",
       "            "
      ],
      "text/plain": [
       "<IPython.core.display.Javascript object>"
      ]
     },
     "metadata": {},
     "output_type": "display_data"
    }
   ],
   "source": [
    "cosine_similarity_df = cosine_similarity(df_norm.fillna(0))\n",
    "cosine_similarity_df"
   ]
  },
  {
   "cell_type": "markdown",
   "id": "2bb25d30",
   "metadata": {},
   "source": [
    "### Convert array into dataframe, allowing us to look it clearly"
   ]
  },
  {
   "cell_type": "code",
   "execution_count": 398,
   "id": "acafc222",
   "metadata": {},
   "outputs": [
    {
     "data": {
      "text/html": [
       "<div>\n",
       "<style scoped>\n",
       "    .dataframe tbody tr th:only-of-type {\n",
       "        vertical-align: middle;\n",
       "    }\n",
       "\n",
       "    .dataframe tbody tr th {\n",
       "        vertical-align: top;\n",
       "    }\n",
       "\n",
       "    .dataframe thead th {\n",
       "        text-align: right;\n",
       "    }\n",
       "</style>\n",
       "<table border=\"1\" class=\"dataframe\">\n",
       "  <thead>\n",
       "    <tr style=\"text-align: right;\">\n",
       "      <th></th>\n",
       "      <th>0</th>\n",
       "      <th>1</th>\n",
       "      <th>2</th>\n",
       "      <th>3</th>\n",
       "      <th>4</th>\n",
       "      <th>5</th>\n",
       "      <th>6</th>\n",
       "      <th>7</th>\n",
       "    </tr>\n",
       "  </thead>\n",
       "  <tbody>\n",
       "    <tr>\n",
       "      <th>0</th>\n",
       "      <td>1.000000</td>\n",
       "      <td>-0.400163</td>\n",
       "      <td>-0.727607</td>\n",
       "      <td>0.099127</td>\n",
       "      <td>0.630126</td>\n",
       "      <td>-0.359553</td>\n",
       "      <td>0.670333</td>\n",
       "      <td>-0.282958</td>\n",
       "    </tr>\n",
       "    <tr>\n",
       "      <th>1</th>\n",
       "      <td>-0.400163</td>\n",
       "      <td>1.000000</td>\n",
       "      <td>0.471405</td>\n",
       "      <td>-0.550482</td>\n",
       "      <td>-0.306186</td>\n",
       "      <td>-0.349423</td>\n",
       "      <td>-0.568535</td>\n",
       "      <td>0.471405</td>\n",
       "    </tr>\n",
       "    <tr>\n",
       "      <th>2</th>\n",
       "      <td>-0.727607</td>\n",
       "      <td>0.471405</td>\n",
       "      <td>1.000000</td>\n",
       "      <td>-0.194625</td>\n",
       "      <td>-0.288675</td>\n",
       "      <td>0.051120</td>\n",
       "      <td>-0.351763</td>\n",
       "      <td>0.166667</td>\n",
       "    </tr>\n",
       "    <tr>\n",
       "      <th>3</th>\n",
       "      <td>0.099127</td>\n",
       "      <td>-0.550482</td>\n",
       "      <td>-0.194625</td>\n",
       "      <td>1.000000</td>\n",
       "      <td>-0.252825</td>\n",
       "      <td>0.614860</td>\n",
       "      <td>0.046945</td>\n",
       "      <td>-0.622799</td>\n",
       "    </tr>\n",
       "    <tr>\n",
       "      <th>4</th>\n",
       "      <td>0.630126</td>\n",
       "      <td>-0.306186</td>\n",
       "      <td>-0.288675</td>\n",
       "      <td>-0.252825</td>\n",
       "      <td>1.000000</td>\n",
       "      <td>-0.619795</td>\n",
       "      <td>0.652791</td>\n",
       "      <td>0.000000</td>\n",
       "    </tr>\n",
       "    <tr>\n",
       "      <th>5</th>\n",
       "      <td>-0.359553</td>\n",
       "      <td>-0.349423</td>\n",
       "      <td>0.051120</td>\n",
       "      <td>0.614860</td>\n",
       "      <td>-0.619795</td>\n",
       "      <td>1.000000</td>\n",
       "      <td>-0.015413</td>\n",
       "      <td>-0.545279</td>\n",
       "    </tr>\n",
       "    <tr>\n",
       "      <th>6</th>\n",
       "      <td>0.670333</td>\n",
       "      <td>-0.568535</td>\n",
       "      <td>-0.351763</td>\n",
       "      <td>0.046945</td>\n",
       "      <td>0.652791</td>\n",
       "      <td>-0.015413</td>\n",
       "      <td>1.000000</td>\n",
       "      <td>-0.502519</td>\n",
       "    </tr>\n",
       "    <tr>\n",
       "      <th>7</th>\n",
       "      <td>-0.282958</td>\n",
       "      <td>0.471405</td>\n",
       "      <td>0.166667</td>\n",
       "      <td>-0.622799</td>\n",
       "      <td>0.000000</td>\n",
       "      <td>-0.545279</td>\n",
       "      <td>-0.502519</td>\n",
       "      <td>1.000000</td>\n",
       "    </tr>\n",
       "  </tbody>\n",
       "</table>\n",
       "</div>"
      ],
      "text/plain": [
       "          0         1         2         3         4         5         6  \\\n",
       "0  1.000000 -0.400163 -0.727607  0.099127  0.630126 -0.359553  0.670333   \n",
       "1 -0.400163  1.000000  0.471405 -0.550482 -0.306186 -0.349423 -0.568535   \n",
       "2 -0.727607  0.471405  1.000000 -0.194625 -0.288675  0.051120 -0.351763   \n",
       "3  0.099127 -0.550482 -0.194625  1.000000 -0.252825  0.614860  0.046945   \n",
       "4  0.630126 -0.306186 -0.288675 -0.252825  1.000000 -0.619795  0.652791   \n",
       "5 -0.359553 -0.349423  0.051120  0.614860 -0.619795  1.000000 -0.015413   \n",
       "6  0.670333 -0.568535 -0.351763  0.046945  0.652791 -0.015413  1.000000   \n",
       "7 -0.282958  0.471405  0.166667 -0.622799  0.000000 -0.545279 -0.502519   \n",
       "\n",
       "          7  \n",
       "0 -0.282958  \n",
       "1  0.471405  \n",
       "2  0.166667  \n",
       "3 -0.622799  \n",
       "4  0.000000  \n",
       "5 -0.545279  \n",
       "6 -0.502519  \n",
       "7  1.000000  "
      ]
     },
     "execution_count": 398,
     "metadata": {},
     "output_type": "execute_result"
    },
    {
     "data": {
      "application/javascript": [
       "\n",
       "            setTimeout(function() {\n",
       "                var nbb_cell_id = 398;\n",
       "                var nbb_unformatted_code = \"df_array = pd.DataFrame(cosine_similarity_df)\\ndf_array\";\n",
       "                var nbb_formatted_code = \"df_array = pd.DataFrame(cosine_similarity_df)\\ndf_array\";\n",
       "                var nbb_cells = Jupyter.notebook.get_cells();\n",
       "                for (var i = 0; i < nbb_cells.length; ++i) {\n",
       "                    if (nbb_cells[i].input_prompt_number == nbb_cell_id) {\n",
       "                        if (nbb_cells[i].get_text() == nbb_unformatted_code) {\n",
       "                             nbb_cells[i].set_text(nbb_formatted_code);\n",
       "                        }\n",
       "                        break;\n",
       "                    }\n",
       "                }\n",
       "            }, 500);\n",
       "            "
      ],
      "text/plain": [
       "<IPython.core.display.Javascript object>"
      ]
     },
     "metadata": {},
     "output_type": "display_data"
    }
   ],
   "source": [
    "df_array = pd.DataFrame(cosine_similarity_df)\n",
    "df_array"
   ]
  },
  {
   "cell_type": "markdown",
   "id": "eec7c63b",
   "metadata": {},
   "source": [
    "### Reset the index and columns name"
   ]
  },
  {
   "cell_type": "code",
   "execution_count": 399,
   "id": "77f87388",
   "metadata": {},
   "outputs": [
    {
     "data": {
      "application/javascript": [
       "\n",
       "            setTimeout(function() {\n",
       "                var nbb_cell_id = 399;\n",
       "                var nbb_unformatted_code = \"reset_name = df_norm.index.to_list()\";\n",
       "                var nbb_formatted_code = \"reset_name = df_norm.index.to_list()\";\n",
       "                var nbb_cells = Jupyter.notebook.get_cells();\n",
       "                for (var i = 0; i < nbb_cells.length; ++i) {\n",
       "                    if (nbb_cells[i].input_prompt_number == nbb_cell_id) {\n",
       "                        if (nbb_cells[i].get_text() == nbb_unformatted_code) {\n",
       "                             nbb_cells[i].set_text(nbb_formatted_code);\n",
       "                        }\n",
       "                        break;\n",
       "                    }\n",
       "                }\n",
       "            }, 500);\n",
       "            "
      ],
      "text/plain": [
       "<IPython.core.display.Javascript object>"
      ]
     },
     "metadata": {},
     "output_type": "display_data"
    }
   ],
   "source": [
    "reset_name = df_norm.index.to_list()"
   ]
  },
  {
   "cell_type": "code",
   "execution_count": 400,
   "id": "486f8906",
   "metadata": {},
   "outputs": [
    {
     "data": {
      "application/javascript": [
       "\n",
       "            setTimeout(function() {\n",
       "                var nbb_cell_id = 400;\n",
       "                var nbb_unformatted_code = \"df_array.set_axis(reset_name, axis=1, inplace=True)\";\n",
       "                var nbb_formatted_code = \"df_array.set_axis(reset_name, axis=1, inplace=True)\";\n",
       "                var nbb_cells = Jupyter.notebook.get_cells();\n",
       "                for (var i = 0; i < nbb_cells.length; ++i) {\n",
       "                    if (nbb_cells[i].input_prompt_number == nbb_cell_id) {\n",
       "                        if (nbb_cells[i].get_text() == nbb_unformatted_code) {\n",
       "                             nbb_cells[i].set_text(nbb_formatted_code);\n",
       "                        }\n",
       "                        break;\n",
       "                    }\n",
       "                }\n",
       "            }, 500);\n",
       "            "
      ],
      "text/plain": [
       "<IPython.core.display.Javascript object>"
      ]
     },
     "metadata": {},
     "output_type": "display_data"
    }
   ],
   "source": [
    "df_array.set_axis(reset_name, axis=1, inplace=True)"
   ]
  },
  {
   "cell_type": "code",
   "execution_count": 401,
   "id": "fb4f0dd4",
   "metadata": {},
   "outputs": [
    {
     "data": {
      "application/javascript": [
       "\n",
       "            setTimeout(function() {\n",
       "                var nbb_cell_id = 401;\n",
       "                var nbb_unformatted_code = \"df_array.index = reset_name\";\n",
       "                var nbb_formatted_code = \"df_array.index = reset_name\";\n",
       "                var nbb_cells = Jupyter.notebook.get_cells();\n",
       "                for (var i = 0; i < nbb_cells.length; ++i) {\n",
       "                    if (nbb_cells[i].input_prompt_number == nbb_cell_id) {\n",
       "                        if (nbb_cells[i].get_text() == nbb_unformatted_code) {\n",
       "                             nbb_cells[i].set_text(nbb_formatted_code);\n",
       "                        }\n",
       "                        break;\n",
       "                    }\n",
       "                }\n",
       "            }, 500);\n",
       "            "
      ],
      "text/plain": [
       "<IPython.core.display.Javascript object>"
      ]
     },
     "metadata": {},
     "output_type": "display_data"
    }
   ],
   "source": [
    "df_array.index = reset_name"
   ]
  },
  {
   "cell_type": "code",
   "execution_count": 402,
   "id": "e3d549d8",
   "metadata": {},
   "outputs": [
    {
     "data": {
      "text/html": [
       "<div>\n",
       "<style scoped>\n",
       "    .dataframe tbody tr th:only-of-type {\n",
       "        vertical-align: middle;\n",
       "    }\n",
       "\n",
       "    .dataframe tbody tr th {\n",
       "        vertical-align: top;\n",
       "    }\n",
       "\n",
       "    .dataframe thead th {\n",
       "        text-align: right;\n",
       "    }\n",
       "</style>\n",
       "<table border=\"1\" class=\"dataframe\">\n",
       "  <thead>\n",
       "    <tr style=\"text-align: right;\">\n",
       "      <th></th>\n",
       "      <th>Bobbi brown</th>\n",
       "      <th>Chanel</th>\n",
       "      <th>Dior</th>\n",
       "      <th>Estee Lauder</th>\n",
       "      <th>LANC√îME</th>\n",
       "      <th>Mac</th>\n",
       "      <th>SUQQU</th>\n",
       "      <th>YSL</th>\n",
       "    </tr>\n",
       "  </thead>\n",
       "  <tbody>\n",
       "    <tr>\n",
       "      <th>Bobbi brown</th>\n",
       "      <td>1.000000</td>\n",
       "      <td>-0.400163</td>\n",
       "      <td>-0.727607</td>\n",
       "      <td>0.099127</td>\n",
       "      <td>0.630126</td>\n",
       "      <td>-0.359553</td>\n",
       "      <td>0.670333</td>\n",
       "      <td>-0.282958</td>\n",
       "    </tr>\n",
       "    <tr>\n",
       "      <th>Chanel</th>\n",
       "      <td>-0.400163</td>\n",
       "      <td>1.000000</td>\n",
       "      <td>0.471405</td>\n",
       "      <td>-0.550482</td>\n",
       "      <td>-0.306186</td>\n",
       "      <td>-0.349423</td>\n",
       "      <td>-0.568535</td>\n",
       "      <td>0.471405</td>\n",
       "    </tr>\n",
       "    <tr>\n",
       "      <th>Dior</th>\n",
       "      <td>-0.727607</td>\n",
       "      <td>0.471405</td>\n",
       "      <td>1.000000</td>\n",
       "      <td>-0.194625</td>\n",
       "      <td>-0.288675</td>\n",
       "      <td>0.051120</td>\n",
       "      <td>-0.351763</td>\n",
       "      <td>0.166667</td>\n",
       "    </tr>\n",
       "    <tr>\n",
       "      <th>Estee Lauder</th>\n",
       "      <td>0.099127</td>\n",
       "      <td>-0.550482</td>\n",
       "      <td>-0.194625</td>\n",
       "      <td>1.000000</td>\n",
       "      <td>-0.252825</td>\n",
       "      <td>0.614860</td>\n",
       "      <td>0.046945</td>\n",
       "      <td>-0.622799</td>\n",
       "    </tr>\n",
       "    <tr>\n",
       "      <th>LANC√îME</th>\n",
       "      <td>0.630126</td>\n",
       "      <td>-0.306186</td>\n",
       "      <td>-0.288675</td>\n",
       "      <td>-0.252825</td>\n",
       "      <td>1.000000</td>\n",
       "      <td>-0.619795</td>\n",
       "      <td>0.652791</td>\n",
       "      <td>0.000000</td>\n",
       "    </tr>\n",
       "    <tr>\n",
       "      <th>Mac</th>\n",
       "      <td>-0.359553</td>\n",
       "      <td>-0.349423</td>\n",
       "      <td>0.051120</td>\n",
       "      <td>0.614860</td>\n",
       "      <td>-0.619795</td>\n",
       "      <td>1.000000</td>\n",
       "      <td>-0.015413</td>\n",
       "      <td>-0.545279</td>\n",
       "    </tr>\n",
       "    <tr>\n",
       "      <th>SUQQU</th>\n",
       "      <td>0.670333</td>\n",
       "      <td>-0.568535</td>\n",
       "      <td>-0.351763</td>\n",
       "      <td>0.046945</td>\n",
       "      <td>0.652791</td>\n",
       "      <td>-0.015413</td>\n",
       "      <td>1.000000</td>\n",
       "      <td>-0.502519</td>\n",
       "    </tr>\n",
       "    <tr>\n",
       "      <th>YSL</th>\n",
       "      <td>-0.282958</td>\n",
       "      <td>0.471405</td>\n",
       "      <td>0.166667</td>\n",
       "      <td>-0.622799</td>\n",
       "      <td>0.000000</td>\n",
       "      <td>-0.545279</td>\n",
       "      <td>-0.502519</td>\n",
       "      <td>1.000000</td>\n",
       "    </tr>\n",
       "  </tbody>\n",
       "</table>\n",
       "</div>"
      ],
      "text/plain": [
       "              Bobbi brown    Chanel      Dior  Estee Lauder  LANC√îME  \\\n",
       "Bobbi brown      1.000000 -0.400163 -0.727607      0.099127  0.630126   \n",
       "Chanel          -0.400163  1.000000  0.471405     -0.550482 -0.306186   \n",
       "Dior            -0.727607  0.471405  1.000000     -0.194625 -0.288675   \n",
       "Estee Lauder     0.099127 -0.550482 -0.194625      1.000000 -0.252825   \n",
       "LANC√îME         0.630126 -0.306186 -0.288675     -0.252825  1.000000   \n",
       "Mac             -0.359553 -0.349423  0.051120      0.614860 -0.619795   \n",
       "SUQQU            0.670333 -0.568535 -0.351763      0.046945  0.652791   \n",
       "YSL             -0.282958  0.471405  0.166667     -0.622799  0.000000   \n",
       "\n",
       "                   Mac     SUQQU       YSL  \n",
       "Bobbi brown  -0.359553  0.670333 -0.282958  \n",
       "Chanel       -0.349423 -0.568535  0.471405  \n",
       "Dior          0.051120 -0.351763  0.166667  \n",
       "Estee Lauder  0.614860  0.046945 -0.622799  \n",
       "LANC√îME     -0.619795  0.652791  0.000000  \n",
       "Mac           1.000000 -0.015413 -0.545279  \n",
       "SUQQU        -0.015413  1.000000 -0.502519  \n",
       "YSL          -0.545279 -0.502519  1.000000  "
      ]
     },
     "execution_count": 402,
     "metadata": {},
     "output_type": "execute_result"
    },
    {
     "data": {
      "application/javascript": [
       "\n",
       "            setTimeout(function() {\n",
       "                var nbb_cell_id = 402;\n",
       "                var nbb_unformatted_code = \"df_array\";\n",
       "                var nbb_formatted_code = \"df_array\";\n",
       "                var nbb_cells = Jupyter.notebook.get_cells();\n",
       "                for (var i = 0; i < nbb_cells.length; ++i) {\n",
       "                    if (nbb_cells[i].input_prompt_number == nbb_cell_id) {\n",
       "                        if (nbb_cells[i].get_text() == nbb_unformatted_code) {\n",
       "                             nbb_cells[i].set_text(nbb_formatted_code);\n",
       "                        }\n",
       "                        break;\n",
       "                    }\n",
       "                }\n",
       "            }, 500);\n",
       "            "
      ],
      "text/plain": [
       "<IPython.core.display.Javascript object>"
      ]
     },
     "metadata": {},
     "output_type": "display_data"
    }
   ],
   "source": [
    "df_array"
   ]
  },
  {
   "cell_type": "markdown",
   "id": "a7166781",
   "metadata": {},
   "source": [
    "---"
   ]
  },
  {
   "cell_type": "markdown",
   "id": "7dbe2743",
   "metadata": {},
   "source": [
    "---"
   ]
  },
  {
   "cell_type": "markdown",
   "id": "a518ec62",
   "metadata": {},
   "source": [
    "### Find the brands that users didn't rating before"
   ]
  },
  {
   "cell_type": "code",
   "execution_count": 403,
   "id": "bca4cef2",
   "metadata": {},
   "outputs": [
    {
     "data": {
      "application/javascript": [
       "\n",
       "            setTimeout(function() {\n",
       "                var nbb_cell_id = 403;\n",
       "                var nbb_unformatted_code = \"not_rating_all_users = []\\nfor user in matrix.columns:\\n    not_rating_before = matrix[matrix[user].isnull()].index.to_list()\\n    not_rating_all_users.append(not_rating_before)\";\n",
       "                var nbb_formatted_code = \"not_rating_all_users = []\\nfor user in matrix.columns:\\n    not_rating_before = matrix[matrix[user].isnull()].index.to_list()\\n    not_rating_all_users.append(not_rating_before)\";\n",
       "                var nbb_cells = Jupyter.notebook.get_cells();\n",
       "                for (var i = 0; i < nbb_cells.length; ++i) {\n",
       "                    if (nbb_cells[i].input_prompt_number == nbb_cell_id) {\n",
       "                        if (nbb_cells[i].get_text() == nbb_unformatted_code) {\n",
       "                             nbb_cells[i].set_text(nbb_formatted_code);\n",
       "                        }\n",
       "                        break;\n",
       "                    }\n",
       "                }\n",
       "            }, 500);\n",
       "            "
      ],
      "text/plain": [
       "<IPython.core.display.Javascript object>"
      ]
     },
     "metadata": {},
     "output_type": "display_data"
    }
   ],
   "source": [
    "not_rating_all_users = []\n",
    "for user in matrix.columns:\n",
    "    not_rating_before = matrix[matrix[user].isnull()].index.to_list()\n",
    "    not_rating_all_users.append(not_rating_before)"
   ]
  },
  {
   "cell_type": "code",
   "execution_count": 404,
   "id": "e4a91b99",
   "metadata": {},
   "outputs": [
    {
     "data": {
      "text/plain": [
       "[['Bobbi brown', 'Chanel', 'Dior', 'Mac'],\n",
       " ['Bobbi brown', 'Dior', 'SUQQU'],\n",
       " ['LANC√îME'],\n",
       " ['Bobbi brown', 'Chanel', 'Dior', 'Estee Lauder', 'Mac', 'SUQQU', 'YSL'],\n",
       " ['Dior', 'LANC√îME'],\n",
       " ['Chanel', 'Dior', 'YSL'],\n",
       " ['Mac', 'YSL'],\n",
       " ['Chanel', 'Estee Lauder', 'LANC√îME', 'SUQQU', 'YSL'],\n",
       " [],\n",
       " ['Bobbi brown', 'Dior', 'LANC√îME', 'SUQQU']]"
      ]
     },
     "execution_count": 404,
     "metadata": {},
     "output_type": "execute_result"
    },
    {
     "data": {
      "application/javascript": [
       "\n",
       "            setTimeout(function() {\n",
       "                var nbb_cell_id = 404;\n",
       "                var nbb_unformatted_code = \"not_rating_all_users\";\n",
       "                var nbb_formatted_code = \"not_rating_all_users\";\n",
       "                var nbb_cells = Jupyter.notebook.get_cells();\n",
       "                for (var i = 0; i < nbb_cells.length; ++i) {\n",
       "                    if (nbb_cells[i].input_prompt_number == nbb_cell_id) {\n",
       "                        if (nbb_cells[i].get_text() == nbb_unformatted_code) {\n",
       "                             nbb_cells[i].set_text(nbb_formatted_code);\n",
       "                        }\n",
       "                        break;\n",
       "                    }\n",
       "                }\n",
       "            }, 500);\n",
       "            "
      ],
      "text/plain": [
       "<IPython.core.display.Javascript object>"
      ]
     },
     "metadata": {},
     "output_type": "display_data"
    }
   ],
   "source": [
    "not_rating_all_users"
   ]
  },
  {
   "cell_type": "markdown",
   "id": "dc4dcb48",
   "metadata": {},
   "source": [
    "#### Who do we want to recommend?"
   ]
  },
  {
   "cell_type": "code",
   "execution_count": 405,
   "id": "0d8e784f",
   "metadata": {},
   "outputs": [
    {
     "name": "stdout",
     "output_type": "stream",
     "text": [
      "Target user is:Allen\n"
     ]
    },
    {
     "data": {
      "application/javascript": [
       "\n",
       "            setTimeout(function() {\n",
       "                var nbb_cell_id = 405;\n",
       "                var nbb_unformatted_code = \"target_user = input(\\\"Target user is:\\\")\";\n",
       "                var nbb_formatted_code = \"target_user = input(\\\"Target user is:\\\")\";\n",
       "                var nbb_cells = Jupyter.notebook.get_cells();\n",
       "                for (var i = 0; i < nbb_cells.length; ++i) {\n",
       "                    if (nbb_cells[i].input_prompt_number == nbb_cell_id) {\n",
       "                        if (nbb_cells[i].get_text() == nbb_unformatted_code) {\n",
       "                             nbb_cells[i].set_text(nbb_formatted_code);\n",
       "                        }\n",
       "                        break;\n",
       "                    }\n",
       "                }\n",
       "            }, 500);\n",
       "            "
      ],
      "text/plain": [
       "<IPython.core.display.Javascript object>"
      ]
     },
     "metadata": {},
     "output_type": "display_data"
    }
   ],
   "source": [
    "target_user = input(\"Target user is:\")"
   ]
  },
  {
   "cell_type": "markdown",
   "id": "88f64268",
   "metadata": {},
   "source": [
    "#### Which brand(s) she never used before?"
   ]
  },
  {
   "cell_type": "code",
   "execution_count": 406,
   "id": "6c287bba",
   "metadata": {},
   "outputs": [
    {
     "data": {
      "text/plain": [
       "['Bobbi brown', 'Chanel', 'Dior', 'Mac']"
      ]
     },
     "execution_count": 406,
     "metadata": {},
     "output_type": "execute_result"
    },
    {
     "data": {
      "application/javascript": [
       "\n",
       "            setTimeout(function() {\n",
       "                var nbb_cell_id = 406;\n",
       "                var nbb_unformatted_code = \"never_used = not_rating_all_users[matrix.columns.get_loc(target_user)]\\nnever_used\";\n",
       "                var nbb_formatted_code = \"never_used = not_rating_all_users[matrix.columns.get_loc(target_user)]\\nnever_used\";\n",
       "                var nbb_cells = Jupyter.notebook.get_cells();\n",
       "                for (var i = 0; i < nbb_cells.length; ++i) {\n",
       "                    if (nbb_cells[i].input_prompt_number == nbb_cell_id) {\n",
       "                        if (nbb_cells[i].get_text() == nbb_unformatted_code) {\n",
       "                             nbb_cells[i].set_text(nbb_formatted_code);\n",
       "                        }\n",
       "                        break;\n",
       "                    }\n",
       "                }\n",
       "            }, 500);\n",
       "            "
      ],
      "text/plain": [
       "<IPython.core.display.Javascript object>"
      ]
     },
     "metadata": {},
     "output_type": "display_data"
    }
   ],
   "source": [
    "never_used = not_rating_all_users[matrix.columns.get_loc(target_user)]\n",
    "never_used"
   ]
  },
  {
   "cell_type": "markdown",
   "id": "f6f2c7ab",
   "metadata": {},
   "source": [
    "### Get the top3 similarity brands' name and similarity value"
   ]
  },
  {
   "cell_type": "code",
   "execution_count": 407,
   "id": "d02883bb",
   "metadata": {},
   "outputs": [
    {
     "data": {
      "application/javascript": [
       "\n",
       "            setTimeout(function() {\n",
       "                var nbb_cell_id = 407;\n",
       "                var nbb_unformatted_code = \"similarity_list = []\\nfor brand in df_array.columns:\\n    sm = df_array[brand].sort_values(ascending=False)[1:].head(3)\\n    similarity_list.append(sm)\";\n",
       "                var nbb_formatted_code = \"similarity_list = []\\nfor brand in df_array.columns:\\n    sm = df_array[brand].sort_values(ascending=False)[1:].head(3)\\n    similarity_list.append(sm)\";\n",
       "                var nbb_cells = Jupyter.notebook.get_cells();\n",
       "                for (var i = 0; i < nbb_cells.length; ++i) {\n",
       "                    if (nbb_cells[i].input_prompt_number == nbb_cell_id) {\n",
       "                        if (nbb_cells[i].get_text() == nbb_unformatted_code) {\n",
       "                             nbb_cells[i].set_text(nbb_formatted_code);\n",
       "                        }\n",
       "                        break;\n",
       "                    }\n",
       "                }\n",
       "            }, 500);\n",
       "            "
      ],
      "text/plain": [
       "<IPython.core.display.Javascript object>"
      ]
     },
     "metadata": {},
     "output_type": "display_data"
    }
   ],
   "source": [
    "similarity_list = []\n",
    "for brand in df_array.columns:\n",
    "    sm = df_array[brand].sort_values(ascending=False)[1:].head(3)\n",
    "    similarity_list.append(sm)"
   ]
  },
  {
   "cell_type": "code",
   "execution_count": 408,
   "id": "c1ce398f",
   "metadata": {},
   "outputs": [
    {
     "data": {
      "application/javascript": [
       "\n",
       "            setTimeout(function() {\n",
       "                var nbb_cell_id = 408;\n",
       "                var nbb_unformatted_code = \"top3_for_never_used = []\\nfor brand in never_used:\\n    top3 = similarity_list[df_array.columns.get_loc(brand)]\\n    top3_for_never_used.append(top3)\";\n",
       "                var nbb_formatted_code = \"top3_for_never_used = []\\nfor brand in never_used:\\n    top3 = similarity_list[df_array.columns.get_loc(brand)]\\n    top3_for_never_used.append(top3)\";\n",
       "                var nbb_cells = Jupyter.notebook.get_cells();\n",
       "                for (var i = 0; i < nbb_cells.length; ++i) {\n",
       "                    if (nbb_cells[i].input_prompt_number == nbb_cell_id) {\n",
       "                        if (nbb_cells[i].get_text() == nbb_unformatted_code) {\n",
       "                             nbb_cells[i].set_text(nbb_formatted_code);\n",
       "                        }\n",
       "                        break;\n",
       "                    }\n",
       "                }\n",
       "            }, 500);\n",
       "            "
      ],
      "text/plain": [
       "<IPython.core.display.Javascript object>"
      ]
     },
     "metadata": {},
     "output_type": "display_data"
    }
   ],
   "source": [
    "top3_for_never_used = []\n",
    "for brand in never_used:\n",
    "    top3 = similarity_list[df_array.columns.get_loc(brand)]\n",
    "    top3_for_never_used.append(top3)"
   ]
  },
  {
   "cell_type": "code",
   "execution_count": 409,
   "id": "50d61443",
   "metadata": {},
   "outputs": [
    {
     "data": {
      "text/plain": [
       "[SUQQU           0.670333\n",
       " LANC√îME        0.630126\n",
       " Estee Lauder    0.099127\n",
       " Name: Bobbi brown, dtype: float64,\n",
       " Dior        0.471405\n",
       " YSL         0.471405\n",
       " LANC√îME   -0.306186\n",
       " Name: Chanel, dtype: float64,\n",
       " Chanel    0.471405\n",
       " YSL       0.166667\n",
       " Mac       0.051120\n",
       " Name: Dior, dtype: float64,\n",
       " Estee Lauder    0.614860\n",
       " Dior            0.051120\n",
       " SUQQU          -0.015413\n",
       " Name: Mac, dtype: float64]"
      ]
     },
     "execution_count": 409,
     "metadata": {},
     "output_type": "execute_result"
    },
    {
     "data": {
      "application/javascript": [
       "\n",
       "            setTimeout(function() {\n",
       "                var nbb_cell_id = 409;\n",
       "                var nbb_unformatted_code = \"top3_for_never_used\";\n",
       "                var nbb_formatted_code = \"top3_for_never_used\";\n",
       "                var nbb_cells = Jupyter.notebook.get_cells();\n",
       "                for (var i = 0; i < nbb_cells.length; ++i) {\n",
       "                    if (nbb_cells[i].input_prompt_number == nbb_cell_id) {\n",
       "                        if (nbb_cells[i].get_text() == nbb_unformatted_code) {\n",
       "                             nbb_cells[i].set_text(nbb_formatted_code);\n",
       "                        }\n",
       "                        break;\n",
       "                    }\n",
       "                }\n",
       "            }, 500);\n",
       "            "
      ],
      "text/plain": [
       "<IPython.core.display.Javascript object>"
      ]
     },
     "metadata": {},
     "output_type": "display_data"
    }
   ],
   "source": [
    "top3_for_never_used"
   ]
  },
  {
   "cell_type": "markdown",
   "id": "c1289790",
   "metadata": {},
   "source": [
    "### Convert above list into dataframe, to make the next step easier "
   ]
  },
  {
   "cell_type": "code",
   "execution_count": 410,
   "id": "923ea71b",
   "metadata": {},
   "outputs": [
    {
     "data": {
      "text/html": [
       "<div>\n",
       "<style scoped>\n",
       "    .dataframe tbody tr th:only-of-type {\n",
       "        vertical-align: middle;\n",
       "    }\n",
       "\n",
       "    .dataframe tbody tr th {\n",
       "        vertical-align: top;\n",
       "    }\n",
       "\n",
       "    .dataframe thead th {\n",
       "        text-align: right;\n",
       "    }\n",
       "</style>\n",
       "<table border=\"1\" class=\"dataframe\">\n",
       "  <thead>\n",
       "    <tr style=\"text-align: right;\">\n",
       "      <th></th>\n",
       "      <th>Bobbi brown</th>\n",
       "      <th>Chanel</th>\n",
       "      <th>Dior</th>\n",
       "      <th>Mac</th>\n",
       "    </tr>\n",
       "  </thead>\n",
       "  <tbody>\n",
       "    <tr>\n",
       "      <th>SUQQU</th>\n",
       "      <td>0.670333</td>\n",
       "      <td>NaN</td>\n",
       "      <td>NaN</td>\n",
       "      <td>-0.015413</td>\n",
       "    </tr>\n",
       "    <tr>\n",
       "      <th>LANC√îME</th>\n",
       "      <td>0.630126</td>\n",
       "      <td>-0.306186</td>\n",
       "      <td>NaN</td>\n",
       "      <td>NaN</td>\n",
       "    </tr>\n",
       "    <tr>\n",
       "      <th>Estee Lauder</th>\n",
       "      <td>0.099127</td>\n",
       "      <td>NaN</td>\n",
       "      <td>NaN</td>\n",
       "      <td>0.614860</td>\n",
       "    </tr>\n",
       "    <tr>\n",
       "      <th>Dior</th>\n",
       "      <td>NaN</td>\n",
       "      <td>0.471405</td>\n",
       "      <td>NaN</td>\n",
       "      <td>0.051120</td>\n",
       "    </tr>\n",
       "    <tr>\n",
       "      <th>YSL</th>\n",
       "      <td>NaN</td>\n",
       "      <td>0.471405</td>\n",
       "      <td>0.166667</td>\n",
       "      <td>NaN</td>\n",
       "    </tr>\n",
       "    <tr>\n",
       "      <th>Chanel</th>\n",
       "      <td>NaN</td>\n",
       "      <td>NaN</td>\n",
       "      <td>0.471405</td>\n",
       "      <td>NaN</td>\n",
       "    </tr>\n",
       "    <tr>\n",
       "      <th>Mac</th>\n",
       "      <td>NaN</td>\n",
       "      <td>NaN</td>\n",
       "      <td>0.051120</td>\n",
       "      <td>NaN</td>\n",
       "    </tr>\n",
       "  </tbody>\n",
       "</table>\n",
       "</div>"
      ],
      "text/plain": [
       "              Bobbi brown    Chanel      Dior       Mac\n",
       "SUQQU            0.670333       NaN       NaN -0.015413\n",
       "LANC√îME         0.630126 -0.306186       NaN       NaN\n",
       "Estee Lauder     0.099127       NaN       NaN  0.614860\n",
       "Dior                  NaN  0.471405       NaN  0.051120\n",
       "YSL                   NaN  0.471405  0.166667       NaN\n",
       "Chanel                NaN       NaN  0.471405       NaN\n",
       "Mac                   NaN       NaN  0.051120       NaN"
      ]
     },
     "execution_count": 410,
     "metadata": {},
     "output_type": "execute_result"
    },
    {
     "data": {
      "application/javascript": [
       "\n",
       "            setTimeout(function() {\n",
       "                var nbb_cell_id = 410;\n",
       "                var nbb_unformatted_code = \"df_brand_sm = pd.DataFrame(top3_for_never_used).T\\ndf_brand_sm\";\n",
       "                var nbb_formatted_code = \"df_brand_sm = pd.DataFrame(top3_for_never_used).T\\ndf_brand_sm\";\n",
       "                var nbb_cells = Jupyter.notebook.get_cells();\n",
       "                for (var i = 0; i < nbb_cells.length; ++i) {\n",
       "                    if (nbb_cells[i].input_prompt_number == nbb_cell_id) {\n",
       "                        if (nbb_cells[i].get_text() == nbb_unformatted_code) {\n",
       "                             nbb_cells[i].set_text(nbb_formatted_code);\n",
       "                        }\n",
       "                        break;\n",
       "                    }\n",
       "                }\n",
       "            }, 500);\n",
       "            "
      ],
      "text/plain": [
       "<IPython.core.display.Javascript object>"
      ]
     },
     "metadata": {},
     "output_type": "display_data"
    }
   ],
   "source": [
    "df_brand_sm = pd.DataFrame(top3_for_never_used).T\n",
    "df_brand_sm"
   ]
  },
  {
   "cell_type": "markdown",
   "id": "21adead7",
   "metadata": {},
   "source": [
    "### Check the target user rating history again, and fill out null value as 0, to allow us to calculate in the future."
   ]
  },
  {
   "cell_type": "code",
   "execution_count": 411,
   "id": "4ccaa4b9",
   "metadata": {},
   "outputs": [
    {
     "data": {
      "text/html": [
       "<div>\n",
       "<style scoped>\n",
       "    .dataframe tbody tr th:only-of-type {\n",
       "        vertical-align: middle;\n",
       "    }\n",
       "\n",
       "    .dataframe tbody tr th {\n",
       "        vertical-align: top;\n",
       "    }\n",
       "\n",
       "    .dataframe thead th {\n",
       "        text-align: right;\n",
       "    }\n",
       "</style>\n",
       "<table border=\"1\" class=\"dataframe\">\n",
       "  <thead>\n",
       "    <tr style=\"text-align: right;\">\n",
       "      <th></th>\n",
       "      <th>Allen</th>\n",
       "    </tr>\n",
       "    <tr>\n",
       "      <th>brand</th>\n",
       "      <th></th>\n",
       "    </tr>\n",
       "  </thead>\n",
       "  <tbody>\n",
       "    <tr>\n",
       "      <th>Bobbi brown</th>\n",
       "      <td>0.0</td>\n",
       "    </tr>\n",
       "    <tr>\n",
       "      <th>Chanel</th>\n",
       "      <td>0.0</td>\n",
       "    </tr>\n",
       "    <tr>\n",
       "      <th>Dior</th>\n",
       "      <td>0.0</td>\n",
       "    </tr>\n",
       "    <tr>\n",
       "      <th>Estee Lauder</th>\n",
       "      <td>3.0</td>\n",
       "    </tr>\n",
       "    <tr>\n",
       "      <th>LANC√îME</th>\n",
       "      <td>4.0</td>\n",
       "    </tr>\n",
       "    <tr>\n",
       "      <th>Mac</th>\n",
       "      <td>0.0</td>\n",
       "    </tr>\n",
       "    <tr>\n",
       "      <th>SUQQU</th>\n",
       "      <td>3.0</td>\n",
       "    </tr>\n",
       "    <tr>\n",
       "      <th>YSL</th>\n",
       "      <td>4.0</td>\n",
       "    </tr>\n",
       "  </tbody>\n",
       "</table>\n",
       "</div>"
      ],
      "text/plain": [
       "              Allen\n",
       "brand              \n",
       "Bobbi brown     0.0\n",
       "Chanel          0.0\n",
       "Dior            0.0\n",
       "Estee Lauder    3.0\n",
       "LANC√îME        4.0\n",
       "Mac             0.0\n",
       "SUQQU           3.0\n",
       "YSL             4.0"
      ]
     },
     "execution_count": 411,
     "metadata": {},
     "output_type": "execute_result"
    },
    {
     "data": {
      "application/javascript": [
       "\n",
       "            setTimeout(function() {\n",
       "                var nbb_cell_id = 411;\n",
       "                var nbb_unformatted_code = \"df_target_user = matrix[target_user].to_frame().fillna(0)\\ndf_target_user\";\n",
       "                var nbb_formatted_code = \"df_target_user = matrix[target_user].to_frame().fillna(0)\\ndf_target_user\";\n",
       "                var nbb_cells = Jupyter.notebook.get_cells();\n",
       "                for (var i = 0; i < nbb_cells.length; ++i) {\n",
       "                    if (nbb_cells[i].input_prompt_number == nbb_cell_id) {\n",
       "                        if (nbb_cells[i].get_text() == nbb_unformatted_code) {\n",
       "                             nbb_cells[i].set_text(nbb_formatted_code);\n",
       "                        }\n",
       "                        break;\n",
       "                    }\n",
       "                }\n",
       "            }, 500);\n",
       "            "
      ],
      "text/plain": [
       "<IPython.core.display.Javascript object>"
      ]
     },
     "metadata": {},
     "output_type": "display_data"
    }
   ],
   "source": [
    "df_target_user = matrix[target_user].to_frame().fillna(0)\n",
    "df_target_user"
   ]
  },
  {
   "cell_type": "markdown",
   "id": "cfc07379",
   "metadata": {},
   "source": [
    "### Combine the above dataframes, fill null value as 0 to allow us to calculate."
   ]
  },
  {
   "cell_type": "code",
   "execution_count": 412,
   "id": "eff86dcb",
   "metadata": {},
   "outputs": [
    {
     "data": {
      "text/html": [
       "<div>\n",
       "<style scoped>\n",
       "    .dataframe tbody tr th:only-of-type {\n",
       "        vertical-align: middle;\n",
       "    }\n",
       "\n",
       "    .dataframe tbody tr th {\n",
       "        vertical-align: top;\n",
       "    }\n",
       "\n",
       "    .dataframe thead th {\n",
       "        text-align: right;\n",
       "    }\n",
       "</style>\n",
       "<table border=\"1\" class=\"dataframe\">\n",
       "  <thead>\n",
       "    <tr style=\"text-align: right;\">\n",
       "      <th></th>\n",
       "      <th>Allen</th>\n",
       "      <th>Bobbi brown</th>\n",
       "      <th>Chanel</th>\n",
       "      <th>Dior</th>\n",
       "      <th>Mac</th>\n",
       "    </tr>\n",
       "    <tr>\n",
       "      <th>brand</th>\n",
       "      <th></th>\n",
       "      <th></th>\n",
       "      <th></th>\n",
       "      <th></th>\n",
       "      <th></th>\n",
       "    </tr>\n",
       "  </thead>\n",
       "  <tbody>\n",
       "    <tr>\n",
       "      <th>Bobbi brown</th>\n",
       "      <td>0.0</td>\n",
       "      <td>0.000000</td>\n",
       "      <td>0.000000</td>\n",
       "      <td>0.000000</td>\n",
       "      <td>0.000000</td>\n",
       "    </tr>\n",
       "    <tr>\n",
       "      <th>Chanel</th>\n",
       "      <td>0.0</td>\n",
       "      <td>0.000000</td>\n",
       "      <td>0.000000</td>\n",
       "      <td>0.471405</td>\n",
       "      <td>0.000000</td>\n",
       "    </tr>\n",
       "    <tr>\n",
       "      <th>Dior</th>\n",
       "      <td>0.0</td>\n",
       "      <td>0.000000</td>\n",
       "      <td>0.471405</td>\n",
       "      <td>0.000000</td>\n",
       "      <td>0.051120</td>\n",
       "    </tr>\n",
       "    <tr>\n",
       "      <th>Estee Lauder</th>\n",
       "      <td>3.0</td>\n",
       "      <td>0.099127</td>\n",
       "      <td>0.000000</td>\n",
       "      <td>0.000000</td>\n",
       "      <td>0.614860</td>\n",
       "    </tr>\n",
       "    <tr>\n",
       "      <th>LANC√îME</th>\n",
       "      <td>4.0</td>\n",
       "      <td>0.630126</td>\n",
       "      <td>-0.306186</td>\n",
       "      <td>0.000000</td>\n",
       "      <td>0.000000</td>\n",
       "    </tr>\n",
       "    <tr>\n",
       "      <th>Mac</th>\n",
       "      <td>0.0</td>\n",
       "      <td>0.000000</td>\n",
       "      <td>0.000000</td>\n",
       "      <td>0.051120</td>\n",
       "      <td>0.000000</td>\n",
       "    </tr>\n",
       "    <tr>\n",
       "      <th>SUQQU</th>\n",
       "      <td>3.0</td>\n",
       "      <td>0.670333</td>\n",
       "      <td>0.000000</td>\n",
       "      <td>0.000000</td>\n",
       "      <td>-0.015413</td>\n",
       "    </tr>\n",
       "    <tr>\n",
       "      <th>YSL</th>\n",
       "      <td>4.0</td>\n",
       "      <td>0.000000</td>\n",
       "      <td>0.471405</td>\n",
       "      <td>0.166667</td>\n",
       "      <td>0.000000</td>\n",
       "    </tr>\n",
       "  </tbody>\n",
       "</table>\n",
       "</div>"
      ],
      "text/plain": [
       "              Allen  Bobbi brown    Chanel      Dior       Mac\n",
       "brand                                                         \n",
       "Bobbi brown     0.0     0.000000  0.000000  0.000000  0.000000\n",
       "Chanel          0.0     0.000000  0.000000  0.471405  0.000000\n",
       "Dior            0.0     0.000000  0.471405  0.000000  0.051120\n",
       "Estee Lauder    3.0     0.099127  0.000000  0.000000  0.614860\n",
       "LANC√îME        4.0     0.630126 -0.306186  0.000000  0.000000\n",
       "Mac             0.0     0.000000  0.000000  0.051120  0.000000\n",
       "SUQQU           3.0     0.670333  0.000000  0.000000 -0.015413\n",
       "YSL             4.0     0.000000  0.471405  0.166667  0.000000"
      ]
     },
     "execution_count": 412,
     "metadata": {},
     "output_type": "execute_result"
    },
    {
     "data": {
      "application/javascript": [
       "\n",
       "            setTimeout(function() {\n",
       "                var nbb_cell_id = 412;\n",
       "                var nbb_unformatted_code = \"df_final = df_target_user.join(df_brand_sm).fillna(0)\\ndf_final\";\n",
       "                var nbb_formatted_code = \"df_final = df_target_user.join(df_brand_sm).fillna(0)\\ndf_final\";\n",
       "                var nbb_cells = Jupyter.notebook.get_cells();\n",
       "                for (var i = 0; i < nbb_cells.length; ++i) {\n",
       "                    if (nbb_cells[i].input_prompt_number == nbb_cell_id) {\n",
       "                        if (nbb_cells[i].get_text() == nbb_unformatted_code) {\n",
       "                             nbb_cells[i].set_text(nbb_formatted_code);\n",
       "                        }\n",
       "                        break;\n",
       "                    }\n",
       "                }\n",
       "            }, 500);\n",
       "            "
      ],
      "text/plain": [
       "<IPython.core.display.Javascript object>"
      ]
     },
     "metadata": {},
     "output_type": "display_data"
    }
   ],
   "source": [
    "df_final = df_target_user.join(df_brand_sm).fillna(0)\n",
    "df_final"
   ]
  },
  {
   "cell_type": "markdown",
   "id": "c813b815",
   "metadata": {},
   "source": [
    "### Calculate the rating for each brand that the target user never used before with loop."
   ]
  },
  {
   "cell_type": "code",
   "execution_count": 413,
   "id": "c6b4a50c",
   "metadata": {},
   "outputs": [
    {
     "data": {
      "application/javascript": [
       "\n",
       "            setTimeout(function() {\n",
       "                var nbb_cell_id = 413;\n",
       "                var nbb_unformatted_code = \"final_rating = []\\nfor i in never_used:\\n    sum_rating = sum(df_final[i] * df_final[target_user])\\n    final_rating.append(sum_rating)\";\n",
       "                var nbb_formatted_code = \"final_rating = []\\nfor i in never_used:\\n    sum_rating = sum(df_final[i] * df_final[target_user])\\n    final_rating.append(sum_rating)\";\n",
       "                var nbb_cells = Jupyter.notebook.get_cells();\n",
       "                for (var i = 0; i < nbb_cells.length; ++i) {\n",
       "                    if (nbb_cells[i].input_prompt_number == nbb_cell_id) {\n",
       "                        if (nbb_cells[i].get_text() == nbb_unformatted_code) {\n",
       "                             nbb_cells[i].set_text(nbb_formatted_code);\n",
       "                        }\n",
       "                        break;\n",
       "                    }\n",
       "                }\n",
       "            }, 500);\n",
       "            "
      ],
      "text/plain": [
       "<IPython.core.display.Javascript object>"
      ]
     },
     "metadata": {},
     "output_type": "display_data"
    }
   ],
   "source": [
    "final_rating = []\n",
    "for i in never_used:\n",
    "    sum_rating = sum(df_final[i] * df_final[target_user])\n",
    "    final_rating.append(sum_rating)"
   ]
  },
  {
   "cell_type": "markdown",
   "id": "5a6a84c0",
   "metadata": {},
   "source": [
    "### Return the maximum rating and according to the index find the corresponding brand name."
   ]
  },
  {
   "cell_type": "code",
   "execution_count": 414,
   "id": "f8914180",
   "metadata": {},
   "outputs": [
    {
     "data": {
      "application/javascript": [
       "\n",
       "            setTimeout(function() {\n",
       "                var nbb_cell_id = 414;\n",
       "                var nbb_unformatted_code = \"brand_recommend = never_used[final_rating.index(max(final_rating))]\";\n",
       "                var nbb_formatted_code = \"brand_recommend = never_used[final_rating.index(max(final_rating))]\";\n",
       "                var nbb_cells = Jupyter.notebook.get_cells();\n",
       "                for (var i = 0; i < nbb_cells.length; ++i) {\n",
       "                    if (nbb_cells[i].input_prompt_number == nbb_cell_id) {\n",
       "                        if (nbb_cells[i].get_text() == nbb_unformatted_code) {\n",
       "                             nbb_cells[i].set_text(nbb_formatted_code);\n",
       "                        }\n",
       "                        break;\n",
       "                    }\n",
       "                }\n",
       "            }, 500);\n",
       "            "
      ],
      "text/plain": [
       "<IPython.core.display.Javascript object>"
      ]
     },
     "metadata": {},
     "output_type": "display_data"
    }
   ],
   "source": [
    "brand_recommend = never_used[final_rating.index(max(final_rating))]"
   ]
  },
  {
   "cell_type": "markdown",
   "id": "958b51e4",
   "metadata": {},
   "source": [
    "### Get the result, return the rating and the brand that we should recommend to the target user."
   ]
  },
  {
   "cell_type": "code",
   "execution_count": 415,
   "id": "97631f1c",
   "metadata": {
    "scrolled": true
   },
   "outputs": [
    {
     "name": "stdout",
     "output_type": "stream",
     "text": [
      "The brand we should recommend to the Allen is Bobbi brown the rating is 4.83\n"
     ]
    },
    {
     "data": {
      "application/javascript": [
       "\n",
       "            setTimeout(function() {\n",
       "                var nbb_cell_id = 415;\n",
       "                var nbb_unformatted_code = \"print(\\n    \\\"The brand we should recommend to the\\\",\\n    target_user,\\n    \\\"is\\\",\\n    brand_recommend,\\n    \\\"the rating is\\\",\\n    round(max(final_rating), 2),\\n)\";\n",
       "                var nbb_formatted_code = \"print(\\n    \\\"The brand we should recommend to the\\\",\\n    target_user,\\n    \\\"is\\\",\\n    brand_recommend,\\n    \\\"the rating is\\\",\\n    round(max(final_rating), 2),\\n)\";\n",
       "                var nbb_cells = Jupyter.notebook.get_cells();\n",
       "                for (var i = 0; i < nbb_cells.length; ++i) {\n",
       "                    if (nbb_cells[i].input_prompt_number == nbb_cell_id) {\n",
       "                        if (nbb_cells[i].get_text() == nbb_unformatted_code) {\n",
       "                             nbb_cells[i].set_text(nbb_formatted_code);\n",
       "                        }\n",
       "                        break;\n",
       "                    }\n",
       "                }\n",
       "            }, 500);\n",
       "            "
      ],
      "text/plain": [
       "<IPython.core.display.Javascript object>"
      ]
     },
     "metadata": {},
     "output_type": "display_data"
    }
   ],
   "source": [
    "print(\n",
    "    \"The brand we should recommend to the\",\n",
    "    target_user,\n",
    "    \"is\",\n",
    "    brand_recommend,\n",
    "    \"the rating is\",\n",
    "    round(max(final_rating), 2),\n",
    ")"
   ]
  },
  {
   "cell_type": "markdown",
   "id": "3ad53910",
   "metadata": {},
   "source": [
    "### Which part can be improved?"
   ]
  },
  {
   "cell_type": "markdown",
   "id": "1047a0ff",
   "metadata": {},
   "source": [
    "**In future research, I personally think that the threshold with the lowest rating should be added. If the highest rating score is still very low, then the recommendation will become meaningless. For this small data set, if the threshold with the lowest value is set, then It may appear that many people cannot get recommended brands. But for the larger data, it makes sense to set the minimum rating score threshold.**"
   ]
  },
  {
   "cell_type": "markdown",
   "id": "73df77bd",
   "metadata": {},
   "source": [
    "---"
   ]
  },
  {
   "cell_type": "markdown",
   "id": "745398fd",
   "metadata": {},
   "source": [
    "---"
   ]
  },
  {
   "cell_type": "markdown",
   "id": "a1cb9fa8",
   "metadata": {},
   "source": [
    "## The link to the lightFM\n",
    "https://github.com/ycwang15/Rec_Sys_assignments/blob/main/Y_Wang_M3_assn_lightFM.ipynb"
   ]
  }
 ],
 "metadata": {
  "kernelspec": {
   "display_name": "Python 3 (ipykernel)",
   "language": "python",
   "name": "python3"
  },
  "language_info": {
   "codemirror_mode": {
    "name": "ipython",
    "version": 3
   },
   "file_extension": ".py",
   "mimetype": "text/x-python",
   "name": "python",
   "nbconvert_exporter": "python",
   "pygments_lexer": "ipython3",
   "version": "3.9.7"
  }
 },
 "nbformat": 4,
 "nbformat_minor": 5
}
